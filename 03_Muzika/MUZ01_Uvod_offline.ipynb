{
 "cells": [
  {
   "cell_type": "markdown",
   "id": "3e8663d2",
   "metadata": {},
   "source": [
    "## 1. Увод"
   ]
  },
  {
   "cell_type": "markdown",
   "id": "025b951a",
   "metadata": {},
   "source": [
    "Да ли се музикa мења, има ли истине у критикама наших родитеља да је наша музика лошија од њихове? Да ли су неке песме (пре)више бучне, неке друге више за играње, неке више тужне...? Да ли је нешто од овога типично за неки музички жанр? Постоји ли нешто специфично код култних песама? О којим темама се најчешће пева? Сигурни смо да на сва или готово сва ова питања имате одговоре на основу свог музичког искуства и музичког укуса, али је циљ анализа пред нама да пробамо да потражимо одговоре на ова питања систематичније, на основу података.\n",
    "\n",
    "***Питања***: Какви (који) подаци су вам потребни да одговорите на ова питања? (питање са понуђеним одговорима: текст, слика, бројеви,...)\n",
    "Где бисте потражили податке да одговорите на ова питања? (питање са понуђеним одговоима: Репубублички завод за статистику, Јутјуб, Гугл тренд, лична колекција плоча, подаци платформе Спотифај...)\n",
    "\n",
    "У овом одељку, анализираћемо скуп података прикупљен у оквиру једног научно-истраживачког рада. Аутори рада су у духу отворене науке и отворених података све прикупљене податке, анализиране у раду, оставили на располагање и свима нама да поновимо неке од претрага али и постављамо своја питања и тражимо одговоре. Оригинални рад бави се анализом тема о којима се пева у песмама од 1950 до данас и можете га пронаћи у локалном фолдеру, док се подаци прикупљени и анализирани у њему налазе [**овде**](https://data.mendeley.com/datasets/3t9vbwxgr5/3), али и у локалном фолдеру са подацима. \n",
    "\n",
    "Пре него што додатно формулишемо наша питања и кренемо у потрагу за одговорима, хајмо да се упознамо са садржајем скупа података, са карактеристикама податка, али предностима и манама метода којим су прикупљени и припремљени.\n",
    "\n",
    "За почетак, учитаћемо само [pandas](https://pandas.pydata.org/docs/) библиотеку да бисмо учитали податке и погледали првих пар редова користећи функције [read_csv](https://pandas.pydata.org/docs/reference/api/pandas.read_csv.html) и [head](https://pandas.pydata.org/docs/reference/api/pandas.DataFrame.head.html)."
   ]
  },
  {
   "cell_type": "code",
   "execution_count": 1,
   "id": "b94002f9",
   "metadata": {},
   "outputs": [],
   "source": [
    "import pandas as pd # učitavanje biblioteke i nazivanje je njenom standardnom skraćenicom \"pd\""
   ]
  },
  {
   "cell_type": "code",
   "execution_count": 2,
   "id": "201cec38",
   "metadata": {},
   "outputs": [
    {
     "data": {
      "text/html": [
       "<div>\n",
       "<style scoped>\n",
       "    .dataframe tbody tr th:only-of-type {\n",
       "        vertical-align: middle;\n",
       "    }\n",
       "\n",
       "    .dataframe tbody tr th {\n",
       "        vertical-align: top;\n",
       "    }\n",
       "\n",
       "    .dataframe thead th {\n",
       "        text-align: right;\n",
       "    }\n",
       "</style>\n",
       "<table border=\"1\" class=\"dataframe\">\n",
       "  <thead>\n",
       "    <tr style=\"text-align: right;\">\n",
       "      <th></th>\n",
       "      <th>artist_name</th>\n",
       "      <th>track_name</th>\n",
       "      <th>release_date</th>\n",
       "      <th>genre</th>\n",
       "      <th>lyrics</th>\n",
       "      <th>len</th>\n",
       "      <th>dating</th>\n",
       "      <th>violence</th>\n",
       "      <th>world/life</th>\n",
       "      <th>night/time</th>\n",
       "      <th>...</th>\n",
       "      <th>sadness</th>\n",
       "      <th>feelings</th>\n",
       "      <th>danceability</th>\n",
       "      <th>loudness</th>\n",
       "      <th>acousticness</th>\n",
       "      <th>instrumentalness</th>\n",
       "      <th>valence</th>\n",
       "      <th>energy</th>\n",
       "      <th>topic</th>\n",
       "      <th>age</th>\n",
       "    </tr>\n",
       "  </thead>\n",
       "  <tbody>\n",
       "    <tr>\n",
       "      <th>0</th>\n",
       "      <td>mukesh</td>\n",
       "      <td>mohabbat bhi jhoothi</td>\n",
       "      <td>1950</td>\n",
       "      <td>pop</td>\n",
       "      <td>hold time feel break feel untrue convince spea...</td>\n",
       "      <td>95</td>\n",
       "      <td>0.000598</td>\n",
       "      <td>0.063746</td>\n",
       "      <td>0.000598</td>\n",
       "      <td>0.000598</td>\n",
       "      <td>...</td>\n",
       "      <td>0.380299</td>\n",
       "      <td>0.117175</td>\n",
       "      <td>0.357739</td>\n",
       "      <td>0.454119</td>\n",
       "      <td>0.997992</td>\n",
       "      <td>0.901822</td>\n",
       "      <td>0.339448</td>\n",
       "      <td>0.13711</td>\n",
       "      <td>sadness</td>\n",
       "      <td>1.0</td>\n",
       "    </tr>\n",
       "    <tr>\n",
       "      <th>1</th>\n",
       "      <td>frankie laine</td>\n",
       "      <td>i believe</td>\n",
       "      <td>1950</td>\n",
       "      <td>pop</td>\n",
       "      <td>believe drop rain fall grow believe darkest ni...</td>\n",
       "      <td>51</td>\n",
       "      <td>0.035537</td>\n",
       "      <td>0.096777</td>\n",
       "      <td>0.443435</td>\n",
       "      <td>0.001284</td>\n",
       "      <td>...</td>\n",
       "      <td>0.001284</td>\n",
       "      <td>0.001284</td>\n",
       "      <td>0.331745</td>\n",
       "      <td>0.647540</td>\n",
       "      <td>0.954819</td>\n",
       "      <td>0.000002</td>\n",
       "      <td>0.325021</td>\n",
       "      <td>0.26324</td>\n",
       "      <td>world/life</td>\n",
       "      <td>1.0</td>\n",
       "    </tr>\n",
       "  </tbody>\n",
       "</table>\n",
       "<p>2 rows × 30 columns</p>\n",
       "</div>"
      ],
      "text/plain": [
       "     artist_name            track_name  release_date genre  \\\n",
       "0         mukesh  mohabbat bhi jhoothi          1950   pop   \n",
       "1  frankie laine             i believe          1950   pop   \n",
       "\n",
       "                                              lyrics  len    dating  violence  \\\n",
       "0  hold time feel break feel untrue convince spea...   95  0.000598  0.063746   \n",
       "1  believe drop rain fall grow believe darkest ni...   51  0.035537  0.096777   \n",
       "\n",
       "   world/life  night/time  ...   sadness  feelings  danceability  loudness  \\\n",
       "0    0.000598    0.000598  ...  0.380299  0.117175      0.357739  0.454119   \n",
       "1    0.443435    0.001284  ...  0.001284  0.001284      0.331745  0.647540   \n",
       "\n",
       "   acousticness  instrumentalness   valence   energy       topic  age  \n",
       "0      0.997992          0.901822  0.339448  0.13711     sadness  1.0  \n",
       "1      0.954819          0.000002  0.325021  0.26324  world/life  1.0  \n",
       "\n",
       "[2 rows x 30 columns]"
      ]
     },
     "execution_count": 2,
     "metadata": {},
     "output_type": "execute_result"
    }
   ],
   "source": [
    "podaci = pd.read_csv('muzika podaci/tcc_ceds_music_wo_index.csv') # učitavanje podataka csv formata iz lokalnog foldera\n",
    "podaci.head(2) # prikaz prva dva reda podataka u tabeli"
   ]
  },
  {
   "cell_type": "markdown",
   "id": "afbdcaf7",
   "metadata": {},
   "source": [
    "Како видимо да нам је на располагању 30 колона и не видимо све податке у прва два реда (зато што нису излистане све колоне), погледаћемо њихова имена, садржај и тип података користећи опцију [info](https://pandas.pydata.org/docs/reference/api/pandas.DataFrame.info.html):"
   ]
  },
  {
   "cell_type": "code",
   "execution_count": 3,
   "id": "60a96f48",
   "metadata": {
    "scrolled": true
   },
   "outputs": [
    {
     "name": "stdout",
     "output_type": "stream",
     "text": [
      "<class 'pandas.core.frame.DataFrame'>\n",
      "RangeIndex: 28372 entries, 0 to 28371\n",
      "Data columns (total 30 columns):\n",
      " #   Column                    Non-Null Count  Dtype  \n",
      "---  ------                    --------------  -----  \n",
      " 0   artist_name               28372 non-null  object \n",
      " 1   track_name                28372 non-null  object \n",
      " 2   release_date              28372 non-null  int64  \n",
      " 3   genre                     28372 non-null  object \n",
      " 4   lyrics                    28372 non-null  object \n",
      " 5   len                       28372 non-null  int64  \n",
      " 6   dating                    28372 non-null  float64\n",
      " 7   violence                  28372 non-null  float64\n",
      " 8   world/life                28372 non-null  float64\n",
      " 9   night/time                28372 non-null  float64\n",
      " 10  shake the audience        28372 non-null  float64\n",
      " 11  family/gospel             28372 non-null  float64\n",
      " 12  romantic                  28372 non-null  float64\n",
      " 13  communication             28372 non-null  float64\n",
      " 14  obscene                   28372 non-null  float64\n",
      " 15  music                     28372 non-null  float64\n",
      " 16  movement/places           28372 non-null  float64\n",
      " 17  light/visual perceptions  28372 non-null  float64\n",
      " 18  family/spiritual          28372 non-null  float64\n",
      " 19  like/girls                28372 non-null  float64\n",
      " 20  sadness                   28372 non-null  float64\n",
      " 21  feelings                  28372 non-null  float64\n",
      " 22  danceability              28372 non-null  float64\n",
      " 23  loudness                  28372 non-null  float64\n",
      " 24  acousticness              28372 non-null  float64\n",
      " 25  instrumentalness          28372 non-null  float64\n",
      " 26  valence                   28372 non-null  float64\n",
      " 27  energy                    28372 non-null  float64\n",
      " 28  topic                     28372 non-null  object \n",
      " 29  age                       28372 non-null  float64\n",
      "dtypes: float64(23), int64(2), object(5)\n",
      "memory usage: 6.5+ MB\n"
     ]
    }
   ],
   "source": [
    "podaci.info() # prikaz imena kolona, broja unosa i tipa podataka u svakoj od kolona"
   ]
  },
  {
   "cell_type": "markdown",
   "id": "8453d0b6",
   "metadata": {},
   "source": [
    "Видимо да имамо на располагању нешто преко 28 хиљада уноса (различитих песама - како бисте проверили да ли су све различите?), видимо да се у 30 колона крију подаци различитих типова и назива. Да ли имате идеју шта је у колонама? Како бисмо то открили?"
   ]
  },
  {
   "cell_type": "markdown",
   "id": "4644e690",
   "metadata": {},
   "source": [
    "На пример, можемо искористити и функцију [describe](https://pandas.pydata.org/docs/reference/api/pandas.DataFrame.describe.html) која ће нам дати увид у основне сумарне статистике за колоне у којима су бројеви ```podaci.describe()```.\n",
    "\n",
    "Али можемо погледати и различите вредности које се налазе у појединим колонама, на пример користећи функцију [unique](https://pandas.pydata.org/docs/reference/api/pandas.unique.html) и примењујући је на колону жанр (енг. *genre*) можемо видети који све жанрови нумера постоје у подацима:"
   ]
  },
  {
   "cell_type": "code",
   "execution_count": 4,
   "id": "badfef87",
   "metadata": {},
   "outputs": [
    {
     "data": {
      "text/plain": [
       "array(['pop', 'country', 'blues', 'jazz', 'reggae', 'rock', 'hip hop'],\n",
       "      dtype=object)"
      ]
     },
     "execution_count": 4,
     "metadata": {},
     "output_type": "execute_result"
    }
   ],
   "source": [
    "podaci.genre.unique()"
   ]
  },
  {
   "cell_type": "markdown",
   "id": "05001058",
   "metadata": {},
   "source": [
    "Појединачним колонама можете приступати на два начина или користећи `podaci.genre` као горе, или користећи `podaci['genre']` оба начина ће произвести приказ података из колоне (пробајте). Први начин за позивање колона има краћи запис и већ писањем `podaci.g` можете притиском на таб подстаћи *jupyter* да вас допуни и понуди различита имена колона и метода који почињу словом `g`, међутим овај начин не ради уколико имате имена колона која у себи садрже празне карактере или неке карактере које `python` не дозвољава у именима променљивих (нпр. ћирилична имена колона, колоне које садрже `/` итд), стога је други начин често сигурнији начин да ћете позвати жељену колону. "
   ]
  },
  {
   "cell_type": "markdown",
   "id": "e069bc8a",
   "metadata": {},
   "source": [
    "Садржај неких колона је очигледан, нпр. име аутора (енг. *artist_name*), име песме (енг. *track_name*), итд. На пример, горе, у резултатима наредбе `podaci.info()` видимо да је колона време (енг. *relese_date*) типа `int64` тј. целобројно, што значи да је највероватније у питању година издавања нумере (што видимо и у резултатима наредбе `podaci.head()`). Поред ових очигледнијих колона (укључујући и жанр, текст песме и сл.), постоји и прегршт нумеричких колона (типа `float64`) чије нам име, али ни претходно виђених првих пар уноса не говоре пуно - на пример `dating`, `violence`, `romantic`, `communication`. Неразумевање података и њиховог садржаја (чак и када је нагађање могуће) је обично добар повод да се потраже такозвани метаподаци, тј. опис садржаја података које су аутори скупа података или оставили заједно са табелама, или се као у овом случају детаљи могу наћи у раду или неком другом виду документације. Ово је кључан корак да бисмо могли да установимо да ли подаци које имамо могу да нам помогну да нађемо одговоре на питања која истражујемо."
   ]
  },
  {
   "cell_type": "markdown",
   "id": "976b6175",
   "metadata": {},
   "source": [
    "Ако погледамо изворни рад сазнаћемо да су подаци о песмама прикупљени користећи платформу [Spotify](https://www.spotify.com/) и детаљи о појединачним колонама које представљају атрибуте, тј. каратеристике песама можемо наћи у документацији [овде](https://developer.spotify.com/documentation/web-api/reference/#/operations/get-audio-features). Карактеристике песама налазе се у следећим колонама:\n",
    "- Акустичност (енг. *аcousticness*), говори нам да ли песма садржи музику акустичних или електричних инструмената, што је ова вредност ближа 1 песма је више акустична, док је ближе 0 песма у којој су доминантне електрични инструменти (нпр. електричне гитаре, или генерално електронска музика).\n",
    "- Погодност за плес (енг. *danceability*, коју ћемо у наставку материјала звати плесозовност), овај атрибут је комбинација музичких елемената попут темпа, ритма и служи да оцени \"разиграност\" песме - нумере које имају вредност близу 1 су добре за плес.\n",
    "- Гласност (енг. *loudness*), тј. субјективна јачина звука усредњена током целе песме, вредности су такође нормиране на распон од 0 до 1 (јако гласно).\n",
    "- Инструменталност (енг. *instrumentalness*) у екстремним вредностима каже нам да ли је песма инструментал (1) или чисто вокална (0).\n",
    "- Валентност (енг. *valence*) је мера позитивности (1 одговара срећним, еуфоричним емоцијама), тј. негативности (0 одговара тужним или љутим емоцијама) емоција које изазива песма.\n",
    "- Енергичност (енг. *еnergy*) је мера којом разликујемо  брзе, гласне и бучне песме од оних које су споре, тихе и сл. аутори дају пример метал музике као енергичне, насупрот Баховим \"Prelude\" које би имале ниску вредност на овој скали."
   ]
  },
  {
   "cell_type": "markdown",
   "id": "8222411f",
   "metadata": {},
   "source": [
    "Хајде да погледамо која песма у скупу података је оцењена као најпогоднија за плес. То можемо урадити тако што прво у једној променљивој сачувамо највећу пронађену вредност у колони `danceability` а затим нађемо ред табеле који у колони `danceability` има ту вредност:"
   ]
  },
  {
   "cell_type": "code",
   "execution_count": 5,
   "id": "b3fd7543",
   "metadata": {},
   "outputs": [
    {
     "data": {
      "text/html": [
       "<div>\n",
       "<style scoped>\n",
       "    .dataframe tbody tr th:only-of-type {\n",
       "        vertical-align: middle;\n",
       "    }\n",
       "\n",
       "    .dataframe tbody tr th {\n",
       "        vertical-align: top;\n",
       "    }\n",
       "\n",
       "    .dataframe thead th {\n",
       "        text-align: right;\n",
       "    }\n",
       "</style>\n",
       "<table border=\"1\" class=\"dataframe\">\n",
       "  <thead>\n",
       "    <tr style=\"text-align: right;\">\n",
       "      <th></th>\n",
       "      <th>artist_name</th>\n",
       "      <th>track_name</th>\n",
       "      <th>release_date</th>\n",
       "      <th>genre</th>\n",
       "      <th>lyrics</th>\n",
       "      <th>len</th>\n",
       "      <th>dating</th>\n",
       "      <th>violence</th>\n",
       "      <th>world/life</th>\n",
       "      <th>night/time</th>\n",
       "      <th>...</th>\n",
       "      <th>sadness</th>\n",
       "      <th>feelings</th>\n",
       "      <th>danceability</th>\n",
       "      <th>loudness</th>\n",
       "      <th>acousticness</th>\n",
       "      <th>instrumentalness</th>\n",
       "      <th>valence</th>\n",
       "      <th>energy</th>\n",
       "      <th>topic</th>\n",
       "      <th>age</th>\n",
       "    </tr>\n",
       "  </thead>\n",
       "  <tbody>\n",
       "    <tr>\n",
       "      <th>27612</th>\n",
       "      <td>vanilla ice</td>\n",
       "      <td>ice ice baby (re-recorded version)</td>\n",
       "      <td>2008</td>\n",
       "      <td>hip hop</td>\n",
       "      <td>kick baby baby right stop collaborate listen b...</td>\n",
       "      <td>74</td>\n",
       "      <td>0.158434</td>\n",
       "      <td>0.00117</td>\n",
       "      <td>0.00117</td>\n",
       "      <td>0.00117</td>\n",
       "      <td>...</td>\n",
       "      <td>0.00117</td>\n",
       "      <td>0.00117</td>\n",
       "      <td>0.993502</td>\n",
       "      <td>0.842833</td>\n",
       "      <td>0.002509</td>\n",
       "      <td>0.000008</td>\n",
       "      <td>0.576463</td>\n",
       "      <td>0.792786</td>\n",
       "      <td>obscene</td>\n",
       "      <td>0.171429</td>\n",
       "    </tr>\n",
       "  </tbody>\n",
       "</table>\n",
       "<p>1 rows × 30 columns</p>\n",
       "</div>"
      ],
      "text/plain": [
       "       artist_name                          track_name  release_date    genre  \\\n",
       "27612  vanilla ice  ice ice baby (re-recorded version)          2008  hip hop   \n",
       "\n",
       "                                                  lyrics  len    dating  \\\n",
       "27612  kick baby baby right stop collaborate listen b...   74  0.158434   \n",
       "\n",
       "       violence  world/life  night/time  ...  sadness  feelings  danceability  \\\n",
       "27612   0.00117     0.00117     0.00117  ...  0.00117   0.00117      0.993502   \n",
       "\n",
       "       loudness  acousticness  instrumentalness   valence    energy    topic  \\\n",
       "27612  0.842833      0.002509          0.000008  0.576463  0.792786  obscene   \n",
       "\n",
       "            age  \n",
       "27612  0.171429  \n",
       "\n",
       "[1 rows x 30 columns]"
      ]
     },
     "execution_count": 5,
     "metadata": {},
     "output_type": "execute_result"
    }
   ],
   "source": [
    "maxdance = max(podaci['danceability']) # funkcija max pronalazi najveću vrednost u koloni danceability tabele \n",
    "podaci[podaci['danceability']==maxdance] # prikaz dela tabele za koji je tačno da se u koloni danceability nalazi baš pronađena maksimalna vrednost"
   ]
  },
  {
   "cell_type": "markdown",
   "id": "de417492",
   "metadata": {},
   "source": [
    "Претходно смо објаснили да `podaci['danceability']` излистава садржај колоне, у овом случају колоне `danceability` и стога смо над тим садржајем могли да применимо функцију [`max`](https://docs.python.org/3/library/functions.html) да нађемо највећу вредност овог параметра. Међутим, једна јако згодна особина табела у *pandas* библиотеци је што у угласте заграде, осим имена колоне, можемо ставити и неки услов и на тај начин ћемо добити део табеле за који је тај услов испуњен. То смо испробали у другом реду горњег кода. Наш услов је да вредност колоне `danceability` буде једнака баш вредности коју смо издвојили као максималну и исход тог дела кода је ред табеле у коме можемо прочитати све карактеристике нумере која има максималну плесозовност. Ево и [линка](https://www.youtube.com/watch?v=1hJiQT2pVH0) ка истакнутој песми, преслушајте и реците и ви да ли вас довољно вуче на игру."
   ]
  },
  {
   "cell_type": "markdown",
   "id": "17088149",
   "metadata": {},
   "source": [
    "<div class=\"alert alert-block alert-info\"><img src=\"muzika slike/zad.png\" align=\"left\"/>Како бисте идентификовали која песма је најмање инструментална? А највише енергична?</div> "
   ]
  },
  {
   "cell_type": "code",
   "execution_count": 6,
   "id": "02ed94b2",
   "metadata": {},
   "outputs": [],
   "source": [
    "#resenje\n",
    "#podaci[podaci['instrumentalness']==min(podaci['instrumentalness'])] \n",
    "#podaci[podaci['energy']==max(podaci['energy'])] "
   ]
  },
  {
   "cell_type": "markdown",
   "id": "ee5c712e",
   "metadata": {},
   "source": [
    "Као што сте сигурно приметили слушајући музику до сада, песме се разликују по дужини, по броју и типу вокала (нпр. да ли је у питању песма једне ауторке или хора, да ли је у питњу инструментална нумера...), по постојању инструмената (да ли се у нумери чује гитара, бубањ, саксофон...), да ли је песма брза, гласна и још много других различитих квалитета. Додатно, свака од песама може имати једне квалитете на почетку (нпр. почиње инструменталним уводом), а затим се драстично променити до краја. То значи да бисмо практично сваки од претходно уведених атрибута могли да меримо као неку карактеристику песме из тренутка у тренутак и то значи да би само једна песма могла бити цео један компликован скуп података за себе. За питања која имамо на уму, да бисмо лакше поредили најразличитије нумере, свођење компликованог описа сваке песме (и свих њених музичких параметара који вам могу пасти на ум) на пар претходно излистаних бројева који су сви на истој скали значајно олакшава поређење песама и закључивање о сличностима и разликама међу песмама и жанровима. \n",
    "\n",
    "**Иванова илустрација *осакаћених* песама.**\n",
    "\n",
    "Овакав тип анализе где се компликовани подаци (какве су музичке нумере) своде на групу кључних карактеристика превазилази оквире овог курса, али за више информација можете истражити издвајање карактеристика машинским учењем (енг. *feature extraction*, *feature engineering*)."
   ]
  },
  {
   "cell_type": "markdown",
   "id": "5c46de5a",
   "metadata": {},
   "source": [
    "Уводно упознавање са подацима, завршићемо идентификујући ауторе који имају највише нумера у скупу податка. До тог броја можемо доћи на више различитих начина, овде ћемо се фокусирати на функцију [value_counts](https://pandas.pydata.org/docs/reference/api/pandas.Series.value_counts.html) која пребројава понављања различитих уноса у колони, а коју ћемо применити на колону `artist_name`:"
   ]
  },
  {
   "cell_type": "code",
   "execution_count": 7,
   "id": "4e07cba0",
   "metadata": {},
   "outputs": [
    {
     "data": {
      "text/plain": [
       "johnny cash           190\n",
       "ella fitzgerald       188\n",
       "dean martin           146\n",
       "willie nelson         131\n",
       "george jones          107\n",
       "                     ... \n",
       "keith jarrett trio      1\n",
       "stigmato inc            1\n",
       "plej                    1\n",
       "slow train soul         1\n",
       "$uicideboy$             1\n",
       "Name: artist_name, Length: 5426, dtype: int64"
      ]
     },
     "execution_count": 7,
     "metadata": {},
     "output_type": "execute_result"
    }
   ],
   "source": [
    "podaci['artist_name'].value_counts() # prebrojavamo sva pojavljivanja različitih unosa u koloni"
   ]
  },
  {
   "cell_type": "markdown",
   "id": "f216651a",
   "metadata": {},
   "source": [
    "Видимо да се у скупу података налазе 5426 различита извођача међу којима **johnny cash** има највише нумера. У наредним сегментима видећемо како овакве податке можемо визуелно представити на ефективнији начин осим табелом, али сада ево само једног интересантог запажања, прво двоје од 5426 аутора заслужно је за преко 1% од 28372 нумере, док са друге стране постоји преко 2000 аутора који имају само по једну песму у овом скупу података (како бисте нашли њихов тачан број?). \n",
    "\n",
    "Ова необичност заправо је врло честа одлика података и видимо је у расподели богатства, заступљености речи у језику, броју публикација научника, и можда сте чули за ову особину под називом **Паретов парадокс** или **Паретова дистрибуција**, али вратићемо се на то касније у овом темату."
   ]
  },
  {
   "cell_type": "code",
   "execution_count": 8,
   "id": "5fbae90a",
   "metadata": {},
   "outputs": [],
   "source": [
    "# rešenje pitalice u tekstu\n",
    "# sum(podaci['artist_name'].value_counts()==1)"
   ]
  },
  {
   "cell_type": "markdown",
   "id": "dc520682",
   "metadata": {},
   "source": [
    "<div class=\"alert alert-block alert-info\"><img src=\"muzika slike/zad.png\" align=\"left\"/>Као што смо открили колико који аутор има песама у табели, можемо истражити колико има песама ког жанра, истражите!</div> "
   ]
  },
  {
   "cell_type": "code",
   "execution_count": 9,
   "id": "8f31fe80",
   "metadata": {},
   "outputs": [],
   "source": [
    "# rešenje zadatka\n",
    "# podaci['genre'].value_counts()"
   ]
  },
  {
   "cell_type": "markdown",
   "id": "9f010e91",
   "metadata": {},
   "source": [
    "За наставак истраживања ових музичких података, фокусираћемо се само на изворне колоне које су аутори рада прикупили са **Spotify** платформе (које смо додатно описали претходно), док ћемо елиминисати колоне које су продукт анализа спроведених у раду, али подстичемо заинтересоване читаоце да истраже и њихов садржај."
   ]
  },
  {
   "cell_type": "code",
   "execution_count": 10,
   "id": "9aa91a64",
   "metadata": {
    "scrolled": true
   },
   "outputs": [
    {
     "data": {
      "text/html": [
       "<div>\n",
       "<style scoped>\n",
       "    .dataframe tbody tr th:only-of-type {\n",
       "        vertical-align: middle;\n",
       "    }\n",
       "\n",
       "    .dataframe tbody tr th {\n",
       "        vertical-align: top;\n",
       "    }\n",
       "\n",
       "    .dataframe thead th {\n",
       "        text-align: right;\n",
       "    }\n",
       "</style>\n",
       "<table border=\"1\" class=\"dataframe\">\n",
       "  <thead>\n",
       "    <tr style=\"text-align: right;\">\n",
       "      <th></th>\n",
       "      <th>release_date</th>\n",
       "      <th>artist_name</th>\n",
       "      <th>track_name</th>\n",
       "      <th>genre</th>\n",
       "      <th>lyrics</th>\n",
       "      <th>acousticness</th>\n",
       "      <th>danceability</th>\n",
       "      <th>instrumentalness</th>\n",
       "      <th>loudness</th>\n",
       "      <th>valence</th>\n",
       "      <th>energy</th>\n",
       "    </tr>\n",
       "  </thead>\n",
       "  <tbody>\n",
       "    <tr>\n",
       "      <th>0</th>\n",
       "      <td>1950</td>\n",
       "      <td>mukesh</td>\n",
       "      <td>mohabbat bhi jhoothi</td>\n",
       "      <td>pop</td>\n",
       "      <td>hold time feel break feel untrue convince spea...</td>\n",
       "      <td>0.997992</td>\n",
       "      <td>0.357739</td>\n",
       "      <td>0.901822</td>\n",
       "      <td>0.454119</td>\n",
       "      <td>0.339448</td>\n",
       "      <td>0.137110</td>\n",
       "    </tr>\n",
       "    <tr>\n",
       "      <th>1</th>\n",
       "      <td>1950</td>\n",
       "      <td>frankie laine</td>\n",
       "      <td>i believe</td>\n",
       "      <td>pop</td>\n",
       "      <td>believe drop rain fall grow believe darkest ni...</td>\n",
       "      <td>0.954819</td>\n",
       "      <td>0.331745</td>\n",
       "      <td>0.000002</td>\n",
       "      <td>0.647540</td>\n",
       "      <td>0.325021</td>\n",
       "      <td>0.263240</td>\n",
       "    </tr>\n",
       "    <tr>\n",
       "      <th>2</th>\n",
       "      <td>1950</td>\n",
       "      <td>johnnie ray</td>\n",
       "      <td>cry</td>\n",
       "      <td>pop</td>\n",
       "      <td>sweetheart send letter goodbye secret feel bet...</td>\n",
       "      <td>0.840361</td>\n",
       "      <td>0.456298</td>\n",
       "      <td>0.000000</td>\n",
       "      <td>0.585288</td>\n",
       "      <td>0.351814</td>\n",
       "      <td>0.139112</td>\n",
       "    </tr>\n",
       "    <tr>\n",
       "      <th>3</th>\n",
       "      <td>1950</td>\n",
       "      <td>pérez prado</td>\n",
       "      <td>patricia</td>\n",
       "      <td>pop</td>\n",
       "      <td>kiss lips want stroll charm mambo chacha merin...</td>\n",
       "      <td>0.083935</td>\n",
       "      <td>0.686992</td>\n",
       "      <td>0.199393</td>\n",
       "      <td>0.744404</td>\n",
       "      <td>0.775350</td>\n",
       "      <td>0.743736</td>\n",
       "    </tr>\n",
       "    <tr>\n",
       "      <th>4</th>\n",
       "      <td>1950</td>\n",
       "      <td>giorgos papadopoulos</td>\n",
       "      <td>apopse eida oneiro</td>\n",
       "      <td>pop</td>\n",
       "      <td>till darling till matter know till dream live ...</td>\n",
       "      <td>0.975904</td>\n",
       "      <td>0.291671</td>\n",
       "      <td>0.000246</td>\n",
       "      <td>0.646489</td>\n",
       "      <td>0.597073</td>\n",
       "      <td>0.394375</td>\n",
       "    </tr>\n",
       "  </tbody>\n",
       "</table>\n",
       "</div>"
      ],
      "text/plain": [
       "   release_date           artist_name            track_name genre  \\\n",
       "0          1950                mukesh  mohabbat bhi jhoothi   pop   \n",
       "1          1950         frankie laine             i believe   pop   \n",
       "2          1950           johnnie ray                   cry   pop   \n",
       "3          1950           pérez prado              patricia   pop   \n",
       "4          1950  giorgos papadopoulos    apopse eida oneiro   pop   \n",
       "\n",
       "                                              lyrics  acousticness  \\\n",
       "0  hold time feel break feel untrue convince spea...      0.997992   \n",
       "1  believe drop rain fall grow believe darkest ni...      0.954819   \n",
       "2  sweetheart send letter goodbye secret feel bet...      0.840361   \n",
       "3  kiss lips want stroll charm mambo chacha merin...      0.083935   \n",
       "4  till darling till matter know till dream live ...      0.975904   \n",
       "\n",
       "   danceability  instrumentalness  loudness   valence    energy  \n",
       "0      0.357739          0.901822  0.454119  0.339448  0.137110  \n",
       "1      0.331745          0.000002  0.647540  0.325021  0.263240  \n",
       "2      0.456298          0.000000  0.585288  0.351814  0.139112  \n",
       "3      0.686992          0.199393  0.744404  0.775350  0.743736  \n",
       "4      0.291671          0.000246  0.646489  0.597073  0.394375  "
      ]
     },
     "execution_count": 10,
     "metadata": {},
     "output_type": "execute_result"
    }
   ],
   "source": [
    "#nazivi kolona koje ćemo zadržati\n",
    "kolone = [ 'release_date', 'artist_name','track_name','genre', 'lyrics','acousticness',\n",
    "           'danceability','instrumentalness','loudness','valence','energy']\n",
    "novi_podaci = podaci[kolone].copy() # pravimo kopiju tabele koja sadrži samo kolone na koje će se fokusirati ostatak analize\n",
    "novi_podaci.head() # prikaz prvih pet redova tabele koju ćemo koristiti u nastavku"
   ]
  },
  {
   "cell_type": "markdown",
   "id": "36fdef25",
   "metadata": {},
   "source": [
    "Коначно, додаћемо и колону која ће године трансформисати и у одговарајуће музичке декаде (попут веселих седамдесетих) пошто ће нам често бити згодно да тако пратимо промене. Нећемо се служити математичком дефиницијом десетице по којој би нпр. осма десетица садржала бројеве од 71 до 80, већ ћемо користити периоде од 10 година који су типичнији за музику, те су седамдесете од 70 до 79 године."
   ]
  },
  {
   "cell_type": "code",
   "execution_count": 11,
   "id": "0a2377dd",
   "metadata": {},
   "outputs": [],
   "source": [
    "#dodajemo jos jednu kolonu zato sto ce nam biti od koristi da grupisemo podatke u nastavku:\n",
    "novi_podaci['muzicka_dekada']=pd.cut(novi_podaci.release_date,\n",
    "                      bins=[1949,1959,1969,1979,1989,1999,2009,2019],\n",
    "                      labels=['1950s','1960s','1970s','1980s','1990s','2000s','2010s'])"
   ]
  },
  {
   "cell_type": "markdown",
   "id": "5a7c324d",
   "metadata": {},
   "source": [
    "Новонасталу табелу са знатно мањим бројем колона ћемо сачувати за истраживања које ће уследити:"
   ]
  },
  {
   "cell_type": "code",
   "execution_count": 12,
   "id": "ab8de54d",
   "metadata": {},
   "outputs": [],
   "source": [
    "novi_podaci.to_csv('muzika podaci/music_data.csv',# čuvamo novu verziju skupa podataka za dalje korišćenje\n",
    "            index=False) # ovom opcijom izbegavamo da čuvamo indeksnu kolonu pošto su u njoj trenutno samo redni brojevi koje ćemo svakako dobiti učitavanjem tabele"
   ]
  }
 ],
 "metadata": {
  "kernelspec": {
   "display_name": "petljaGEO",
   "language": "python",
   "name": "petljageo"
  },
  "language_info": {
   "codemirror_mode": {
    "name": "ipython",
    "version": 3
   },
   "file_extension": ".py",
   "mimetype": "text/x-python",
   "name": "python",
   "nbconvert_exporter": "python",
   "pygments_lexer": "ipython3",
   "version": "3.9.7"
  }
 },
 "nbformat": 4,
 "nbformat_minor": 5
}
