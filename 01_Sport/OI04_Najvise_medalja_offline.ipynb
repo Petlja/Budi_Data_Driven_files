{
 "cells": [
  {
   "cell_type": "markdown",
   "id": "3af73d79",
   "metadata": {},
   "source": [
    "## 4. Земље са највише (златних) медаља\n",
    "\n",
    "Тешко је замислити да вам током олимпијских година (било зимских било летњих) промакне информација о одржавању олимпијских игара. Када је једна овако велика међународна манифестација у јеку, референце на олимпијске игре налазе се свуда, од реклама и билборда који најављују спортски догађај, бодре репрезентацију, преко ТВ преноса, до дневних пресека стања који нас обавештавају о (не)успесима. Из дана у дан током трајања игара, може се чути о томе колико медаља је која држава освојила, коме је која медаља умакла, којој медаљи се надамо сутра. Наравно, све се заврши неком бомбастичном информацијом попут \"Србија је на 45. месту по броју освојених медаља!\" нужно испраћена и коментаром од кога смо све у региону боље прошли. Сјајне спортисткиње и спортисти убрзо бивају заборављени и сви се враћамо својим типичним свакодневницама.\n",
    "\n",
    "Наш циљ је да у наставку истражимо број медаља (златних, а и осталих) по државама, да видимо како да те податке визуелно комуницирамо и видимо да ли можемо закључити нешто више од тога која земља је која на ранг листи. За пример ћемо користити олимпијске игре 2012 године, али исту анализу можете поновити за било коју годину по вашем избору."
   ]
  },
  {
   "cell_type": "code",
   "execution_count": 1,
   "id": "87ecb55a",
   "metadata": {},
   "outputs": [],
   "source": [
    "# ucitavanje neophodnih biblioteka\n",
    "\n",
    "import pandas as pd # učitavanje i obrada tabelarnih podataka\n",
    "import matplotlib.pyplot as plt # crtanje podataka"
   ]
  },
  {
   "cell_type": "markdown",
   "id": "cba973ae",
   "metadata": {},
   "source": [
    "Користићемо као и претходно податке о летњим олимпијским играма:"
   ]
  },
  {
   "cell_type": "code",
   "execution_count": 2,
   "id": "047810b8",
   "metadata": {},
   "outputs": [],
   "source": [
    "letnje_igre = pd.read_csv('sport_podaci/letnje_olimpijske_igre_do_2014.csv') # citanje lokolne verzije podataka o letnjim olimpijske igre"
   ]
  },
  {
   "cell_type": "markdown",
   "id": "792d28a8",
   "metadata": {},
   "source": [
    "Кренућемо у истраживање успешности земаља у освајању (златних) медаља на примеру једне манифестације летњих олимпијских игара, на пример за 2012. годину, тако што ћемо издвојити само податке који одговарају тој години:"
   ]
  },
  {
   "cell_type": "code",
   "execution_count": 3,
   "id": "9b7d15b3",
   "metadata": {},
   "outputs": [
    {
     "data": {
      "text/html": [
       "<div>\n",
       "<style scoped>\n",
       "    .dataframe tbody tr th:only-of-type {\n",
       "        vertical-align: middle;\n",
       "    }\n",
       "\n",
       "    .dataframe tbody tr th {\n",
       "        vertical-align: top;\n",
       "    }\n",
       "\n",
       "    .dataframe thead th {\n",
       "        text-align: right;\n",
       "    }\n",
       "</style>\n",
       "<table border=\"1\" class=\"dataframe\">\n",
       "  <thead>\n",
       "    <tr style=\"text-align: right;\">\n",
       "      <th></th>\n",
       "      <th>ID</th>\n",
       "      <th>Name</th>\n",
       "      <th>Sex</th>\n",
       "      <th>Age</th>\n",
       "      <th>Height</th>\n",
       "      <th>Weight</th>\n",
       "      <th>Team</th>\n",
       "      <th>NOC</th>\n",
       "      <th>Year</th>\n",
       "      <th>City</th>\n",
       "      <th>Sport</th>\n",
       "      <th>Event</th>\n",
       "      <th>Medal</th>\n",
       "    </tr>\n",
       "  </thead>\n",
       "  <tbody>\n",
       "    <tr>\n",
       "      <th>1</th>\n",
       "      <td>2</td>\n",
       "      <td>A Lamusi</td>\n",
       "      <td>M</td>\n",
       "      <td>23.0</td>\n",
       "      <td>170.0</td>\n",
       "      <td>60.0</td>\n",
       "      <td>China</td>\n",
       "      <td>CHN</td>\n",
       "      <td>2012</td>\n",
       "      <td>London</td>\n",
       "      <td>Judo</td>\n",
       "      <td>Judo Men's Extra-Lightweight</td>\n",
       "      <td>NaN</td>\n",
       "    </tr>\n",
       "    <tr>\n",
       "      <th>47</th>\n",
       "      <td>34</td>\n",
       "      <td>Jamale (Djamel-) Aarrass (Ahrass-)</td>\n",
       "      <td>M</td>\n",
       "      <td>30.0</td>\n",
       "      <td>187.0</td>\n",
       "      <td>76.0</td>\n",
       "      <td>France</td>\n",
       "      <td>FRA</td>\n",
       "      <td>2012</td>\n",
       "      <td>London</td>\n",
       "      <td>Athletics</td>\n",
       "      <td>Athletics Men's 1,500 metres</td>\n",
       "      <td>NaN</td>\n",
       "    </tr>\n",
       "  </tbody>\n",
       "</table>\n",
       "</div>"
      ],
      "text/plain": [
       "    ID                                Name Sex   Age  Height  Weight    Team  \\\n",
       "1    2                            A Lamusi   M  23.0   170.0    60.0   China   \n",
       "47  34  Jamale (Djamel-) Aarrass (Ahrass-)   M  30.0   187.0    76.0  France   \n",
       "\n",
       "    NOC  Year    City      Sport                         Event Medal  \n",
       "1   CHN  2012  London       Judo  Judo Men's Extra-Lightweight   NaN  \n",
       "47  FRA  2012  London  Athletics  Athletics Men's 1,500 metres   NaN  "
      ]
     },
     "execution_count": 3,
     "metadata": {},
     "output_type": "execute_result"
    }
   ],
   "source": [
    "oigre2012 = letnje_igre[letnje_igre['Year']==2012] # selektujemo samo one redove kojima je u koloni godina broj 2012 i čuvamo tu tabelu kao novu promenljivu\n",
    "oigre2012.head(2) # pregled prva 2 reda"
   ]
  },
  {
   "cell_type": "markdown",
   "id": "9e56c5de",
   "metadata": {},
   "source": [
    "Сада ће нам највише од користи бити колона о медаљама (`Medal`). За почетак можемо пребројати колико је којих медаља подељено:"
   ]
  },
  {
   "cell_type": "code",
   "execution_count": 4,
   "id": "92bad11f",
   "metadata": {
    "scrolled": true
   },
   "outputs": [
    {
     "data": {
      "text/plain": [
       "Bronze    679\n",
       "Gold      632\n",
       "Silver    630\n",
       "Name: Medal, dtype: int64"
      ]
     },
     "execution_count": 4,
     "metadata": {},
     "output_type": "execute_result"
    }
   ],
   "source": [
    "oigre2012['Medal'].value_counts()"
   ]
  },
  {
   "cell_type": "markdown",
   "id": "c8094fff",
   "metadata": {},
   "source": [
    "Постоје 2 необичности у овим бројевима:\n",
    "- број златних, сребрних и бронзаних медаља није исти \n",
    "- број медаља је доста већи од броја који смо видели у прошлоj лекцији.\n",
    "\n",
    "Видели смо да је на овим олимпијским играма било 303 догађаја у оквиру којих се додељују медаље, међутим, број који смо горе избројали је далеко већи. То је последица тога да ми у табели имамо све добитнике и добитнице медаља, дакле уколико је у питању тимски спорт, сви чланови тима су побројани. То ћемо морати да коригујемо када будемо бројали медаље које је освојила нека држава, нећемо да дајемо предност земљама које освајају медаље у екипним спотовима, већ се победа на сваком догађају броји једнако. Да бисмо то лашке урадили, издвојићемо прво табелу података која садржи само добитнике златних медаља, и ту можемо видети ово о чему смо причали када излистамо почетак табеле која садржи кошаркаше:"
   ]
  },
  {
   "cell_type": "code",
   "execution_count": 5,
   "id": "d75f6879",
   "metadata": {
    "scrolled": true
   },
   "outputs": [
    {
     "data": {
      "text/html": [
       "<div>\n",
       "<style scoped>\n",
       "    .dataframe tbody tr th:only-of-type {\n",
       "        vertical-align: middle;\n",
       "    }\n",
       "\n",
       "    .dataframe tbody tr th {\n",
       "        vertical-align: top;\n",
       "    }\n",
       "\n",
       "    .dataframe thead th {\n",
       "        text-align: right;\n",
       "    }\n",
       "</style>\n",
       "<table border=\"1\" class=\"dataframe\">\n",
       "  <thead>\n",
       "    <tr style=\"text-align: right;\">\n",
       "      <th></th>\n",
       "      <th>ID</th>\n",
       "      <th>Name</th>\n",
       "      <th>Sex</th>\n",
       "      <th>Age</th>\n",
       "      <th>Height</th>\n",
       "      <th>Weight</th>\n",
       "      <th>Team</th>\n",
       "      <th>NOC</th>\n",
       "      <th>Year</th>\n",
       "      <th>City</th>\n",
       "      <th>Sport</th>\n",
       "      <th>Event</th>\n",
       "      <th>Medal</th>\n",
       "    </tr>\n",
       "  </thead>\n",
       "  <tbody>\n",
       "    <tr>\n",
       "      <th>6516</th>\n",
       "      <td>4505</td>\n",
       "      <td>Carmelo Kyan Anthony</td>\n",
       "      <td>M</td>\n",
       "      <td>28.0</td>\n",
       "      <td>203.0</td>\n",
       "      <td>109.0</td>\n",
       "      <td>United States</td>\n",
       "      <td>USA</td>\n",
       "      <td>2012</td>\n",
       "      <td>London</td>\n",
       "      <td>Basketball</td>\n",
       "      <td>Basketball Men's Basketball</td>\n",
       "      <td>Gold</td>\n",
       "    </tr>\n",
       "    <tr>\n",
       "      <th>8656</th>\n",
       "      <td>5971</td>\n",
       "      <td>Seimone Delicia Augustus</td>\n",
       "      <td>F</td>\n",
       "      <td>28.0</td>\n",
       "      <td>183.0</td>\n",
       "      <td>74.0</td>\n",
       "      <td>United States</td>\n",
       "      <td>USA</td>\n",
       "      <td>2012</td>\n",
       "      <td>London</td>\n",
       "      <td>Basketball</td>\n",
       "      <td>Basketball Women's Basketball</td>\n",
       "      <td>Gold</td>\n",
       "    </tr>\n",
       "    <tr>\n",
       "      <th>17335</th>\n",
       "      <td>11671</td>\n",
       "      <td>Suzanne Brigit \"Sue\" Bird</td>\n",
       "      <td>F</td>\n",
       "      <td>31.0</td>\n",
       "      <td>175.0</td>\n",
       "      <td>66.0</td>\n",
       "      <td>United States</td>\n",
       "      <td>USA</td>\n",
       "      <td>2012</td>\n",
       "      <td>London</td>\n",
       "      <td>Basketball</td>\n",
       "      <td>Basketball Women's Basketball</td>\n",
       "      <td>Gold</td>\n",
       "    </tr>\n",
       "    <tr>\n",
       "      <th>24000</th>\n",
       "      <td>15891</td>\n",
       "      <td>Kobe Bean Bryant</td>\n",
       "      <td>M</td>\n",
       "      <td>33.0</td>\n",
       "      <td>198.0</td>\n",
       "      <td>100.0</td>\n",
       "      <td>United States</td>\n",
       "      <td>USA</td>\n",
       "      <td>2012</td>\n",
       "      <td>London</td>\n",
       "      <td>Basketball</td>\n",
       "      <td>Basketball Men's Basketball</td>\n",
       "      <td>Gold</td>\n",
       "    </tr>\n",
       "    <tr>\n",
       "      <th>28556</th>\n",
       "      <td>18811</td>\n",
       "      <td>Swintayla Marie \"Swin\" Cash</td>\n",
       "      <td>F</td>\n",
       "      <td>32.0</td>\n",
       "      <td>185.0</td>\n",
       "      <td>74.0</td>\n",
       "      <td>United States</td>\n",
       "      <td>USA</td>\n",
       "      <td>2012</td>\n",
       "      <td>London</td>\n",
       "      <td>Basketball</td>\n",
       "      <td>Basketball Women's Basketball</td>\n",
       "      <td>Gold</td>\n",
       "    </tr>\n",
       "  </tbody>\n",
       "</table>\n",
       "</div>"
      ],
      "text/plain": [
       "          ID                         Name Sex   Age  Height  Weight  \\\n",
       "6516    4505         Carmelo Kyan Anthony   M  28.0   203.0   109.0   \n",
       "8656    5971     Seimone Delicia Augustus   F  28.0   183.0    74.0   \n",
       "17335  11671    Suzanne Brigit \"Sue\" Bird   F  31.0   175.0    66.0   \n",
       "24000  15891             Kobe Bean Bryant   M  33.0   198.0   100.0   \n",
       "28556  18811  Swintayla Marie \"Swin\" Cash   F  32.0   185.0    74.0   \n",
       "\n",
       "                Team  NOC  Year    City       Sport  \\\n",
       "6516   United States  USA  2012  London  Basketball   \n",
       "8656   United States  USA  2012  London  Basketball   \n",
       "17335  United States  USA  2012  London  Basketball   \n",
       "24000  United States  USA  2012  London  Basketball   \n",
       "28556  United States  USA  2012  London  Basketball   \n",
       "\n",
       "                               Event Medal  \n",
       "6516     Basketball Men's Basketball  Gold  \n",
       "8656   Basketball Women's Basketball  Gold  \n",
       "17335  Basketball Women's Basketball  Gold  \n",
       "24000    Basketball Men's Basketball  Gold  \n",
       "28556  Basketball Women's Basketball  Gold  "
      ]
     },
     "execution_count": 5,
     "metadata": {},
     "output_type": "execute_result"
    }
   ],
   "source": [
    "zlatne_medalje = oigre2012[oigre2012['Medal']=='Gold'] # selektujemo deo tabele koji sadrži \"Gold\" u koloni medalja i čuvamo rezultat u novoj promenljivoj\n",
    "zlatne_medalje[zlatne_medalje.Sport=='Basketball'].head() # izlistavamo prvih 5 redova tavele koja sadrži zlatne medalje, ali i za koje važi da je sport košarka"
   ]
  },
  {
   "cell_type": "markdown",
   "id": "93f9dbe1",
   "metadata": {},
   "source": [
    "Претходно нам илуструје да није могуће да само групишемо податке по земљи (националном организационом комитету `NOC`) и проверимо величину подтабеле пошто ћемо тако пројати све појединце који су се вратили кући са медаљом. Такође, не можемо ни само груписати по комитету и бројати различите спортове пошто бисмо тако само једном бројали кошарку, иако у горњем примеру видимо да су САД освојиле медаљу и у мушкој и у женској конкуренцији. \n",
    "Стога ћемо као и претходно груписати податке (`groupby`) по држави, а затим у свакој групи избројати различите догађаје. "
   ]
  },
  {
   "cell_type": "code",
   "execution_count": 6,
   "id": "9a3c3a40",
   "metadata": {},
   "outputs": [
    {
     "data": {
      "text/html": [
       "<div>\n",
       "<style scoped>\n",
       "    .dataframe tbody tr th:only-of-type {\n",
       "        vertical-align: middle;\n",
       "    }\n",
       "\n",
       "    .dataframe tbody tr th {\n",
       "        vertical-align: top;\n",
       "    }\n",
       "\n",
       "    .dataframe thead th {\n",
       "        text-align: right;\n",
       "    }\n",
       "</style>\n",
       "<table border=\"1\" class=\"dataframe\">\n",
       "  <thead>\n",
       "    <tr style=\"text-align: right;\">\n",
       "      <th></th>\n",
       "      <th>NOC</th>\n",
       "      <th>Event</th>\n",
       "    </tr>\n",
       "  </thead>\n",
       "  <tbody>\n",
       "    <tr>\n",
       "      <th>0</th>\n",
       "      <td>ALG</td>\n",
       "      <td>1</td>\n",
       "    </tr>\n",
       "    <tr>\n",
       "      <th>1</th>\n",
       "      <td>ARG</td>\n",
       "      <td>1</td>\n",
       "    </tr>\n",
       "    <tr>\n",
       "      <th>2</th>\n",
       "      <td>AUS</td>\n",
       "      <td>7</td>\n",
       "    </tr>\n",
       "    <tr>\n",
       "      <th>3</th>\n",
       "      <td>AZE</td>\n",
       "      <td>2</td>\n",
       "    </tr>\n",
       "    <tr>\n",
       "      <th>4</th>\n",
       "      <td>BAH</td>\n",
       "      <td>1</td>\n",
       "    </tr>\n",
       "  </tbody>\n",
       "</table>\n",
       "</div>"
      ],
      "text/plain": [
       "   NOC  Event\n",
       "0  ALG      1\n",
       "1  ARG      1\n",
       "2  AUS      7\n",
       "3  AZE      2\n",
       "4  BAH      1"
      ]
     },
     "execution_count": 6,
     "metadata": {},
     "output_type": "execute_result"
    }
   ],
   "source": [
    "zlatne_medalje_po_drzavi = zlatne_medalje.groupby('NOC')['Event'].unique().apply(len) # grupisanje po državi i brojanje jedinstvenih događaja, čuvamo rezultat u novoj tabeli\n",
    "zlatne_medalje_po_drzavi = zlatne_medalje_po_drzavi.reset_index() # resetujemo indeks da bismo koristili i kolonu sa državama koja je pre ove komande bila indeksna\n",
    "zlatne_medalje_po_drzavi.head()"
   ]
  },
  {
   "cell_type": "markdown",
   "id": "6758871a",
   "metadata": {},
   "source": [
    "Зато што смо бројали јединствене вредности у колони `Event` резултати нашег груписања и бројања су у колони са тим именом па ћемо пре наставка то променити: "
   ]
  },
  {
   "cell_type": "code",
   "execution_count": 7,
   "id": "7c21253a",
   "metadata": {},
   "outputs": [],
   "source": [
    "zlatne_medalje_po_drzavi = zlatne_medalje_po_drzavi.rename(columns={'Event':'Broj_zlatnih_medalja'}) # promene imena se prosledjuju u formi recnika {sta_menjamo:cime_menjamo}"
   ]
  },
  {
   "cell_type": "markdown",
   "id": "e7b17ddc",
   "metadata": {},
   "source": [
    "Можемо проверити да ли је претходно бројање прошло како треба тако што ћемо излистати 5 земаља са највише златних медаља и упоредити то са подацима које можемо пронаћи на [википедији](https://en.wikipedia.org/wiki/2012_Summer_Olympics_medal_table). То радимо сортирајући податке функцијом `sort_values` наглашавајући по којој колони уз помоћ аргумента `by`. Подразумевани начин сортирања је растући па ако хоћемо само да видимо првих 5 земаља, згодније нам је да користимо опадајуће сортирање `ascending=False` и одаберемо првих 5 вредности:"
   ]
  },
  {
   "cell_type": "code",
   "execution_count": 8,
   "id": "20efc893",
   "metadata": {},
   "outputs": [
    {
     "data": {
      "text/html": [
       "<div>\n",
       "<style scoped>\n",
       "    .dataframe tbody tr th:only-of-type {\n",
       "        vertical-align: middle;\n",
       "    }\n",
       "\n",
       "    .dataframe tbody tr th {\n",
       "        vertical-align: top;\n",
       "    }\n",
       "\n",
       "    .dataframe thead th {\n",
       "        text-align: right;\n",
       "    }\n",
       "</style>\n",
       "<table border=\"1\" class=\"dataframe\">\n",
       "  <thead>\n",
       "    <tr style=\"text-align: right;\">\n",
       "      <th></th>\n",
       "      <th>NOC</th>\n",
       "      <th>Broj_zlatnih_medalja</th>\n",
       "    </tr>\n",
       "  </thead>\n",
       "  <tbody>\n",
       "    <tr>\n",
       "      <th>51</th>\n",
       "      <td>USA</td>\n",
       "      <td>46</td>\n",
       "    </tr>\n",
       "    <tr>\n",
       "      <th>8</th>\n",
       "      <td>CHN</td>\n",
       "      <td>38</td>\n",
       "    </tr>\n",
       "    <tr>\n",
       "      <th>18</th>\n",
       "      <td>GBR</td>\n",
       "      <td>29</td>\n",
       "    </tr>\n",
       "    <tr>\n",
       "      <th>41</th>\n",
       "      <td>RUS</td>\n",
       "      <td>24</td>\n",
       "    </tr>\n",
       "    <tr>\n",
       "      <th>30</th>\n",
       "      <td>KOR</td>\n",
       "      <td>13</td>\n",
       "    </tr>\n",
       "  </tbody>\n",
       "</table>\n",
       "</div>"
      ],
      "text/plain": [
       "    NOC  Broj_zlatnih_medalja\n",
       "51  USA                    46\n",
       "8   CHN                    38\n",
       "18  GBR                    29\n",
       "41  RUS                    24\n",
       "30  KOR                    13"
      ]
     },
     "execution_count": 8,
     "metadata": {},
     "output_type": "execute_result"
    }
   ],
   "source": [
    "zlatne_medalje_po_drzavi.sort_values(by='Broj_zlatnih_medalja',ascending=False).head()"
   ]
  },
  {
   "cell_type": "markdown",
   "id": "ae13755c",
   "metadata": {},
   "source": [
    "Mожемо проверити и колико уноса има ова наша нова табела, тј. колико земаља је освојило бар једну златну медаљу на посматраним олимпијским играма:"
   ]
  },
  {
   "cell_type": "code",
   "execution_count": 9,
   "id": "35e138a1",
   "metadata": {},
   "outputs": [
    {
     "name": "stdout",
     "output_type": "stream",
     "text": [
      "<class 'pandas.core.frame.DataFrame'>\n",
      "RangeIndex: 54 entries, 0 to 53\n",
      "Data columns (total 2 columns):\n",
      " #   Column                Non-Null Count  Dtype \n",
      "---  ------                --------------  ----- \n",
      " 0   NOC                   54 non-null     object\n",
      " 1   Broj_zlatnih_medalja  54 non-null     int64 \n",
      "dtypes: int64(1), object(1)\n",
      "memory usage: 992.0+ bytes\n"
     ]
    }
   ],
   "source": [
    "zlatne_medalje_po_drzavi.info() "
   ]
  },
  {
   "cell_type": "markdown",
   "id": "72d7fc28",
   "metadata": {},
   "source": [
    "Где видимо да има 54 земље са бар једном златном медаљом. "
   ]
  },
  {
   "cell_type": "markdown",
   "id": "8cf72a34",
   "metadata": {},
   "source": [
    "Ако сте пробали да неке од ових података упоредите са подацима на википедији или званичном сајту олимпијских игара вероватно сте наишли на мала неслагања (нпр. Русија је освојила ипак 20 златних медаља по [википедији](https://en.wikipedia.org/wiki/2012_Summer_Olympics_medal_table)). Иако и нас муче та неслагања, уместо одлуке да одустанемо од анализе олимпијада и прогласимо податке непогодним, одлучили смо да наставимо анализу уз објашњење узрока неслагања. Табеле које анализирамо, настале су у аутоматском преузимању података из једне од веб архива историјских успеха на олимпијским играма ([*Sports reference*](https://www.sports-reference.com/)). Међутим, оно што аутори скупа података нису узели у обзир је чињеница да резултати олимпијских игара нису финални, већ су наставили да се \"мењају\" и након што су табеле података сакупљене и објављене за даљу употребу. Како то да се подаци о прошлим олимпијадама мењају, питаћете се сигурно. Заправо, спортисти могу изгубити своје медаље и више година након одржаних олимпијских игара ако се утврди да су прекршили неко од правила, најчешће у вези са коришћењем недозвољених супстанци. На [овој адреси](https://olympics.com/ioc/news/fight-against-doping) можете видети сапштења о одузимању медаља са олимпијаде из 2012 и додељивању истих другим спортисткињама и спортистима које су се дешавале чак и прошле године! Листу свих одузетих медаља можете наћи [овде](https://en.wikipedia.org/wiki/List_of_stripped_Olympic_medals). Наши подаци садрже имена и остале податке о учесницима олимпијских игара укључујући и информацију да ли су добили одређену медаљу, али скуп података није коригован уколико је више година касније дошло до прерасподеле медаља. Стога ће се неретко дешавати да видите да број медаља неке државе који нађемо у овој радној свесци неће бити потпуно исти као број који можете сада наћи на сајтовима о олимпијским играма. Ово значи да ћемо при извођењу закључака понекад морати да будемо пажљивији, али нам се чинило да процес анализе података и њихове визуализације неће бити мање занимљив упркос \"застарелости\" неких од података."
   ]
  },
  {
   "cell_type": "markdown",
   "id": "19fa003d",
   "metadata": {},
   "source": [
    "Хајде да ову нашу табелицу која садржи само 2 колоне (трословни код државе и број медаља) допунимо и пуним именом државе пошто није увек лако сетити се која комбинација слова представља коју државу. То можемо уз помоћ функцијe [merge](https://pandas.pydata.org/docs/reference/api/pandas.DataFrame.merge.html) и нове табеле која садржи само имена држава и њихове трословне кодове националних комитета. Ту нову табелу правимо тако што одаберемо само колоне `NOC` и `Team` и обришемо сва непотребна понављања функцијом [drop_duplicates](https://pandas.pydata.org/docs/reference/api/pandas.Series.drop_duplicates.html):"
   ]
  },
  {
   "cell_type": "code",
   "execution_count": 10,
   "id": "3b004710",
   "metadata": {},
   "outputs": [
    {
     "data": {
      "text/html": [
       "<div>\n",
       "<style scoped>\n",
       "    .dataframe tbody tr th:only-of-type {\n",
       "        vertical-align: middle;\n",
       "    }\n",
       "\n",
       "    .dataframe tbody tr th {\n",
       "        vertical-align: top;\n",
       "    }\n",
       "\n",
       "    .dataframe thead th {\n",
       "        text-align: right;\n",
       "    }\n",
       "</style>\n",
       "<table border=\"1\" class=\"dataframe\">\n",
       "  <thead>\n",
       "    <tr style=\"text-align: right;\">\n",
       "      <th></th>\n",
       "      <th>NOC</th>\n",
       "      <th>Team</th>\n",
       "    </tr>\n",
       "  </thead>\n",
       "  <tbody>\n",
       "    <tr>\n",
       "      <th>0</th>\n",
       "      <td>AFG</td>\n",
       "      <td>Afghanistan</td>\n",
       "    </tr>\n",
       "    <tr>\n",
       "      <th>1</th>\n",
       "      <td>ALB</td>\n",
       "      <td>Albania</td>\n",
       "    </tr>\n",
       "    <tr>\n",
       "      <th>2</th>\n",
       "      <td>ALG</td>\n",
       "      <td>Algeria</td>\n",
       "    </tr>\n",
       "    <tr>\n",
       "      <th>3</th>\n",
       "      <td>AND</td>\n",
       "      <td>Andorra</td>\n",
       "    </tr>\n",
       "    <tr>\n",
       "      <th>4</th>\n",
       "      <td>ANG</td>\n",
       "      <td>Angola</td>\n",
       "    </tr>\n",
       "  </tbody>\n",
       "</table>\n",
       "</div>"
      ],
      "text/plain": [
       "   NOC         Team\n",
       "0  AFG  Afghanistan\n",
       "1  ALB      Albania\n",
       "2  ALG      Algeria\n",
       "3  AND      Andorra\n",
       "4  ANG       Angola"
      ]
     },
     "execution_count": 10,
     "metadata": {},
     "output_type": "execute_result"
    }
   ],
   "source": [
    "drzave_kodovi = oigre2012[['NOC','Team']].drop_duplicates() # pravimo novu tabelu koja sadrzi samo jedinstvene kombinacije NOC i imena drzave\n",
    "drzave_kodovi = drzave_kodovi.groupby('NOC').first().reset_index() # neke zemlje imaju vise timova sa dodatim brojem 1,2, tako da obako obezbedjujemo da samo jedan par NOC i Team postoje za svaku zemlju\n",
    "drzave_kodovi.head()"
   ]
  },
  {
   "cell_type": "markdown",
   "id": "f2a1e68a",
   "metadata": {},
   "source": [
    "Сада ову табелу можемо искористити да је спојимо (`merge`) са табелом која садржи `zlatne_medalje_po_drzavi`. Функцији прослеђујемо информације које две табеле спајамо и коју колону користимо да спојимо одговарајуће редове. У нашем случају то је колона `NOC` која је заједничка обема табелама:"
   ]
  },
  {
   "cell_type": "code",
   "execution_count": 11,
   "id": "25ba3e43",
   "metadata": {
    "scrolled": true
   },
   "outputs": [
    {
     "data": {
      "text/html": [
       "<div>\n",
       "<style scoped>\n",
       "    .dataframe tbody tr th:only-of-type {\n",
       "        vertical-align: middle;\n",
       "    }\n",
       "\n",
       "    .dataframe tbody tr th {\n",
       "        vertical-align: top;\n",
       "    }\n",
       "\n",
       "    .dataframe thead th {\n",
       "        text-align: right;\n",
       "    }\n",
       "</style>\n",
       "<table border=\"1\" class=\"dataframe\">\n",
       "  <thead>\n",
       "    <tr style=\"text-align: right;\">\n",
       "      <th></th>\n",
       "      <th>NOC</th>\n",
       "      <th>Broj_zlatnih_medalja</th>\n",
       "      <th>Team</th>\n",
       "    </tr>\n",
       "  </thead>\n",
       "  <tbody>\n",
       "    <tr>\n",
       "      <th>0</th>\n",
       "      <td>ALG</td>\n",
       "      <td>1</td>\n",
       "      <td>Algeria</td>\n",
       "    </tr>\n",
       "    <tr>\n",
       "      <th>1</th>\n",
       "      <td>ARG</td>\n",
       "      <td>1</td>\n",
       "      <td>Argentina</td>\n",
       "    </tr>\n",
       "    <tr>\n",
       "      <th>2</th>\n",
       "      <td>AUS</td>\n",
       "      <td>7</td>\n",
       "      <td>Australia</td>\n",
       "    </tr>\n",
       "    <tr>\n",
       "      <th>3</th>\n",
       "      <td>AZE</td>\n",
       "      <td>2</td>\n",
       "      <td>Azerbaijan</td>\n",
       "    </tr>\n",
       "    <tr>\n",
       "      <th>4</th>\n",
       "      <td>BAH</td>\n",
       "      <td>1</td>\n",
       "      <td>Bahamas</td>\n",
       "    </tr>\n",
       "  </tbody>\n",
       "</table>\n",
       "</div>"
      ],
      "text/plain": [
       "   NOC  Broj_zlatnih_medalja        Team\n",
       "0  ALG                     1     Algeria\n",
       "1  ARG                     1   Argentina\n",
       "2  AUS                     7   Australia\n",
       "3  AZE                     2  Azerbaijan\n",
       "4  BAH                     1     Bahamas"
      ]
     },
     "execution_count": 11,
     "metadata": {},
     "output_type": "execute_result"
    }
   ],
   "source": [
    "zlatne_medalje_po_drzavi = pd.merge(zlatne_medalje_po_drzavi,drzave_kodovi,on='NOC') # spajanje dve tabele po koloni 'NOC'\n",
    "zlatne_medalje_po_drzavi.head()"
   ]
  },
  {
   "cell_type": "markdown",
   "id": "78dc7cfa",
   "metadata": {},
   "source": [
    "Како ми не желимо да дискутујемо само о златним медаљама, хајде да сличне табелице направимо и са бројевима освојених сребрних и бронзаних медаља. Не желимо да копирамо код три пута (то јесте релативно мало пута, али ћете можда желети то да поновите и за неке друге податке) па ћемо претходне кораке убацити у једну функцију која ће као улаз користити табелу података и низ карактера који означава који тип медаље хоћете да издвојите `Gold`, `Silver`, `Bronze`, a резултат функције ће бити табела са бројем одабраних медаља по држави:"
   ]
  },
  {
   "cell_type": "code",
   "execution_count": 12,
   "id": "93a66e5a",
   "metadata": {},
   "outputs": [],
   "source": [
    "def prebroj_medalje_po_drzavi(podaci_za_jednu_godinu,tip_medalja):\n",
    "    \"\"\"\n",
    "    podaci_za_jednu_godinu je tabela podataka koji u svakom redu sadrze informacije o sportistima ucesnicima olimpijskih igara\n",
    "    tip_medalja je string \"Gold\",\"Silver\",\"Bronze\" tj. govori nam koje medalje hocemo da izdvojimo\n",
    "    \n",
    "    ova funkcija kao rezultat vraca tabelicu koja ima kolonu sa troslovnim kodom drzave NOC i kolonu sa brojem medalja \"tip_medalja\" koje je drzava osvojila\n",
    "    \"\"\"\n",
    "    medalje = podaci_za_jednu_godinu[podaci_za_jednu_godinu['Medal']==tip_medalja]  # selektujemo deo tabele koji sadrži odredjeni tip medalaj u koloni Medal i čuvamo rezultat u novoj promenljivoj\n",
    "\n",
    "    medalje_po_drzavi = medalje.groupby('NOC')['Event'].unique().apply(len) # grupisanje po državi i brojanje jedinstvenih događaja, čuvamo rezultat u novoj tabeli\n",
    "    medalje_po_drzavi = medalje_po_drzavi.reset_index() # resetujemo indeks da bismo koristili i kolonu sa državama koja je pre ove komande bila indeksna\n",
    "    medalje_po_drzavi = medalje_po_drzavi.rename(columns={'Event':tip_medalja}) # menjamo ime kolone u tip medalje koji smo odabrali\n",
    "    \n",
    "    return medalje_po_drzavi"
   ]
  },
  {
   "cell_type": "markdown",
   "id": "138d9753",
   "metadata": {},
   "source": [
    "У функцију нисмо ставили спајање са колоном која садржи пуне називе држава зато што ћемо сада направити табелице за сваку од медаља па ћемо тек када све то спојимо додати и пуна имена држава. Хајде да проверимо рад функције на примеру првих пет уноса табеле са златним медаљама које смо приказивали и изнад:"
   ]
  },
  {
   "cell_type": "code",
   "execution_count": 13,
   "id": "d961b7d3",
   "metadata": {
    "scrolled": true
   },
   "outputs": [
    {
     "data": {
      "text/html": [
       "<div>\n",
       "<style scoped>\n",
       "    .dataframe tbody tr th:only-of-type {\n",
       "        vertical-align: middle;\n",
       "    }\n",
       "\n",
       "    .dataframe tbody tr th {\n",
       "        vertical-align: top;\n",
       "    }\n",
       "\n",
       "    .dataframe thead th {\n",
       "        text-align: right;\n",
       "    }\n",
       "</style>\n",
       "<table border=\"1\" class=\"dataframe\">\n",
       "  <thead>\n",
       "    <tr style=\"text-align: right;\">\n",
       "      <th></th>\n",
       "      <th>NOC</th>\n",
       "      <th>Gold</th>\n",
       "    </tr>\n",
       "  </thead>\n",
       "  <tbody>\n",
       "    <tr>\n",
       "      <th>0</th>\n",
       "      <td>ALG</td>\n",
       "      <td>1</td>\n",
       "    </tr>\n",
       "    <tr>\n",
       "      <th>1</th>\n",
       "      <td>ARG</td>\n",
       "      <td>1</td>\n",
       "    </tr>\n",
       "    <tr>\n",
       "      <th>2</th>\n",
       "      <td>AUS</td>\n",
       "      <td>7</td>\n",
       "    </tr>\n",
       "    <tr>\n",
       "      <th>3</th>\n",
       "      <td>AZE</td>\n",
       "      <td>2</td>\n",
       "    </tr>\n",
       "    <tr>\n",
       "      <th>4</th>\n",
       "      <td>BAH</td>\n",
       "      <td>1</td>\n",
       "    </tr>\n",
       "  </tbody>\n",
       "</table>\n",
       "</div>"
      ],
      "text/plain": [
       "   NOC  Gold\n",
       "0  ALG     1\n",
       "1  ARG     1\n",
       "2  AUS     7\n",
       "3  AZE     2\n",
       "4  BAH     1"
      ]
     },
     "execution_count": 13,
     "metadata": {},
     "output_type": "execute_result"
    }
   ],
   "source": [
    "prebroj_medalje_po_drzavi(oigre2012,'Gold').head()"
   ]
  },
  {
   "cell_type": "markdown",
   "id": "a94ec383",
   "metadata": {},
   "source": [
    "Супер, добили смо исте резултате као и претходно. Хајде да сада резултате функције за златне, сребне и бронзане медаље да сачувамо у појединачним табелама:"
   ]
  },
  {
   "cell_type": "code",
   "execution_count": 14,
   "id": "9baacab8",
   "metadata": {},
   "outputs": [],
   "source": [
    "zlato = prebroj_medalje_po_drzavi(oigre2012,'Gold') # da dobijemo zlatne medalje koristimo string \"Gold\"\n",
    "srebro = prebroj_medalje_po_drzavi(oigre2012,'Silver') # za srebro koristimo \"Silver\" i cuvamo podatke u promenljivoj srebro\n",
    "bronza = prebroj_medalje_po_drzavi(oigre2012,'Bronze') # za bronzane medalje koristimo \"Bronze\""
   ]
  },
  {
   "cell_type": "markdown",
   "id": "688f23b3",
   "metadata": {},
   "source": [
    "<details>    \n",
    "<summary>\n",
    "    <font color=\"darkgreen\"><b>Како бисте проверили да ли постоје неки бројеви у новонасталим табелама? </b>\n",
    "</font>\n",
    "</summary>\n",
    "Као и до сада, можете искористити фунције `head` (на пример `srebro.head()`) или `info` (на пример `bronza.info()`) да видите број редова и тип података у различитим колонама."
   ]
  },
  {
   "cell_type": "markdown",
   "id": "ce5ab6bf",
   "metadata": {},
   "source": [
    "Сада када имамо све три табеле, можемо их спојити у једну заједничку која ће садржати једну колону која одређује државу (трословним кодом) а затим у осталим колонама има број златних, сребрних и бронзаних медаља. То ћемо опет урадити уз помоћ функције `merge`:"
   ]
  },
  {
   "cell_type": "code",
   "execution_count": 15,
   "id": "e935752c",
   "metadata": {},
   "outputs": [
    {
     "data": {
      "text/html": [
       "<div>\n",
       "<style scoped>\n",
       "    .dataframe tbody tr th:only-of-type {\n",
       "        vertical-align: middle;\n",
       "    }\n",
       "\n",
       "    .dataframe tbody tr th {\n",
       "        vertical-align: top;\n",
       "    }\n",
       "\n",
       "    .dataframe thead th {\n",
       "        text-align: right;\n",
       "    }\n",
       "</style>\n",
       "<table border=\"1\" class=\"dataframe\">\n",
       "  <thead>\n",
       "    <tr style=\"text-align: right;\">\n",
       "      <th></th>\n",
       "      <th>NOC</th>\n",
       "      <th>Gold</th>\n",
       "      <th>Silver</th>\n",
       "    </tr>\n",
       "  </thead>\n",
       "  <tbody>\n",
       "    <tr>\n",
       "      <th>0</th>\n",
       "      <td>ARG</td>\n",
       "      <td>1</td>\n",
       "      <td>1</td>\n",
       "    </tr>\n",
       "    <tr>\n",
       "      <th>1</th>\n",
       "      <td>AUS</td>\n",
       "      <td>7</td>\n",
       "      <td>16</td>\n",
       "    </tr>\n",
       "    <tr>\n",
       "      <th>2</th>\n",
       "      <td>AZE</td>\n",
       "      <td>2</td>\n",
       "      <td>2</td>\n",
       "    </tr>\n",
       "    <tr>\n",
       "      <th>3</th>\n",
       "      <td>BLR</td>\n",
       "      <td>2</td>\n",
       "      <td>5</td>\n",
       "    </tr>\n",
       "    <tr>\n",
       "      <th>4</th>\n",
       "      <td>BRA</td>\n",
       "      <td>3</td>\n",
       "      <td>5</td>\n",
       "    </tr>\n",
       "  </tbody>\n",
       "</table>\n",
       "</div>"
      ],
      "text/plain": [
       "   NOC  Gold  Silver\n",
       "0  ARG     1       1\n",
       "1  AUS     7      16\n",
       "2  AZE     2       2\n",
       "3  BLR     2       5\n",
       "4  BRA     3       5"
      ]
     },
     "execution_count": 15,
     "metadata": {},
     "output_type": "execute_result"
    }
   ],
   "source": [
    "sve_medalje = pd.merge(zlato,srebro, on ='NOC') #kao i prethodno, znamo da je kolona NOC zajednicka i nju koristimo da spojimo tabele\n",
    "sve_medalje.head()"
   ]
  },
  {
   "cell_type": "markdown",
   "id": "2a16e564",
   "metadata": {},
   "source": [
    "Судећи по првих пет редова, делује да смо добили тип табеле који смо желели, недостаје само да додамо још податке о бронзаним медаљама. Пре додавања бронзаних медаља, хајде да проверимо нову табелу користећи и функцију `info`:"
   ]
  },
  {
   "cell_type": "code",
   "execution_count": 16,
   "id": "2e684682",
   "metadata": {},
   "outputs": [
    {
     "name": "stdout",
     "output_type": "stream",
     "text": [
      "<class 'pandas.core.frame.DataFrame'>\n",
      "Int64Index: 46 entries, 0 to 45\n",
      "Data columns (total 3 columns):\n",
      " #   Column  Non-Null Count  Dtype \n",
      "---  ------  --------------  ----- \n",
      " 0   NOC     46 non-null     object\n",
      " 1   Gold    46 non-null     int64 \n",
      " 2   Silver  46 non-null     int64 \n",
      "dtypes: int64(2), object(1)\n",
      "memory usage: 1.4+ KB\n"
     ]
    }
   ],
   "source": [
    "sve_medalje.info()"
   ]
  },
  {
   "cell_type": "markdown",
   "id": "3798594b",
   "metadata": {},
   "source": [
    "Ово је необично! Раније смо видели да има 54 земље које су освојиле бар једну златну медаљу, и чак да се десило да је мање земаља освојило сребрну медаљу, очекивали бисмо да се у заједничкој табели налазе барем све земље које имају злато, дакле бар 8 земаља нам недостаје. Када налетите на овако неки проблем, добар алат је враћање на документацију функције коју сте искористили, у овом случају [merge](https://pandas.pydata.org/pandas-docs/stable/reference/api/pandas.DataFrame.merge.html), и потражите извор проблема. Један добар метод је да обратите пажњу на подразумеване вредности параметара које нисте искористили. \n",
    "Читањем документације можемо приметити да смо ми искористили најосновнију верзију функције, тј. покренули смо је са минималним бројем аргумената, а сви остали аргументи су остали подразумевани. Кључни међу њима, аргумент `how` који дефинише *како* се табеле спајају нам је проузроковао проблем. Подразумевани тип спајања је да се у новонасталој табели нађу само они редови код којих држава по којој спајамо (односно `NOC`) постоји и у једној и у другој табели. То значи да је овај први покушај спајања креирао листу земаља које имају бар једну златну и бар једну сребрну медаљу, док све оне које имају или само златне или само сребрне медаље не постоје. То је начин спајања који ће нам бити од користи за неке од примена, али овде није адекватан зато што желимо да бројимо све земље које су биле успешне на олимпијади и то ћемо постићи тако што аргумент `how` добије вредност `outer`. На овај начин државе које су се појавиле у бар једној од табела морају бити и у заједничкој, што је управо оно што одговара нашим питањима."
   ]
  },
  {
   "cell_type": "code",
   "execution_count": 17,
   "id": "b9041bf8",
   "metadata": {},
   "outputs": [
    {
     "name": "stdout",
     "output_type": "stream",
     "text": [
      "<class 'pandas.core.frame.DataFrame'>\n",
      "Int64Index: 74 entries, 0 to 73\n",
      "Data columns (total 3 columns):\n",
      " #   Column  Non-Null Count  Dtype  \n",
      "---  ------  --------------  -----  \n",
      " 0   NOC     74 non-null     object \n",
      " 1   Gold    54 non-null     float64\n",
      " 2   Silver  66 non-null     float64\n",
      "dtypes: float64(2), object(1)\n",
      "memory usage: 2.3+ KB\n"
     ]
    }
   ],
   "source": [
    "sve_medalje = pd.merge(zlato,srebro, on ='NOC',how='outer') # spajamo tabele uz pomoc zajednicke kolone NOC ali tako da se sve zemlje (iako postoje samo u jednoj tabeli) nadju u novoj tabeli\n",
    "sve_medalje.info() # provera velicine novonastale spojene tabele"
   ]
  },
  {
   "cell_type": "markdown",
   "id": "cc0a3539",
   "metadata": {},
   "source": [
    "Ово већ више одговара нашим очекивањима - колона са златним медаљама има 54 бројчана уноса, колона са сребрним медаљама има 66, а укупно табела има 74 реда, односно државе."
   ]
  },
  {
   "cell_type": "markdown",
   "id": "6bb4647b",
   "metadata": {},
   "source": [
    "<details>    \n",
    "<summary>\n",
    "       <font color=\"darkgreen\"> <b> Број медаља које је земља освојила мора бити целобројан тј. очекивали бисмо да тип података у колони буде `int` али видимо тип  `float`, да ли знате зашто је то тако?</b>\n",
    "</font>\n",
    "</summary>\n",
    "Када колона садржи не бројчане вредности, тј. `NaN` вредности, библиотека `pandas` такву колону аутоматски третира као `float` тип података. Тако да не брините, није се десило да смо у бројању доделили некој држави 3.2 медаље, већ се просто дешава да су неке земље без златних или сребрних медаља, што поред горње провере можете видети и користећи `sve_medalje.head()`."
   ]
  },
  {
   "cell_type": "markdown",
   "id": "8b4e602e",
   "metadata": {},
   "source": [
    "На исти начин ћемо сада у табелу `sve_medalje` додати и податке о бронзаним медаљама:"
   ]
  },
  {
   "cell_type": "code",
   "execution_count": 18,
   "id": "21d2f41d",
   "metadata": {},
   "outputs": [
    {
     "name": "stdout",
     "output_type": "stream",
     "text": [
      "<class 'pandas.core.frame.DataFrame'>\n",
      "Int64Index: 85 entries, 0 to 84\n",
      "Data columns (total 4 columns):\n",
      " #   Column  Non-Null Count  Dtype  \n",
      "---  ------  --------------  -----  \n",
      " 0   NOC     85 non-null     object \n",
      " 1   Gold    54 non-null     float64\n",
      " 2   Silver  66 non-null     float64\n",
      " 3   Bronze  71 non-null     float64\n",
      "dtypes: float64(3), object(1)\n",
      "memory usage: 3.3+ KB\n"
     ]
    }
   ],
   "source": [
    "sve_medalje = pd.merge(sve_medalje,bronza, on ='NOC',how='outer') # spajamo tabele uz pomoc zajednicke kolone NOC ali tako da se sve zemlje (iako postoje samo u jednoj tabeli) nadju u novoj tabeli\n",
    "sve_medalje.info() # provera velicine novonastale spojene tabele"
   ]
  },
  {
   "cell_type": "code",
   "execution_count": 19,
   "id": "358ddcc9",
   "metadata": {},
   "outputs": [
    {
     "data": {
      "text/html": [
       "<div>\n",
       "<style scoped>\n",
       "    .dataframe tbody tr th:only-of-type {\n",
       "        vertical-align: middle;\n",
       "    }\n",
       "\n",
       "    .dataframe tbody tr th {\n",
       "        vertical-align: top;\n",
       "    }\n",
       "\n",
       "    .dataframe thead th {\n",
       "        text-align: right;\n",
       "    }\n",
       "</style>\n",
       "<table border=\"1\" class=\"dataframe\">\n",
       "  <thead>\n",
       "    <tr style=\"text-align: right;\">\n",
       "      <th></th>\n",
       "      <th>NOC</th>\n",
       "      <th>Gold</th>\n",
       "      <th>Silver</th>\n",
       "      <th>Bronze</th>\n",
       "    </tr>\n",
       "  </thead>\n",
       "  <tbody>\n",
       "    <tr>\n",
       "      <th>0</th>\n",
       "      <td>ALG</td>\n",
       "      <td>1.0</td>\n",
       "      <td>NaN</td>\n",
       "      <td>NaN</td>\n",
       "    </tr>\n",
       "    <tr>\n",
       "      <th>1</th>\n",
       "      <td>ARG</td>\n",
       "      <td>1.0</td>\n",
       "      <td>1.0</td>\n",
       "      <td>2.0</td>\n",
       "    </tr>\n",
       "    <tr>\n",
       "      <th>2</th>\n",
       "      <td>AUS</td>\n",
       "      <td>7.0</td>\n",
       "      <td>16.0</td>\n",
       "      <td>12.0</td>\n",
       "    </tr>\n",
       "    <tr>\n",
       "      <th>3</th>\n",
       "      <td>AZE</td>\n",
       "      <td>2.0</td>\n",
       "      <td>2.0</td>\n",
       "      <td>6.0</td>\n",
       "    </tr>\n",
       "    <tr>\n",
       "      <th>4</th>\n",
       "      <td>BAH</td>\n",
       "      <td>1.0</td>\n",
       "      <td>NaN</td>\n",
       "      <td>NaN</td>\n",
       "    </tr>\n",
       "  </tbody>\n",
       "</table>\n",
       "</div>"
      ],
      "text/plain": [
       "   NOC  Gold  Silver  Bronze\n",
       "0  ALG   1.0     NaN     NaN\n",
       "1  ARG   1.0     1.0     2.0\n",
       "2  AUS   7.0    16.0    12.0\n",
       "3  AZE   2.0     2.0     6.0\n",
       "4  BAH   1.0     NaN     NaN"
      ]
     },
     "execution_count": 19,
     "metadata": {},
     "output_type": "execute_result"
    }
   ],
   "source": [
    "sve_medalje.head() # prvi redovi nove tabele"
   ]
  },
  {
   "cell_type": "markdown",
   "id": "2133db3e",
   "metadata": {},
   "source": [
    "Попуњавање непостојећих вредности је веома важна тема и у овом курсу ћете се сусретати са њом на различитим местима (видите на пример и у [темату о јавном здрављу]()) где ће се примењивати различите стратегије. Некад је битно оставити `NaN` вредности као подсетник да тај податак не постоји, а некад се подаци допуне уз адекватне претпоставке. Овде на пример је потпуно адекватно све `NaN` вредности заменити 0 зато што знамо да те земље нису освојиле одговарајућу медаљу и `NaN` ознака се појавила само као последица спајања а не губљења или заборављеног уноса податка. Замена `NaN` података може се урадити уз помоћ [fillna](https://pandas.pydata.org/pandas-docs/stable/reference/api/pandas.DataFrame.fillna.html) функције:"
   ]
  },
  {
   "cell_type": "code",
   "execution_count": 20,
   "id": "139fd550",
   "metadata": {},
   "outputs": [
    {
     "data": {
      "text/html": [
       "<div>\n",
       "<style scoped>\n",
       "    .dataframe tbody tr th:only-of-type {\n",
       "        vertical-align: middle;\n",
       "    }\n",
       "\n",
       "    .dataframe tbody tr th {\n",
       "        vertical-align: top;\n",
       "    }\n",
       "\n",
       "    .dataframe thead th {\n",
       "        text-align: right;\n",
       "    }\n",
       "</style>\n",
       "<table border=\"1\" class=\"dataframe\">\n",
       "  <thead>\n",
       "    <tr style=\"text-align: right;\">\n",
       "      <th></th>\n",
       "      <th>NOC</th>\n",
       "      <th>Gold</th>\n",
       "      <th>Silver</th>\n",
       "      <th>Bronze</th>\n",
       "    </tr>\n",
       "  </thead>\n",
       "  <tbody>\n",
       "    <tr>\n",
       "      <th>0</th>\n",
       "      <td>ALG</td>\n",
       "      <td>1.0</td>\n",
       "      <td>0.0</td>\n",
       "      <td>0.0</td>\n",
       "    </tr>\n",
       "    <tr>\n",
       "      <th>1</th>\n",
       "      <td>ARG</td>\n",
       "      <td>1.0</td>\n",
       "      <td>1.0</td>\n",
       "      <td>2.0</td>\n",
       "    </tr>\n",
       "    <tr>\n",
       "      <th>2</th>\n",
       "      <td>AUS</td>\n",
       "      <td>7.0</td>\n",
       "      <td>16.0</td>\n",
       "      <td>12.0</td>\n",
       "    </tr>\n",
       "    <tr>\n",
       "      <th>3</th>\n",
       "      <td>AZE</td>\n",
       "      <td>2.0</td>\n",
       "      <td>2.0</td>\n",
       "      <td>6.0</td>\n",
       "    </tr>\n",
       "    <tr>\n",
       "      <th>4</th>\n",
       "      <td>BAH</td>\n",
       "      <td>1.0</td>\n",
       "      <td>0.0</td>\n",
       "      <td>0.0</td>\n",
       "    </tr>\n",
       "  </tbody>\n",
       "</table>\n",
       "</div>"
      ],
      "text/plain": [
       "   NOC  Gold  Silver  Bronze\n",
       "0  ALG   1.0     0.0     0.0\n",
       "1  ARG   1.0     1.0     2.0\n",
       "2  AUS   7.0    16.0    12.0\n",
       "3  AZE   2.0     2.0     6.0\n",
       "4  BAH   1.0     0.0     0.0"
      ]
     },
     "execution_count": 20,
     "metadata": {},
     "output_type": "execute_result"
    }
   ],
   "source": [
    "sve_medalje = sve_medalje.fillna(0) # sve NaN vrednosti menjamo sa nulom\n",
    "sve_medalje.head()"
   ]
  },
  {
   "cell_type": "markdown",
   "id": "cc9847c3",
   "metadata": {},
   "source": [
    "Сада када смо решили постојање `NaN` података можемо променити тип колона натраг на очекиване целобројне вредности користећи функцију [astype](https://pandas.pydata.org/docs/reference/api/pandas.DataFrame.astype.html) са аргументом `int`. Додаћемо такође и колону која садржи укупан број медаља користећи функцију [sum](https://pandas.pydata.org/docs/reference/api/pandas.DataFrame.sum.html) да саберемо вредности у колонама `Gold`,`Silver` и `Bronze`. Обратите пажњу да смо искористили додатни аргумент `axis=1` да бисмо сабрали вредности табеле у хоризонталном правцу, без овог аргумента, сумирање се врши вертикално тако да бисмо само добили укупан број златних, сребрних и бронзаних медаља за све земље (сетите се, у претходној лекцији смо слично радили са функцијом `max`)."
   ]
  },
  {
   "cell_type": "code",
   "execution_count": 21,
   "id": "9f096a79",
   "metadata": {},
   "outputs": [
    {
     "data": {
      "text/html": [
       "<div>\n",
       "<style scoped>\n",
       "    .dataframe tbody tr th:only-of-type {\n",
       "        vertical-align: middle;\n",
       "    }\n",
       "\n",
       "    .dataframe tbody tr th {\n",
       "        vertical-align: top;\n",
       "    }\n",
       "\n",
       "    .dataframe thead th {\n",
       "        text-align: right;\n",
       "    }\n",
       "</style>\n",
       "<table border=\"1\" class=\"dataframe\">\n",
       "  <thead>\n",
       "    <tr style=\"text-align: right;\">\n",
       "      <th></th>\n",
       "      <th>NOC</th>\n",
       "      <th>Gold</th>\n",
       "      <th>Silver</th>\n",
       "      <th>Bronze</th>\n",
       "      <th>Total</th>\n",
       "    </tr>\n",
       "  </thead>\n",
       "  <tbody>\n",
       "    <tr>\n",
       "      <th>0</th>\n",
       "      <td>ALG</td>\n",
       "      <td>1</td>\n",
       "      <td>0</td>\n",
       "      <td>0</td>\n",
       "      <td>1</td>\n",
       "    </tr>\n",
       "    <tr>\n",
       "      <th>1</th>\n",
       "      <td>ARG</td>\n",
       "      <td>1</td>\n",
       "      <td>1</td>\n",
       "      <td>2</td>\n",
       "      <td>4</td>\n",
       "    </tr>\n",
       "    <tr>\n",
       "      <th>2</th>\n",
       "      <td>AUS</td>\n",
       "      <td>7</td>\n",
       "      <td>16</td>\n",
       "      <td>12</td>\n",
       "      <td>35</td>\n",
       "    </tr>\n",
       "    <tr>\n",
       "      <th>3</th>\n",
       "      <td>AZE</td>\n",
       "      <td>2</td>\n",
       "      <td>2</td>\n",
       "      <td>6</td>\n",
       "      <td>10</td>\n",
       "    </tr>\n",
       "    <tr>\n",
       "      <th>4</th>\n",
       "      <td>BAH</td>\n",
       "      <td>1</td>\n",
       "      <td>0</td>\n",
       "      <td>0</td>\n",
       "      <td>1</td>\n",
       "    </tr>\n",
       "  </tbody>\n",
       "</table>\n",
       "</div>"
      ],
      "text/plain": [
       "   NOC  Gold  Silver  Bronze  Total\n",
       "0  ALG     1       0       0      1\n",
       "1  ARG     1       1       2      4\n",
       "2  AUS     7      16      12     35\n",
       "3  AZE     2       2       6     10\n",
       "4  BAH     1       0       0      1"
      ]
     },
     "execution_count": 21,
     "metadata": {},
     "output_type": "execute_result"
    }
   ],
   "source": [
    "sve_medalje[['Gold','Silver','Bronze']] = sve_medalje[['Gold','Silver','Bronze']].astype(int) # menjamo tip podataka u kolonama u int\n",
    "sve_medalje['Total'] = sve_medalje[['Gold','Silver','Bronze']].sum(axis=1) # dodajemo novu kolonu 'Total' cija vrednost je zbir brojeva u kolonama 'Gold', 'Silver' i 'Bronze'\n",
    "sve_medalje.head()"
   ]
  },
  {
   "cell_type": "markdown",
   "id": "42af4c86",
   "metadata": {},
   "source": [
    "Можемо да сортирамо ову табелу на пример по укупном броју медаља и видимо почетак такве табеле, тј првих 5 или 10 земаља које су освојиле највише медаља:"
   ]
  },
  {
   "cell_type": "code",
   "execution_count": 22,
   "id": "60ff97b3",
   "metadata": {},
   "outputs": [
    {
     "data": {
      "text/html": [
       "<div>\n",
       "<style scoped>\n",
       "    .dataframe tbody tr th:only-of-type {\n",
       "        vertical-align: middle;\n",
       "    }\n",
       "\n",
       "    .dataframe tbody tr th {\n",
       "        vertical-align: top;\n",
       "    }\n",
       "\n",
       "    .dataframe thead th {\n",
       "        text-align: right;\n",
       "    }\n",
       "</style>\n",
       "<table border=\"1\" class=\"dataframe\">\n",
       "  <thead>\n",
       "    <tr style=\"text-align: right;\">\n",
       "      <th></th>\n",
       "      <th>NOC</th>\n",
       "      <th>Gold</th>\n",
       "      <th>Silver</th>\n",
       "      <th>Bronze</th>\n",
       "      <th>Total</th>\n",
       "    </tr>\n",
       "  </thead>\n",
       "  <tbody>\n",
       "    <tr>\n",
       "      <th>51</th>\n",
       "      <td>USA</td>\n",
       "      <td>46</td>\n",
       "      <td>28</td>\n",
       "      <td>29</td>\n",
       "      <td>103</td>\n",
       "    </tr>\n",
       "    <tr>\n",
       "      <th>8</th>\n",
       "      <td>CHN</td>\n",
       "      <td>38</td>\n",
       "      <td>27</td>\n",
       "      <td>23</td>\n",
       "      <td>88</td>\n",
       "    </tr>\n",
       "    <tr>\n",
       "      <th>41</th>\n",
       "      <td>RUS</td>\n",
       "      <td>24</td>\n",
       "      <td>26</td>\n",
       "      <td>32</td>\n",
       "      <td>82</td>\n",
       "    </tr>\n",
       "    <tr>\n",
       "      <th>18</th>\n",
       "      <td>GBR</td>\n",
       "      <td>29</td>\n",
       "      <td>17</td>\n",
       "      <td>19</td>\n",
       "      <td>65</td>\n",
       "    </tr>\n",
       "    <tr>\n",
       "      <th>20</th>\n",
       "      <td>GER</td>\n",
       "      <td>11</td>\n",
       "      <td>19</td>\n",
       "      <td>14</td>\n",
       "      <td>44</td>\n",
       "    </tr>\n",
       "    <tr>\n",
       "      <th>27</th>\n",
       "      <td>JPN</td>\n",
       "      <td>7</td>\n",
       "      <td>14</td>\n",
       "      <td>17</td>\n",
       "      <td>38</td>\n",
       "    </tr>\n",
       "    <tr>\n",
       "      <th>17</th>\n",
       "      <td>FRA</td>\n",
       "      <td>11</td>\n",
       "      <td>11</td>\n",
       "      <td>13</td>\n",
       "      <td>35</td>\n",
       "    </tr>\n",
       "    <tr>\n",
       "      <th>2</th>\n",
       "      <td>AUS</td>\n",
       "      <td>7</td>\n",
       "      <td>16</td>\n",
       "      <td>12</td>\n",
       "      <td>35</td>\n",
       "    </tr>\n",
       "    <tr>\n",
       "      <th>30</th>\n",
       "      <td>KOR</td>\n",
       "      <td>13</td>\n",
       "      <td>8</td>\n",
       "      <td>7</td>\n",
       "      <td>28</td>\n",
       "    </tr>\n",
       "    <tr>\n",
       "      <th>25</th>\n",
       "      <td>ITA</td>\n",
       "      <td>8</td>\n",
       "      <td>9</td>\n",
       "      <td>11</td>\n",
       "      <td>28</td>\n",
       "    </tr>\n",
       "  </tbody>\n",
       "</table>\n",
       "</div>"
      ],
      "text/plain": [
       "    NOC  Gold  Silver  Bronze  Total\n",
       "51  USA    46      28      29    103\n",
       "8   CHN    38      27      23     88\n",
       "41  RUS    24      26      32     82\n",
       "18  GBR    29      17      19     65\n",
       "20  GER    11      19      14     44\n",
       "27  JPN     7      14      17     38\n",
       "17  FRA    11      11      13     35\n",
       "2   AUS     7      16      12     35\n",
       "30  KOR    13       8       7     28\n",
       "25  ITA     8       9      11     28"
      ]
     },
     "execution_count": 22,
     "metadata": {},
     "output_type": "execute_result"
    }
   ],
   "source": [
    "sve_medalje = sve_medalje.sort_values(by='Total',ascending=False)\n",
    "sve_medalje.head(10)"
   ]
  },
  {
   "cell_type": "markdown",
   "id": "0361d284",
   "metadata": {},
   "source": [
    "Видимо да је распоред земаља на табели сада мало другачији него када смо гледали само број освојених златних медаља. Прве две државе су и даље исте - Америка и Кина имају и највише златних и највише медаља укупно - али се распоред осталих мења. На пример, Кореја која је пета земља по броју златних медаља је тек 10 на листи ако се посматрају све укупно медаље.\n",
    "\n",
    "Међутим, људи нису претерано добри у сагледавању информација кроз велике табеле, стога ћемо ове податке и визуелизовати. Једна од погодних могућности за цртање података категоричког типа какви су подаци о државама (колона `NOC`) је да искористимо стубичасти дијаграм тако што ће свакој држави одговарати један стубић, а његова висина ће бити нумеричка колона (број златних или укупни број медаља) коју желимо да представимо."
   ]
  },
  {
   "cell_type": "code",
   "execution_count": 23,
   "id": "2c1ca961",
   "metadata": {},
   "outputs": [
    {
     "data": {
      "image/png": "[encoded data removed]",
      "text/plain": [
       "<Figure size 1080x144 with 1 Axes>"
      ]
     },
     "metadata": {
      "needs_background": "light"
     },
     "output_type": "display_data"
    }
   ],
   "source": [
    "sve_medalje = sve_medalje.set_index('NOC') # postavljamo NOC kolonu za indeksnu\n",
    "plt.figure(figsize=(15,2)) # biramo velicinu prostora za crtanje \n",
    "sve_medalje.Gold.plot(kind='bar') # crtamo kolonu sa zlatnim medaljama\n",
    "plt.show()"
   ]
  },
  {
   "cell_type": "markdown",
   "id": "7157101e",
   "metadata": {},
   "source": [
    "<details>    \n",
    "<summary>\n",
    "       <font color=\"darkgreen\"> <b> Шта бисте све поправили код овог графика?\n",
    "       </b>\n",
    "</font>\n",
    "</summary>\n",
    "Неке од очигледних замерки су: (1) Нема потребе за државама које нису освојиле злато, ако цртамо само график са златним медаљама. (2) Потребно је сортирати податке по колони која ће бити цртана зато што на тај начин и позиција државе у низу (поред висине стубића) комуницира гледаоцу неке информације, нпр. позицију на ранг листи. (3) Само 3 слова по земљи су ок зато што стају лепо испод стубића, али за пуно земаља та три слова нису довољна да се сетимо која земља је у питању, можда би било боље да постоје читава имена држава. (4) Недостаје име у осе, а и име х осе би могло бити боље, и тако даље.\n",
    "Покушајте да \"поправите\" овај график уз ове смернице."
   ]
  },
  {
   "cell_type": "markdown",
   "id": "4821de79",
   "metadata": {},
   "source": [
    "Предлажемо да \"поравите\" горњи график у складу са вашим идејама и замеркама, а ми ћемо кроз цртање у наставку понудити још нека визуелна решења која вам могу помоћи када цртате овакве или сличне податке. На пример, трословни код за сваку земљу очекује да читаоци знају све кодове, што је превелико очекивање и згодније је стубиће означавати са пуним именима држава. Додаћемо колону са именима:"
   ]
  },
  {
   "cell_type": "code",
   "execution_count": 24,
   "id": "0c57b402",
   "metadata": {
    "scrolled": true
   },
   "outputs": [
    {
     "data": {
      "text/html": [
       "<div>\n",
       "<style scoped>\n",
       "    .dataframe tbody tr th:only-of-type {\n",
       "        vertical-align: middle;\n",
       "    }\n",
       "\n",
       "    .dataframe tbody tr th {\n",
       "        vertical-align: top;\n",
       "    }\n",
       "\n",
       "    .dataframe thead th {\n",
       "        text-align: right;\n",
       "    }\n",
       "</style>\n",
       "<table border=\"1\" class=\"dataframe\">\n",
       "  <thead>\n",
       "    <tr style=\"text-align: right;\">\n",
       "      <th></th>\n",
       "      <th>NOC</th>\n",
       "      <th>Gold</th>\n",
       "      <th>Silver</th>\n",
       "      <th>Bronze</th>\n",
       "      <th>Total</th>\n",
       "      <th>Team</th>\n",
       "    </tr>\n",
       "  </thead>\n",
       "  <tbody>\n",
       "    <tr>\n",
       "      <th>0</th>\n",
       "      <td>USA</td>\n",
       "      <td>46</td>\n",
       "      <td>28</td>\n",
       "      <td>29</td>\n",
       "      <td>103</td>\n",
       "      <td>United States</td>\n",
       "    </tr>\n",
       "    <tr>\n",
       "      <th>1</th>\n",
       "      <td>CHN</td>\n",
       "      <td>38</td>\n",
       "      <td>27</td>\n",
       "      <td>23</td>\n",
       "      <td>88</td>\n",
       "      <td>China</td>\n",
       "    </tr>\n",
       "    <tr>\n",
       "      <th>2</th>\n",
       "      <td>RUS</td>\n",
       "      <td>24</td>\n",
       "      <td>26</td>\n",
       "      <td>32</td>\n",
       "      <td>82</td>\n",
       "      <td>Russia</td>\n",
       "    </tr>\n",
       "    <tr>\n",
       "      <th>3</th>\n",
       "      <td>GBR</td>\n",
       "      <td>29</td>\n",
       "      <td>17</td>\n",
       "      <td>19</td>\n",
       "      <td>65</td>\n",
       "      <td>Great Britain</td>\n",
       "    </tr>\n",
       "    <tr>\n",
       "      <th>4</th>\n",
       "      <td>GER</td>\n",
       "      <td>11</td>\n",
       "      <td>19</td>\n",
       "      <td>14</td>\n",
       "      <td>44</td>\n",
       "      <td>Germany</td>\n",
       "    </tr>\n",
       "  </tbody>\n",
       "</table>\n",
       "</div>"
      ],
      "text/plain": [
       "   NOC  Gold  Silver  Bronze  Total           Team\n",
       "0  USA    46      28      29    103  United States\n",
       "1  CHN    38      27      23     88          China\n",
       "2  RUS    24      26      32     82         Russia\n",
       "3  GBR    29      17      19     65  Great Britain\n",
       "4  GER    11      19      14     44        Germany"
      ]
     },
     "execution_count": 24,
     "metadata": {},
     "output_type": "execute_result"
    }
   ],
   "source": [
    "sve_medalje = sve_medalje.reset_index()# da bi kolona 'NOC' opet postala obicna kolona da je iskoristimo za spajanje\n",
    "sve_medalje = pd.merge(sve_medalje,drzave_kodovi,on='NOC') # spajanje tabela po zajednickoj koloni NOC\n",
    "sve_medalje.head()"
   ]
  },
  {
   "cell_type": "markdown",
   "id": "a9d63bf6",
   "metadata": {},
   "source": [
    "Додатно, није увек неопходно да нацртате баш све податке, можда је згодно фокусирати се на сличности и разлике првих 10 или више држава. Пробаћемо овде са првих 30 (по укупном броју освојених медаља):"
   ]
  },
  {
   "cell_type": "code",
   "execution_count": 25,
   "id": "55d458e5",
   "metadata": {
    "scrolled": true
   },
   "outputs": [
    {
     "data": {
      "text/html": [
       "<div>\n",
       "<style scoped>\n",
       "    .dataframe tbody tr th:only-of-type {\n",
       "        vertical-align: middle;\n",
       "    }\n",
       "\n",
       "    .dataframe tbody tr th {\n",
       "        vertical-align: top;\n",
       "    }\n",
       "\n",
       "    .dataframe thead th {\n",
       "        text-align: right;\n",
       "    }\n",
       "</style>\n",
       "<table border=\"1\" class=\"dataframe\">\n",
       "  <thead>\n",
       "    <tr style=\"text-align: right;\">\n",
       "      <th></th>\n",
       "      <th>NOC</th>\n",
       "      <th>Gold</th>\n",
       "      <th>Silver</th>\n",
       "      <th>Bronze</th>\n",
       "      <th>Total</th>\n",
       "      <th>Team</th>\n",
       "    </tr>\n",
       "  </thead>\n",
       "  <tbody>\n",
       "    <tr>\n",
       "      <th>29</th>\n",
       "      <td>SWE</td>\n",
       "      <td>1</td>\n",
       "      <td>4</td>\n",
       "      <td>3</td>\n",
       "      <td>8</td>\n",
       "      <td>Sweden</td>\n",
       "    </tr>\n",
       "    <tr>\n",
       "      <th>28</th>\n",
       "      <td>COL</td>\n",
       "      <td>1</td>\n",
       "      <td>3</td>\n",
       "      <td>4</td>\n",
       "      <td>8</td>\n",
       "      <td>Colombia</td>\n",
       "    </tr>\n",
       "    <tr>\n",
       "      <th>27</th>\n",
       "      <td>DEN</td>\n",
       "      <td>2</td>\n",
       "      <td>4</td>\n",
       "      <td>3</td>\n",
       "      <td>9</td>\n",
       "      <td>Denmark</td>\n",
       "    </tr>\n",
       "    <tr>\n",
       "      <th>26</th>\n",
       "      <td>ROU</td>\n",
       "      <td>2</td>\n",
       "      <td>5</td>\n",
       "      <td>2</td>\n",
       "      <td>9</td>\n",
       "      <td>Romania</td>\n",
       "    </tr>\n",
       "    <tr>\n",
       "      <th>25</th>\n",
       "      <td>CZE</td>\n",
       "      <td>4</td>\n",
       "      <td>3</td>\n",
       "      <td>3</td>\n",
       "      <td>10</td>\n",
       "      <td>Czech Republic</td>\n",
       "    </tr>\n",
       "  </tbody>\n",
       "</table>\n",
       "</div>"
      ],
      "text/plain": [
       "    NOC  Gold  Silver  Bronze  Total            Team\n",
       "29  SWE     1       4       3      8          Sweden\n",
       "28  COL     1       3       4      8        Colombia\n",
       "27  DEN     2       4       3      9         Denmark\n",
       "26  ROU     2       5       2      9         Romania\n",
       "25  CZE     4       3       3     10  Czech Republic"
      ]
     },
     "execution_count": 25,
     "metadata": {},
     "output_type": "execute_result"
    }
   ],
   "source": [
    "top30 = sve_medalje[:30] # izdvajamo prvih 30 zemalja zato što je tabela sve_medalje već sortirana u opadajućem redosledu\n",
    "top30 = top30.sort_values(by='Total',ascending=True) # okrećemo prvih 30 zemalja da budu u rastućem redosledu zbog crtanja u nastavku\n",
    "top30.head()"
   ]
  },
  {
   "cell_type": "markdown",
   "id": "af3d23f6",
   "metadata": {},
   "source": [
    "Уместо да цртамо само укупан број медаља, или само један тип, на следећем графику, приказаћемо збирно златне, сребнре и бронзане медаље, тако што ћемо на стубићу сваке државе један сегмент обојити у златно и та дужина стубића одговараће броју златних медаља (и слично за све остале) док ће дужина целог стубића одговарати укупном броју медаља одређене државе."
   ]
  },
  {
   "cell_type": "code",
   "execution_count": 26,
   "id": "21eda6f7",
   "metadata": {
    "scrolled": false
   },
   "outputs": [
    {
     "data": {
      "image/png": "[encoded data removed]",
      "text/plain": [
       "<Figure size 288x864 with 1 Axes>"
      ]
     },
     "metadata": {
      "needs_background": "light"
     },
     "output_type": "display_data"
    }
   ],
   "source": [
    "plt.figure(figsize=(4,12)) # dimenzije slike\n",
    "plt.barh(top30.Team,top30.Total,color='#AA7042',label='Bronzane medalje') # bronzani stubici\n",
    "plt.barh(top30.Team,top30.Gold+top30.Silver,color='#A8A9AD',label='Srebrne medalje') # srebrni stubici\n",
    "plt.barh(top30.Team,top30.Gold,color='#D4Af37',label='Zlatne medalje') # zlatni stubici \n",
    "plt.grid(axis='x') # dodajemo uspravne sive linije (mrezu da nam pomogne oko ocitavanja duzina stubica)\n",
    "plt.xlabel('Broj osvojenih medalja') # ime x ose\n",
    "plt.legend() # dodajemo legendu\n",
    "plt.show()"
   ]
  },
  {
   "cell_type": "markdown",
   "id": "84b11694",
   "metadata": {},
   "source": [
    "Када је сортиран, стубичасти график комуницира са нама као и ранг листа (државе које читамо са леве стране су у оном распореду који одговара њиховом пласману по укупном броју медаља), али уз додатне, визуелне информације. Тако можемо лакше оценити да је Америка освојила више од пет пута више медаља од Холандије или Украине и сл. Додатно, боје делова стубића нам помажу да уочимо да су неке земље освојиле више златних него других медаља (нпр Казакстан), док су неке друге освојиле значајно више сребрних (нпр Шпанија), а неке бронзаних (нпр Канада).\n",
    "\n",
    "Од додатних поправки које смо искористили да овај график буде бољи, излистаћемо само неке које често могу помоћи у комуникацији:\n",
    "- Искористили смо хоризонталне стубиће да бисмо лакше могли да читамо имена држава\n",
    "- Сортирали смо државе по укупном броју медаља\n",
    "- Фокусирали смо се на део држава \n",
    "- Искористили смо стубиће различитих боја који се надовезују један на други да искомуницирамо више информација на графику\n",
    "- Додали смо усправне линије да још мало помогну у процени дужине стубића\n",
    "\n",
    "Предност коју добијамо сортирањем у овом случају од користи је само када поредимо државе по њиховом укупном успеху, ако желимо да поредимо државе по питању броја појединачних медаља, то нам је мало теже. Златне медаље можда и најлакше можемо поредити, пошто им је свима почетак поравнат са левом страном. Међутим, када је потребно упоредити број сребрних или бронзаних земаља 2 земље које се не налазе једна поред друге или немају драстично различите вредности то може бити теже. Ако је циљ комуницирати ту инфомацију, згодни су стубичасти дијаграми код којих се сва три типа стубића налазе једни до других а не настављајући се један на други (видите на пример лекцију о ризичним понашањима у сегменту о здрављу), али код њих гледалац у глави треба да сабира дужине стубића тако да постаје недоступна информација о укупном броју медаља.\n",
    "\n",
    "Надовезујуће стубиће изнад нисмо нацртали користећи надовезујуће стубиће (као што је то урађено аргументом `stacked=True` у лекцији о јавном здрављу) већ смо искористили трик да свако ново цртање додаје објекте једне *преко* других. Тако смо прво нацртали бронзане стубиће чија дужина одговара укупном броју освојених медаља једне земље. Затим смо преко тих стубића нацртали сребрном бојом обојене стубиће у дужини која одговара збиру златних и сребрних медаља. Ови сребрни стубићи тако су прекрили већину претходно нацртаних бронзаних, и остала је тачно дужина која одговара броју освојених бронзаних медаља. Коначно, преко сребрних стубића нацртали смо златне чија дужина одговара броју златних медаља, а непрекривени део дужине сребрних стубића одговара сребрним медаљама."
   ]
  },
  {
   "cell_type": "markdown",
   "id": "191bb4d7",
   "metadata": {},
   "source": [
    "Можемо додати још мало конктекста који ће нам помоћи да схватимо податке о броју освојених медаља. Наиме, није исто да ли је земља добила једну златну медаљу а послала је на олимпијске игре само репрезентацију која се бори у том једном спорту, или када земља добије једну златну медаљу а опробала се у свим олимпијским дисциплинама. Ово су наравно две екстремне ситуације да нам дочарају специјализовану стратегију \"такмичимо се у једној дисциплини и јако смо у њој добри\" и \"испробавамо све, па шта прође, прође\". Хајде да видимо какво је заправо стање међу државама освајачицама медаља, да ли су ближе једној или другој страни.\n",
    "\n",
    "За то нам је потребно да избројимо тимове тј. различите догађаје на којима се држава такмичила. До сада смо савладали да се то једноставно и лако решава груписањем и бројањем:"
   ]
  },
  {
   "cell_type": "code",
   "execution_count": 27,
   "id": "6d101615",
   "metadata": {},
   "outputs": [
    {
     "data": {
      "text/plain": [
       "NOC\n",
       "AFG     6\n",
       "ALB     9\n",
       "ALG    29\n",
       "AND     6\n",
       "ANG    10\n",
       "Name: Event, dtype: int64"
      ]
     },
     "execution_count": 27,
     "metadata": {},
     "output_type": "execute_result"
    }
   ],
   "source": [
    "broj_timova = oigre2012.groupby('NOC')['Event'].unique().apply(len) # broj jedinstvenih dogadjaja u tabelama sa istim NOC\n",
    "broj_timova.head()"
   ]
  },
  {
   "cell_type": "markdown",
   "id": "bffe1aaf",
   "metadata": {},
   "source": [
    "Сада ћемо и овај податак придружити табели са медаљама:"
   ]
  },
  {
   "cell_type": "code",
   "execution_count": 28,
   "id": "93ee3a33",
   "metadata": {},
   "outputs": [
    {
     "data": {
      "text/html": [
       "<div>\n",
       "<style scoped>\n",
       "    .dataframe tbody tr th:only-of-type {\n",
       "        vertical-align: middle;\n",
       "    }\n",
       "\n",
       "    .dataframe tbody tr th {\n",
       "        vertical-align: top;\n",
       "    }\n",
       "\n",
       "    .dataframe thead th {\n",
       "        text-align: right;\n",
       "    }\n",
       "</style>\n",
       "<table border=\"1\" class=\"dataframe\">\n",
       "  <thead>\n",
       "    <tr style=\"text-align: right;\">\n",
       "      <th></th>\n",
       "      <th>NOC</th>\n",
       "      <th>Gold</th>\n",
       "      <th>Silver</th>\n",
       "      <th>Bronze</th>\n",
       "      <th>Total</th>\n",
       "      <th>Team</th>\n",
       "      <th>Event</th>\n",
       "    </tr>\n",
       "  </thead>\n",
       "  <tbody>\n",
       "    <tr>\n",
       "      <th>0</th>\n",
       "      <td>USA</td>\n",
       "      <td>46</td>\n",
       "      <td>28</td>\n",
       "      <td>29</td>\n",
       "      <td>103</td>\n",
       "      <td>United States</td>\n",
       "      <td>245</td>\n",
       "    </tr>\n",
       "    <tr>\n",
       "      <th>1</th>\n",
       "      <td>CHN</td>\n",
       "      <td>38</td>\n",
       "      <td>27</td>\n",
       "      <td>23</td>\n",
       "      <td>88</td>\n",
       "      <td>China</td>\n",
       "      <td>206</td>\n",
       "    </tr>\n",
       "  </tbody>\n",
       "</table>\n",
       "</div>"
      ],
      "text/plain": [
       "   NOC  Gold  Silver  Bronze  Total           Team  Event\n",
       "0  USA    46      28      29    103  United States    245\n",
       "1  CHN    38      27      23     88          China    206"
      ]
     },
     "execution_count": 28,
     "metadata": {},
     "output_type": "execute_result"
    }
   ],
   "source": [
    "sve_medalje = pd.merge(sve_medalje,broj_timova,on='NOC')\n",
    "sve_medalje.head(2)"
   ]
  },
  {
   "cell_type": "markdown",
   "id": "fefcbe54",
   "metadata": {},
   "source": [
    "Већ у ова прва 2 реда, видимо да су две најуспешније земље (када се гледа укупан број златних, или укупан број медаља) врло добри представници стратегије о којој смо причали - слање пуно тимова из различитих дисциплина (сетимо се, раније смо видели да је укупан број медаља које је могуће освојити, тј. такмичења на овој олимпијади био 303). Да бисмо проверили успешност државе у освајању медаља, можемо увести колону у којој ће сместити израчунат проценат тимова једне земље који се вратио кући са медаљом:"
   ]
  },
  {
   "cell_type": "code",
   "execution_count": 29,
   "id": "b59e9402",
   "metadata": {},
   "outputs": [],
   "source": [
    "sve_medalje = sve_medalje.rename(columns={'Event':'Broj_timova'}) # menjamo ime kolonе\n",
    "sve_medalje['Uspesnost_timova'] = 100*sve_medalje['Total']/sve_medalje['Broj_timova'] # dodajemo kolonu o uspesnosti"
   ]
  },
  {
   "cell_type": "markdown",
   "id": "ad4a0d45",
   "metadata": {},
   "source": [
    "Можемо упоредно представити визуелно податке о укупном броју медаља, укупном броју златних медаља и успешношћу на још један начин:\n",
    "\n",
    "<img src=\"sport_slike/Medalje_2012.png\" width=\"600\"/>"
   ]
  },
  {
   "cell_type": "markdown",
   "id": "457ecb7b",
   "metadata": {},
   "source": [
    "Поредећи леви и средњи график, видимо да опадајући редослед у укупном броју медаља врло често одговара и опадајућем редоследу држава у броју освојених златних медаља. Постоје земље које би да смо табелу сортирали по златним медаљама прекочиле које место изнад, али разлике нису превише драматичне (најлакше те државе можете пронаћи пратећи тачкице на средњем дијаграму и обратите пажњу на државе код којих је доња тачкица десно од горње, или горњих тачкица).\n",
    "Међутим, још много интересантнији је десни низ тачкица на коме видимо државе које су далеко ниже од апсолутних победника у броју медаља или броју златних медаља, али имају далеко већу успешност. Видите на пример Јамајку, Кенију, Етиопију, код којих је скоро сваки други тим (или појединац) који се пласирао на олимпијаду освојио медаљу.\n",
    "\n",
    "Погледајмо за крај која држава има највећу успешност и који су то тимови и спортови који су тој земљи донели медаље:"
   ]
  },
  {
   "cell_type": "code",
   "execution_count": 30,
   "id": "dc117466",
   "metadata": {},
   "outputs": [
    {
     "data": {
      "text/html": [
       "<div>\n",
       "<style scoped>\n",
       "    .dataframe tbody tr th:only-of-type {\n",
       "        vertical-align: middle;\n",
       "    }\n",
       "\n",
       "    .dataframe tbody tr th {\n",
       "        vertical-align: top;\n",
       "    }\n",
       "\n",
       "    .dataframe thead th {\n",
       "        text-align: right;\n",
       "    }\n",
       "</style>\n",
       "<table border=\"1\" class=\"dataframe\">\n",
       "  <thead>\n",
       "    <tr style=\"text-align: right;\">\n",
       "      <th></th>\n",
       "      <th>NOC</th>\n",
       "      <th>Gold</th>\n",
       "      <th>Silver</th>\n",
       "      <th>Bronze</th>\n",
       "      <th>Total</th>\n",
       "      <th>Team</th>\n",
       "      <th>Broj_timova</th>\n",
       "      <th>Uspesnost_timova</th>\n",
       "    </tr>\n",
       "  </thead>\n",
       "  <tbody>\n",
       "    <tr>\n",
       "      <th>30</th>\n",
       "      <td>ETH</td>\n",
       "      <td>3</td>\n",
       "      <td>1</td>\n",
       "      <td>3</td>\n",
       "      <td>7</td>\n",
       "      <td>Ethiopia</td>\n",
       "      <td>14</td>\n",
       "      <td>50.0</td>\n",
       "    </tr>\n",
       "  </tbody>\n",
       "</table>\n",
       "</div>"
      ],
      "text/plain": [
       "    NOC  Gold  Silver  Bronze  Total      Team  Broj_timova  Uspesnost_timova\n",
       "30  ETH     3       1       3      7  Ethiopia           14              50.0"
      ]
     },
     "execution_count": 30,
     "metadata": {},
     "output_type": "execute_result"
    }
   ],
   "source": [
    "maxuspesnost = max(sve_medalje.Uspesnost_timova) # izdvajamo najvecu uspesnost\n",
    "sve_medalje[sve_medalje.Uspesnost_timova==maxuspesnost] # izdvajamo red tabele koji govori o timu koji je imao najvecu stopu uspesnosti"
   ]
  },
  {
   "cell_type": "code",
   "execution_count": 31,
   "id": "2d9f3fa8",
   "metadata": {},
   "outputs": [
    {
     "data": {
      "text/html": [
       "<div>\n",
       "<style scoped>\n",
       "    .dataframe tbody tr th:only-of-type {\n",
       "        vertical-align: middle;\n",
       "    }\n",
       "\n",
       "    .dataframe tbody tr th {\n",
       "        vertical-align: top;\n",
       "    }\n",
       "\n",
       "    .dataframe thead th {\n",
       "        text-align: right;\n",
       "    }\n",
       "</style>\n",
       "<table border=\"1\" class=\"dataframe\">\n",
       "  <thead>\n",
       "    <tr style=\"text-align: right;\">\n",
       "      <th></th>\n",
       "      <th>ID</th>\n",
       "      <th>Name</th>\n",
       "      <th>Sex</th>\n",
       "      <th>Age</th>\n",
       "      <th>Height</th>\n",
       "      <th>Weight</th>\n",
       "      <th>Team</th>\n",
       "      <th>NOC</th>\n",
       "      <th>Year</th>\n",
       "      <th>City</th>\n",
       "      <th>Sport</th>\n",
       "      <th>Event</th>\n",
       "      <th>Medal</th>\n",
       "    </tr>\n",
       "  </thead>\n",
       "  <tbody>\n",
       "    <tr>\n",
       "      <th>8216</th>\n",
       "      <td>5687</td>\n",
       "      <td>Sofia Assefa Abebe</td>\n",
       "      <td>F</td>\n",
       "      <td>24.0</td>\n",
       "      <td>167.0</td>\n",
       "      <td>52.0</td>\n",
       "      <td>Ethiopia</td>\n",
       "      <td>ETH</td>\n",
       "      <td>2012</td>\n",
       "      <td>London</td>\n",
       "      <td>Athletics</td>\n",
       "      <td>Athletics Women's 3,000 metres Steeplechase</td>\n",
       "      <td>Bronze</td>\n",
       "    </tr>\n",
       "    <tr>\n",
       "      <th>14034</th>\n",
       "      <td>9490</td>\n",
       "      <td>Tariku Bekele Beyecha</td>\n",
       "      <td>M</td>\n",
       "      <td>25.0</td>\n",
       "      <td>173.0</td>\n",
       "      <td>65.0</td>\n",
       "      <td>Ethiopia</td>\n",
       "      <td>ETH</td>\n",
       "      <td>2012</td>\n",
       "      <td>London</td>\n",
       "      <td>Athletics</td>\n",
       "      <td>Athletics Men's 10,000 metres</td>\n",
       "      <td>Bronze</td>\n",
       "    </tr>\n",
       "    <tr>\n",
       "      <th>41381</th>\n",
       "      <td>26980</td>\n",
       "      <td>Meseret Defar Tola</td>\n",
       "      <td>F</td>\n",
       "      <td>28.0</td>\n",
       "      <td>159.0</td>\n",
       "      <td>42.0</td>\n",
       "      <td>Ethiopia</td>\n",
       "      <td>ETH</td>\n",
       "      <td>2012</td>\n",
       "      <td>London</td>\n",
       "      <td>Athletics</td>\n",
       "      <td>Athletics Women's 5,000 metres</td>\n",
       "      <td>Gold</td>\n",
       "    </tr>\n",
       "    <tr>\n",
       "      <th>43483</th>\n",
       "      <td>28313</td>\n",
       "      <td>Tirunesh Dibaba Keneni</td>\n",
       "      <td>F</td>\n",
       "      <td>27.0</td>\n",
       "      <td>166.0</td>\n",
       "      <td>50.0</td>\n",
       "      <td>Ethiopia</td>\n",
       "      <td>ETH</td>\n",
       "      <td>2012</td>\n",
       "      <td>London</td>\n",
       "      <td>Athletics</td>\n",
       "      <td>Athletics Women's 5,000 metres</td>\n",
       "      <td>Bronze</td>\n",
       "    </tr>\n",
       "    <tr>\n",
       "      <th>43484</th>\n",
       "      <td>28313</td>\n",
       "      <td>Tirunesh Dibaba Keneni</td>\n",
       "      <td>F</td>\n",
       "      <td>27.0</td>\n",
       "      <td>166.0</td>\n",
       "      <td>50.0</td>\n",
       "      <td>Ethiopia</td>\n",
       "      <td>ETH</td>\n",
       "      <td>2012</td>\n",
       "      <td>London</td>\n",
       "      <td>Athletics</td>\n",
       "      <td>Athletics Women's 10,000 metres</td>\n",
       "      <td>Gold</td>\n",
       "    </tr>\n",
       "    <tr>\n",
       "      <th>60517</th>\n",
       "      <td>39288</td>\n",
       "      <td>Dejen Gebremeskel</td>\n",
       "      <td>M</td>\n",
       "      <td>22.0</td>\n",
       "      <td>180.0</td>\n",
       "      <td>58.0</td>\n",
       "      <td>Ethiopia</td>\n",
       "      <td>ETH</td>\n",
       "      <td>2012</td>\n",
       "      <td>London</td>\n",
       "      <td>Athletics</td>\n",
       "      <td>Athletics Men's 5,000 metres</td>\n",
       "      <td>Silver</td>\n",
       "    </tr>\n",
       "    <tr>\n",
       "      <th>60647</th>\n",
       "      <td>39396</td>\n",
       "      <td>Erba Tiki Gelana</td>\n",
       "      <td>F</td>\n",
       "      <td>24.0</td>\n",
       "      <td>165.0</td>\n",
       "      <td>48.0</td>\n",
       "      <td>Ethiopia</td>\n",
       "      <td>ETH</td>\n",
       "      <td>2012</td>\n",
       "      <td>London</td>\n",
       "      <td>Athletics</td>\n",
       "      <td>Athletics Women's Marathon</td>\n",
       "      <td>Gold</td>\n",
       "    </tr>\n",
       "  </tbody>\n",
       "</table>\n",
       "</div>"
      ],
      "text/plain": [
       "          ID                    Name Sex   Age  Height  Weight      Team  NOC  \\\n",
       "8216    5687      Sofia Assefa Abebe   F  24.0   167.0    52.0  Ethiopia  ETH   \n",
       "14034   9490   Tariku Bekele Beyecha   M  25.0   173.0    65.0  Ethiopia  ETH   \n",
       "41381  26980      Meseret Defar Tola   F  28.0   159.0    42.0  Ethiopia  ETH   \n",
       "43483  28313  Tirunesh Dibaba Keneni   F  27.0   166.0    50.0  Ethiopia  ETH   \n",
       "43484  28313  Tirunesh Dibaba Keneni   F  27.0   166.0    50.0  Ethiopia  ETH   \n",
       "60517  39288       Dejen Gebremeskel   M  22.0   180.0    58.0  Ethiopia  ETH   \n",
       "60647  39396        Erba Tiki Gelana   F  24.0   165.0    48.0  Ethiopia  ETH   \n",
       "\n",
       "       Year    City      Sport                                        Event  \\\n",
       "8216   2012  London  Athletics  Athletics Women's 3,000 metres Steeplechase   \n",
       "14034  2012  London  Athletics                Athletics Men's 10,000 metres   \n",
       "41381  2012  London  Athletics               Athletics Women's 5,000 metres   \n",
       "43483  2012  London  Athletics               Athletics Women's 5,000 metres   \n",
       "43484  2012  London  Athletics              Athletics Women's 10,000 metres   \n",
       "60517  2012  London  Athletics                 Athletics Men's 5,000 metres   \n",
       "60647  2012  London  Athletics                   Athletics Women's Marathon   \n",
       "\n",
       "        Medal  \n",
       "8216   Bronze  \n",
       "14034  Bronze  \n",
       "41381    Gold  \n",
       "43483  Bronze  \n",
       "43484    Gold  \n",
       "60517  Silver  \n",
       "60647    Gold  "
      ]
     },
     "execution_count": 31,
     "metadata": {},
     "output_type": "execute_result"
    }
   ],
   "source": [
    "oigre2012[(oigre2012.NOC=='ETH')&(oigre2012.Medal.isin(['Gold','Silver','Bronze']))] # izdvajamo dobitnije medalja iz Etiopije"
   ]
  },
  {
   "cell_type": "markdown",
   "id": "d71eb3f2",
   "metadata": {},
   "source": [
    "Видимо да је свих 7 медаља Етиопије у атлетским дисциплинама, од којих је за две заслужна иста особа **Tirunesh Dibaba Keneni**, импресивно!"
   ]
  },
  {
   "cell_type": "markdown",
   "id": "16f95116",
   "metadata": {},
   "source": [
    "На крају ове лекције, сачуваћемо податке које смо прикупили анализом у овој лекцији за даљу употребу:"
   ]
  },
  {
   "cell_type": "code",
   "execution_count": 32,
   "id": "0290b55d",
   "metadata": {},
   "outputs": [],
   "source": [
    "sve_medalje.to_csv('sport_podaci/oi2012_medalje_po_zemljama.csv',index=False)"
   ]
  },
  {
   "cell_type": "markdown",
   "id": "b819cf27",
   "metadata": {},
   "source": [
    "**Задатак**: Репродукујете последњи график користећи код доступан на [овој адреси](https://seaborn.pydata.org/examples/pairgrid_dotplot.html)."
   ]
  },
  {
   "cell_type": "code",
   "execution_count": 33,
   "id": "d317ab4a",
   "metadata": {
    "scrolled": false
   },
   "outputs": [],
   "source": [
    "# resenje\n",
    "# jos malo cu ga uprostiti i izkomentarisati, sad je prilicno bazirano na linku sa minormim izmenama za nase podatke\n",
    "\n",
    "# # Make the PairGrid\n",
    "# g = sns.PairGrid(sve_medalje.sort_values(by='Total',ascending=False),\n",
    "#                  x_vars=['Total','Gold','Uspesnost_timova'], y_vars=[\"Team\"],\n",
    "#                  height=12, aspect=.2)\n",
    "\n",
    "# # Draw a dot plot using the stripplot function\n",
    "# g.map(sns.stripplot, size=10, orient=\"h\", jitter=False,\n",
    "#        palette=\"flare_r\",linewidth=1, edgecolor=\"w\")\n",
    "\n",
    "# # # Use the same x axis limits on all columns and add better labels\n",
    "# # g.set(xlabel=\"Medalje\", ylabel=\"\")\n",
    "\n",
    "# # Use semantically meaningful titles for the columns\n",
    "# titles = [\"Ukupan broj medalja\",\"Zlatne medalje\", \"Uspešnost\"]\n",
    "\n",
    "# xlabels = ['Broj medalja','Broj medalja','% timova sa medaljama']\n",
    "\n",
    "# for ax, title,xlab in zip(g.axes.flat, titles,xlabels):\n",
    "\n",
    "#     # Set a different title for each axes\n",
    "#     ax.set(title=title)\n",
    "    \n",
    "#     ax.set_xlabel(xlab)\n",
    "\n",
    "#     # Make the grid horizontal instead of vertical\n",
    "#     ax.xaxis.grid(False)\n",
    "#     ax.yaxis.grid(True)\n",
    "\n",
    "# sns.despine(left=True, bottom=True)\n",
    "# plt.savefig('sport_slike/Medalje_2012.png',dpi=300,bbox_inches='tight')"
   ]
  }
 ],
 "metadata": {
  "kernelspec": {
   "display_name": "petljaGEO",
   "language": "python",
   "name": "petljageo"
  },
  "language_info": {
   "codemirror_mode": {
    "name": "ipython",
    "version": 3
   },
   "file_extension": ".py",
   "mimetype": "text/x-python",
   "name": "python",
   "nbconvert_exporter": "python",
   "pygments_lexer": "ipython3",
   "version": "3.9.7"
  }
 },
 "nbformat": 4,
 "nbformat_minor": 5
}
