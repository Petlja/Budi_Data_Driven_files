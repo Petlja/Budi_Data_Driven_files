{
 "cells": [
  {
   "cell_type": "markdown",
   "id": "f28f74bf",
   "metadata": {},
   "source": [
    "## 2. Раст популарности и конкуренције на Олимпијским играма"
   ]
  },
  {
   "cell_type": "markdown",
   "id": "a9641bf8",
   "metadata": {},
   "source": [
    "Пре него што се упустимо у специфичнија питања која се тичу медаља, спортисткиња и спортиста, проверићемо како су се Олимпијске игре мењале кроз време. На основу података које имамо, можемо истражити како се мењао број земаља учесница игара, а затим и како се мењао број такмичарки и такмичара, број спортова и спортских дисциплина, број додељених медаља и слично."
   ]
  },
  {
   "cell_type": "markdown",
   "id": "172cec09",
   "metadata": {},
   "source": [
    "Да ли имате неке претпоставке о овим бројевима? Да ли мислите да је број земаља опадао, растао, остао исти? А спортови? Да ли мислите да се списак спортова мењао током олимпијске историје? Слично, да ли очекујете да се број такмичарки и такмичара мењао?\n",
    "*Размислите пар тренутака о овим питањима и одговорима који вам можда падају на памет на основу праћења медијских натписа или претходног интересовања за олимпијске игре.*"
   ]
  },
  {
   "cell_type": "code",
   "execution_count": 1,
   "id": "efaf4d23",
   "metadata": {},
   "outputs": [],
   "source": [
    "import pandas as pd # biblioteka za učitavanje i manipulaciju tabelarnih podataka\n",
    "import matplotlib.pyplot as plt # biblioteka za vizuelizaciju podataka"
   ]
  },
  {
   "cell_type": "markdown",
   "id": "7c5edb5d",
   "metadata": {},
   "source": [
    "<details>    \n",
    "<summary>\n",
    "    <font color=\"darkgreen\"><b>На основу описа података у претходном поглављу, коју од табела очекујете да учитамо?</b></font>\n",
    "</summary>\n",
    "Учитаћемо табелу о историји летњих олимпијских игара која садржи податке о учесницима на олимпијадама почев од 1896 године."
   ]
  },
  {
   "cell_type": "markdown",
   "id": "f2e16ee9",
   "metadata": {},
   "source": [
    "Ову анализу ћемо спровести на летњим олимпијским играма (зимске игре можете анализирати на исти начин, чак користећи исту радну свеску са изменом овог дела кода при учитавању података), класичним учитавањем `.csv` фајла уз помоћ [pd.read_csv](https://pandas.pydata.org/pandas-docs/stable/reference/api/pandas.read_csv.html) функције:"
   ]
  },
  {
   "cell_type": "code",
   "execution_count": 2,
   "id": "16e671c2",
   "metadata": {},
   "outputs": [
    {
     "data": {
      "text/html": [
       "<div>\n",
       "<style scoped>\n",
       "    .dataframe tbody tr th:only-of-type {\n",
       "        vertical-align: middle;\n",
       "    }\n",
       "\n",
       "    .dataframe tbody tr th {\n",
       "        vertical-align: top;\n",
       "    }\n",
       "\n",
       "    .dataframe thead th {\n",
       "        text-align: right;\n",
       "    }\n",
       "</style>\n",
       "<table border=\"1\" class=\"dataframe\">\n",
       "  <thead>\n",
       "    <tr style=\"text-align: right;\">\n",
       "      <th></th>\n",
       "      <th>ID</th>\n",
       "      <th>Name</th>\n",
       "      <th>Sex</th>\n",
       "      <th>Age</th>\n",
       "      <th>Height</th>\n",
       "      <th>Weight</th>\n",
       "      <th>Team</th>\n",
       "      <th>NOC</th>\n",
       "      <th>Games</th>\n",
       "      <th>Year</th>\n",
       "      <th>Season</th>\n",
       "      <th>City</th>\n",
       "      <th>Sport</th>\n",
       "      <th>Event</th>\n",
       "      <th>Medal</th>\n",
       "    </tr>\n",
       "  </thead>\n",
       "  <tbody>\n",
       "    <tr>\n",
       "      <th>0</th>\n",
       "      <td>1</td>\n",
       "      <td>A Dijiang</td>\n",
       "      <td>M</td>\n",
       "      <td>24.0</td>\n",
       "      <td>180.0</td>\n",
       "      <td>80.0</td>\n",
       "      <td>China</td>\n",
       "      <td>CHN</td>\n",
       "      <td>1992 Summer</td>\n",
       "      <td>1992</td>\n",
       "      <td>Summer</td>\n",
       "      <td>Barcelona</td>\n",
       "      <td>Basketball</td>\n",
       "      <td>Basketball Men's Basketball</td>\n",
       "      <td>NaN</td>\n",
       "    </tr>\n",
       "    <tr>\n",
       "      <th>1</th>\n",
       "      <td>2</td>\n",
       "      <td>A Lamusi</td>\n",
       "      <td>M</td>\n",
       "      <td>23.0</td>\n",
       "      <td>170.0</td>\n",
       "      <td>60.0</td>\n",
       "      <td>China</td>\n",
       "      <td>CHN</td>\n",
       "      <td>2012 Summer</td>\n",
       "      <td>2012</td>\n",
       "      <td>Summer</td>\n",
       "      <td>London</td>\n",
       "      <td>Judo</td>\n",
       "      <td>Judo Men's Extra-Lightweight</td>\n",
       "      <td>NaN</td>\n",
       "    </tr>\n",
       "  </tbody>\n",
       "</table>\n",
       "</div>"
      ],
      "text/plain": [
       "   ID       Name Sex   Age  Height  Weight   Team  NOC        Games  Year  \\\n",
       "0   1  A Dijiang   M  24.0   180.0    80.0  China  CHN  1992 Summer  1992   \n",
       "1   2   A Lamusi   M  23.0   170.0    60.0  China  CHN  2012 Summer  2012   \n",
       "\n",
       "   Season       City       Sport                         Event Medal  \n",
       "0  Summer  Barcelona  Basketball   Basketball Men's Basketball   NaN  \n",
       "1  Summer     London        Judo  Judo Men's Extra-Lightweight   NaN  "
      ]
     },
     "execution_count": 2,
     "metadata": {},
     "output_type": "execute_result"
    }
   ],
   "source": [
    "letnje_igre = pd.read_csv('sport_podaci/letnje_olimpijske_igre_do_2014.csv') #učitavanje podataka iz lokalnog foldera\n",
    "letnje_igre.head(2) #pregled prva dva reda"
   ]
  },
  {
   "cell_type": "markdown",
   "id": "11ad842e",
   "metadata": {},
   "source": [
    "Табела садржи уносе са појединачним такмичарима, учесницима игара, а нека од наших питања тичу се неких групних податаке, на пример колико је било укупно спортиста или држава у одређеној години, видећемо како то да решимо. За почетак погледајмо једну годину, нпр. 1988. Из тебеле можемо издвојити само део података који се тиче тих игара. То радимо коришћењем услова (нпр. `letnje_igre.Year==1988`) у угластим заградама табеле, хајде да видимо прво шта је резултат овог услова:"
   ]
  },
  {
   "cell_type": "code",
   "execution_count": 3,
   "id": "3c3f016b",
   "metadata": {
    "scrolled": true
   },
   "outputs": [
    {
     "data": {
      "text/plain": [
       "0         False\n",
       "1         False\n",
       "2         False\n",
       "3         False\n",
       "4         False\n",
       "          ...  \n",
       "208859    False\n",
       "208860    False\n",
       "208861    False\n",
       "208862    False\n",
       "208863    False\n",
       "Name: Year, Length: 208864, dtype: bool"
      ]
     },
     "execution_count": 3,
     "metadata": {},
     "output_type": "execute_result"
    }
   ],
   "source": [
    "letnje_igre.Year==1988"
   ]
  },
  {
   "cell_type": "markdown",
   "id": "547c912a",
   "metadata": {},
   "source": [
    "Као што смо можда претпоставили, резултат ове команде је низ вредности тачно/нетачно зависно од тога да ли се у том реду табеле у колони године `Year` налази вредност 1988 (када је резултат `True`) или нека друга (када је резултат извршене операције `False`). Када се овај услов нађе у угластим заградама које прате име табеле (нпр. `letnje_igre[letnje_igre.Year==1988]`) резултат је исечак из табеле, тј. они редови из табеле за које је услов тачан:"
   ]
  },
  {
   "cell_type": "code",
   "execution_count": 4,
   "id": "930723a1",
   "metadata": {
    "scrolled": true
   },
   "outputs": [
    {
     "data": {
      "text/html": [
       "<div>\n",
       "<style scoped>\n",
       "    .dataframe tbody tr th:only-of-type {\n",
       "        vertical-align: middle;\n",
       "    }\n",
       "\n",
       "    .dataframe tbody tr th {\n",
       "        vertical-align: top;\n",
       "    }\n",
       "\n",
       "    .dataframe thead th {\n",
       "        text-align: right;\n",
       "    }\n",
       "</style>\n",
       "<table border=\"1\" class=\"dataframe\">\n",
       "  <thead>\n",
       "    <tr style=\"text-align: right;\">\n",
       "      <th></th>\n",
       "      <th>ID</th>\n",
       "      <th>Name</th>\n",
       "      <th>Sex</th>\n",
       "      <th>Age</th>\n",
       "      <th>Height</th>\n",
       "      <th>Weight</th>\n",
       "      <th>Team</th>\n",
       "      <th>NOC</th>\n",
       "      <th>Games</th>\n",
       "      <th>Year</th>\n",
       "      <th>Season</th>\n",
       "      <th>City</th>\n",
       "      <th>Sport</th>\n",
       "      <th>Event</th>\n",
       "      <th>Medal</th>\n",
       "    </tr>\n",
       "  </thead>\n",
       "  <tbody>\n",
       "    <tr>\n",
       "      <th>40</th>\n",
       "      <td>29</td>\n",
       "      <td>Willemien Aardenburg</td>\n",
       "      <td>F</td>\n",
       "      <td>22.0</td>\n",
       "      <td>NaN</td>\n",
       "      <td>NaN</td>\n",
       "      <td>Netherlands</td>\n",
       "      <td>NED</td>\n",
       "      <td>1988 Summer</td>\n",
       "      <td>1988</td>\n",
       "      <td>Summer</td>\n",
       "      <td>Seoul</td>\n",
       "      <td>Hockey</td>\n",
       "      <td>Hockey Women's Hockey</td>\n",
       "      <td>Bronze</td>\n",
       "    </tr>\n",
       "    <tr>\n",
       "      <th>81</th>\n",
       "      <td>57</td>\n",
       "      <td>Borislav Abadzhiev</td>\n",
       "      <td>M</td>\n",
       "      <td>24.0</td>\n",
       "      <td>176.0</td>\n",
       "      <td>66.0</td>\n",
       "      <td>Bulgaria</td>\n",
       "      <td>BUL</td>\n",
       "      <td>1988 Summer</td>\n",
       "      <td>1988</td>\n",
       "      <td>Summer</td>\n",
       "      <td>Seoul</td>\n",
       "      <td>Boxing</td>\n",
       "      <td>Boxing Men's Light-Welterweight</td>\n",
       "      <td>NaN</td>\n",
       "    </tr>\n",
       "    <tr>\n",
       "      <th>144</th>\n",
       "      <td>106</td>\n",
       "      <td>Agostino Abbagnale</td>\n",
       "      <td>M</td>\n",
       "      <td>22.0</td>\n",
       "      <td>188.0</td>\n",
       "      <td>96.0</td>\n",
       "      <td>Italy</td>\n",
       "      <td>ITA</td>\n",
       "      <td>1988 Summer</td>\n",
       "      <td>1988</td>\n",
       "      <td>Summer</td>\n",
       "      <td>Seoul</td>\n",
       "      <td>Rowing</td>\n",
       "      <td>Rowing Men's Quadruple Sculls</td>\n",
       "      <td>Gold</td>\n",
       "    </tr>\n",
       "    <tr>\n",
       "      <th>148</th>\n",
       "      <td>107</td>\n",
       "      <td>Carmine Abbagnale</td>\n",
       "      <td>M</td>\n",
       "      <td>26.0</td>\n",
       "      <td>182.0</td>\n",
       "      <td>90.0</td>\n",
       "      <td>Italy</td>\n",
       "      <td>ITA</td>\n",
       "      <td>1988 Summer</td>\n",
       "      <td>1988</td>\n",
       "      <td>Summer</td>\n",
       "      <td>Seoul</td>\n",
       "      <td>Rowing</td>\n",
       "      <td>Rowing Men's Coxed Pairs</td>\n",
       "      <td>Gold</td>\n",
       "    </tr>\n",
       "    <tr>\n",
       "      <th>153</th>\n",
       "      <td>108</td>\n",
       "      <td>Giuseppe Abbagnale</td>\n",
       "      <td>M</td>\n",
       "      <td>29.0</td>\n",
       "      <td>187.0</td>\n",
       "      <td>97.0</td>\n",
       "      <td>Italy</td>\n",
       "      <td>ITA</td>\n",
       "      <td>1988 Summer</td>\n",
       "      <td>1988</td>\n",
       "      <td>Summer</td>\n",
       "      <td>Seoul</td>\n",
       "      <td>Rowing</td>\n",
       "      <td>Rowing Men's Coxed Pairs</td>\n",
       "      <td>Gold</td>\n",
       "    </tr>\n",
       "    <tr>\n",
       "      <th>...</th>\n",
       "      <td>...</td>\n",
       "      <td>...</td>\n",
       "      <td>...</td>\n",
       "      <td>...</td>\n",
       "      <td>...</td>\n",
       "      <td>...</td>\n",
       "      <td>...</td>\n",
       "      <td>...</td>\n",
       "      <td>...</td>\n",
       "      <td>...</td>\n",
       "      <td>...</td>\n",
       "      <td>...</td>\n",
       "      <td>...</td>\n",
       "      <td>...</td>\n",
       "      <td>...</td>\n",
       "    </tr>\n",
       "    <tr>\n",
       "      <th>208808</th>\n",
       "      <td>135523</td>\n",
       "      <td>Ronald Ferdinand \"Ron\" Zwerver</td>\n",
       "      <td>M</td>\n",
       "      <td>21.0</td>\n",
       "      <td>200.0</td>\n",
       "      <td>93.0</td>\n",
       "      <td>Netherlands</td>\n",
       "      <td>NED</td>\n",
       "      <td>1988 Summer</td>\n",
       "      <td>1988</td>\n",
       "      <td>Summer</td>\n",
       "      <td>Seoul</td>\n",
       "      <td>Volleyball</td>\n",
       "      <td>Volleyball Men's Volleyball</td>\n",
       "      <td>NaN</td>\n",
       "    </tr>\n",
       "    <tr>\n",
       "      <th>208833</th>\n",
       "      <td>135545</td>\n",
       "      <td>Henk Jan Zwolle</td>\n",
       "      <td>M</td>\n",
       "      <td>23.0</td>\n",
       "      <td>197.0</td>\n",
       "      <td>93.0</td>\n",
       "      <td>Netherlands</td>\n",
       "      <td>NED</td>\n",
       "      <td>1988 Summer</td>\n",
       "      <td>1988</td>\n",
       "      <td>Summer</td>\n",
       "      <td>Seoul</td>\n",
       "      <td>Rowing</td>\n",
       "      <td>Rowing Men's Single Sculls</td>\n",
       "      <td>NaN</td>\n",
       "    </tr>\n",
       "    <tr>\n",
       "      <th>208846</th>\n",
       "      <td>135554</td>\n",
       "      <td>Bogusaw Zych</td>\n",
       "      <td>M</td>\n",
       "      <td>36.0</td>\n",
       "      <td>182.0</td>\n",
       "      <td>82.0</td>\n",
       "      <td>Poland</td>\n",
       "      <td>POL</td>\n",
       "      <td>1988 Summer</td>\n",
       "      <td>1988</td>\n",
       "      <td>Summer</td>\n",
       "      <td>Seoul</td>\n",
       "      <td>Fencing</td>\n",
       "      <td>Fencing Men's Foil, Individual</td>\n",
       "      <td>NaN</td>\n",
       "    </tr>\n",
       "    <tr>\n",
       "      <th>208847</th>\n",
       "      <td>135554</td>\n",
       "      <td>Bogusaw Zych</td>\n",
       "      <td>M</td>\n",
       "      <td>36.0</td>\n",
       "      <td>182.0</td>\n",
       "      <td>82.0</td>\n",
       "      <td>Poland</td>\n",
       "      <td>POL</td>\n",
       "      <td>1988 Summer</td>\n",
       "      <td>1988</td>\n",
       "      <td>Summer</td>\n",
       "      <td>Seoul</td>\n",
       "      <td>Fencing</td>\n",
       "      <td>Fencing Men's Foil, Team</td>\n",
       "      <td>NaN</td>\n",
       "    </tr>\n",
       "    <tr>\n",
       "      <th>208848</th>\n",
       "      <td>135554</td>\n",
       "      <td>Bogusaw Zych</td>\n",
       "      <td>M</td>\n",
       "      <td>36.0</td>\n",
       "      <td>182.0</td>\n",
       "      <td>82.0</td>\n",
       "      <td>Poland</td>\n",
       "      <td>POL</td>\n",
       "      <td>1988 Summer</td>\n",
       "      <td>1988</td>\n",
       "      <td>Summer</td>\n",
       "      <td>Seoul</td>\n",
       "      <td>Fencing</td>\n",
       "      <td>Fencing Men's epee, Team</td>\n",
       "      <td>NaN</td>\n",
       "    </tr>\n",
       "  </tbody>\n",
       "</table>\n",
       "<p>12037 rows × 15 columns</p>\n",
       "</div>"
      ],
      "text/plain": [
       "            ID                            Name Sex   Age  Height  Weight  \\\n",
       "40          29            Willemien Aardenburg   F  22.0     NaN     NaN   \n",
       "81          57              Borislav Abadzhiev   M  24.0   176.0    66.0   \n",
       "144        106              Agostino Abbagnale   M  22.0   188.0    96.0   \n",
       "148        107               Carmine Abbagnale   M  26.0   182.0    90.0   \n",
       "153        108              Giuseppe Abbagnale   M  29.0   187.0    97.0   \n",
       "...        ...                             ...  ..   ...     ...     ...   \n",
       "208808  135523  Ronald Ferdinand \"Ron\" Zwerver   M  21.0   200.0    93.0   \n",
       "208833  135545                 Henk Jan Zwolle   M  23.0   197.0    93.0   \n",
       "208846  135554                    Bogusaw Zych   M  36.0   182.0    82.0   \n",
       "208847  135554                    Bogusaw Zych   M  36.0   182.0    82.0   \n",
       "208848  135554                    Bogusaw Zych   M  36.0   182.0    82.0   \n",
       "\n",
       "               Team  NOC        Games  Year  Season   City       Sport  \\\n",
       "40      Netherlands  NED  1988 Summer  1988  Summer  Seoul      Hockey   \n",
       "81         Bulgaria  BUL  1988 Summer  1988  Summer  Seoul      Boxing   \n",
       "144           Italy  ITA  1988 Summer  1988  Summer  Seoul      Rowing   \n",
       "148           Italy  ITA  1988 Summer  1988  Summer  Seoul      Rowing   \n",
       "153           Italy  ITA  1988 Summer  1988  Summer  Seoul      Rowing   \n",
       "...             ...  ...          ...   ...     ...    ...         ...   \n",
       "208808  Netherlands  NED  1988 Summer  1988  Summer  Seoul  Volleyball   \n",
       "208833  Netherlands  NED  1988 Summer  1988  Summer  Seoul      Rowing   \n",
       "208846       Poland  POL  1988 Summer  1988  Summer  Seoul     Fencing   \n",
       "208847       Poland  POL  1988 Summer  1988  Summer  Seoul     Fencing   \n",
       "208848       Poland  POL  1988 Summer  1988  Summer  Seoul     Fencing   \n",
       "\n",
       "                                  Event   Medal  \n",
       "40                Hockey Women's Hockey  Bronze  \n",
       "81      Boxing Men's Light-Welterweight     NaN  \n",
       "144       Rowing Men's Quadruple Sculls    Gold  \n",
       "148            Rowing Men's Coxed Pairs    Gold  \n",
       "153            Rowing Men's Coxed Pairs    Gold  \n",
       "...                                 ...     ...  \n",
       "208808      Volleyball Men's Volleyball     NaN  \n",
       "208833       Rowing Men's Single Sculls     NaN  \n",
       "208846   Fencing Men's Foil, Individual     NaN  \n",
       "208847         Fencing Men's Foil, Team     NaN  \n",
       "208848         Fencing Men's epee, Team     NaN  \n",
       "\n",
       "[12037 rows x 15 columns]"
      ]
     },
     "execution_count": 4,
     "metadata": {},
     "output_type": "execute_result"
    }
   ],
   "source": [
    "# letnje_igre[letnje_igre.Year==1988] # cela tabela za koju je uslov tacan, probajte i ovo\n",
    "letnje_igre[letnje_igre.Year==1988].head(5) # prvih pet redova izdvojene tabele da ne bismo zatrpali svesku ogromnom tabelom"
   ]
  },
  {
   "cell_type": "markdown",
   "id": "616891bd",
   "metadata": {},
   "source": [
    "Када је табела коју сте издвојили условом велика као ова, добијете само део приказа а ако скролујете до дна можете видети број редова.\n",
    "\n",
    "Када издвајате делове табеле, типично користите синтаксу попут ове наведене изнад `ime_tabele[uslov]` где услов може бити једноставан као у претходном примеру (тачан садржај неке колоне), а може бити и низ услова за различите колоне. На исти начин може се издвојити и једна колона, тада у угластим заградама уместо услова користимо име колоне (нпр. `letnje_igre['Sport']`). Међутим у претходном примеру, колони смо приступали без угластих заграда тј. користећи `letnje_igre.Year`, што је мало краћи начин који је доступан када год у имену колоне нема неких недозвољених карактера (нпр. размак или други карактери које не бисте могли ставити ни у [име пајтон променљиве](https://petlja.org/biblioteka/r/lekcije/TxtProgInPythonSrLat/02_console-02_console_02_programs)).\n",
    "\n",
    "Издвојене податке можемо сачувати у нову променљиву ако планирамо да истражимо још нешто за исту годину, на пример да видимо колико има вредности у свакој од колона користећи функцију [info](https://pandas.pydata.org/docs/reference/api/pandas.DataFrame.info.html):"
   ]
  },
  {
   "cell_type": "code",
   "execution_count": 5,
   "id": "72e3eeb3",
   "metadata": {},
   "outputs": [
    {
     "name": "stdout",
     "output_type": "stream",
     "text": [
      "<class 'pandas.core.frame.DataFrame'>\n",
      "Int64Index: 12037 entries, 40 to 208848\n",
      "Data columns (total 15 columns):\n",
      " #   Column  Non-Null Count  Dtype  \n",
      "---  ------  --------------  -----  \n",
      " 0   ID      12037 non-null  int64  \n",
      " 1   Name    12037 non-null  object \n",
      " 2   Sex     12037 non-null  object \n",
      " 3   Age     11931 non-null  float64\n",
      " 4   Height  11719 non-null  float64\n",
      " 5   Weight  11730 non-null  float64\n",
      " 6   Team    12037 non-null  object \n",
      " 7   NOC     12037 non-null  object \n",
      " 8   Games   12037 non-null  object \n",
      " 9   Year    12037 non-null  int64  \n",
      " 10  Season  12037 non-null  object \n",
      " 11  City    12037 non-null  object \n",
      " 12  Sport   12037 non-null  object \n",
      " 13  Event   12037 non-null  object \n",
      " 14  Medal   1582 non-null   object \n",
      "dtypes: float64(3), int64(2), object(10)\n",
      "memory usage: 1.5+ MB\n"
     ]
    }
   ],
   "source": [
    "letnje_igre1988 = letnje_igre[letnje_igre.Year==1988] # izdvajamo samo one redove kojima je vrednost u koloni godina (Year) jednaka 2016\n",
    "letnje_igre1988.info(5) # prikaz informacija o sadržaju kolona nove tabele"
   ]
  },
  {
   "cell_type": "markdown",
   "id": "206ac77e",
   "metadata": {},
   "source": [
    "Да бисмо сазнали колико тимова се такмичило, из ове табеле можемо издвојити различитe државe учеснице користећи функцију [unique()](https://pandas.pydata.org/docs/reference/api/pandas.unique.html) на колони `NOC`, тј. издвајамо јединствене вредности (енг. unique) националних организационионих комитета (енг. National Olympic Committee) који су послали своје представнике на олимпијске игре:"
   ]
  },
  {
   "cell_type": "code",
   "execution_count": 6,
   "id": "d8a6461b",
   "metadata": {},
   "outputs": [
    {
     "data": {
      "text/plain": [
       "array(['NED', 'BUL', 'ITA', 'LIB', 'EGY', 'ALG', 'DJI', 'MDV', 'YAR',\n",
       "       'UAE', 'NGR', 'KUW', 'URS', 'JPN', 'ESP', 'SWE', 'GDR', 'TUN',\n",
       "       'IRQ', 'NIG', 'LBA', 'HUN', 'IND', 'GUY', 'POR', 'FRA', 'USA',\n",
       "       'FRG', 'KEN', 'JOR', 'URU', 'MAR', 'CMR', 'UGA', 'BRA', 'MEX',\n",
       "       'MTN', 'TCH', 'VIN', 'GBR', 'PUR', 'AUS', 'JAM', 'PHI', 'SOM',\n",
       "       'GHA', 'INA', 'SUI', 'IRI', 'PAK', 'HAI', 'MLT', 'ARG', 'TOG',\n",
       "       'CRC', 'CHI', 'YMD', 'FIN', 'TUR', 'TAN', 'KSA', 'SYR', 'OMA',\n",
       "       'BRN', 'QAT', 'BAN', 'BEN', 'COL', 'CAN', 'DOM', 'GRE', 'BER',\n",
       "       'SAM', 'NOR', 'PER', 'MAS', 'CAF', 'YUG', 'ISR', 'COD', 'KOR',\n",
       "       'GUM', 'NZL', 'ROU', 'SGP', 'HON', 'SUD', 'AUT', 'BEL', 'GUA',\n",
       "       'ISL', 'MOZ', 'LUX', 'IVB', 'FIJ', 'SUR', 'BAR', 'SEN', 'HKG',\n",
       "       'PNG', 'ESA', 'MGL', 'CYP', 'CIV', 'MAW', 'GUI', 'CAY', 'ISV',\n",
       "       'ZIM', 'POL', 'DEN', 'ANG', 'NEP', 'LIE', 'MON', 'SOL', 'BOL',\n",
       "       'BIZ', 'CGO', 'SMR', 'LBR', 'AHO', 'PAR', 'VEN', 'SRI', 'GEQ',\n",
       "       'GAB', 'ANT', 'IRL', 'ZAM', 'CHN', 'MLI', 'ECU', 'TPE', 'THA',\n",
       "       'TTO', 'MRI', 'GRN', 'BAH', 'AFG', 'GAM', 'VAN', 'VIE', 'PAN',\n",
       "       'SWZ', 'SLE', 'BHU', 'RWA', 'ASA', 'TGA', 'ARU', 'CHA', 'BOT',\n",
       "       'AND', 'BUR', 'COK', 'LES', 'MYA', 'LAO'], dtype=object)"
      ]
     },
     "execution_count": 6,
     "metadata": {},
     "output_type": "execute_result"
    }
   ],
   "source": [
    "letnje_igre1988.NOC.unique() # jedinstvene vrednosti u koloni NOC letnjih igara 1988"
   ]
  },
  {
   "cell_type": "markdown",
   "id": "a1b25925",
   "metadata": {},
   "source": [
    "Функције попут претходно примењене `unique` можете примењивати и овако `pd.unique(letnje_igre1988.NOC)` (где смо на почетак имена функције додали и скраћено име библиотеке `pandas` које смо додали при учитавању `pd`), форма коју смо искористили изнад ће бити чешће коришћена у наставку зато што је редослед примењивања функција прегледнији поготово када користимо више функција."
   ]
  },
  {
   "cell_type": "markdown",
   "id": "731dbc66",
   "metadata": {},
   "source": [
    "Док уопотребом фунције `len()` можемо добити дужину ове листе различитих националних комитета, тј. сазнати колико се различитих тимова такмичило на олимпијади 1988:"
   ]
  },
  {
   "cell_type": "code",
   "execution_count": 7,
   "id": "ca3e44e6",
   "metadata": {},
   "outputs": [
    {
     "data": {
      "text/plain": [
       "159"
      ]
     },
     "execution_count": 7,
     "metadata": {},
     "output_type": "execute_result"
    }
   ],
   "source": [
    "len(letnje_igre1988.NOC.unique())"
   ]
  },
  {
   "cell_type": "markdown",
   "id": "ff9dde86",
   "metadata": {},
   "source": [
    "Овај податак можемо потврдити интернет претрагом  или на [википедији](https://en.wikipedia.org/wiki/1988_Summer_Olympics) коју ћемо и у наставку често користити за додатну проверу информација или занимљивих чињеница о Олимпијским играма. Одабрали смо као извор википедију зато што су догађаји попут олимпијских игара такви да генеришу пуно интересовања и стога сваки чланак о играма има пуно независних аутора и уредника чланака па сматрамо да је веродостојност информација често вишестрано потврђена. Свакако када вас нека тема посебно заинтригира, истражите и листу извора на крају вики чланка или наставите даље са интернет претрагом.\n",
    "\n",
    "Сада бисмо волели да видимо овај број (различитих нок тимова) за све године које имамо у подацима. То се може урадити тако што ћемо нпр. [`for` петљом](https://petlja.org/biblioteka/r/lekcije/TxtProgInPythonSrLat/02_console-02_console_10_scripting) пролазити кроз све доступне године и понављати претходни поступак и чувати резултате. Међутим, овде ћемо искортистити други метод који је својственији табеларним подацима и `pandas` библиотеци. У питању је функција груписања [groupby](https://pandas.pydata.org/docs/reference/api/pandas.DataFrame.groupby.html) коју ћемо искористити да на основу табеле `letnje_igre` направимо низ подтабела које у свим својим редовима имају исту вредност године одржавања. То радимо овако `letnje_igre.groupby(['Year'])`. Међутим, ми не желимо да само групишемо податке по годинама, већ желимо да у оквиру сваке од тих подгрупа нађемо колико има јединствених националних комитета, што можемо и урадити:"
   ]
  },
  {
   "cell_type": "code",
   "execution_count": 8,
   "id": "26a40854",
   "metadata": {
    "scrolled": true
   },
   "outputs": [
    {
     "data": {
      "text/plain": [
       "Year\n",
       "1896    [GRE, GBR, SUI, USA, GER, FRA, HUN, AUS, AUT, ...\n",
       "1900    [DEN, GER, USA, FRA, AUT, NOR, GBR, ITA, BEL, ...\n",
       "1904    [USA, CAN, ITA, GER, CUB, FRA, GBR, HUN, GRE, ...\n",
       "1906    [GRE, GER, GBR, FIN, ITA, DEN, NOR, SWE, CRT, ...\n",
       "1908    [ITA, GER, GBR, USA, SWE, DEN, ANZ, FRA, NOR, ...\n",
       "1912    [FIN, NOR, SWE, GER, GBR, LUX, FRA, HUN, USA, ...\n",
       "1920    [DEN, FIN, NOR, EGY, GBR, SWE, ESP, USA, SUI, ...\n",
       "1924    [FIN, NOR, BUL, CHI, SUI, MON, GBR, FRA, BEL, ...\n",
       "1928    [NOR, EGY, USA, IND, SUI, GER, GBR, CAN, SWE, ...\n",
       "1932    [NED, USA, BEL, FRA, PHI, ITA, FIN, SWE, GBR, ...\n",
       "1936    [EST, NOR, HUN, ITA, EGY, JPN, MON, GBR, ROU, ...\n",
       "1948    [FIN, NOR, IRI, EGY, PAK, MON, URU, SWE, TUR, ...\n",
       "1952    [FIN, NOR, EGY, FRA, PAK, MON, ESP, SWE, ROU, ...\n",
       "1956    [NOR, FRA, BUL, RSA, AFG, NZL, BEL, AUS, PHI, ...\n",
       "1960    [NOR, BUL, UAR, SUD, IRQ, PAK, JPN, ISR, SWE, ...\n",
       "1964    [URS, IRQ, EGY, TAN, PAK, SWE, PER, JPN, GHA, ...\n",
       "1968    [NOR, CMR, MEX, SUD, MAS, NGR, PHI, JPN, ARG, ...\n",
       "1972    [NOR, SUD, NGR, CHA, TAN, KUW, EGY, ETH, URS, ...\n",
       "1976    [FRA, ESP, NCA, KUW, CAN, EGY, TUN, IRI, JPN, ...\n",
       "1980    [ESP, URS, ITA, KUW, ALG, IRQ, SYR, LBA, CGO, ...\n",
       "1984    [NED, ESP, CHI, ITA, MAS, JOR, EGY, CAN, KSA, ...\n",
       "1988    [NED, BUL, ITA, LIB, EGY, ALG, DJI, MDV, YAR, ...\n",
       "1992    [CHN, FIN, NOR, EST, CHA, CUB, CHI, HUN, ITA, ...\n",
       "1996    [FIN, NED, NOR, EST, TUR, ESP, ITA, PAK, CAN, ...\n",
       "2000    [FIN, NOR, NED, EGY, ARG, CUB, CMR, MEX, ITA, ...\n",
       "2004    [NOR, EST, BLR, GRE, USA, RUS, FRA, NCA, IRQ, ...\n",
       "2008    [NOR, EST, ESP, RUS, BLR, FRA, ITA, PAK, AZE, ...\n",
       "2012    [CHN, FRA, MAR, RUS, ARG, ITA, ALG, PAK, IRI, ...\n",
       "Name: NOC, dtype: object"
      ]
     },
     "execution_count": 8,
     "metadata": {},
     "output_type": "execute_result"
    }
   ],
   "source": [
    "letnje_igre.groupby(['Year'])['NOC'].unique() # na ovaj način dobijamo za svaku godinu listu jedinstvenih NOK-ova"
   ]
  },
  {
   "cell_type": "markdown",
   "id": "daaa4084",
   "metadata": {},
   "source": [
    "Добили смо сада за сваку годину, листу јединствених националних олимпијских комитета, међутим, то нам је превише информација, ми заправо хоћемо само да знамо колико их је, не и који су. То можемо урадити уз помоћ функције [len](https://petlja.org/biblioteka/r/lekcije/TxtProgInPythonSrLat/02_console-02_console_13_list), али зато што хоћемо да знамо дужину листе за сваку годину, тј. у свакој ћелији ове мале табеле, то у оквиру `pandas` библиотеке можемо урадити функцијом [`apply`](https://pandas.pydata.org/pandas-docs/stable/reference/api/pandas.DataFrame.apply.html). Ова функција је моћан алат зато што нам дозвољава да разне друге функције које смо или ми написали или знамо да већ постоје применимо на сваку ћелију у колони табеле (или шире). Не брините ако вам ово сад звучи као да је превише, лако ћете се навићи на то, за сад можете само прочитати ове команде као низ инструкција - издвоји листу јединствених комитета и примени (енг. *apply*) функцију која рачуна дужину - и то је управо то што радимо:"
   ]
  },
  {
   "cell_type": "code",
   "execution_count": 9,
   "id": "3308905a",
   "metadata": {},
   "outputs": [
    {
     "data": {
      "text/plain": [
       "Year\n",
       "1896    12\n",
       "1900    31\n",
       "1904    15\n",
       "1906    21\n",
       "1908    22\n",
       "Name: NOC, dtype: int64"
      ]
     },
     "execution_count": 9,
     "metadata": {},
     "output_type": "execute_result"
    }
   ],
   "source": [
    "broj_nok = letnje_igre.groupby(['Year'])['NOC'].unique().apply(len) # korišćenjem apply(len) komuniciramo da u svakom redu treba nad listom u ćeliji primeniti funkciju len\n",
    "broj_nok.head()"
   ]
  },
  {
   "cell_type": "markdown",
   "id": "59773e4c",
   "metadata": {},
   "source": [
    "Резултат `groupby` фунције је увек табела индексирана по колони која је задата за груписање, у овом случају пошто поред индекса постоји само једна колона са подацима у питању је тип података [серија](https://pandas.pydata.org/pandas-docs/stable/reference/api/pandas.Series.html) (практично табела која има само једну колону), што можете видети овако:"
   ]
  },
  {
   "cell_type": "code",
   "execution_count": 10,
   "id": "afdd2994",
   "metadata": {},
   "outputs": [
    {
     "data": {
      "text/plain": [
       "pandas.core.series.Series"
      ]
     },
     "execution_count": 10,
     "metadata": {},
     "output_type": "execute_result"
    }
   ],
   "source": [
    "type(broj_nok)"
   ]
  },
  {
   "cell_type": "markdown",
   "id": "32dfa750",
   "metadata": {},
   "source": [
    "Хаје да већ ове податке које смо пребројали нацртамо и кренемо у дискусију о визуализацији података од једноставнијих графика. За цртање у наставку користићемо олимпијске боје из логоа:\n",
    "<img src=\"sport_slike/Olympic_flag.svg\" alt=\"alt text\" width=\"200\"/>\n",
    "За увод о коришћењу боја у пајтону, можете погледати [овај линк](https://petlja.org/biblioteka/r/lekcije/pygame/crtanje-cas1), али типично ћемо боје задавати или користећи њихова имена (попут `red`, `grey`, али и `tomato`, `оlive`, листу именованих боја у оквиру `matplotlib` библиотеке можете пронаћи [овде](https://matplotlib.org/stable/gallery/color/named_colors.html)) или користећи хексадекадни код (шест карактера од 0 до F који једнозначно указују на жељену боју) боја који можете пронаћи на пример [овде](https://g.co/kgs/fRV97K). Олимпијске боје које смо пронашли ћемо сачувати у променљиве за даље коришћење:"
   ]
  },
  {
   "cell_type": "code",
   "execution_count": 11,
   "id": "a605ec35",
   "metadata": {},
   "outputs": [],
   "source": [
    "#definišemo boje koje ćemo koristiti u nastavku:\n",
    "olimpijska_plava='#0286c3'\n",
    "olimpijska_zuta='#fbb22e'\n",
    "olimpijska_crna='#000000'\n",
    "olimpijska_zelena='#168c39'\n",
    "olimpijska_crvena='#ee2f4d'"
   ]
  },
  {
   "cell_type": "markdown",
   "id": "0aeb695c",
   "metadata": {},
   "source": [
    "Број земаља које су се такмичиле сваке олимпијске године можемо и представити линијским дијаграмом у оквиру `pandas` библиотеке функцијом [plot](https://pandas.pydata.org/docs/reference/api/pandas.DataFrame.plot.html). Подразумевани график, када се користи ова функција, је линијски дијаграм који повезује све податке:"
   ]
  },
  {
   "cell_type": "code",
   "execution_count": 12,
   "id": "ce61d5f4",
   "metadata": {
    "scrolled": true
   },
   "outputs": [
    {
     "data": {
      "image/png": "[encoded data removed]",
      "text/plain": [
       "<Figure size 432x288 with 1 Axes>"
      ]
     },
     "metadata": {
      "needs_background": "light"
     },
     "output_type": "display_data"
    }
   ],
   "source": [
    "# osnovna slika\n",
    "broj_nok.plot() # funkcija plot crta linijski dijagram, a dodatno smo definisali oblik markera i boju linije i markera\n",
    "plt.show() # prikaz dobijenog grafika"
   ]
  },
  {
   "cell_type": "markdown",
   "id": "fefbde8a",
   "metadata": {},
   "source": [
    "Када су подаци само спојени није лако схватити који су то били тренуци у којима је дошло до њиховог бележења (у овом случају године одржавања Олимпијских игара). То није згодно зато што заваравамо читаоца који може помислити да се Олимпијске игре одржавају сваке године, а можда и чешће!\n",
    "Зато је згодно да на линијским дијаграмима (поготово када немате пуно тачака) истакнете кружићима (или другим ознакама) тачне позиције забележених податка. Свака истакнута тачка је пар из наше табеле - година (х координата) и број држава које су се такмичиле (у координата). Истицање дефинишемо прослеђивањем жељене ознаке кроз аргумент функције `marker`. Све остале тачке (дуж нацртане линије) нису део података, већ линије које спајају наше податке:"
   ]
  },
  {
   "cell_type": "code",
   "execution_count": 13,
   "id": "6c096aa8",
   "metadata": {
    "scrolled": true
   },
   "outputs": [
    {
     "data": {
      "image/png": "[encoded data removed]",
      "text/plain": [
       "<Figure size 432x288 with 1 Axes>"
      ]
     },
     "metadata": {
      "needs_background": "light"
     },
     "output_type": "display_data"
    }
   ],
   "source": [
    "# dodavanje boje i oznaka\n",
    "broj_nok.plot(marker='o',color=olimpijska_crvena) # funkcija plot crta linijski dijagram, a dodatno smo definisali oblik markera i boju linije i markera\n",
    "plt.show() # prikaz dobijenog grafika"
   ]
  },
  {
   "cell_type": "markdown",
   "id": "44897000",
   "metadata": {},
   "source": [
    "Додали смо и олимпијску црвену боју овој линији! Предност функције `plot` у оквиру `pandas` библиотеке је што на основу података већ закључује неке ствари и тако иако нисмо дефинисали име х осе, на основу имена колоне смо добили ознаку 'Year'. Међутим, ми бисмо волели да су имена оса на српском језику, па ћемо именима х и у осе дати мало описнија имена уз помоћ функција [xlabel](https://matplotlib.org/stable/api/_as_gen/matplotlib.pyplot.xlabel.html) и [ylabel](https://matplotlib.org/stable/api/_as_gen/matplotlib.pyplot.ylabel.html) библиотеке `matplotlib.pyplot` (чије смо име при учитавању скратили на `plt` па је сада само то име потребно написати испред функција):"
   ]
  },
  {
   "cell_type": "code",
   "execution_count": 14,
   "id": "ce6e91b3",
   "metadata": {},
   "outputs": [
    {
     "data": {
      "image/png": "[encoded data removed]",
      "text/plain": [
       "<Figure size 432x288 with 1 Axes>"
      ]
     },
     "metadata": {
      "needs_background": "light"
     },
     "output_type": "display_data"
    }
   ],
   "source": [
    "broj_nok.plot(marker='o',color=olimpijska_crvena) # funkcija plot crta linijski dijagram, a dodatno smo definisali oblik markera i boju linije i markera\n",
    "#dodavanje naziva x i y ose\n",
    "plt.xlabel('Година одржавања Олимпијских игара')\n",
    "plt.ylabel('Број земаља учесница Олимпијских игара') # dodajemo ime u ose\n",
    "plt.show() # prikaz dobijenog grafika"
   ]
  },
  {
   "cell_type": "markdown",
   "id": "ce70431a",
   "metadata": {},
   "source": [
    "Иако нам се чини да већ на овом графику вредности на у оси почињу од 0 (или барем од вредности врло близу 0), често је згодно експлицитно обезбедити да је то тачно, тј. да је 0 на у оси део приказаног графикона. Обезбедићемо то у наставку функцијом [ylim](https://matplotlib.org/stable/api/_as_gen/matplotlib.pyplot.ylim.html) и додати усправне линије на позицији пар важних година:"
   ]
  },
  {
   "cell_type": "code",
   "execution_count": 15,
   "id": "54afb71d",
   "metadata": {
    "scrolled": true
   },
   "outputs": [
    {
     "data": {
      "image/png": "[encoded data removed]",
      "text/plain": [
       "<Figure size 432x288 with 1 Axes>"
      ]
     },
     "metadata": {
      "needs_background": "light"
     },
     "output_type": "display_data"
    }
   ],
   "source": [
    "broj_nok.plot(marker='o',color=olimpijska_crvena) # funkcija plot crta linijski dijagram, a dodatno smo definisali oblik markera i boju linije i markera\n",
    "plt.xlabel('Година одржавања Олимпијских игара')\n",
    "plt.ylabel('Број земаља учесница Олимпијских игара') # dodajemo ime у ose\n",
    "\n",
    "plt.ylim(0) # biramo da u osa počinje od 0\n",
    "\n",
    "# dodajemo uspravne linije za godine kada znamo da su Olimpijske igre otkazane zbog svetskih ratova\n",
    "plt.axvline(1916,color=olimpijska_crna) \n",
    "plt.axvline(1940,color=olimpijska_crna)\n",
    "plt.axvline(1944,color=olimpijska_crna)\n",
    "\n",
    "plt.show() # prikaz dobijenog grafika"
   ]
  },
  {
   "cell_type": "markdown",
   "id": "b5779f4b",
   "metadata": {},
   "source": [
    "Видимо да је током већег дела историје Олимпијских игара број држава учесница растао, што је можда и очекивано што због раста популарности игара, што због настајања нових држава током двадесетог века. Међутим, видимо и пар тачака када се одступа од овог тренда а ради се о Олимпијским играма 1976 и 1980 када је било значајно мање земаља учесница. Ово може бити сигнал да нешто није у реду са нашим подацима. Mеђутим, верни пратиоци и познаваоци Олимпијских игара ће знати да нема проблема у подацима - из различитих политичких и економских разлога је преко двадесет (1976) и преко шездесет (1980) земаља бојкотовало учешће у Олимпијским играма, више о томе можете прочитати [овде](https://en.wikipedia.org/wiki/1980_Summer_Olympics_boycott).\n",
    "\n",
    "Усправне црне линије су додате за године када су планиране олимпијске игре али се нису догодиле због светских ратова."
   ]
  },
  {
   "cell_type": "markdown",
   "id": "45fbcf70",
   "metadata": {},
   "source": [
    "<details>    \n",
    "<summary>\n",
    "    <font color=\"darkgreen\"><b>На сличан начин можемо истражити како се мењао број такмичарки и такмичара на олимпијским играма. Ако испратимо логику груписања по години и бројања уникатних уноса у овом случају користећи колону име, наићи ћемо на проблем, имате ли идеју који?\n",
    "        </b>\n",
    "</font>\n",
    "</summary>\n",
    "Иако то није превише често, дешава се да више различитих особа има исто име и презиме. "
   ]
  },
  {
   "cell_type": "markdown",
   "id": "e63459c7",
   "metadata": {},
   "source": [
    "Издвојимо све уносе у табели који у колони име `Name` имају вредности \"Иван Иванов\". Зарад лакшег прегледа, овај сегмент табеле сортирамо по колони година користећи функцију [sort_values](https://pandas.pydata.org/docs/reference/api/pandas.DataFrame.sort_values.html):"
   ]
  },
  {
   "cell_type": "code",
   "execution_count": 16,
   "id": "a0bb7649",
   "metadata": {},
   "outputs": [
    {
     "data": {
      "text/html": [
       "<div>\n",
       "<style scoped>\n",
       "    .dataframe tbody tr th:only-of-type {\n",
       "        vertical-align: middle;\n",
       "    }\n",
       "\n",
       "    .dataframe tbody tr th {\n",
       "        vertical-align: top;\n",
       "    }\n",
       "\n",
       "    .dataframe thead th {\n",
       "        text-align: right;\n",
       "    }\n",
       "</style>\n",
       "<table border=\"1\" class=\"dataframe\">\n",
       "  <thead>\n",
       "    <tr style=\"text-align: right;\">\n",
       "      <th></th>\n",
       "      <th>ID</th>\n",
       "      <th>Name</th>\n",
       "      <th>Sex</th>\n",
       "      <th>Age</th>\n",
       "      <th>Height</th>\n",
       "      <th>Weight</th>\n",
       "      <th>Team</th>\n",
       "      <th>NOC</th>\n",
       "      <th>Games</th>\n",
       "      <th>Year</th>\n",
       "      <th>Season</th>\n",
       "      <th>City</th>\n",
       "      <th>Sport</th>\n",
       "      <th>Event</th>\n",
       "      <th>Medal</th>\n",
       "    </tr>\n",
       "  </thead>\n",
       "  <tbody>\n",
       "    <tr>\n",
       "      <th>80925</th>\n",
       "      <td>52802</td>\n",
       "      <td>Ivan Ivanov</td>\n",
       "      <td>M</td>\n",
       "      <td>21.0</td>\n",
       "      <td>188.0</td>\n",
       "      <td>82.0</td>\n",
       "      <td>Bulgaria</td>\n",
       "      <td>BUL</td>\n",
       "      <td>1972 Summer</td>\n",
       "      <td>1972</td>\n",
       "      <td>Summer</td>\n",
       "      <td>Munich</td>\n",
       "      <td>Volleyball</td>\n",
       "      <td>Volleyball Men's Volleyball</td>\n",
       "      <td>NaN</td>\n",
       "    </tr>\n",
       "    <tr>\n",
       "      <th>80930</th>\n",
       "      <td>52808</td>\n",
       "      <td>Ivan Ivanov</td>\n",
       "      <td>M</td>\n",
       "      <td>24.0</td>\n",
       "      <td>177.0</td>\n",
       "      <td>64.0</td>\n",
       "      <td>Soviet Union</td>\n",
       "      <td>URS</td>\n",
       "      <td>1972 Summer</td>\n",
       "      <td>1972</td>\n",
       "      <td>Summer</td>\n",
       "      <td>Munich</td>\n",
       "      <td>Athletics</td>\n",
       "      <td>Athletics Men's 800 metres</td>\n",
       "      <td>NaN</td>\n",
       "    </tr>\n",
       "    <tr>\n",
       "      <th>80931</th>\n",
       "      <td>52808</td>\n",
       "      <td>Ivan Ivanov</td>\n",
       "      <td>M</td>\n",
       "      <td>24.0</td>\n",
       "      <td>177.0</td>\n",
       "      <td>64.0</td>\n",
       "      <td>Soviet Union</td>\n",
       "      <td>URS</td>\n",
       "      <td>1972 Summer</td>\n",
       "      <td>1972</td>\n",
       "      <td>Summer</td>\n",
       "      <td>Munich</td>\n",
       "      <td>Athletics</td>\n",
       "      <td>Athletics Men's 1,500 metres</td>\n",
       "      <td>NaN</td>\n",
       "    </tr>\n",
       "    <tr>\n",
       "      <th>80937</th>\n",
       "      <td>52812</td>\n",
       "      <td>Ivan Ivanov</td>\n",
       "      <td>M</td>\n",
       "      <td>21.0</td>\n",
       "      <td>185.0</td>\n",
       "      <td>75.0</td>\n",
       "      <td>Kyrgyzstan</td>\n",
       "      <td>KGZ</td>\n",
       "      <td>2000 Summer</td>\n",
       "      <td>2000</td>\n",
       "      <td>Summer</td>\n",
       "      <td>Sydney</td>\n",
       "      <td>Swimming</td>\n",
       "      <td>Swimming Men's 400 metres Freestyle</td>\n",
       "      <td>NaN</td>\n",
       "    </tr>\n",
       "    <tr>\n",
       "      <th>80938</th>\n",
       "      <td>52812</td>\n",
       "      <td>Ivan Ivanov</td>\n",
       "      <td>M</td>\n",
       "      <td>21.0</td>\n",
       "      <td>185.0</td>\n",
       "      <td>75.0</td>\n",
       "      <td>Kyrgyzstan</td>\n",
       "      <td>KGZ</td>\n",
       "      <td>2000 Summer</td>\n",
       "      <td>2000</td>\n",
       "      <td>Summer</td>\n",
       "      <td>Sydney</td>\n",
       "      <td>Swimming</td>\n",
       "      <td>Swimming Men's 1,500 metres Freestyle</td>\n",
       "      <td>NaN</td>\n",
       "    </tr>\n",
       "    <tr>\n",
       "      <th>80939</th>\n",
       "      <td>52812</td>\n",
       "      <td>Ivan Ivanov</td>\n",
       "      <td>M</td>\n",
       "      <td>21.0</td>\n",
       "      <td>185.0</td>\n",
       "      <td>75.0</td>\n",
       "      <td>Kyrgyzstan</td>\n",
       "      <td>KGZ</td>\n",
       "      <td>2000 Summer</td>\n",
       "      <td>2000</td>\n",
       "      <td>Summer</td>\n",
       "      <td>Sydney</td>\n",
       "      <td>Swimming</td>\n",
       "      <td>Swimming Men's 4 x 200 metres Freestyle Relay</td>\n",
       "      <td>NaN</td>\n",
       "    </tr>\n",
       "    <tr>\n",
       "      <th>80928</th>\n",
       "      <td>52805</td>\n",
       "      <td>Ivan Ivanov</td>\n",
       "      <td>M</td>\n",
       "      <td>21.0</td>\n",
       "      <td>192.0</td>\n",
       "      <td>107.0</td>\n",
       "      <td>Bulgaria</td>\n",
       "      <td>BUL</td>\n",
       "      <td>2008 Summer</td>\n",
       "      <td>2008</td>\n",
       "      <td>Summer</td>\n",
       "      <td>Beijing</td>\n",
       "      <td>Wrestling</td>\n",
       "      <td>Wrestling Men's Super-Heavyweight, Greco-Roman</td>\n",
       "      <td>NaN</td>\n",
       "    </tr>\n",
       "  </tbody>\n",
       "</table>\n",
       "</div>"
      ],
      "text/plain": [
       "          ID         Name Sex   Age  Height  Weight          Team  NOC  \\\n",
       "80925  52802  Ivan Ivanov   M  21.0   188.0    82.0      Bulgaria  BUL   \n",
       "80930  52808  Ivan Ivanov   M  24.0   177.0    64.0  Soviet Union  URS   \n",
       "80931  52808  Ivan Ivanov   M  24.0   177.0    64.0  Soviet Union  URS   \n",
       "80937  52812  Ivan Ivanov   M  21.0   185.0    75.0    Kyrgyzstan  KGZ   \n",
       "80938  52812  Ivan Ivanov   M  21.0   185.0    75.0    Kyrgyzstan  KGZ   \n",
       "80939  52812  Ivan Ivanov   M  21.0   185.0    75.0    Kyrgyzstan  KGZ   \n",
       "80928  52805  Ivan Ivanov   M  21.0   192.0   107.0      Bulgaria  BUL   \n",
       "\n",
       "             Games  Year  Season     City       Sport  \\\n",
       "80925  1972 Summer  1972  Summer   Munich  Volleyball   \n",
       "80930  1972 Summer  1972  Summer   Munich   Athletics   \n",
       "80931  1972 Summer  1972  Summer   Munich   Athletics   \n",
       "80937  2000 Summer  2000  Summer   Sydney    Swimming   \n",
       "80938  2000 Summer  2000  Summer   Sydney    Swimming   \n",
       "80939  2000 Summer  2000  Summer   Sydney    Swimming   \n",
       "80928  2008 Summer  2008  Summer  Beijing   Wrestling   \n",
       "\n",
       "                                                Event Medal  \n",
       "80925                     Volleyball Men's Volleyball   NaN  \n",
       "80930                      Athletics Men's 800 metres   NaN  \n",
       "80931                    Athletics Men's 1,500 metres   NaN  \n",
       "80937             Swimming Men's 400 metres Freestyle   NaN  \n",
       "80938           Swimming Men's 1,500 metres Freestyle   NaN  \n",
       "80939   Swimming Men's 4 x 200 metres Freestyle Relay   NaN  \n",
       "80928  Wrestling Men's Super-Heavyweight, Greco-Roman   NaN  "
      ]
     },
     "execution_count": 16,
     "metadata": {},
     "output_type": "execute_result"
    }
   ],
   "source": [
    "letnje_igre[letnje_igre.Name =='Ivan Ivanov'].sort_values(by='Year') "
   ]
  },
  {
   "cell_type": "markdown",
   "id": "f24359fb",
   "metadata": {},
   "source": [
    "Видимо у подацима више уноса који садрже податке о спортисти Ивану Ивановом. Користећи остале информације на располагању (попут висине, масе, година, припадности тиму) видимо да је у случају Олипијских игара у Сиднеју, у питању једна иста особа која се такмичила у више категорија, док на пример у случају Олипијских игара 1972. године видимо да су у питању две особе. Када бисмо спровели груписање по години и бројали јединствена имена, за сваку од ових година (1972,2000,2008) бисмо издвојили само једног Ивана Иванова и тиме бисмо заборавили на једну особу која се такмичина 1972 године. Видите то у овом малом примеру:"
   ]
  },
  {
   "cell_type": "code",
   "execution_count": 17,
   "id": "f928c5e9",
   "metadata": {},
   "outputs": [
    {
     "data": {
      "text/plain": [
       "Year\n",
       "1972    1\n",
       "2000    1\n",
       "2008    1\n",
       "Name: Name, dtype: int64"
      ]
     },
     "execution_count": 17,
     "metadata": {},
     "output_type": "execute_result"
    }
   ],
   "source": [
    "ivan_ivanov = letnje_igre[letnje_igre.Name =='Ivan Ivanov'] # izdvajamo podatke o sportistima koji se zovu Ivan Ivanov i čuvamo ih u novoj promenljivoj\n",
    "ivan_ivanov.groupby('Year')['Name'].unique().apply(len) # grupišemo po godini i brojimu jedinstvena imena, što bi nam bila prva ideja da izbrojimo učesnike igara "
   ]
  },
  {
   "cell_type": "markdown",
   "id": "64b3939a",
   "metadata": {},
   "source": [
    "Међутим, у примеру табеле са подацима о спортистима који се зову Иван Иванов, можемо приметити постојање колоне `ID` која је јединствени идентификатор за особе које су учествовале на Олимпијским играма. Видимо да две различите особе које смо идентификовали са истим именом Иван Иванов имају различиту вредност у овом пољу, док уноси које смо идентификовали као оне који одговарају истој особи (користећи податке о маси, годинама и слично) имају исте `ID` вредности.\n",
    "Стога ћемо за бројање спортиста учесника Олимпијских игара избројати груписањем по колони `ID`:"
   ]
  },
  {
   "cell_type": "code",
   "execution_count": 18,
   "id": "df6935c5",
   "metadata": {
    "scrolled": true
   },
   "outputs": [
    {
     "data": {
      "image/png": "[encoded data removed]",
      "text/plain": [
       "<Figure size 432x288 with 1 Axes>"
      ]
     },
     "metadata": {
      "needs_background": "light"
     },
     "output_type": "display_data"
    }
   ],
   "source": [
    "broj_osoba_na_oi = letnje_igre.groupby(['Year'])['ID'].unique().apply(len) # grupisanje na osnovu godine i prebrojavanje razlicitih ID vrednosti\n",
    "plt.stem(broj_osoba_na_oi.index,broj_osoba_na_oi, linefmt='k',markerfmt='ko',basefmt='k') # crtanje stem (lizalica) dijagrama\n",
    "plt.xlabel('Година одржавања летњих олимпијских игара') # ime x ose\n",
    "plt.ylabel('Број такмичарки и такмичара на ОИ') # ime y ose\n",
    "plt.show()"
   ]
  },
  {
   "cell_type": "markdown",
   "id": "7b89592e",
   "metadata": {},
   "source": [
    "Видимо да је и број такмичарки и такмичара на олимпијским играма током већег дела времена растао. Чак пад у броју различитих земаља учесница који смо видели у годинама 1976 и 1980 изгледа далеко мање у овим подацима (вероватно је број учесника по земљама био већи, како бисмо то проверили?).\n",
    "\n",
    "На претходном графику (на коме смо приказали број држава учесница олипијских игара) спајањем тачкица могла вам је промаћи информација о томе колико често се дешавају летње олимпијске игре. Са овом врстом визуализације која се популарно зове и \"лизалица\" (енг. *lollipop*) доста лакше примећујемо да су свака две уноса (два одржавања олимпијских игара) једнако удаљена (што ако пратимо ОИ већ знамо да износи 4 године), али и лакше примећујемо периоде кад се игре нису одржале, или када су се одржале нешто пре него што је \"требало\". Ако погледате сам почетак 20. века, видимо да је густина лизалица нешто већа него касније, хајде да видимо када су се одржавале олимпијске игре тада:"
   ]
  },
  {
   "cell_type": "code",
   "execution_count": 19,
   "id": "f20a663a",
   "metadata": {},
   "outputs": [
    {
     "data": {
      "text/plain": [
       "array([1912, 1906, 1904, 1908], dtype=int64)"
      ]
     },
     "execution_count": 19,
     "metadata": {},
     "output_type": "execute_result"
    }
   ],
   "source": [
    "data_segment = letnje_igre[(letnje_igre.Year>1900)&(letnje_igre.Year<1920)] # izdvajamo samo OI između 1900 i 1920 god\n",
    "data_segment.Year.unique() # u izdvojenom segmentu podataka, tražimo jedinstvene vrednosti u koloni godine:"
   ]
  },
  {
   "cell_type": "markdown",
   "id": "dfa8c012",
   "metadata": {},
   "source": [
    "Видимо да постоје олимпијске игре одржане 1906 године, које нарушавају четворогодишњу периодичност. Ово опет може бити извор дилеме да ли су подаци веродостојни, али википедија нам опет може помоћи да научимо да су се [олимпијске игре заиста одржале и 1906 године](https://en.wikipedia.org/wiki/1906_Intercalated_Games) у Атини."
   ]
  },
  {
   "cell_type": "markdown",
   "id": "74273b1d",
   "metadata": {},
   "source": [
    "Претходно искоришћени лизалица график ([`plt.stem`](https://matplotlib.org/stable/api/_as_gen/matplotlib.pyplot.stem.html)) је заправо доста сличан стубичастом дијаграму који бисте такође могли нацртати (користећи функцију [`plt.bar`](https://matplotlib.org/stable/api/_as_gen/matplotlib.pyplot.bar.html)). Оно што је различито је постојање маркера на врху стубића који помажу да испратимо евентуални тренд међу подацима (за шта смо претходно користили спајање тачкица). Дијаграми који комбинују линије и тачкице попут лизалица графика су често корисни и да прикажемо како се разлика између неке две вредности повећава или смањује тако што ћемо цртати дужи са маркерима на обе стране. Подаци о такмичарима и такмичаркама су баш такви подаци, хајде да их нацртамо и видимо како то изгледа.\n",
    "\n",
    "За почетак ћемо направити одговарајуће подскупове користећи вредност у колони пол (енг. *Sex*), а затим применити исто груписање и бројање јединствених учесника по колони `ID`:"
   ]
  },
  {
   "cell_type": "code",
   "execution_count": 20,
   "id": "0aea317c",
   "metadata": {},
   "outputs": [],
   "source": [
    "takmicari = letnje_igre[letnje_igre.Sex=='M'] # izdvajamo redove tabele u kojima je u koloni pol M\n",
    "broj_takmicara_oi = takmicari.groupby(['Year'])['ID'].unique().apply(len) # primenjujemo grupisanje po godini i brojanje jedinstvenih takmičara\n",
    "\n",
    "takmicarke = letnje_igre[letnje_igre.Sex=='F'] # izdvajamo redove tabele u kojima je u koloni pol F\n",
    "broj_takmicarki_oi = takmicarke.groupby(['Year'])['ID'].unique().apply(len) # grupisanje po godini i brojanje jedinstvenih takmičarki"
   ]
  },
  {
   "cell_type": "markdown",
   "id": "b4311733",
   "metadata": {},
   "source": [
    "Ове податке ћемо сада представити користећи комибинацију функција [vlines](https://matplotlib.org/3.1.1/api/_as_gen/matplotlib.pyplot.vlines.html) (за цртање усправних линија) и [scatter](https://matplotlib.org/stable/api/_as_gen/matplotlib.pyplot.scatter.html) (за цртање тачкастих дијаграма). Усправне линије ћемо нацртати тако да им х координата одговара години одржавања олимпијских игара, а крајње у координате одговарају броју такмичарки, односно такмичара. Коначно, на крајеве ових дужи ћемо додати кружиће (чије х и у координате одговарају годинама и бројевима такмичара, односно такмичарки) да бисмо разлику учинили још уочљивијом:"
   ]
  },
  {
   "cell_type": "code",
   "execution_count": 21,
   "id": "92b74899",
   "metadata": {},
   "outputs": [
    {
     "data": {
      "image/png": "[encoded data removed]",
      "text/plain": [
       "<Figure size 432x288 with 1 Axes>"
      ]
     },
     "metadata": {
      "needs_background": "light"
     },
     "output_type": "display_data"
    }
   ],
   "source": [
    "# crtamo uspravne linije za sve održane olimpijske igre \n",
    "plt.vlines(x=broj_takmicarki_oi.index, ymin=broj_takmicarki_oi, ymax=broj_takmicara_oi.loc[1900:], color='grey', alpha=0.4)\n",
    "# broj takmičara crtamo tačkicama (h osa godina, u osa njihov broj te godine)\n",
    "plt.scatter(x = broj_takmicara_oi.index, y = broj_takmicara_oi, color=olimpijska_zuta, alpha=1, label='такмичари') \n",
    "# broj takmičarki crtamo tačkicama druge boje (h osa godina, u osa broj takmičarki te godine)\n",
    "plt.scatter(x = broj_takmicarki_oi.index, y = broj_takmicarki_oi, color=olimpijska_zelena, alpha=1, label='такмичарке') \n",
    "\n",
    "# dodajemo imena x i y ose i legendu\n",
    "plt.xlabel('Година одржавања Олимпијских игара')\n",
    "plt.ylabel('Број учесника ОИ по половима')\n",
    "plt.legend()\n",
    "plt.show()"
   ]
  },
  {
   "cell_type": "markdown",
   "id": "acb5f5e1",
   "metadata": {},
   "source": [
    "Зависно од тога шта желите да комуницирате као главну поруку података ову исту информацију можете нацртати и било којим од претходних графика - број такмичара и такмичарки можете представити линијским дијаграмом, или стубићима (или лизалицама). Међутим овај избор поред тога што приказује како се број појединачних група мењао кроз време, што видимо пратећи кружиће одговарајуће боје, нам јасније истиче њихову разлику (сиве линије) и приказује како се она мењала кроз време.\n",
    "\n",
    "Анализирајући претходне податке, видимо да су у првој години одржавања Летње олимпијске игре биле намењене само мушкарцима, док је са наредним догађајем број жена почео да расте. На графику видимо да је број жена с почетка врло споро растао, то јест иако су игре брзо почеле да расту (и као што смо видели привлаче све више држава учесница), значајно више је растао број мушких учесника. Интересантно је такође приметити да је пораст броја такмичарки доста стабилнији, док је број такмичара некад растао а некад опадао - видите на пример значајан пад броја такмичара на олимпијадама 1932 и 1956 године, то може бити у вези са ратовима који су претходили или другим историјским дешавањима попут Велике депресије (1932) и Суецке кризе (1956). \n",
    "\n",
    "Предност овог графика је што истовремено видимо и тачан број такмичара и такмичарки и линијом истакнуту њихову разлику. Међутим, разлика између учесника два пола од 1000 нема исто значење када је укупан број учесника 1002 (тј. такмиче се једна жена и 1001 мушкарац), и када их је 10000 (тј. такмичи се 4500 жена и 5500 мушкараца). За ово је погодније уместо бројева мушкараца и жена погледати проценуалне заступљености једне и друге групе. Тако ћемо далеко јасније сагледати да ли се јаз између броја мушких и женских учесника олимпијаде смањује."
   ]
  },
  {
   "cell_type": "markdown",
   "id": "ec3738e6",
   "metadata": {},
   "source": [
    "<div class=\"alert alert-block alert-info\"><img src=\"sport_slike/zad.png\" align=\"left\"/>Израчунати који проценат учесника олимпијаде су мушког, а који женског пола и репродукујте график у наставку.</div> "
   ]
  },
  {
   "cell_type": "code",
   "execution_count": 1,
   "id": "e3adab6a",
   "metadata": {},
   "outputs": [],
   "source": [
    "# resenje zadatka, uklonite znake za komentar\n",
    "\n",
    "# procenat_takmicara = 100*broj_takmicara_oi/broj_osoba_na_oi\n",
    "# procenat_takmicarki = 100*broj_takmicarki_oi/broj_osoba_na_oi\n",
    "\n",
    "# plt.vlines(x=procenat_takmicarki.index, ymin=procenat_takmicarki, ymax=procenat_takmicara, color='grey', alpha=0.4)\n",
    "# plt.scatter(x = procenat_takmicara.index, y = procenat_takmicara, color=olimpijska_zuta, alpha=1, label='такмичари')\n",
    "# plt.scatter(x = procenat_takmicarki.index, y = procenat_takmicarki, color=olimpijska_zelena, alpha=1, label='такмичарке')\n",
    "\n",
    "# plt.axhline(y=0,color='grey',alpha=0.2)\n",
    "# plt.axhline(y=50,color='grey',alpha=0.2)\n",
    "# plt.axhline(y=100,color='grey',alpha=0.2)\n",
    "# plt.xlabel('Година одржавања Олимпијских игара')\n",
    "# plt.ylabel('Порценат учесика мушког и женског пола')\n",
    "# plt.legend()\n",
    "# plt.savefig('sport_slike/OI_procenat_zm.png',dpi=300)\n",
    "# plt.show()"
   ]
  },
  {
   "cell_type": "markdown",
   "id": "a9533020",
   "metadata": {},
   "source": [
    "<img src=\"sport_slike/OI_procenat_zm.png\" width=\"500\" align='left'/>"
   ]
  },
  {
   "cell_type": "markdown",
   "id": "4aabd6dd",
   "metadata": {},
   "source": [
    "На овом графику сада далеко јасније можемо видети да се током последњих пар деценија проценат такмичарки и такмичара значајно приближио. Графику смо додали и сиве водоравне линије да означимо минималне и максималне вредности и једнаку заступљеност такмичарки и такмичара. Како проценат такмичарки и такмичара у збиру мора бити једнак 100%, могли смо приказати само једну од категорија података, она друга је имплицитно срачуната, то се на овом графику види и на основу симетричног распореда тачкица - што се више проценат мушкараца удаљава од вредности 100% то се проценат жена повећава. Истичући процентуалну разлику сивом усправном линијом додатно смо послали визуелну поруку о смањењу јаза међу заступљеностима група."
   ]
  },
  {
   "cell_type": "markdown",
   "id": "b4f3d507",
   "metadata": {},
   "source": [
    "Овде је битно напоменути да ми нисмо гледали награђене учеснике и учеснице, већ број особа оба пола који су уопште имали прилику да се такмиче што говори о системским баријерама које су постојале и даље постоје да се и жене такмиче на олимпијским играма. \n",
    "\n",
    "Много је различитих разлога заслужно за овакав однос међу бројевима, од тога да у старту олимпијске игре нису биле отворене за жене (попут првих), преко тога да се у неким спортовима тек много касније појавила женска категорија (тек од 2012. године у свим спортовима постоји и женска категорија, али не и у свим дисциплинама), до тога да и када постоје могућности за такмичење за оба пола неке државе нису имале своје представнице (тек 2012. године су све државе које су део интернационалонг олимпијског комитета имале и представнике и представнице на олимпијским играма). Неке од ових ствари можете наставити да истражујете у овом скупу података (нпр. када је који спорт додао и женску категорију, како је мењао број дисциплина у којима се додељују медаље а које су само за мушкарце или само за жене), а неке су дубље културолошки обрасци које морамо испитивати на другим местима. Више о овој теми и повезаним питањима на које можете потражити одговоре у овим подацима можете прочитати [овде](https://en.wikipedia.org/wiki/Participation_of_women_in_the_Olympics)."
   ]
  },
  {
   "cell_type": "code",
   "execution_count": 23,
   "id": "68cf7e4d",
   "metadata": {},
   "outputs": [],
   "source": [
    "# resenje o brojevima Menonly i Womenonly eventova\n",
    "\n",
    "# broj_disciplina = letnje_igre.groupby(['Year'])['Event'].unique().apply(len)\n",
    "# plt.plot(broj_disciplina.index, broj_disciplina, drawstyle='steps-mid',color=olimpijska_crna)\n",
    "\n",
    "# broj_disciplina_za_muskarce = letnje_igre[letnje_igre.Event.str.contains('Men')].groupby(['Year'])['Event'].unique().apply(len)\n",
    "# plt.plot(broj_disciplina_za_muskarce.index, broj_disciplina_za_muskarce, drawstyle='steps-mid',color=olimpijska_zuta)\n",
    "\n",
    "# broj_disciplina_za_zene = letnje_igre[letnje_igre.Event.str.contains('Women')].groupby(['Year'])['Event'].unique().apply(len)\n",
    "# plt.plot(broj_disciplina_za_zene.index, broj_disciplina_za_zene, drawstyle='steps-mid',color=olimpijska_zelena)"
   ]
  },
  {
   "cell_type": "markdown",
   "id": "b4610bc0",
   "metadata": {},
   "source": [
    "Сличним методама груписања и бројања можемо истражити и број такмичарских догађаја (колона `Event`, енг. за догађај) у којима се такмичари боре за медаље. Овим бројањем добићемо практично и информацију о броју медаља, ако о кошаркашкој медаљи (или било ком тимском спорту) размишљамо као о једној медаљи за тим, а не као о 5 индивидуалних медаља које сви чланови тима добијају.\n",
    "То радимо бројећи јединствене вредности у колони `Event`, погледајмо прве вредности ове колоне:"
   ]
  },
  {
   "cell_type": "code",
   "execution_count": 24,
   "id": "0484305d",
   "metadata": {},
   "outputs": [
    {
     "data": {
      "text/plain": [
       "0     Basketball Men's Basketball\n",
       "1    Judo Men's Extra-Lightweight\n",
       "2         Football Men's Football\n",
       "3     Tug-Of-War Men's Tug-Of-War\n",
       "4    Athletics Women's 100 metres\n",
       "Name: Event, dtype: object"
      ]
     },
     "execution_count": 24,
     "metadata": {},
     "output_type": "execute_result"
    }
   ],
   "source": [
    "letnje_igre['Event'].head() # ovde smo kolonu pozvali koriscenjem uglastih zagrada, isto radi i letnje_igre.Event"
   ]
  },
  {
   "cell_type": "markdown",
   "id": "82198330",
   "metadata": {},
   "source": [
    "Понављамо исти метод груписања и бројања, а затим ћемо нацртати податке, овај пут користећи `plt.bar`:"
   ]
  },
  {
   "cell_type": "code",
   "execution_count": 25,
   "id": "efe5b89b",
   "metadata": {},
   "outputs": [
    {
     "data": {
      "image/png": "[encoded data removed]",
      "text/plain": [
       "<Figure size 432x288 with 1 Axes>"
      ]
     },
     "metadata": {
      "needs_background": "light"
     },
     "output_type": "display_data"
    }
   ],
   "source": [
    "broj_disciplina = letnje_igre.groupby(['Year'])['Event'].unique().apply(len) # broj jedinstvenih takmicarskih dogadjaja u okviru olimpijskih igara\n",
    "\n",
    "plt.bar(broj_disciplina.index, broj_disciplina, color=olimpijska_plava) # crtamo stubicasti dijagram\n",
    "plt.xlabel('Година одржавања Олимпијских игара') # ime x ose\n",
    "plt.ylabel('Број такмичарских дисциплина') # ime y ose\n",
    "plt.show()"
   ]
  },
  {
   "cell_type": "markdown",
   "id": "089743ca",
   "metadata": {},
   "source": [
    "На последњем графику смо испробали још једну опцију визуализације ових временски променљивих података - стубичасти дијаграм. Функцији `bar` проследили смо 2 аргумента (слично као и код претходних функција за цртање), међутим за разлику од `plot` или `scatter` функције код које х координате морају бити нумерчког типа, овде је могуће искористити и категоричке податке на х оси. Међутим, у нашем случају х координате су године одржавања ОИ, стога их и функција за цртање стубића смешта на бројевну праву и поставља одговарајући размак између њих. Због чињенице да имамо преко 20 стубића који су удаљени углавном по 4 године, ширина стубића у овој основној верзији је јако мала, па је мала разлика између овог дијаграма и лизалица које смо цртали раније. Ако међутм искористимо стубичасти дијаграм са `plot` функцијом у оквиру `pandas` библиотеке коришћењем аргумента `kind='bar'` можемо видети да су стубићи шири и једнако удаљени један од другог:"
   ]
  },
  {
   "cell_type": "code",
   "execution_count": 26,
   "id": "b3128aed",
   "metadata": {
    "scrolled": true
   },
   "outputs": [
    {
     "data": {
      "image/png": "[encoded data removed]",
      "text/plain": [
       "<Figure size 432x288 with 1 Axes>"
      ]
     },
     "metadata": {
      "needs_background": "light"
     },
     "output_type": "display_data"
    }
   ],
   "source": [
    "broj_disciplina.plot(kind='bar', color=olimpijska_plava) # crtamo stubicasti dijagram\n",
    "#i ovo je jedna moguca opcija za prakticno isti dijagram, samo sa drugom bibliotekom plt\n",
    "#plt.bar(broj_disciplina.index.astype(str), broj_disciplina) \n",
    "#plt.xticks(rotation='vertical') # ako iskoristite plt.bar za crtanje, morate iskoristiti i ovu funkciju za rotaciju naziva podeoka na x osi da biste mogli da ih procitate \n",
    "plt.xlabel('Година одржавања Олимпијских игара') # ime x ose\n",
    "plt.ylabel('Број такмичарских дисциплина') # ime y ose\n",
    "plt.show()"
   ]
  },
  {
   "cell_type": "markdown",
   "id": "8e87ac3c",
   "metadata": {},
   "source": [
    "То је зато што у овом случају индексна колона, тј. година одржавања није интерпретирана као број који треба сместити на бројевну праву, већ као назив стубића који је обележен испод сваког стубића. И ово може бити ок приказ ако желимо само да демонстрирамо да је број медаља, тј. дисциплина из којих се додељују медаље, углавном растао током историје олимпијских игара. Треба само бити опрезан око тога да смо на овај начин изгубили информацију о томе да се олимпијаде нису одржавале током ратних година (само ће врло пажљив читалац загледати да ли су вредности година на х оси увек удаљене 4 године једна од друге)."
   ]
  },
  {
   "cell_type": "markdown",
   "id": "394025bb",
   "metadata": {},
   "source": [
    "Интересантно је да број дисциплина, односно спортских такмичење у којима се додељују медаље правилније расте и од броја такмичара и од броја држава учесница. Обратите пажњу овде нема толико наглих падова попут година 1980 када је забележен пад држава учесница, или у непосредној близини ратних година као што смо видели у бројевима такмичара. Разлог томе лежи у чињеници да се спортске дисциплине и медаље планирају у организацији Олимпијских игара, независно од тога колико ће се држава појавити у такмичењу (да ли ће неке бојкотовати или не) и колико ће такмичара различите земље послати. Можемо видети да се број медаља стабилизовао тек у последњих пар летњих олимпијских игара које разматрамо у овој анализи."
   ]
  },
  {
   "cell_type": "markdown",
   "id": "440d6a20",
   "metadata": {},
   "source": [
    "<div class=\"alert alert-block alert-info\"><img src=\"sport_slike/zad.png\" align=\"left\"/>Претходно смо пребројали дисциплине у којима се додељују медаље, али у неким дисциплинама то значи да само једна особа добија златну медаљу (нпр. маратон), док у некима то значи да цео тим (нпр. тим одбојкашица) добија по медаљу. Како бисте израчунали колико тачно медаља (нпр. само златних) су припремили организатори сваких летњих олимпијских игара?</div> "
   ]
  },
  {
   "cell_type": "code",
   "execution_count": 27,
   "id": "6d0027a9",
   "metadata": {
    "scrolled": true
   },
   "outputs": [],
   "source": [
    "# # resenje\n",
    "\n",
    "# zlatne_medalje = letnje_igre[letnje_igre.Medal=='Gold']\n",
    "# zm_god = zlatne_medalje.groupby('Year').size()\n",
    "# plt.plot(zm_god,marker='o', color=olimpijska_plava)\n",
    "# plt.show()\n",
    "\n",
    "# # izgleda da je 20ih bilo dosta vise grupnih sportova, to se moze proveriti i koliko je vise medalja u odnosu na discipline\n",
    "# #zm_god2 = zm_god/broj_disciplina\n",
    "# #plt.plot(zm_god2,marker='o')"
   ]
  },
  {
   "cell_type": "markdown",
   "id": "faa6d615",
   "metadata": {},
   "source": [
    "<div class=\"alert alert-block alert-info\"><img src=\"sport_slike/zad.png\" align=\"left\"/>Користећи исте методе груписања и бројања, како бисте издвојили 10 спортиста који су освојили највише (златних) медаља?</div> "
   ]
  },
  {
   "cell_type": "code",
   "execution_count": 28,
   "id": "4773001c",
   "metadata": {},
   "outputs": [],
   "source": [
    "# # resenje\n",
    "# # lista id-jeva\n",
    "# letnje_igre[letnje_igre.Medal.isin(['Gold','Silver','Bronze'])].groupby(\"ID\").size().sort_values(ascending=False)[:10]"
   ]
  },
  {
   "cell_type": "code",
   "execution_count": 29,
   "id": "a4fc7bfb",
   "metadata": {
    "scrolled": true
   },
   "outputs": [],
   "source": [
    "# #resenje\n",
    "# #pregled jednog od id\n",
    "# letnje_igre[letnje_igre.ID==67046]"
   ]
  },
  {
   "cell_type": "code",
   "execution_count": 30,
   "id": "42159ec6",
   "metadata": {},
   "outputs": [],
   "source": [
    "# # resenje\n",
    "# # grupisanje po dve kolone, ali to objasnjavamo tek u sledecoj lekciji\n",
    "# letnje_igre[letnje_igre.Medal.isin(['Gold','Silver','Bronze'])].groupby([\"ID\",'Name']).size().sort_values(ascending=False)[:10]"
   ]
  }
 ],
 "metadata": {
  "kernelspec": {
   "display_name": "petljaGEO",
   "language": "python",
   "name": "petljageo"
  },
  "language_info": {
   "codemirror_mode": {
    "name": "ipython",
    "version": 3
   },
   "file_extension": ".py",
   "mimetype": "text/x-python",
   "name": "python",
   "nbconvert_exporter": "python",
   "pygments_lexer": "ipython3",
   "version": "3.9.7"
  }
 },
 "nbformat": 4,
 "nbformat_minor": 5
}
