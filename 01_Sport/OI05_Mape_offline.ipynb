{
 "cells": [
  {
   "cell_type": "markdown",
   "id": "04ee51e7",
   "metadata": {},
   "source": [
    "## 5. Представљање података на мапи света"
   ]
  },
  {
   "cell_type": "markdown",
   "id": "d5960486",
   "metadata": {},
   "source": [
    "Претходно смо видели пар начина да неке од података о успешности на олимпијским играма представимо графички. Међутим, у свим тим начинима информацију о држави сводили смо на име, \"категорију\" података и тим именом смо обележавали одговарајуће стубиће или тачкице. Тако смо заборављали на разна друга знања која ми имамо о државама, тако и на пример где се оне налазе на мапи света. У наставку ћемо видети како можемо да истакнемо државе добитнице медаља на мапи уз помоћ библиотеке [geopandas](https://geopandas.org/docs.html). "
   ]
  },
  {
   "cell_type": "markdown",
   "id": "4170975d",
   "metadata": {},
   "source": [
    "Ова библиотека нам је од користи када год учитварамо или манипулишемо подацима у којима очекујемо да ће се наћи геометријски подаци, а облик држава је управо такав податак. Иако у пајтону можемо читати податке из фајлова на много различитих начина, предности коришћења библиотека попут библиотеке `pandas` или `geopandas` леже у томе што је са подацима аутоматски учитан и препознат и њихов формат, као и чињеница да обе библиотеке садрже прегршт функција оптимизованих за податке са којима знају да баратају. Тако када у подацима који су нам на располагању имамо податке о геометрији, `geopandas` је одличан избор. Сличност ове две библиотеке није само у имену, као што ћемо видети и логика коришћење и манипулација података у оквиру геопандас библиотеке је доста слична свему на шта смо навикли код панда. У локалном фолдеру са подацима, поред података о спорту имамо припремљене податке о мапи света, тј. контурама држава. Учитаћемо те податке уз помоћ функције [read_file](https://geopandas.org/en/stable/docs/reference/api/geopandas.read_file.html) библиотеке `geopandas`:"
   ]
  },
  {
   "cell_type": "code",
   "execution_count": 1,
   "id": "2a9ab1ab",
   "metadata": {},
   "outputs": [],
   "source": [
    "# ucitavanje neophodnih biblioteka za rad sa podacima u nastavku\n",
    "\n",
    "import pandas as pd # manipulacija tabelarnim podacima\n",
    "import geopandas as gpd # manipulacija tabelarnim podacima koji sadrze geometrijske informacije\n",
    "import matplotlib.pyplot as plt # data vizualizacija"
   ]
  },
  {
   "cell_type": "code",
   "execution_count": 2,
   "id": "8f6043ca",
   "metadata": {
    "scrolled": true
   },
   "outputs": [
    {
     "data": {
      "text/html": [
       "<div>\n",
       "<style scoped>\n",
       "    .dataframe tbody tr th:only-of-type {\n",
       "        vertical-align: middle;\n",
       "    }\n",
       "\n",
       "    .dataframe tbody tr th {\n",
       "        vertical-align: top;\n",
       "    }\n",
       "\n",
       "    .dataframe thead th {\n",
       "        text-align: right;\n",
       "    }\n",
       "</style>\n",
       "<table border=\"1\" class=\"dataframe\">\n",
       "  <thead>\n",
       "    <tr style=\"text-align: right;\">\n",
       "      <th></th>\n",
       "      <th>continent</th>\n",
       "      <th>name</th>\n",
       "      <th>iso_a3</th>\n",
       "      <th>geometry</th>\n",
       "    </tr>\n",
       "  </thead>\n",
       "  <tbody>\n",
       "    <tr>\n",
       "      <th>0</th>\n",
       "      <td>Oceania</td>\n",
       "      <td>Fiji</td>\n",
       "      <td>FJI</td>\n",
       "      <td>MULTIPOLYGON (((180.00000 -16.06713, 180.00000...</td>\n",
       "    </tr>\n",
       "    <tr>\n",
       "      <th>1</th>\n",
       "      <td>Africa</td>\n",
       "      <td>Tanzania</td>\n",
       "      <td>TZA</td>\n",
       "      <td>POLYGON ((33.90371 -0.95000, 34.07262 -1.05982...</td>\n",
       "    </tr>\n",
       "    <tr>\n",
       "      <th>2</th>\n",
       "      <td>Africa</td>\n",
       "      <td>W. Sahara</td>\n",
       "      <td>ESH</td>\n",
       "      <td>POLYGON ((-8.66559 27.65643, -8.66512 27.58948...</td>\n",
       "    </tr>\n",
       "    <tr>\n",
       "      <th>3</th>\n",
       "      <td>North America</td>\n",
       "      <td>Canada</td>\n",
       "      <td>CAN</td>\n",
       "      <td>MULTIPOLYGON (((-122.84000 49.00000, -122.9742...</td>\n",
       "    </tr>\n",
       "    <tr>\n",
       "      <th>4</th>\n",
       "      <td>North America</td>\n",
       "      <td>United States of America</td>\n",
       "      <td>USA</td>\n",
       "      <td>MULTIPOLYGON (((-122.84000 49.00000, -120.0000...</td>\n",
       "    </tr>\n",
       "  </tbody>\n",
       "</table>\n",
       "</div>"
      ],
      "text/plain": [
       "       continent                      name iso_a3  \\\n",
       "0        Oceania                      Fiji    FJI   \n",
       "1         Africa                  Tanzania    TZA   \n",
       "2         Africa                 W. Sahara    ESH   \n",
       "3  North America                    Canada    CAN   \n",
       "4  North America  United States of America    USA   \n",
       "\n",
       "                                            geometry  \n",
       "0  MULTIPOLYGON (((180.00000 -16.06713, 180.00000...  \n",
       "1  POLYGON ((33.90371 -0.95000, 34.07262 -1.05982...  \n",
       "2  POLYGON ((-8.66559 27.65643, -8.66512 27.58948...  \n",
       "3  MULTIPOLYGON (((-122.84000 49.00000, -122.9742...  \n",
       "4  MULTIPOLYGON (((-122.84000 49.00000, -120.0000...  "
      ]
     },
     "execution_count": 2,
     "metadata": {},
     "output_type": "execute_result"
    }
   ],
   "source": [
    "svet = gpd.read_file('sport_podaci/mapa_sveta.xlsx') # učitavanje fajla koji sadrži geometrijske podatke o svetskim državama\n",
    "svet.head() # prikaz prvih 5 redova"
   ]
  },
  {
   "cell_type": "markdown",
   "id": "d4eecbea",
   "metadata": {},
   "source": [
    "Првих 5 редова смо проверили на исти начин као што смо то радили до сада и на први поглед нам делује као да је у питању још једна табела слична онима које смо до сада користили. Видимо да колона са називом `iso_a3` садржи скраћено име земаља у виду три слова, на која смо наилазили и у до сада анализираним олимпијским подацима (тамо у колони `NOC`), ова скраћеница у називу колоне упућује на [стандард](https://en.wikipedia.org/wiki/ISO_3166-1_alpha-3) по коме су трословне скраћенице имена држава настале. Једна колона делује необичније него остале, па хајде да проверимо да ли има више информација о колонама и типовима података у њима (то је такође исто као у `pandas` библиотеци):"
   ]
  },
  {
   "cell_type": "code",
   "execution_count": 3,
   "id": "394aed6d",
   "metadata": {
    "scrolled": true
   },
   "outputs": [
    {
     "name": "stdout",
     "output_type": "stream",
     "text": [
      "<class 'geopandas.geodataframe.GeoDataFrame'>\n",
      "RangeIndex: 176 entries, 0 to 175\n",
      "Data columns (total 4 columns):\n",
      " #   Column     Non-Null Count  Dtype   \n",
      "---  ------     --------------  -----   \n",
      " 0   continent  176 non-null    object  \n",
      " 1   name       176 non-null    object  \n",
      " 2   iso_a3     176 non-null    object  \n",
      " 3   geometry   176 non-null    geometry\n",
      "dtypes: geometry(1), object(3)\n",
      "memory usage: 5.6+ KB\n"
     ]
    }
   ],
   "source": [
    "svet.info()"
   ]
  },
  {
   "cell_type": "markdown",
   "id": "300ffd52",
   "metadata": {},
   "source": [
    "Видимо да колона чији су први уноси садржале кључне речи \"полигон\" садржи геометријски тип података. Више на ту тему можете прочитати у [документацији](https://geopandas.org/docs/reference/api/geopandas.GeoSeries.html), а ми ћемо у наставку практично приказати тај садржај.\n",
    "Као што смо најавили подаци садрже \"мапу света\" тако да поред имена сваке земље имамо неке информације о томе како нацртати контуре те земље. То можемо тестирати тако што искористимо функцију [plot](https://geopandas.org/mapping.html) над целим скупом података или на земљама по избору. Ево на пример једне од земаља карактеристичног облика:"
   ]
  },
  {
   "cell_type": "code",
   "execution_count": 4,
   "id": "24ed0af3",
   "metadata": {},
   "outputs": [
    {
     "name": "stdout",
     "output_type": "stream",
     "text": [
      "    continent   name iso_a3                                           geometry\n",
      "141    Europe  Italy    ITA  MULTIPOLYGON (((10.44270 46.89355, 11.04856 46...\n"
     ]
    },
    {
     "data": {
      "image/png": "[encoded data removed]",
      "text/plain": [
       "<Figure size 432x288 with 1 Axes>"
      ]
     },
     "metadata": {
      "needs_background": "light"
     },
     "output_type": "display_data"
    }
   ],
   "source": [
    "svet[svet.name=='Italy'].plot() # selektujemo red tabele koji u koloni ime sadrzi rec \"Italy\" i crtamo red plot funkcijom\n",
    "print(svet[svet.name=='Italy']) # stampamo selektovani red tabele koji smo i nacrtali"
   ]
  },
  {
   "cell_type": "markdown",
   "id": "4f2c8d2e",
   "metadata": {},
   "source": [
    "Поред цртања облика Италије (које функција обавља на основу података у колони геометрија, енг. *geometry*) одштампали смо и саджај датог реда у подацима да се уверимо да у њему није постојало ништа друго што би могло подстаћи цртање овог карактеристичног облика осим поља у колони геометрија. Видимо да је у питању више полигона (енг. *MULTIPOLYGON*), односно изломљених затворених линија, што видимо и на цртежу (Италија међу територијама поред полуострва има и 2 острва, тако да је то 3 полигона). За потребе које ћемо ми користити у наставку, размишљајте о овој колони као о низу координата тачака које треба спојити да би се на мапи добио облик земље коју хоћете да нацртате (што је практично све што се налази у нашем скупу података), али ова библиотека има далеко више могућности за цртање које вам препоручујемо да наставите да истражујете."
   ]
  },
  {
   "cell_type": "markdown",
   "id": "7d454037",
   "metadata": {},
   "source": [
    "Гледајући слику Италије сигурно примећујете и да она није превише детаљна. Ако сте гледали неке друге мапе или сателитске слике видели сте много мање оштрих ивица, али ово је ниво детаљности који нам је потребан када цртамо цео свет. Када за који тренутак на истом цртежу видимо све земље, неће бити потребе да свака појединачна земља буде нацртана детаљније ни прецизније од овога што видимо на примеру Италије. Као што смо применили функцију `plot()` на један ред података, тако је можемо искористити да видимо све земље у скупу података `svet`:"
   ]
  },
  {
   "cell_type": "code",
   "execution_count": 5,
   "id": "23ac0175",
   "metadata": {},
   "outputs": [
    {
     "data": {
      "text/plain": [
       "<AxesSubplot:>"
      ]
     },
     "execution_count": 5,
     "metadata": {},
     "output_type": "execute_result"
    },
    {
     "data": {
      "image/png": "[encoded data removed]",
      "text/plain": [
       "<Figure size 432x288 with 1 Axes>"
      ]
     },
     "metadata": {
      "needs_background": "light"
     },
     "output_type": "display_data"
    }
   ],
   "source": [
    "svet.plot() # crtamo mapu sveta"
   ]
  },
  {
   "cell_type": "markdown",
   "id": "d8984e41",
   "metadata": {},
   "source": [
    "Иако су све једнако грубо нацртане као Италија, једноставном функцијом добили смо одличну мапу света, али је ипак можемо још мало прилагодити за наше потребе. \n",
    "\n",
    "Зато што нам је фокус на представљање држава добитница медаља на олимпијадама, није потребно да тако велики део слике буде Јужни пол који је ненасељен. Стога ћемо искључити ред посвећен Антарктику из података и нацртати још једном ову мапу пре него што кренемо да је бојимо."
   ]
  },
  {
   "cell_type": "code",
   "execution_count": 6,
   "id": "09ce008a",
   "metadata": {
    "scrolled": true
   },
   "outputs": [
    {
     "data": {
      "text/plain": [
       "<AxesSubplot:>"
      ]
     },
     "execution_count": 6,
     "metadata": {},
     "output_type": "execute_result"
    },
    {
     "data": {
      "image/png": "[encoded data removed]",
      "text/plain": [
       "<Figure size 432x288 with 1 Axes>"
      ]
     },
     "metadata": {
      "needs_background": "light"
     },
     "output_type": "display_data"
    }
   ],
   "source": [
    "svet = svet[(svet.name!=\"Antarctica\")] # slektujemo redove tabele svet, tako da ime teritorije NIJE Antarktik i to čuvamo ponovo u promenljivoj svet\n",
    "svet.plot() # crtamo ovaj izmenjeni svet"
   ]
  },
  {
   "cell_type": "markdown",
   "id": "2c6ded3c",
   "metadata": {},
   "source": [
    "Као што сте видели, када имате одговарајући фајл са геометријским подацима, цртање неме карте је врло једноставно. Кључно је дакле доћи до геометријских података, али су и они лако доступни, нпр. [овде](https://opendata.geosrbija.rs/) можете наћи податке о Србији са поделом на општине и  округе, а један пример њихове употребе можете наћи [овде](https://petlja.org/biblioteka/r/lekcije/jupyterRadneSveske_srb/srednjo%C5%A1kolci-u-republici-srbiji-3). \n",
    "\n",
    "Једна ствар на коју додатно треба обратити пажњу је [тип пројекције](https://en.wikipedia.org/wiki/List_of_map_projections), односно увек освестити чињеницу да се свет настанио на облику сличном лопти и да када покушавамо то да нацртамо на дводимензионој површини попут нашег дисплеја, неке ствари ће изгледати издуженије него што су стварно, или веће/мање него што су стварно, те зависно од тога на шта желите да се фокусирате треба одабрати одговарајућу пројекцију."
   ]
  },
  {
   "cell_type": "markdown",
   "id": "b936b7e6",
   "metadata": {},
   "source": [
    "Сада је време да различите државе обојимо тако да истакнемо оне које су освојиле више медаља. И то ће бити прилично једноставно, али је пре цртања неопходно у једну исту табелу сместити и податке о геометрији земаља (управо дискутована табела `svet`) и податке о медаљама које смо претходно припремили. "
   ]
  },
  {
   "cell_type": "markdown",
   "id": "c7cf756e",
   "metadata": {},
   "source": [
    "<details>    \n",
    "<summary>\n",
    "    <font color=\"darkgreen\"><b>Да ли се сећате којом функцијом спајамо табеле?</b>\n",
    "</font>\n",
    "</summary>\n",
    "У питању је функција merge, можете се подсетити о њеним особинама у документацији овде https://pandas.pydata.org/pandas-docs/stable/reference/api/pandas.DataFrame.merge.html."
   ]
  },
  {
   "cell_type": "markdown",
   "id": "e92d8b76",
   "metadata": {},
   "source": [
    "Учитавамо претходно припрељене податке са бројем медаља по земљама:"
   ]
  },
  {
   "cell_type": "code",
   "execution_count": 7,
   "id": "00519190",
   "metadata": {},
   "outputs": [
    {
     "data": {
      "text/html": [
       "<div>\n",
       "<style scoped>\n",
       "    .dataframe tbody tr th:only-of-type {\n",
       "        vertical-align: middle;\n",
       "    }\n",
       "\n",
       "    .dataframe tbody tr th {\n",
       "        vertical-align: top;\n",
       "    }\n",
       "\n",
       "    .dataframe thead th {\n",
       "        text-align: right;\n",
       "    }\n",
       "</style>\n",
       "<table border=\"1\" class=\"dataframe\">\n",
       "  <thead>\n",
       "    <tr style=\"text-align: right;\">\n",
       "      <th></th>\n",
       "      <th>NOC</th>\n",
       "      <th>Gold</th>\n",
       "      <th>Silver</th>\n",
       "      <th>Bronze</th>\n",
       "      <th>Total</th>\n",
       "      <th>Team</th>\n",
       "      <th>Broj_timova</th>\n",
       "      <th>Uspesnost_timova</th>\n",
       "    </tr>\n",
       "  </thead>\n",
       "  <tbody>\n",
       "    <tr>\n",
       "      <th>0</th>\n",
       "      <td>USA</td>\n",
       "      <td>46</td>\n",
       "      <td>28</td>\n",
       "      <td>29</td>\n",
       "      <td>103</td>\n",
       "      <td>United States</td>\n",
       "      <td>245</td>\n",
       "      <td>42.040816</td>\n",
       "    </tr>\n",
       "    <tr>\n",
       "      <th>1</th>\n",
       "      <td>CHN</td>\n",
       "      <td>38</td>\n",
       "      <td>27</td>\n",
       "      <td>23</td>\n",
       "      <td>88</td>\n",
       "      <td>China</td>\n",
       "      <td>206</td>\n",
       "      <td>42.718447</td>\n",
       "    </tr>\n",
       "  </tbody>\n",
       "</table>\n",
       "</div>"
      ],
      "text/plain": [
       "   NOC  Gold  Silver  Bronze  Total           Team  Broj_timova  \\\n",
       "0  USA    46      28      29    103  United States          245   \n",
       "1  CHN    38      27      23     88          China          206   \n",
       "\n",
       "   Uspesnost_timova  \n",
       "0         42.040816  \n",
       "1         42.718447  "
      ]
     },
     "execution_count": 7,
     "metadata": {},
     "output_type": "execute_result"
    }
   ],
   "source": [
    "sve_medalje = pd.read_csv('sport_podaci/oi2012_medalje_po_zemljama.csv') \n",
    "sve_medalje.head(2)"
   ]
  },
  {
   "cell_type": "markdown",
   "id": "ed6cbf8b",
   "metadata": {},
   "source": [
    "Спајамо табеле са информацијама о медаљама са табелом у којој се налазе географски подаци. Зато што се колоне које садрже податке по којима ћемо спајати табеле (име државе) не зову исто у различитим табелама, користићемо мало другачији формат у функцији `merge`. Коришћењем аргумената `left` и `right` обележићемо 2 табеле као леву и десну табелу за спајање, а затим ће и претходно коришћени аргумент `on`(колона по којој спајамо табеле) добити своју леву и десну верзију у виду аргумената `left_on` и `right_on`. Ово значи да ћемо на пример спајајући податке о Кини, у табели `sve_medalje` тражити име `China` у колони `Team`, а у табели `svet` тражити исто име у колони `name`. Када нађемо одговарајуће редове, њих ћемо спојити и тај процес ћемо наставити за све земље. Сетите се, ако не искористимо аргумент `how`, процес спајања направиће табелу која садржи само државе чија се имена налазе и у једној и у другој листи. У овом случају, ми желимо да нађемо географске податке за све земље за које имамо податке о медаљама, зато ћемо искористити `how='left'`."
   ]
  },
  {
   "cell_type": "code",
   "execution_count": 8,
   "id": "60dc82aa",
   "metadata": {},
   "outputs": [
    {
     "data": {
      "text/html": [
       "<div>\n",
       "<style scoped>\n",
       "    .dataframe tbody tr th:only-of-type {\n",
       "        vertical-align: middle;\n",
       "    }\n",
       "\n",
       "    .dataframe tbody tr th {\n",
       "        vertical-align: top;\n",
       "    }\n",
       "\n",
       "    .dataframe thead th {\n",
       "        text-align: right;\n",
       "    }\n",
       "</style>\n",
       "<table border=\"1\" class=\"dataframe\">\n",
       "  <thead>\n",
       "    <tr style=\"text-align: right;\">\n",
       "      <th></th>\n",
       "      <th>NOC</th>\n",
       "      <th>Gold</th>\n",
       "      <th>Silver</th>\n",
       "      <th>Bronze</th>\n",
       "      <th>Total</th>\n",
       "      <th>Team</th>\n",
       "      <th>Broj_timova</th>\n",
       "      <th>Uspesnost_timova</th>\n",
       "      <th>continent</th>\n",
       "      <th>name</th>\n",
       "      <th>iso_a3</th>\n",
       "      <th>geometry</th>\n",
       "    </tr>\n",
       "  </thead>\n",
       "  <tbody>\n",
       "    <tr>\n",
       "      <th>0</th>\n",
       "      <td>USA</td>\n",
       "      <td>46</td>\n",
       "      <td>28</td>\n",
       "      <td>29</td>\n",
       "      <td>103</td>\n",
       "      <td>United States</td>\n",
       "      <td>245</td>\n",
       "      <td>42.040816</td>\n",
       "      <td>NaN</td>\n",
       "      <td>NaN</td>\n",
       "      <td>NaN</td>\n",
       "      <td>None</td>\n",
       "    </tr>\n",
       "    <tr>\n",
       "      <th>1</th>\n",
       "      <td>CHN</td>\n",
       "      <td>38</td>\n",
       "      <td>27</td>\n",
       "      <td>23</td>\n",
       "      <td>88</td>\n",
       "      <td>China</td>\n",
       "      <td>206</td>\n",
       "      <td>42.718447</td>\n",
       "      <td>Asia</td>\n",
       "      <td>China</td>\n",
       "      <td>CHN</td>\n",
       "      <td>MULTIPOLYGON (((109.47521 18.19770, 108.65521 ...</td>\n",
       "    </tr>\n",
       "    <tr>\n",
       "      <th>2</th>\n",
       "      <td>RUS</td>\n",
       "      <td>24</td>\n",
       "      <td>26</td>\n",
       "      <td>32</td>\n",
       "      <td>82</td>\n",
       "      <td>Russia</td>\n",
       "      <td>238</td>\n",
       "      <td>34.453782</td>\n",
       "      <td>Europe</td>\n",
       "      <td>Russia</td>\n",
       "      <td>RUS</td>\n",
       "      <td>MULTIPOLYGON (((178.72530 71.09880, 180.00000 ...</td>\n",
       "    </tr>\n",
       "    <tr>\n",
       "      <th>3</th>\n",
       "      <td>GBR</td>\n",
       "      <td>29</td>\n",
       "      <td>17</td>\n",
       "      <td>19</td>\n",
       "      <td>65</td>\n",
       "      <td>Great Britain</td>\n",
       "      <td>249</td>\n",
       "      <td>26.104418</td>\n",
       "      <td>NaN</td>\n",
       "      <td>NaN</td>\n",
       "      <td>NaN</td>\n",
       "      <td>None</td>\n",
       "    </tr>\n",
       "    <tr>\n",
       "      <th>4</th>\n",
       "      <td>GER</td>\n",
       "      <td>11</td>\n",
       "      <td>19</td>\n",
       "      <td>14</td>\n",
       "      <td>44</td>\n",
       "      <td>Germany</td>\n",
       "      <td>213</td>\n",
       "      <td>20.657277</td>\n",
       "      <td>Europe</td>\n",
       "      <td>Germany</td>\n",
       "      <td>DEU</td>\n",
       "      <td>POLYGON ((14.11969 53.75703, 14.35332 53.24817...</td>\n",
       "    </tr>\n",
       "  </tbody>\n",
       "</table>\n",
       "</div>"
      ],
      "text/plain": [
       "   NOC  Gold  Silver  Bronze  Total           Team  Broj_timova  \\\n",
       "0  USA    46      28      29    103  United States          245   \n",
       "1  CHN    38      27      23     88          China          206   \n",
       "2  RUS    24      26      32     82         Russia          238   \n",
       "3  GBR    29      17      19     65  Great Britain          249   \n",
       "4  GER    11      19      14     44        Germany          213   \n",
       "\n",
       "   Uspesnost_timova continent     name iso_a3  \\\n",
       "0         42.040816       NaN      NaN    NaN   \n",
       "1         42.718447      Asia    China    CHN   \n",
       "2         34.453782    Europe   Russia    RUS   \n",
       "3         26.104418       NaN      NaN    NaN   \n",
       "4         20.657277    Europe  Germany    DEU   \n",
       "\n",
       "                                            geometry  \n",
       "0                                               None  \n",
       "1  MULTIPOLYGON (((109.47521 18.19770, 108.65521 ...  \n",
       "2  MULTIPOLYGON (((178.72530 71.09880, 180.00000 ...  \n",
       "3                                               None  \n",
       "4  POLYGON ((14.11969 53.75703, 14.35332 53.24817...  "
      ]
     },
     "execution_count": 8,
     "metadata": {},
     "output_type": "execute_result"
    }
   ],
   "source": [
    "svet_medalja = pd.merge(left = sve_medalje, right = svet, left_on = 'Team', right_on = 'name',how='left') # spajanje tabela i cuvanje rezultata u novoj promenljivoj\n",
    "svet_medalja.head()"
   ]
  },
  {
   "cell_type": "markdown",
   "id": "3c48ff52",
   "metadata": {},
   "source": [
    "Већ у првим редовима, видимо примере држава код којих није дошло до спајања (нпр. Америка, Велика Британија), да би видели колико је таквих примера, погледајмо попуњеност табеле:"
   ]
  },
  {
   "cell_type": "code",
   "execution_count": 9,
   "id": "96cbdea0",
   "metadata": {},
   "outputs": [
    {
     "name": "stdout",
     "output_type": "stream",
     "text": [
      "<class 'pandas.core.frame.DataFrame'>\n",
      "Int64Index: 85 entries, 0 to 84\n",
      "Data columns (total 12 columns):\n",
      " #   Column            Non-Null Count  Dtype   \n",
      "---  ------            --------------  -----   \n",
      " 0   NOC               85 non-null     object  \n",
      " 1   Gold              85 non-null     int64   \n",
      " 2   Silver            85 non-null     int64   \n",
      " 3   Bronze            85 non-null     int64   \n",
      " 4   Total             85 non-null     int64   \n",
      " 5   Team              85 non-null     object  \n",
      " 6   Broj_timova       85 non-null     int64   \n",
      " 7   Uspesnost_timova  85 non-null     float64 \n",
      " 8   continent         76 non-null     object  \n",
      " 9   name              76 non-null     object  \n",
      " 10  iso_a3            76 non-null     object  \n",
      " 11  geometry          76 non-null     geometry\n",
      "dtypes: float64(1), geometry(1), int64(5), object(5)\n",
      "memory usage: 8.6+ KB\n"
     ]
    }
   ],
   "source": [
    "svet_medalja.info()"
   ]
  },
  {
   "cell_type": "markdown",
   "id": "52cb6fd2",
   "metadata": {},
   "source": [
    "Овде видимо да у табели постоји 9 држава код којих спајање није успело, тј. вредности колона из табеле свет нису попуњене у 9 редова (колона `NOC` има 85 уноса, док колона `geometry` има 76 уноса). Можемо направити нову табелу у којој ће бити само они редови у којима није дошло да спаривања, и исте редове избрисати из новокреиране табеле где желимо сачувати потпуне податке из обе табеле. Погледајмо којих је то 9 земаља и покушајмо да схватимо шта се десило:"
   ]
  },
  {
   "cell_type": "code",
   "execution_count": 10,
   "id": "67fb8e37",
   "metadata": {},
   "outputs": [
    {
     "data": {
      "text/html": [
       "<div>\n",
       "<style scoped>\n",
       "    .dataframe tbody tr th:only-of-type {\n",
       "        vertical-align: middle;\n",
       "    }\n",
       "\n",
       "    .dataframe tbody tr th {\n",
       "        vertical-align: top;\n",
       "    }\n",
       "\n",
       "    .dataframe thead th {\n",
       "        text-align: right;\n",
       "    }\n",
       "</style>\n",
       "<table border=\"1\" class=\"dataframe\">\n",
       "  <thead>\n",
       "    <tr style=\"text-align: right;\">\n",
       "      <th></th>\n",
       "      <th>NOC</th>\n",
       "      <th>Gold</th>\n",
       "      <th>Silver</th>\n",
       "      <th>Bronze</th>\n",
       "      <th>Total</th>\n",
       "      <th>Team</th>\n",
       "      <th>Broj_timova</th>\n",
       "      <th>Uspesnost_timova</th>\n",
       "      <th>continent</th>\n",
       "      <th>name</th>\n",
       "      <th>iso_a3</th>\n",
       "      <th>geometry</th>\n",
       "    </tr>\n",
       "  </thead>\n",
       "  <tbody>\n",
       "    <tr>\n",
       "      <th>0</th>\n",
       "      <td>USA</td>\n",
       "      <td>46</td>\n",
       "      <td>28</td>\n",
       "      <td>29</td>\n",
       "      <td>103</td>\n",
       "      <td>United States</td>\n",
       "      <td>245</td>\n",
       "      <td>42.040816</td>\n",
       "      <td>NaN</td>\n",
       "      <td>NaN</td>\n",
       "      <td>NaN</td>\n",
       "      <td>None</td>\n",
       "    </tr>\n",
       "    <tr>\n",
       "      <th>3</th>\n",
       "      <td>GBR</td>\n",
       "      <td>29</td>\n",
       "      <td>17</td>\n",
       "      <td>19</td>\n",
       "      <td>65</td>\n",
       "      <td>Great Britain</td>\n",
       "      <td>249</td>\n",
       "      <td>26.104418</td>\n",
       "      <td>NaN</td>\n",
       "      <td>NaN</td>\n",
       "      <td>NaN</td>\n",
       "      <td>None</td>\n",
       "    </tr>\n",
       "    <tr>\n",
       "      <th>25</th>\n",
       "      <td>CZE</td>\n",
       "      <td>4</td>\n",
       "      <td>3</td>\n",
       "      <td>3</td>\n",
       "      <td>10</td>\n",
       "      <td>Czech Republic</td>\n",
       "      <td>99</td>\n",
       "      <td>10.101010</td>\n",
       "      <td>NaN</td>\n",
       "      <td>NaN</td>\n",
       "      <td>NaN</td>\n",
       "      <td>None</td>\n",
       "    </tr>\n",
       "    <tr>\n",
       "      <th>56</th>\n",
       "      <td>SGP</td>\n",
       "      <td>0</td>\n",
       "      <td>0</td>\n",
       "      <td>2</td>\n",
       "      <td>2</td>\n",
       "      <td>Singapore</td>\n",
       "      <td>29</td>\n",
       "      <td>6.896552</td>\n",
       "      <td>NaN</td>\n",
       "      <td>NaN</td>\n",
       "      <td>NaN</td>\n",
       "      <td>None</td>\n",
       "    </tr>\n",
       "    <tr>\n",
       "      <th>58</th>\n",
       "      <td>DOM</td>\n",
       "      <td>1</td>\n",
       "      <td>1</td>\n",
       "      <td>0</td>\n",
       "      <td>2</td>\n",
       "      <td>Dominican Republic</td>\n",
       "      <td>21</td>\n",
       "      <td>9.523810</td>\n",
       "      <td>NaN</td>\n",
       "      <td>NaN</td>\n",
       "      <td>NaN</td>\n",
       "      <td>None</td>\n",
       "    </tr>\n",
       "    <tr>\n",
       "      <th>64</th>\n",
       "      <td>TPE</td>\n",
       "      <td>0</td>\n",
       "      <td>1</td>\n",
       "      <td>1</td>\n",
       "      <td>2</td>\n",
       "      <td>Chinese Taipei</td>\n",
       "      <td>40</td>\n",
       "      <td>5.000000</td>\n",
       "      <td>NaN</td>\n",
       "      <td>NaN</td>\n",
       "      <td>NaN</td>\n",
       "      <td>None</td>\n",
       "    </tr>\n",
       "    <tr>\n",
       "      <th>67</th>\n",
       "      <td>HKG</td>\n",
       "      <td>0</td>\n",
       "      <td>0</td>\n",
       "      <td>1</td>\n",
       "      <td>1</td>\n",
       "      <td>Hong Kong</td>\n",
       "      <td>44</td>\n",
       "      <td>2.272727</td>\n",
       "      <td>NaN</td>\n",
       "      <td>NaN</td>\n",
       "      <td>NaN</td>\n",
       "      <td>None</td>\n",
       "    </tr>\n",
       "    <tr>\n",
       "      <th>69</th>\n",
       "      <td>BRN</td>\n",
       "      <td>0</td>\n",
       "      <td>0</td>\n",
       "      <td>1</td>\n",
       "      <td>1</td>\n",
       "      <td>Bahrain</td>\n",
       "      <td>11</td>\n",
       "      <td>9.090909</td>\n",
       "      <td>NaN</td>\n",
       "      <td>NaN</td>\n",
       "      <td>NaN</td>\n",
       "      <td>None</td>\n",
       "    </tr>\n",
       "    <tr>\n",
       "      <th>82</th>\n",
       "      <td>GRN</td>\n",
       "      <td>1</td>\n",
       "      <td>0</td>\n",
       "      <td>0</td>\n",
       "      <td>1</td>\n",
       "      <td>Grenada</td>\n",
       "      <td>8</td>\n",
       "      <td>12.500000</td>\n",
       "      <td>NaN</td>\n",
       "      <td>NaN</td>\n",
       "      <td>NaN</td>\n",
       "      <td>None</td>\n",
       "    </tr>\n",
       "  </tbody>\n",
       "</table>\n",
       "</div>"
      ],
      "text/plain": [
       "    NOC  Gold  Silver  Bronze  Total                Team  Broj_timova  \\\n",
       "0   USA    46      28      29    103       United States          245   \n",
       "3   GBR    29      17      19     65       Great Britain          249   \n",
       "25  CZE     4       3       3     10      Czech Republic           99   \n",
       "56  SGP     0       0       2      2           Singapore           29   \n",
       "58  DOM     1       1       0      2  Dominican Republic           21   \n",
       "64  TPE     0       1       1      2      Chinese Taipei           40   \n",
       "67  HKG     0       0       1      1           Hong Kong           44   \n",
       "69  BRN     0       0       1      1             Bahrain           11   \n",
       "82  GRN     1       0       0      1             Grenada            8   \n",
       "\n",
       "    Uspesnost_timova continent name iso_a3 geometry  \n",
       "0          42.040816       NaN  NaN    NaN     None  \n",
       "3          26.104418       NaN  NaN    NaN     None  \n",
       "25         10.101010       NaN  NaN    NaN     None  \n",
       "56          6.896552       NaN  NaN    NaN     None  \n",
       "58          9.523810       NaN  NaN    NaN     None  \n",
       "64          5.000000       NaN  NaN    NaN     None  \n",
       "67          2.272727       NaN  NaN    NaN     None  \n",
       "69          9.090909       NaN  NaN    NaN     None  \n",
       "82         12.500000       NaN  NaN    NaN     None  "
      ]
     },
     "execution_count": 10,
     "metadata": {},
     "output_type": "execute_result"
    }
   ],
   "source": [
    "drzave_koje_nisu_sparene = svet_medalja[svet_medalja['name'].isna()] # u posebnu tabelu izdvajamo redove kod kojih nije došlo do spajanja geometrijskih i podataka o medaljama\n",
    "svet_medalja = svet_medalja.dropna() # iz kolone svet_medalja izbacijume te redove\n",
    "drzave_koje_nisu_sparene # pregled posebne tabele sa nesparenim vrednostima"
   ]
  },
  {
   "cell_type": "markdown",
   "id": "adec0569",
   "metadata": {},
   "source": [
    "Неке од ових земаља смо сигурно видели у табели свет, тј. на мапи света (нпр Америка, она је тешка за заобићи, да подаци о њој недостају доста другачије би изгледала мапа света којом смо били прилично задовољни), хајде да проверимо још једном да ли постоје можда под другачијим именом:"
   ]
  },
  {
   "cell_type": "code",
   "execution_count": 11,
   "id": "4eb406c3",
   "metadata": {},
   "outputs": [
    {
     "data": {
      "text/html": [
       "<div>\n",
       "<style scoped>\n",
       "    .dataframe tbody tr th:only-of-type {\n",
       "        vertical-align: middle;\n",
       "    }\n",
       "\n",
       "    .dataframe tbody tr th {\n",
       "        vertical-align: top;\n",
       "    }\n",
       "\n",
       "    .dataframe thead th {\n",
       "        text-align: right;\n",
       "    }\n",
       "</style>\n",
       "<table border=\"1\" class=\"dataframe\">\n",
       "  <thead>\n",
       "    <tr style=\"text-align: right;\">\n",
       "      <th></th>\n",
       "      <th>continent</th>\n",
       "      <th>name</th>\n",
       "      <th>iso_a3</th>\n",
       "      <th>geometry</th>\n",
       "    </tr>\n",
       "  </thead>\n",
       "  <tbody>\n",
       "    <tr>\n",
       "      <th>4</th>\n",
       "      <td>North America</td>\n",
       "      <td>United States of America</td>\n",
       "      <td>USA</td>\n",
       "      <td>MULTIPOLYGON (((-122.84000 49.00000, -120.0000...</td>\n",
       "    </tr>\n",
       "  </tbody>\n",
       "</table>\n",
       "</div>"
      ],
      "text/plain": [
       "       continent                      name iso_a3  \\\n",
       "4  North America  United States of America    USA   \n",
       "\n",
       "                                            geometry  \n",
       "4  MULTIPOLYGON (((-122.84000 49.00000, -120.0000...  "
      ]
     },
     "execution_count": 11,
     "metadata": {},
     "output_type": "execute_result"
    }
   ],
   "source": [
    "svet[svet.name.str.contains('America')] # trazimo redove tabele kod kojih kolona name sadrzi rec America"
   ]
  },
  {
   "cell_type": "markdown",
   "id": "8006d3e0",
   "metadata": {},
   "source": [
    "Видимо да географски подаци о Америци постоје у табели свет, али да је у колони `name` име *United States of Americа*, док је у тебели која садржи податке о медаљама име тима *United States* те није могло доћи до спајања по овим колонама зато што се име у потпуности не поклапа. На срећу, обе колоне имају трословни код и на пример у случају Америке видимо да се у тим колонама код поклапа. Можемо да пробамо спајање држава које још нисмо спарили, али уместо имена користећи трословне кодове за спајање. Пре тога, обрисаћемо колоне које су настале неуспешним спајањем:"
   ]
  },
  {
   "cell_type": "code",
   "execution_count": 12,
   "id": "c226165a",
   "metadata": {
    "scrolled": true
   },
   "outputs": [
    {
     "data": {
      "text/html": [
       "<div>\n",
       "<style scoped>\n",
       "    .dataframe tbody tr th:only-of-type {\n",
       "        vertical-align: middle;\n",
       "    }\n",
       "\n",
       "    .dataframe tbody tr th {\n",
       "        vertical-align: top;\n",
       "    }\n",
       "\n",
       "    .dataframe thead th {\n",
       "        text-align: right;\n",
       "    }\n",
       "</style>\n",
       "<table border=\"1\" class=\"dataframe\">\n",
       "  <thead>\n",
       "    <tr style=\"text-align: right;\">\n",
       "      <th></th>\n",
       "      <th>NOC</th>\n",
       "      <th>Gold</th>\n",
       "      <th>Silver</th>\n",
       "      <th>Bronze</th>\n",
       "      <th>Total</th>\n",
       "      <th>Team</th>\n",
       "      <th>Broj_timova</th>\n",
       "      <th>Uspesnost_timova</th>\n",
       "    </tr>\n",
       "  </thead>\n",
       "  <tbody>\n",
       "    <tr>\n",
       "      <th>0</th>\n",
       "      <td>USA</td>\n",
       "      <td>46</td>\n",
       "      <td>28</td>\n",
       "      <td>29</td>\n",
       "      <td>103</td>\n",
       "      <td>United States</td>\n",
       "      <td>245</td>\n",
       "      <td>42.040816</td>\n",
       "    </tr>\n",
       "    <tr>\n",
       "      <th>3</th>\n",
       "      <td>GBR</td>\n",
       "      <td>29</td>\n",
       "      <td>17</td>\n",
       "      <td>19</td>\n",
       "      <td>65</td>\n",
       "      <td>Great Britain</td>\n",
       "      <td>249</td>\n",
       "      <td>26.104418</td>\n",
       "    </tr>\n",
       "    <tr>\n",
       "      <th>25</th>\n",
       "      <td>CZE</td>\n",
       "      <td>4</td>\n",
       "      <td>3</td>\n",
       "      <td>3</td>\n",
       "      <td>10</td>\n",
       "      <td>Czech Republic</td>\n",
       "      <td>99</td>\n",
       "      <td>10.101010</td>\n",
       "    </tr>\n",
       "    <tr>\n",
       "      <th>56</th>\n",
       "      <td>SGP</td>\n",
       "      <td>0</td>\n",
       "      <td>0</td>\n",
       "      <td>2</td>\n",
       "      <td>2</td>\n",
       "      <td>Singapore</td>\n",
       "      <td>29</td>\n",
       "      <td>6.896552</td>\n",
       "    </tr>\n",
       "    <tr>\n",
       "      <th>58</th>\n",
       "      <td>DOM</td>\n",
       "      <td>1</td>\n",
       "      <td>1</td>\n",
       "      <td>0</td>\n",
       "      <td>2</td>\n",
       "      <td>Dominican Republic</td>\n",
       "      <td>21</td>\n",
       "      <td>9.523810</td>\n",
       "    </tr>\n",
       "    <tr>\n",
       "      <th>64</th>\n",
       "      <td>TPE</td>\n",
       "      <td>0</td>\n",
       "      <td>1</td>\n",
       "      <td>1</td>\n",
       "      <td>2</td>\n",
       "      <td>Chinese Taipei</td>\n",
       "      <td>40</td>\n",
       "      <td>5.000000</td>\n",
       "    </tr>\n",
       "    <tr>\n",
       "      <th>67</th>\n",
       "      <td>HKG</td>\n",
       "      <td>0</td>\n",
       "      <td>0</td>\n",
       "      <td>1</td>\n",
       "      <td>1</td>\n",
       "      <td>Hong Kong</td>\n",
       "      <td>44</td>\n",
       "      <td>2.272727</td>\n",
       "    </tr>\n",
       "    <tr>\n",
       "      <th>69</th>\n",
       "      <td>BRN</td>\n",
       "      <td>0</td>\n",
       "      <td>0</td>\n",
       "      <td>1</td>\n",
       "      <td>1</td>\n",
       "      <td>Bahrain</td>\n",
       "      <td>11</td>\n",
       "      <td>9.090909</td>\n",
       "    </tr>\n",
       "    <tr>\n",
       "      <th>82</th>\n",
       "      <td>GRN</td>\n",
       "      <td>1</td>\n",
       "      <td>0</td>\n",
       "      <td>0</td>\n",
       "      <td>1</td>\n",
       "      <td>Grenada</td>\n",
       "      <td>8</td>\n",
       "      <td>12.500000</td>\n",
       "    </tr>\n",
       "  </tbody>\n",
       "</table>\n",
       "</div>"
      ],
      "text/plain": [
       "    NOC  Gold  Silver  Bronze  Total                Team  Broj_timova  \\\n",
       "0   USA    46      28      29    103       United States          245   \n",
       "3   GBR    29      17      19     65       Great Britain          249   \n",
       "25  CZE     4       3       3     10      Czech Republic           99   \n",
       "56  SGP     0       0       2      2           Singapore           29   \n",
       "58  DOM     1       1       0      2  Dominican Republic           21   \n",
       "64  TPE     0       1       1      2      Chinese Taipei           40   \n",
       "67  HKG     0       0       1      1           Hong Kong           44   \n",
       "69  BRN     0       0       1      1             Bahrain           11   \n",
       "82  GRN     1       0       0      1             Grenada            8   \n",
       "\n",
       "    Uspesnost_timova  \n",
       "0          42.040816  \n",
       "3          26.104418  \n",
       "25         10.101010  \n",
       "56          6.896552  \n",
       "58          9.523810  \n",
       "64          5.000000  \n",
       "67          2.272727  \n",
       "69          9.090909  \n",
       "82         12.500000  "
      ]
     },
     "execution_count": 12,
     "metadata": {},
     "output_type": "execute_result"
    }
   ],
   "source": [
    "# zato što se u kolonama o geometriji ne nalazi ništa, izbacićemo te kolone da bi ponvoo probali spajanje na drugi način\n",
    "drzave_koje_nisu_sparene = drzave_koje_nisu_sparene.drop(columns={'continent','name','iso_a3','geometry'})\n",
    "drzave_koje_nisu_sparene"
   ]
  },
  {
   "cell_type": "markdown",
   "id": "143b4708",
   "metadata": {},
   "source": [
    "А затим пробати спајање поново, овај пут користећи друге колоне `NOC` и `iso_a3`. Нећемо вршити спајање целих табела, већ само сегмента који је остао неспарен:"
   ]
  },
  {
   "cell_type": "code",
   "execution_count": 13,
   "id": "606564a7",
   "metadata": {},
   "outputs": [
    {
     "data": {
      "text/html": [
       "<div>\n",
       "<style scoped>\n",
       "    .dataframe tbody tr th:only-of-type {\n",
       "        vertical-align: middle;\n",
       "    }\n",
       "\n",
       "    .dataframe tbody tr th {\n",
       "        vertical-align: top;\n",
       "    }\n",
       "\n",
       "    .dataframe thead th {\n",
       "        text-align: right;\n",
       "    }\n",
       "</style>\n",
       "<table border=\"1\" class=\"dataframe\">\n",
       "  <thead>\n",
       "    <tr style=\"text-align: right;\">\n",
       "      <th></th>\n",
       "      <th>NOC</th>\n",
       "      <th>Gold</th>\n",
       "      <th>Silver</th>\n",
       "      <th>Bronze</th>\n",
       "      <th>Total</th>\n",
       "      <th>Team</th>\n",
       "      <th>Broj_timova</th>\n",
       "      <th>Uspesnost_timova</th>\n",
       "      <th>continent</th>\n",
       "      <th>name</th>\n",
       "      <th>iso_a3</th>\n",
       "      <th>geometry</th>\n",
       "    </tr>\n",
       "  </thead>\n",
       "  <tbody>\n",
       "    <tr>\n",
       "      <th>0</th>\n",
       "      <td>USA</td>\n",
       "      <td>46</td>\n",
       "      <td>28</td>\n",
       "      <td>29</td>\n",
       "      <td>103</td>\n",
       "      <td>United States</td>\n",
       "      <td>245</td>\n",
       "      <td>42.040816</td>\n",
       "      <td>North America</td>\n",
       "      <td>United States of America</td>\n",
       "      <td>USA</td>\n",
       "      <td>MULTIPOLYGON (((-122.84000 49.00000, -120.0000...</td>\n",
       "    </tr>\n",
       "    <tr>\n",
       "      <th>1</th>\n",
       "      <td>GBR</td>\n",
       "      <td>29</td>\n",
       "      <td>17</td>\n",
       "      <td>19</td>\n",
       "      <td>65</td>\n",
       "      <td>Great Britain</td>\n",
       "      <td>249</td>\n",
       "      <td>26.104418</td>\n",
       "      <td>Europe</td>\n",
       "      <td>United Kingdom</td>\n",
       "      <td>GBR</td>\n",
       "      <td>MULTIPOLYGON (((-6.19788 53.86757, -6.95373 54...</td>\n",
       "    </tr>\n",
       "    <tr>\n",
       "      <th>2</th>\n",
       "      <td>CZE</td>\n",
       "      <td>4</td>\n",
       "      <td>3</td>\n",
       "      <td>3</td>\n",
       "      <td>10</td>\n",
       "      <td>Czech Republic</td>\n",
       "      <td>99</td>\n",
       "      <td>10.101010</td>\n",
       "      <td>Europe</td>\n",
       "      <td>Czechia</td>\n",
       "      <td>CZE</td>\n",
       "      <td>POLYGON ((15.01700 51.10667, 15.49097 50.78473...</td>\n",
       "    </tr>\n",
       "    <tr>\n",
       "      <th>3</th>\n",
       "      <td>SGP</td>\n",
       "      <td>0</td>\n",
       "      <td>0</td>\n",
       "      <td>2</td>\n",
       "      <td>2</td>\n",
       "      <td>Singapore</td>\n",
       "      <td>29</td>\n",
       "      <td>6.896552</td>\n",
       "      <td>NaN</td>\n",
       "      <td>NaN</td>\n",
       "      <td>NaN</td>\n",
       "      <td>None</td>\n",
       "    </tr>\n",
       "    <tr>\n",
       "      <th>4</th>\n",
       "      <td>DOM</td>\n",
       "      <td>1</td>\n",
       "      <td>1</td>\n",
       "      <td>0</td>\n",
       "      <td>2</td>\n",
       "      <td>Dominican Republic</td>\n",
       "      <td>21</td>\n",
       "      <td>9.523810</td>\n",
       "      <td>North America</td>\n",
       "      <td>Dominican Rep.</td>\n",
       "      <td>DOM</td>\n",
       "      <td>POLYGON ((-71.70830 18.04500, -71.68774 18.316...</td>\n",
       "    </tr>\n",
       "    <tr>\n",
       "      <th>5</th>\n",
       "      <td>TPE</td>\n",
       "      <td>0</td>\n",
       "      <td>1</td>\n",
       "      <td>1</td>\n",
       "      <td>2</td>\n",
       "      <td>Chinese Taipei</td>\n",
       "      <td>40</td>\n",
       "      <td>5.000000</td>\n",
       "      <td>NaN</td>\n",
       "      <td>NaN</td>\n",
       "      <td>NaN</td>\n",
       "      <td>None</td>\n",
       "    </tr>\n",
       "    <tr>\n",
       "      <th>6</th>\n",
       "      <td>HKG</td>\n",
       "      <td>0</td>\n",
       "      <td>0</td>\n",
       "      <td>1</td>\n",
       "      <td>1</td>\n",
       "      <td>Hong Kong</td>\n",
       "      <td>44</td>\n",
       "      <td>2.272727</td>\n",
       "      <td>NaN</td>\n",
       "      <td>NaN</td>\n",
       "      <td>NaN</td>\n",
       "      <td>None</td>\n",
       "    </tr>\n",
       "    <tr>\n",
       "      <th>7</th>\n",
       "      <td>BRN</td>\n",
       "      <td>0</td>\n",
       "      <td>0</td>\n",
       "      <td>1</td>\n",
       "      <td>1</td>\n",
       "      <td>Bahrain</td>\n",
       "      <td>11</td>\n",
       "      <td>9.090909</td>\n",
       "      <td>Asia</td>\n",
       "      <td>Brunei</td>\n",
       "      <td>BRN</td>\n",
       "      <td>POLYGON ((115.45071 5.44773, 115.40570 4.95523...</td>\n",
       "    </tr>\n",
       "    <tr>\n",
       "      <th>8</th>\n",
       "      <td>GRN</td>\n",
       "      <td>1</td>\n",
       "      <td>0</td>\n",
       "      <td>0</td>\n",
       "      <td>1</td>\n",
       "      <td>Grenada</td>\n",
       "      <td>8</td>\n",
       "      <td>12.500000</td>\n",
       "      <td>NaN</td>\n",
       "      <td>NaN</td>\n",
       "      <td>NaN</td>\n",
       "      <td>None</td>\n",
       "    </tr>\n",
       "  </tbody>\n",
       "</table>\n",
       "</div>"
      ],
      "text/plain": [
       "   NOC  Gold  Silver  Bronze  Total                Team  Broj_timova  \\\n",
       "0  USA    46      28      29    103       United States          245   \n",
       "1  GBR    29      17      19     65       Great Britain          249   \n",
       "2  CZE     4       3       3     10      Czech Republic           99   \n",
       "3  SGP     0       0       2      2           Singapore           29   \n",
       "4  DOM     1       1       0      2  Dominican Republic           21   \n",
       "5  TPE     0       1       1      2      Chinese Taipei           40   \n",
       "6  HKG     0       0       1      1           Hong Kong           44   \n",
       "7  BRN     0       0       1      1             Bahrain           11   \n",
       "8  GRN     1       0       0      1             Grenada            8   \n",
       "\n",
       "   Uspesnost_timova      continent                      name iso_a3  \\\n",
       "0         42.040816  North America  United States of America    USA   \n",
       "1         26.104418         Europe            United Kingdom    GBR   \n",
       "2         10.101010         Europe                   Czechia    CZE   \n",
       "3          6.896552            NaN                       NaN    NaN   \n",
       "4          9.523810  North America            Dominican Rep.    DOM   \n",
       "5          5.000000            NaN                       NaN    NaN   \n",
       "6          2.272727            NaN                       NaN    NaN   \n",
       "7          9.090909           Asia                    Brunei    BRN   \n",
       "8         12.500000            NaN                       NaN    NaN   \n",
       "\n",
       "                                            geometry  \n",
       "0  MULTIPOLYGON (((-122.84000 49.00000, -120.0000...  \n",
       "1  MULTIPOLYGON (((-6.19788 53.86757, -6.95373 54...  \n",
       "2  POLYGON ((15.01700 51.10667, 15.49097 50.78473...  \n",
       "3                                               None  \n",
       "4  POLYGON ((-71.70830 18.04500, -71.68774 18.316...  \n",
       "5                                               None  \n",
       "6                                               None  \n",
       "7  POLYGON ((115.45071 5.44773, 115.40570 4.95523...  \n",
       "8                                               None  "
      ]
     },
     "execution_count": 13,
     "metadata": {},
     "output_type": "execute_result"
    }
   ],
   "source": [
    "drzave_dodatak = pd.merge(left = drzave_koje_nisu_sparene, right = svet, left_on = 'NOC',right_on='iso_a3',how='left')\n",
    "drzave_dodatak"
   ]
  },
  {
   "cell_type": "markdown",
   "id": "de644e4f",
   "metadata": {},
   "source": [
    "Одлично, овако смо успели да још пар земаља спаримо са њиховим геометријским облицима, али нам нажалост остајu 4 земље које намамо међу подацима у овом тренутку, па ћемо наставити са цртањем без њих, само ћемо пробати да их не заборавимо у закључивању. Видимо да су у питању земље са мало медаља, тако да треба да се сетимо и њих уколико будемо доносили било који закључак о земљама које имају мало медаља.\n",
    "\n",
    "Две табеле које смо направили спајањем (једну коју смо добили успешно спајајући државе по именима, и другу у којој смо део преосталих земаља спојили по трословном коду) надовезаћемо једну на другу тако да у једној табели имамо све податке о медаљама и геометријским облицима држава. Надовезивање табела вршимо функцијом [concat](https://pandas.pydata.org/docs/reference/api/pandas.concat.html) којој прослеђујемо листу табела, а ако искористимо и аргумент `ignore_index=True` новодобијена табела биће индексирана целим бројевима почев од 0."
   ]
  },
  {
   "cell_type": "code",
   "execution_count": 14,
   "id": "e1ce53ba",
   "metadata": {
    "scrolled": false
   },
   "outputs": [
    {
     "data": {
      "text/html": [
       "<div>\n",
       "<style scoped>\n",
       "    .dataframe tbody tr th:only-of-type {\n",
       "        vertical-align: middle;\n",
       "    }\n",
       "\n",
       "    .dataframe tbody tr th {\n",
       "        vertical-align: top;\n",
       "    }\n",
       "\n",
       "    .dataframe thead th {\n",
       "        text-align: right;\n",
       "    }\n",
       "</style>\n",
       "<table border=\"1\" class=\"dataframe\">\n",
       "  <thead>\n",
       "    <tr style=\"text-align: right;\">\n",
       "      <th></th>\n",
       "      <th>NOC</th>\n",
       "      <th>Gold</th>\n",
       "      <th>Silver</th>\n",
       "      <th>Bronze</th>\n",
       "      <th>Total</th>\n",
       "      <th>Team</th>\n",
       "      <th>Broj_timova</th>\n",
       "      <th>Uspesnost_timova</th>\n",
       "      <th>continent</th>\n",
       "      <th>name</th>\n",
       "      <th>iso_a3</th>\n",
       "      <th>geometry</th>\n",
       "    </tr>\n",
       "  </thead>\n",
       "  <tbody>\n",
       "    <tr>\n",
       "      <th>80</th>\n",
       "      <td>DOM</td>\n",
       "      <td>1</td>\n",
       "      <td>1</td>\n",
       "      <td>0</td>\n",
       "      <td>2</td>\n",
       "      <td>Dominican Republic</td>\n",
       "      <td>21</td>\n",
       "      <td>9.523810</td>\n",
       "      <td>North America</td>\n",
       "      <td>Dominican Rep.</td>\n",
       "      <td>DOM</td>\n",
       "      <td>POLYGON ((-71.70830 18.04500, -71.68774 18.316...</td>\n",
       "    </tr>\n",
       "    <tr>\n",
       "      <th>81</th>\n",
       "      <td>TPE</td>\n",
       "      <td>0</td>\n",
       "      <td>1</td>\n",
       "      <td>1</td>\n",
       "      <td>2</td>\n",
       "      <td>Chinese Taipei</td>\n",
       "      <td>40</td>\n",
       "      <td>5.000000</td>\n",
       "      <td>NaN</td>\n",
       "      <td>NaN</td>\n",
       "      <td>NaN</td>\n",
       "      <td>None</td>\n",
       "    </tr>\n",
       "    <tr>\n",
       "      <th>82</th>\n",
       "      <td>HKG</td>\n",
       "      <td>0</td>\n",
       "      <td>0</td>\n",
       "      <td>1</td>\n",
       "      <td>1</td>\n",
       "      <td>Hong Kong</td>\n",
       "      <td>44</td>\n",
       "      <td>2.272727</td>\n",
       "      <td>NaN</td>\n",
       "      <td>NaN</td>\n",
       "      <td>NaN</td>\n",
       "      <td>None</td>\n",
       "    </tr>\n",
       "    <tr>\n",
       "      <th>83</th>\n",
       "      <td>BRN</td>\n",
       "      <td>0</td>\n",
       "      <td>0</td>\n",
       "      <td>1</td>\n",
       "      <td>1</td>\n",
       "      <td>Bahrain</td>\n",
       "      <td>11</td>\n",
       "      <td>9.090909</td>\n",
       "      <td>Asia</td>\n",
       "      <td>Brunei</td>\n",
       "      <td>BRN</td>\n",
       "      <td>POLYGON ((115.45071 5.44773, 115.40570 4.95523...</td>\n",
       "    </tr>\n",
       "    <tr>\n",
       "      <th>84</th>\n",
       "      <td>GRN</td>\n",
       "      <td>1</td>\n",
       "      <td>0</td>\n",
       "      <td>0</td>\n",
       "      <td>1</td>\n",
       "      <td>Grenada</td>\n",
       "      <td>8</td>\n",
       "      <td>12.500000</td>\n",
       "      <td>NaN</td>\n",
       "      <td>NaN</td>\n",
       "      <td>NaN</td>\n",
       "      <td>None</td>\n",
       "    </tr>\n",
       "  </tbody>\n",
       "</table>\n",
       "</div>"
      ],
      "text/plain": [
       "    NOC  Gold  Silver  Bronze  Total                Team  Broj_timova  \\\n",
       "80  DOM     1       1       0      2  Dominican Republic           21   \n",
       "81  TPE     0       1       1      2      Chinese Taipei           40   \n",
       "82  HKG     0       0       1      1           Hong Kong           44   \n",
       "83  BRN     0       0       1      1             Bahrain           11   \n",
       "84  GRN     1       0       0      1             Grenada            8   \n",
       "\n",
       "    Uspesnost_timova      continent            name iso_a3  \\\n",
       "80          9.523810  North America  Dominican Rep.    DOM   \n",
       "81          5.000000            NaN             NaN    NaN   \n",
       "82          2.272727            NaN             NaN    NaN   \n",
       "83          9.090909           Asia          Brunei    BRN   \n",
       "84         12.500000            NaN             NaN    NaN   \n",
       "\n",
       "                                             geometry  \n",
       "80  POLYGON ((-71.70830 18.04500, -71.68774 18.316...  \n",
       "81                                               None  \n",
       "82                                               None  \n",
       "83  POLYGON ((115.45071 5.44773, 115.40570 4.95523...  \n",
       "84                                               None  "
      ]
     },
     "execution_count": 14,
     "metadata": {},
     "output_type": "execute_result"
    }
   ],
   "source": [
    "svet_medalja = pd.concat([svet_medalja,drzave_dodatak],ignore_index=True) # nadovezivanje tabele drzave_dodatak na tabelu svet_medalja, rezultat ponovo cuvamo pod imenom svet_medalja\n",
    "svet_medalja.tail() # pogledajmo poslednje redove tabele da budemo sigurni da su dodatne drzave tu"
   ]
  },
  {
   "cell_type": "markdown",
   "id": "fc478a40",
   "metadata": {},
   "source": [
    "Погледајмо опет за проверу попуњеност нове табеле:"
   ]
  },
  {
   "cell_type": "code",
   "execution_count": 15,
   "id": "80413cd4",
   "metadata": {
    "scrolled": false
   },
   "outputs": [
    {
     "name": "stdout",
     "output_type": "stream",
     "text": [
      "<class 'pandas.core.frame.DataFrame'>\n",
      "RangeIndex: 85 entries, 0 to 84\n",
      "Data columns (total 12 columns):\n",
      " #   Column            Non-Null Count  Dtype   \n",
      "---  ------            --------------  -----   \n",
      " 0   NOC               85 non-null     object  \n",
      " 1   Gold              85 non-null     int64   \n",
      " 2   Silver            85 non-null     int64   \n",
      " 3   Bronze            85 non-null     int64   \n",
      " 4   Total             85 non-null     int64   \n",
      " 5   Team              85 non-null     object  \n",
      " 6   Broj_timova       85 non-null     int64   \n",
      " 7   Uspesnost_timova  85 non-null     float64 \n",
      " 8   continent         81 non-null     object  \n",
      " 9   name              81 non-null     object  \n",
      " 10  iso_a3            81 non-null     object  \n",
      " 11  geometry          81 non-null     geometry\n",
      "dtypes: float64(1), geometry(1), int64(5), object(5)\n",
      "memory usage: 8.1+ KB\n"
     ]
    }
   ],
   "source": [
    "svet_medalja.info()"
   ]
  },
  {
   "cell_type": "markdown",
   "id": "d38fc5c6",
   "metadata": {},
   "source": [
    "Овде примећујемо да табела `svet_medalja` иако садржи геометријску колону, није препозната као `geopandas` већ као `pandas` објекат. То је последица спајања табела, зато што је резултат коришћења функције `merge` табела, тј. `pandas` `DataFrame`, што још једном можемо проверити и користећи функцију `type`."
   ]
  },
  {
   "cell_type": "code",
   "execution_count": 16,
   "id": "65033c8d",
   "metadata": {},
   "outputs": [
    {
     "data": {
      "text/plain": [
       "pandas.core.frame.DataFrame"
      ]
     },
     "execution_count": 16,
     "metadata": {},
     "output_type": "execute_result"
    }
   ],
   "source": [
    "type(svet_medalja)"
   ]
  },
  {
   "cell_type": "markdown",
   "id": "57f1b86a",
   "metadata": {},
   "source": [
    "Иако вам се ово може учинити небитним, чињеницом да је наша табела променила тип под којим је пајтон схвата, чини да се неке функције другачије понашају. На пример, ако сада пробате да искористите функцију `plot` надајући се да ћете добити плаву мапу као раније, добићете заправо линијски график, што је подразумевани график када се `plot` функција примени над панда табелама. Зато што ми у наставку желимо да цртамо мапе, променићемо тип тебеле из панда у геопанда формат на следећи начин и уверити се да је то прошло успешно:"
   ]
  },
  {
   "cell_type": "code",
   "execution_count": 17,
   "id": "ae86e291",
   "metadata": {},
   "outputs": [
    {
     "data": {
      "text/plain": [
       "geopandas.geodataframe.GeoDataFrame"
      ]
     },
     "execution_count": 17,
     "metadata": {},
     "output_type": "execute_result"
    }
   ],
   "source": [
    "svet_medalja = gpd.GeoDataFrame(svet_medalja)\n",
    "type(svet_medalja)"
   ]
  },
  {
   "cell_type": "markdown",
   "id": "68701992",
   "metadata": {},
   "source": [
    "После дугог увода, сада је време за цртање! Ако поново само позовемо функцију `plot` иако наша нова табела има више података, опет ћемо добити само плаву мапу свих земаља (појавиће се бели простори уместо земаља које нису део овог скупа), али остали подаци, осим геометријских неће никако бити искоришћени (пробајте `svet_medalja.plot()`)."
   ]
  },
  {
   "cell_type": "markdown",
   "id": "60eb5fbf",
   "metadata": {},
   "source": [
    "Да би искомуницирали да желимо да се колона са укупним бројем медаља `Total` искористи за бојење мапе, у функцији ћемо то демонстрирати кроз `column` аргумент. Најосновнија верзија коју тиме добијамо је:"
   ]
  },
  {
   "cell_type": "code",
   "execution_count": 18,
   "id": "66d9d973",
   "metadata": {},
   "outputs": [
    {
     "data": {
      "text/plain": [
       "<AxesSubplot:>"
      ]
     },
     "execution_count": 18,
     "metadata": {},
     "output_type": "execute_result"
    },
    {
     "data": {
      "image/png": "[encoded data removed]",
      "text/plain": [
       "<Figure size 432x288 with 1 Axes>"
      ]
     },
     "metadata": {
      "needs_background": "light"
     },
     "output_type": "display_data"
    }
   ],
   "source": [
    "svet_medalja.plot(column = 'Total')"
   ]
  },
  {
   "cell_type": "markdown",
   "id": "ac837dcb",
   "metadata": {},
   "source": [
    "Добили смо шарену мапу, али има још пуно посла да је упристојимо. На пример, не знамо које боје одговарају којим вредностима, да ли су плавичасто обојене државе боље од жутих и зелених? (Ми наравно знамо пошто већ неко време баратамо овим олимпијским подацима, али било ко коме желимо да покажемо наш учинак неће знати.) Додатно, имамо пуно белог простора на местима где знамо да постоје државе - то је зато што те државе нису освојиле медаље па нису део нашег скупа, али и њих желимо некако да прикажемо. Коначно, за приказ ове мапе нам не требају х и у осе, тј. оквир око мапе и то ћемо искључити у наставку:"
   ]
  },
  {
   "cell_type": "code",
   "execution_count": 19,
   "id": "d1810082",
   "metadata": {
    "scrolled": false
   },
   "outputs": [
    {
     "data": {
      "image/png": "[encoded data removed]",
      "text/plain": [
       "<Figure size 720x576 with 2 Axes>"
      ]
     },
     "metadata": {
      "needs_background": "light"
     },
     "output_type": "display_data"
    }
   ],
   "source": [
    "fig, ax = plt.subplots(figsize=(10, 8)) # definisemo sliku malo vecih dimenzija da lepo sagledamo mapu\n",
    "\n",
    "svet.plot(ax=ax,color='lightgrey',alpha=0.6) # crtamo ceo svet sive boje da bi i zemlje bez medalja postojale na mapi\n",
    "#preko crtamo prethodno prikazanu mapu\n",
    "svet_medalja.plot(column = 'Total', # kolona po cijim vrednostima bojimo drzave\n",
    "                  cmap='cividis', # paleta boja\n",
    "                  ax=ax, # na ovaj nacin definisemo da se i ova mapa nalazi na istom mestu ao i prethodna \n",
    "                  legend=True, # hocemo da imamo legendu da bi znali koja boja odgovara kom broju medalja\n",
    "                  legend_kwds={'label': \"Ukupan broj medalja osvojen na OI 2012\",'orientation': \"horizontal\"}) # ime i pozicija legende\n",
    "plt.axis('off') # izbacijume x/y ose\n",
    "plt.show()"
   ]
  },
  {
   "cell_type": "markdown",
   "id": "5ffc47ac",
   "metadata": {},
   "source": [
    "Видимо да је велики део света истакнут неком живахнијом бојом од сиве, што значи да је велики број држава освојио бар једну медаљу на олимпијским играма. Видимо да сивих региона (држава које се или нису такмичиле или нису освојиле ни једну медаљу) има много више у јужним деловима света, док су државе најближе жутој боји углавном у северним деловима и означавају типично развијенији и богатији део света (Кина, Русија, Америка, земље западне Европе)."
   ]
  },
  {
   "cell_type": "markdown",
   "id": "b5e4be7d",
   "metadata": {},
   "source": [
    "<div class=\"alert alert-block alert-info\"><img src=\"sport_slike/zad.png\" align=\"left\"/>Обојите државе по броју освојених златних медаља.\n",
    "Помоћ, пре коришћење истог кода, издвојите само оне редове табеле у коме је број златних медаља већи од 0 да не бисте плавом бојом добили истакнуте и оне земље које постоје у скупу података али имају 0 златних медаља. Пробајте и неку другу палету боја: https://matplotlib.org/stable/tutorials/colors/colormaps.html</div> "
   ]
  },
  {
   "cell_type": "code",
   "execution_count": 20,
   "id": "5ec79c6a",
   "metadata": {},
   "outputs": [],
   "source": [
    "# # resenje\n",
    "# fig, ax = plt.subplots(figsize=(10, 8)) # definisemo sliku malo vecih dimenzija da lepo sagledamo mapu\n",
    "\n",
    "# svet.plot(ax=ax,color='lightgrey',alpha=0.6) # crtamo ceo svet sive boje da bi i zemlje bez medalja postojale na mapi\n",
    "# #preko crtamo prethodno prikazanu mapu\n",
    "# svet_medalja[svet_medalja.Gold>0].plot(column = 'Gold',\n",
    "#                   ax=ax, # na ovaj nacin definisemo da se i ova mapa nalazi na istom mestu ao i prethodna \n",
    "#                   cmap='copper',\n",
    "#                   legend=True, # hocemo da imamo legendu da bi znali koja boja odgovara kom borju medalja\n",
    "#                   legend_kwds={'label': \"Broj zlatnih medalja osvojen na OI 2012\",'orientation': \"horizontal\"}) # ime i pozicija legende\n",
    "# plt.axis('off') # izbacijume x/y ose\n",
    "# plt.show()"
   ]
  },
  {
   "cell_type": "markdown",
   "id": "31ced1fb",
   "metadata": {},
   "source": [
    "У претходним визуелизацијама, поред броја медаља цртали смо и успешност држава у погледу процена тимова који су се са олимпијских игара вратили са медаљом, хајде да видимо да ли се земље са великом успешношћу некако групишу на мапи света:"
   ]
  },
  {
   "cell_type": "code",
   "execution_count": 21,
   "id": "ad3d3831",
   "metadata": {
    "scrolled": false
   },
   "outputs": [
    {
     "data": {
      "image/png": "[encoded data removed]",
      "text/plain": [
       "<Figure size 720x576 with 2 Axes>"
      ]
     },
     "metadata": {
      "needs_background": "light"
     },
     "output_type": "display_data"
    }
   ],
   "source": [
    "fig, ax = plt.subplots(figsize=(10, 8)) # definisemo sliku malo vecih dimenzija da lepo sagledamo mapu\n",
    "\n",
    "svet.plot(ax=ax,color='lightgrey',alpha=0.6) # crtamo ceo svet sive boje da bi i zemlje bez medalja postojale na mapi\n",
    "#preko crtamo prethodno prikazanu mapu\n",
    "svet_medalja.plot(column = 'Uspesnost_timova',\n",
    "                  cmap='cividis',\n",
    "                  ax=ax, # na ovaj nacin definisemo da se i ova mapa nalazi na istom mestu ao i prethodna \n",
    "                  legend=True, # hocemo da imamo legendu da bi znali koja boja odgovara kom borju medalja\n",
    "                  legend_kwds={'label': \"Procenat državnih timova koji se vratio sa medaljom\",'orientation': \"horizontal\"}) # ime i pozicija legende\n",
    "plt.axis('off') # izbacujemo x/y ose\n",
    "plt.savefig(\"sport_slike/Mapa_uspesnih_timova_OI2012.svg\")\n",
    "plt.show()"
   ]
  },
  {
   "cell_type": "markdown",
   "id": "f0252a2d",
   "metadata": {},
   "source": [
    "Задржали смо исте боје као на слици са укупним бројем медаља да бисмо лакше уочили прерасподелу победничких земаља. Сада видимо да је пар земаља са највећом успешношћу груписан у Африци, иако је претходн тај регион био обојен тамнијим бојама зато што свеукупно нису освојили пуно медаља. Видимо такође да државе које су освојиле највише медаља (првих пар) свакако има и велику процентуалну успешност, док је за велики број осталих земаља карактеристичније да се тек сваки десети тим који учествује, врати са медаљом кући.\n",
    "\n",
    "Последњу слику смо и сачували да демонстрирамо употребу функције `savefig` потражите сачувану слику у локалном фолдеру."
   ]
  },
  {
   "cell_type": "markdown",
   "id": "49374d57",
   "metadata": {},
   "source": [
    "Мапе су генерално атрактиван тип визуелизација зато што смо се кроз образовање највише сретали са њима на часовима географије, сви користимо апликације са мапама, стога су доста природан начин комуникације информација. Међутим, треба и са њима, као и са другим визуелизацијама бити опрезан и разумети шта су им предности и мане. Поред поменуте фамилијарности, предност мапа је и у томе што можемо на основу њих генерисати нова питања и хипотезе ако видимо да се државе (или градови или региони ако тако нешто цртамо) које имају сличне показатеље групишу и на основу тога можемо наставити даљу анализу.\n",
    "\n",
    "Са друге стране, овакве мапе (које на енглеском можете наћи као *choropleth* мапе) као и раније коментарисане табеле нацртане уз помоћ функције *heatmap* нису добар избор ако је ваш циљ да посматрачи прочитај тачан број освојених медаља или тачан проценат успешности на олимпијским играма. Додатно, површина на мапи, односно репрезентација државе везана је за величину државе, али то није нужно квалитет који је кључан за вашу анализу. На пример, и у нашем случају видимо да неке од Европских држава имају упечатљивије боје, али због њихових мањих димензија оне нису тако јако уочљиве као Аустралија или неке друге државе.\n",
    "Компромисно решење је да у комбинацији са визуелизацијом на мапи, којом комуницирате један део приче на атрактиван начин, кључне вредности које желите да читаоци виде комуницирате поред и неком једноставном а ефектном визуализацијом, на пример, стубићима."
   ]
  },
  {
   "cell_type": "markdown",
   "id": "49e6fa62",
   "metadata": {},
   "source": [
    "<div class=\"alert alert-block alert-info\"><img src=\"sport_slike/zad.png\" align=\"left\"/>Нацртати мапу са бројем послатих тимова на ои 2012.</div> "
   ]
  },
  {
   "cell_type": "markdown",
   "id": "9ca78162",
   "metadata": {},
   "source": [
    "<div class=\"alert alert-block alert-info\"><img src=\"sport_slike/zad.png\" align=\"left\"/>Нацртати мапу на којој су земље обојене \"бинарно\" тј ако су освојиле бар једну медаљу имају неку боју, а ако нису имају другу.</div>"
   ]
  },
  {
   "cell_type": "code",
   "execution_count": 22,
   "id": "7f25dcd2",
   "metadata": {},
   "outputs": [],
   "source": [
    "# # resenje zadatka 2\n",
    "\n",
    "# svet_medalja['Ima_medalju'] = (svet_medalja['Total']>0)\n",
    "\n",
    "# fig, ax = plt.subplots(figsize=(10, 8)) # definisemo sliku malo vecih dimenzija da lepo sagledamo mapu\n",
    "\n",
    "# svet.plot(ax=ax,color='lightgrey',alpha=0.6) # crtamo ceo svet sive boje da bi i zemlje bez medalja postojale na mapi\n",
    "# #preko crtamo prethodno prikazanu mapu\n",
    "# svet_medalja.plot(column = 'Ima_medalju',\n",
    "#                   cmap='cividis',\n",
    "#                   ax=ax) # na ovaj nacin definisemo da se i ova mapa nalazi na istom mestu ao i prethodna) \n",
    "# plt.title('Države koje su osvojile bar jednu medalju na OI 2012')\n",
    "# plt.axis('off') # izbacujemo x/y ose\n",
    "# plt.show()"
   ]
  },
  {
   "cell_type": "markdown",
   "id": "b7026f91",
   "metadata": {},
   "source": [
    "<div class=\"alert alert-block alert-info\"><img src=\"sport_slike/zad.png\" align=\"left\"/>Нацртати мапу укупног броја добијених медаља на зимским олимпијским играма 2014 године (за ово је потребно поновити и анализе из претходне лекције којим припремате податке о медаљама за сваку земљу).\n",
    "</div> "
   ]
  }
 ],
 "metadata": {
  "kernelspec": {
   "display_name": "petljaGEO",
   "language": "python",
   "name": "petljageo"
  },
  "language_info": {
   "codemirror_mode": {
    "name": "ipython",
    "version": 3
   },
   "file_extension": ".py",
   "mimetype": "text/x-python",
   "name": "python",
   "nbconvert_exporter": "python",
   "pygments_lexer": "ipython3",
   "version": "3.9.7"
  }
 },
 "nbformat": 4,
 "nbformat_minor": 5
}
