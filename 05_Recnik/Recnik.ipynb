{
 "cells": [
  {
   "cell_type": "markdown",
   "metadata": {},
   "source": [
    "# Говори статистички да те цео свет разуме\n",
    "У завршном одељку курса направићемо кратак сажетак онога што смо обрадили. Вратићемо се на неке од термина које смо користили у претходним лекцијама како бисмо их додатно појаснили. За почетак, видели сте да смо већину статистичких обрада и анализа базирали на графичком приказу резултата. Визуализација података је језик који је разумљив свима и представља моћну алатку за преношење информација. Научили сте да цртате разлилчите врсте графикона, али и много више од тога. Научили сте језик статистике, како онај који вам помаже да статистички размишљате, тако и онај који вам олакшава комуникацију са другим особама које верују подацима и успешно доносе закључке на основу њих. Подсетимо се, дакле, најважнијих статистичких термина пролазећи кроз све фазе једног истраживачког процеса."
   ]
  },
  {
   "cell_type": "markdown",
   "metadata": {},
   "source": [
    "## Мерење, податак, баријабла, информација\n",
    "Да бисмо донели закључке о феноменима који нас окружују најпре је потребно да их измеримо.  "
   ]
  },
  {
   "cell_type": "markdown",
   "metadata": {},
   "source": [
    "<div class=\"alert alert-block alert-success\"><b>Мерење</b> је поступак којим одређујемо величину или израженост својства особе или објекта.</div> "
   ]
  },
  {
   "cell_type": "markdown",
   "metadata": {},
   "source": [
    "На пример, могли бисмо да измеримо висину ђака у школи, али и величину стадиона, не само као његове димензије, већ и као капацитет изражен бројем гледалаца које може да прими. У том случају, стадион је наш *објекат* мерења, а капацитет је његово *својство*. Висина, тежина, капацитет и друга својства људи и објеката статистичким речником називамо *варијаблама*. Термин варијабла долази од латинске речи *variare* што значи *мењати се*. "
   ]
  },
  {
   "cell_type": "markdown",
   "metadata": {},
   "source": [
    "<div class=\"alert alert-block alert-success\"><b>Варијабла</b> је својство или карактеристика објеката које може да варира, тј. да се мења од објекта до објекта.</div>"
   ]
  },
  {
   "cell_type": "markdown",
   "metadata": {},
   "source": [
    "Варијабле можемо да измеримо на различите начине. Најбоље би било да то радимо користећи универзално прихваћене или *стандардизоване* алатке као што су метар, штоперица или нормирани психолошки упитник. Међутим, некада су ти мерни инструменти сасвим пригодни. На пример, сигурно сте више пута и сами били инструмент када сте \"мерили\" температуру ваздуха тако што сте изашли на терасу. Коликогод је то мерење грубо, на основу осета хладноће или топлоте ипак сте могли да упоредите дане или просторије по варијабли *температура ваздуха*. Слично томе, наставник математике јесте обучени експерт, али понекад уме да буде и субјективни \"инструмент\" када мери ваше знање на основу усменог одговарања. Дакле, уз помоћ различитих инструмената и алатки ми вршимо мерења и прикупљамо податке. На крају, одређене варијабле као што су пол, националност или брачни статус чак ни не меримо у правом смислу те речи, већ само региструјемо да особа или објекат припада одређеној категорији."
   ]
  },
  {
   "cell_type": "markdown",
   "metadata": {},
   "source": [
    "<div class=\"alert alert-block alert-success\"><b>Податак</b> је сирова вредност настала као резултат мерења или регистровања неког својства. Она нам не говори пуно о самом објекту или феномену који истражујемо све док је не обрадимо заједно са другим подацима.</div>"
   ]
  },
  {
   "cell_type": "markdown",
   "metadata": {},
   "source": [
    "Замислимо да је у групи од 25 ђака измерено знање математике помоћу теста који је саставио наставник. Варијабла *знање математике* представља низ вредности (нпр. бодова или оцена) које је добио сваки ђак. Слично је и у програмирању. Варијаблу `testMat` дефинисаћемо као објекат типа `list`, односно као листу елемената. Приказаћемо одмах и највећу вредност са листе коришћењем методе `max()`."
   ]
  },
  {
   "cell_type": "code",
   "execution_count": 579,
   "metadata": {},
   "outputs": [
    {
     "name": "stdout",
     "output_type": "stream",
     "text": [
      "25\n"
     ]
    }
   ],
   "source": [
    "testMat = [5, 19, 8, 25, 14, 5, 19, 23, 16, 6, 17, 6, 6, 23, 11, 14, 14, 19, 9, 10]\n",
    "print(max(testMat))"
   ]
  },
  {
   "cell_type": "markdown",
   "metadata": {},
   "source": [
    "Податак да је неки ђак освојио 25 поена на тесту не говори нам практично ништа о њему, а још мање о групи којој припада. Међутим, ако знамо да је 25 највећи број у горњем низу, онда имамо и одређену информацију, нпр. да је у питању најуспешнији ђак у одељењу. Додатно, сваки скуп података мора да се анализира и у контексту поступка или методологије мерења. Тек када знамо како су подаци прикупљени можемо да доносемо исправне закључке о феномену који описујемо. На пример, информација базирана на податку да је неко са 25 поена био најбољи у групи потпуно би променила смисао када бисмо знали да је максималан број поена које су ђаци могли да освоје на тесту био 100. Тада бисмо закључили да ђаци нису добро савладали градиво или да је тест био претежак. "
   ]
  },
  {
   "cell_type": "markdown",
   "metadata": {},
   "source": [
    "<div class=\"alert alert-block alert-success\"><b>Информација</b> је обрађен скуп података, смислено интерпретиран и смештен у одговарајући контекст.</div>"
   ]
  },
  {
   "cell_type": "markdown",
   "metadata": {},
   "source": [
    "Да не бисмо превише компликовали наш пример, као пример података ћемо ипак употребити школске оцене. Закомпликоваћемо га само утолико што ћемо у причу увести додатне варијабле. У том случају ће бити потребно да податке другачије организујемо. Рецимо да имамо листе оцена које су исти ђаци добили на тестовима из математике, српског и хемије. Податке бисмо морали да сместимо у одговарајућу табелу, тј. матрицу."
   ]
  },
  {
   "cell_type": "code",
   "execution_count": 580,
   "metadata": {},
   "outputs": [],
   "source": [
    "testMat = [2, 2, 1, 2, 4, 2, 4, 5, 1, 3, 1, 1, 2, 1, 2, 2, 3, 2, 3, 2, 2, 2, 2, 3, 1]\n",
    "testSrp = [5, 5, 4, 5, 4, 5, 4, 5, 4, 5, 3, 4, 4, 5, 5, 5, 3, 5, 3, 2, 4, 3, 2, 5, 5]\n",
    "testHem = [3, 2, 4, 3, 3, 2, 4, 3, 3, 2, 3, 3, 3, 5, 2, 1, 4, 3, 4, 3, 1, 5, 2, 4, 3]\n",
    "testGeo = [5, 4, 5, 1, 5, 4, 5, 5, 5, 5, 4, 5, 5, 4, 4, 5, 5, 5, 5, 5, 4, 5, 5, 5, 4]\n",
    "testBio = [5, 1, 1, 1, 5, 4, 1, 1, 5, 5, 4, 5, 2, 2, 1, 1, 5, 1, 5, 5, 1, 5, 5, pd.NA, 1]\n",
    "testFiz = [5, 5, 5, 5, 5, 5, 5, 5, 5, 5, 5, 5, 5, 5, 5, 5, 5, 5, 5, 5, 5, 5, 5, 5, 5]"
   ]
  },
  {
   "cell_type": "markdown",
   "metadata": {},
   "source": [
    "<div class=\"alert alert-block alert-success\"><b>Матрица података</b> је табела у чије су ћелије смештени резултати мерења. Редови ове табеле представљају објекте мерења (нпр. ђаке), а колоне сва својства која су им измерена (нпр. школске оцене).</div>"
   ]
  },
  {
   "cell_type": "markdown",
   "metadata": {},
   "source": [
    "Обратите пажњу да један ученик није радио тест из биологије или му оцена није уписана. На место где би требало да буде унета његова оцена убележена је константа `NA` biblioteke `pandas` што је скраћеница од енглеског *not available*. "
   ]
  },
  {
   "cell_type": "markdown",
   "metadata": {},
   "source": [
    "<div class=\"alert alert-block alert-success\"><b>Недостајући подаци</b> (енгл. <i>missing data</i>) су вредности неког варијабли које нису измерене или нису уписане у ћелије матрице података. Недостајући подаци се често дешавају и увек је потребно проверити колико их је јер могу значајно да утичу на закључке које доносимо.</div>"
   ]
  },
  {
   "cell_type": "markdown",
   "metadata": {},
   "source": [
    "Матрице или табеле са подацима се у библиотеци `pandas` називају *оквирима података* (енгл. *dataframe*). Направићемо нови оквир од три листе оцена и назваћемо га `djaci`. Употребићемо функције `zip()` и `DataFrame`. Првом се са свих наведених листа узима један по један елемент и редом слаже у засебне редове. Тако настаје нови објекат у коме је за сваког ученика формиран ред података са бодовима на сва три теста знања. Funkcijom `DataFrame` претварамо новоформирани објекат у табелу, тј. оквир. Параметар `columns` ове функције користимо да бисмо преименовали колоне табеле."
   ]
  },
  {
   "cell_type": "code",
   "execution_count": 581,
   "metadata": {},
   "outputs": [
    {
     "data": {
      "text/html": [
       "<div>\n",
       "<style scoped>\n",
       "    .dataframe tbody tr th:only-of-type {\n",
       "        vertical-align: middle;\n",
       "    }\n",
       "\n",
       "    .dataframe tbody tr th {\n",
       "        vertical-align: top;\n",
       "    }\n",
       "\n",
       "    .dataframe thead th {\n",
       "        text-align: right;\n",
       "    }\n",
       "</style>\n",
       "<table border=\"1\" class=\"dataframe\">\n",
       "  <thead>\n",
       "    <tr style=\"text-align: right;\">\n",
       "      <th></th>\n",
       "      <th>Мат</th>\n",
       "      <th>Срп</th>\n",
       "      <th>Хем</th>\n",
       "      <th>Гео</th>\n",
       "      <th>Био</th>\n",
       "      <th>Физ</th>\n",
       "    </tr>\n",
       "  </thead>\n",
       "  <tbody>\n",
       "    <tr>\n",
       "      <th>0</th>\n",
       "      <td>2</td>\n",
       "      <td>5</td>\n",
       "      <td>3</td>\n",
       "      <td>5</td>\n",
       "      <td>5</td>\n",
       "      <td>5</td>\n",
       "    </tr>\n",
       "    <tr>\n",
       "      <th>1</th>\n",
       "      <td>2</td>\n",
       "      <td>5</td>\n",
       "      <td>2</td>\n",
       "      <td>4</td>\n",
       "      <td>1</td>\n",
       "      <td>5</td>\n",
       "    </tr>\n",
       "    <tr>\n",
       "      <th>2</th>\n",
       "      <td>1</td>\n",
       "      <td>4</td>\n",
       "      <td>4</td>\n",
       "      <td>5</td>\n",
       "      <td>1</td>\n",
       "      <td>5</td>\n",
       "    </tr>\n",
       "    <tr>\n",
       "      <th>3</th>\n",
       "      <td>2</td>\n",
       "      <td>5</td>\n",
       "      <td>3</td>\n",
       "      <td>1</td>\n",
       "      <td>1</td>\n",
       "      <td>5</td>\n",
       "    </tr>\n",
       "    <tr>\n",
       "      <th>4</th>\n",
       "      <td>4</td>\n",
       "      <td>4</td>\n",
       "      <td>3</td>\n",
       "      <td>5</td>\n",
       "      <td>5</td>\n",
       "      <td>5</td>\n",
       "    </tr>\n",
       "    <tr>\n",
       "      <th>5</th>\n",
       "      <td>2</td>\n",
       "      <td>5</td>\n",
       "      <td>2</td>\n",
       "      <td>4</td>\n",
       "      <td>4</td>\n",
       "      <td>5</td>\n",
       "    </tr>\n",
       "    <tr>\n",
       "      <th>6</th>\n",
       "      <td>4</td>\n",
       "      <td>4</td>\n",
       "      <td>4</td>\n",
       "      <td>5</td>\n",
       "      <td>1</td>\n",
       "      <td>5</td>\n",
       "    </tr>\n",
       "    <tr>\n",
       "      <th>7</th>\n",
       "      <td>5</td>\n",
       "      <td>5</td>\n",
       "      <td>3</td>\n",
       "      <td>5</td>\n",
       "      <td>1</td>\n",
       "      <td>5</td>\n",
       "    </tr>\n",
       "    <tr>\n",
       "      <th>8</th>\n",
       "      <td>1</td>\n",
       "      <td>4</td>\n",
       "      <td>3</td>\n",
       "      <td>5</td>\n",
       "      <td>5</td>\n",
       "      <td>5</td>\n",
       "    </tr>\n",
       "    <tr>\n",
       "      <th>9</th>\n",
       "      <td>3</td>\n",
       "      <td>5</td>\n",
       "      <td>2</td>\n",
       "      <td>5</td>\n",
       "      <td>5</td>\n",
       "      <td>5</td>\n",
       "    </tr>\n",
       "    <tr>\n",
       "      <th>10</th>\n",
       "      <td>1</td>\n",
       "      <td>3</td>\n",
       "      <td>3</td>\n",
       "      <td>4</td>\n",
       "      <td>4</td>\n",
       "      <td>5</td>\n",
       "    </tr>\n",
       "    <tr>\n",
       "      <th>11</th>\n",
       "      <td>1</td>\n",
       "      <td>4</td>\n",
       "      <td>3</td>\n",
       "      <td>5</td>\n",
       "      <td>5</td>\n",
       "      <td>5</td>\n",
       "    </tr>\n",
       "    <tr>\n",
       "      <th>12</th>\n",
       "      <td>2</td>\n",
       "      <td>4</td>\n",
       "      <td>3</td>\n",
       "      <td>5</td>\n",
       "      <td>2</td>\n",
       "      <td>5</td>\n",
       "    </tr>\n",
       "    <tr>\n",
       "      <th>13</th>\n",
       "      <td>1</td>\n",
       "      <td>5</td>\n",
       "      <td>5</td>\n",
       "      <td>4</td>\n",
       "      <td>2</td>\n",
       "      <td>5</td>\n",
       "    </tr>\n",
       "    <tr>\n",
       "      <th>14</th>\n",
       "      <td>2</td>\n",
       "      <td>5</td>\n",
       "      <td>2</td>\n",
       "      <td>4</td>\n",
       "      <td>1</td>\n",
       "      <td>5</td>\n",
       "    </tr>\n",
       "    <tr>\n",
       "      <th>15</th>\n",
       "      <td>2</td>\n",
       "      <td>5</td>\n",
       "      <td>1</td>\n",
       "      <td>5</td>\n",
       "      <td>1</td>\n",
       "      <td>5</td>\n",
       "    </tr>\n",
       "    <tr>\n",
       "      <th>16</th>\n",
       "      <td>3</td>\n",
       "      <td>3</td>\n",
       "      <td>4</td>\n",
       "      <td>5</td>\n",
       "      <td>5</td>\n",
       "      <td>5</td>\n",
       "    </tr>\n",
       "    <tr>\n",
       "      <th>17</th>\n",
       "      <td>2</td>\n",
       "      <td>5</td>\n",
       "      <td>3</td>\n",
       "      <td>5</td>\n",
       "      <td>1</td>\n",
       "      <td>5</td>\n",
       "    </tr>\n",
       "    <tr>\n",
       "      <th>18</th>\n",
       "      <td>3</td>\n",
       "      <td>3</td>\n",
       "      <td>4</td>\n",
       "      <td>5</td>\n",
       "      <td>5</td>\n",
       "      <td>5</td>\n",
       "    </tr>\n",
       "    <tr>\n",
       "      <th>19</th>\n",
       "      <td>2</td>\n",
       "      <td>2</td>\n",
       "      <td>3</td>\n",
       "      <td>5</td>\n",
       "      <td>5</td>\n",
       "      <td>5</td>\n",
       "    </tr>\n",
       "    <tr>\n",
       "      <th>20</th>\n",
       "      <td>2</td>\n",
       "      <td>4</td>\n",
       "      <td>1</td>\n",
       "      <td>4</td>\n",
       "      <td>1</td>\n",
       "      <td>5</td>\n",
       "    </tr>\n",
       "    <tr>\n",
       "      <th>21</th>\n",
       "      <td>2</td>\n",
       "      <td>3</td>\n",
       "      <td>5</td>\n",
       "      <td>5</td>\n",
       "      <td>5</td>\n",
       "      <td>5</td>\n",
       "    </tr>\n",
       "    <tr>\n",
       "      <th>22</th>\n",
       "      <td>2</td>\n",
       "      <td>2</td>\n",
       "      <td>2</td>\n",
       "      <td>5</td>\n",
       "      <td>5</td>\n",
       "      <td>5</td>\n",
       "    </tr>\n",
       "    <tr>\n",
       "      <th>23</th>\n",
       "      <td>3</td>\n",
       "      <td>5</td>\n",
       "      <td>4</td>\n",
       "      <td>5</td>\n",
       "      <td>&lt;NA&gt;</td>\n",
       "      <td>5</td>\n",
       "    </tr>\n",
       "    <tr>\n",
       "      <th>24</th>\n",
       "      <td>1</td>\n",
       "      <td>5</td>\n",
       "      <td>3</td>\n",
       "      <td>4</td>\n",
       "      <td>1</td>\n",
       "      <td>5</td>\n",
       "    </tr>\n",
       "  </tbody>\n",
       "</table>\n",
       "</div>"
      ],
      "text/plain": [
       "    Мат  Срп  Хем  Гео   Био  Физ\n",
       "0     2    5    3    5     5    5\n",
       "1     2    5    2    4     1    5\n",
       "2     1    4    4    5     1    5\n",
       "3     2    5    3    1     1    5\n",
       "4     4    4    3    5     5    5\n",
       "5     2    5    2    4     4    5\n",
       "6     4    4    4    5     1    5\n",
       "7     5    5    3    5     1    5\n",
       "8     1    4    3    5     5    5\n",
       "9     3    5    2    5     5    5\n",
       "10    1    3    3    4     4    5\n",
       "11    1    4    3    5     5    5\n",
       "12    2    4    3    5     2    5\n",
       "13    1    5    5    4     2    5\n",
       "14    2    5    2    4     1    5\n",
       "15    2    5    1    5     1    5\n",
       "16    3    3    4    5     5    5\n",
       "17    2    5    3    5     1    5\n",
       "18    3    3    4    5     5    5\n",
       "19    2    2    3    5     5    5\n",
       "20    2    4    1    4     1    5\n",
       "21    2    3    5    5     5    5\n",
       "22    2    2    2    5     5    5\n",
       "23    3    5    4    5  <NA>    5\n",
       "24    1    5    3    4     1    5"
      ]
     },
     "execution_count": 581,
     "metadata": {},
     "output_type": "execute_result"
    }
   ],
   "source": [
    "import pandas as pd\n",
    "\n",
    "# Формирамо оквир као комбинацију вредности са три листе \n",
    "djaci = pd.DataFrame(zip(testMat, testSrp, testHem, testGeo, testBio, testFiz), columns=['Мат', 'Срп', 'Хем', 'Гео', 'Био', 'Физ'])\n",
    "# Приказујемо изглед табеле са подацима\n",
    "djaci "
   ]
  },
  {
   "cell_type": "markdown",
   "metadata": {},
   "source": [
    "## Груписање и распршивање података\n",
    "Да бисмо податке претворили у информације најпре је потребно да их опишемо. Описивање података је најбоље започети њиховим графичким приказом. Тако најлакше можемо да уочимо колики је распон измерених вредности, које вредности су најчешће, да ли постоје неки чудни подаци и још много, много тога у зависности од типа графикона који смо одабрали. Осим графичког приказа, свака анализа би требало да почне и рачунањем основних описних показатеља који показују око којих вредности се подаци групишу и колико су варијабилни, односно распршени и разнолики."
   ]
  },
  {
   "cell_type": "markdown",
   "metadata": {},
   "source": [
    "<div class=\"alert alert-block alert-success\"><b>Дескриптивна статистика</b> је скуп метода којима се описују подаци. Цртање графикона и рачунање просечних вредности су типичне дескриптивне технике.</div>"
   ]
  },
  {
   "cell_type": "markdown",
   "metadata": {},
   "source": [
    "Приказаћемо графиконе за све x колоне наше нове табеле. Употребићемо функцију `subplots()` како бисмо формирали мрежу од 4 осе на којима ћемо приказати расподелу (дистрибуцију) оцена за сваки појединачни предмет."
   ]
  },
  {
   "cell_type": "markdown",
   "metadata": {},
   "source": [
    "<div class=\"alert alert-block alert-success\"><b>Дистрибуција података</b> је приказ свих вредности неке варијабле и учесталости њиховог појављивања. У овом курсу смо као синоним за термин <i>учесталост</i> користили и термин <i>фреквенција</i>.</div>"
   ]
  },
  {
   "cell_type": "code",
   "execution_count": 582,
   "metadata": {},
   "outputs": [
    {
     "data": {
      "image/png": "[encoded data removed]",
      "text/plain": [
       "<Figure size 864x504 with 6 Axes>"
      ]
     },
     "metadata": {
      "needs_background": "light"
     },
     "output_type": "display_data"
    }
   ],
   "source": [
    "import matplotlib.pyplot as plt\n",
    "\n",
    "# Правимо мрежу графикона 2 x 2\n",
    "fig, ((ax1, ax2, ax3), (ax4, ax5, ax6)) = plt.subplots(2, 3, figsize=(12,7))\n",
    "# Исцртавамо хистограм за оцене из математике на првом пољу\n",
    "# Распон не обухвата вредност 7, али укључује вредност 6\n",
    "# да би било формирано 5 интервала 1-2, 2-3, 3-4, 4-5 и 5-6\n",
    "djaci['Мат'].plot.hist(edgecolor='white', ax=ax1, bins=range(1,7))\n",
    "# Померамо подеоке на x-оси за пола вредносту удесно\n",
    "# да би се поравнали са средином стубића\n",
    "ax1.set_xticks([1.5,2.5,3.5,4.5,5.5])\n",
    "ax1.set_xticklabels([1,2,3,4,5])\n",
    "# Мењамо називе оса\n",
    "ax1.set_xlabel('Оцена из математике')\n",
    "ax1.set_ylabel('Број ђака')\n",
    "\n",
    "# Понављамо поступак и за преостале варијабле\n",
    "djaci['Срп'].plot.hist(edgecolor='white', ax=ax2, bins=range(1,7))\n",
    "ax2.set_xticks([1.5,2.5,3.5,4.5,5.5])\n",
    "ax2.set_xticklabels([1,2,3,4,5])\n",
    "ax2.set_xlabel('Оцена из српског')\n",
    "ax2.set_ylabel('') # Користимо назив y-осе са левог графикона\n",
    "\n",
    "djaci['Хем'].plot.hist(edgecolor='white', ax=ax3, bins=range(1,7))\n",
    "ax3.set_xticks([1.5,2.5,3.5,4.5,5.5])\n",
    "ax3.set_xticklabels([1,2,3,4,5])\n",
    "ax3.set_xlabel('Оцена из хемије')\n",
    "ax3.set_ylabel('')\n",
    "\n",
    "djaci['Гео'].plot.hist(edgecolor='white', ax=ax4, bins=range(1,7))\n",
    "ax4.set_xticks([1.5,2.5,3.5,4.5,5.5])\n",
    "ax4.set_xticklabels([1,2,3,4,5])\n",
    "ax4.set_xlabel('Оцена из географије')\n",
    "ax4.set_ylabel('Број ђака') \n",
    "\n",
    "djaci['Физ'].plot.hist(edgecolor='white', ax=ax5, bins=range(1,7))\n",
    "ax5.set_xticks([1.5,2.5,3.5,4.5,5.5])\n",
    "ax5.set_xticklabels([1,2,3,4,5])\n",
    "ax5.set_xlabel('Оцена из физичког')\n",
    "ax5.set_ylabel('') \n",
    "\n",
    "djaci['Био'].dropna().plot.hist(edgecolor='white', ax=ax6, bins=range(1,7))\n",
    "ax6.set_xticks([1.5,2.5,3.5,4.5,5.5])\n",
    "ax6.set_xticklabels([1,2,3,4,5])\n",
    "ax6.set_xlabel('Оцена из биологије')\n",
    "ax6.set_ylabel('') \n",
    "\n",
    "fig.tight_layout()"
   ]
  },
  {
   "cell_type": "markdown",
   "metadata": {},
   "source": [
    "<div class=\"alert alert-block alert-success\"><b>Хистограм</b> је врста графикона на коме су висином стубића представљене дистрибуције, односно учесталости различитих вредности мерене варијабле. На x-оси налазе се измерене вредности варијабле, а на y-оси број појављивања тих вредности.</div>"
   ]
  },
  {
   "cell_type": "markdown",
   "metadata": {},
   "source": [
    "Четири хистограма на горњој слици приказују различите дистрибуције оцена. Тест из математике је очигледно био најтежи јер је најчешћа оцена двојка. Са друге стране, ђаци су доста добро урадили тестове из српског и географије где је доминантна оцена петица. У дистрибуцији оцена из географије уочавамо да постоји један *аутлајер*, односно ученик који је добио јединицу. Дистрибуција оцена из хемије је симетрична са највише средишњих оцена (тројки) и мање јединица и петица. Овакав звонаст облик расподеле података у статитици познат је као *нормална дистрибуција*. И дистрибуција оцена из биологије је симетрична, али средишњих вредности уопште нема, већ су оцене груписане око минималне и максималне оцене. Обратите пажњу да је на графикону приказана једна оцена манје јер смо из оквира избацили недостајуће податке функцијом `dropna()`. На крају, сви ђаци су добили петице из физичког. "
   ]
  },
  {
   "cell_type": "markdown",
   "metadata": {},
   "source": [
    "<div class=\"alert alert-block alert-success\"><b>Аутлајер</b> је податак који се веома разликује од осталих резултата у некој групи. Он се обично манифестује као елемент графикона (нпр. стубић или тачкица) који је видно удаљен од осталих података у скупу.</div>"
   ]
  },
  {
   "cell_type": "markdown",
   "metadata": {},
   "source": [
    "<div class=\"alert alert-block alert-success\"><b>Нормална дистрибуција</b> је веома важан облик расподеле у статистици. Карактерише је типичан симетричан и звонаст облик са већином резултата који су груписани око центра.</div>"
   ]
  },
  {
   "cell_type": "markdown",
   "metadata": {},
   "source": [
    "Тежиште дистрибуције података описује се мерама груписања. Најчешћа мера груписања је *аритемтичка средина*, али се поред ње користе и средња вредност или *медијана*, као и најчешћа вредност или *мод*. Израчунаћемо аритметичке средине и медијане свих варијабли. Модове нећемо рачунати јер се веома лако одређују на основу графикона као вредност изнад које се налази највиши стубић дистрибуције."
   ]
  },
  {
   "cell_type": "markdown",
   "metadata": {},
   "source": [
    "<div class=\"alert alert-block alert-success\"><b>Аритметичка средина</b> је просечна вредност низа података. Њу не треба називати средњом вредношћу јер уопште не мора да буде у средини распона дистрибуције, односно низа података. Исто тако, просек не мора да буде једнак типичној, тј. најчешћој вредности скупa података. Средња вредност зове се медијана, а типична вредност мод.</div>"
   ]
  },
  {
   "cell_type": "code",
   "execution_count": 583,
   "metadata": {},
   "outputs": [
    {
     "name": "stdout",
     "output_type": "stream",
     "text": [
      "Аритметичке средине:\n",
      "Мат    2.20\n",
      "Срп    4.16\n",
      "Хем    3.00\n",
      "Гео    4.56\n",
      "Био    3.00\n",
      "Физ    5.00\n",
      "dtype: float64\n",
      "Медијане:\n",
      "Мат    2.0\n",
      "Срп    4.0\n",
      "Хем    3.0\n",
      "Гео    5.0\n",
      "Био    3.0\n",
      "Физ    5.0\n",
      "dtype: float64\n"
     ]
    }
   ],
   "source": [
    "print('Аритметичке средине:')\n",
    "print(djaci.mean())\n",
    "\n",
    "print('Медијане:')\n",
    "print(djaci.median())"
   ]
  },
  {
   "cell_type": "markdown",
   "metadata": {},
   "source": [
    "Уочите да су код симетричних дистрибуција (нпр. хемија и биологија) аритметичка средина и медијана исте, док се код искошених дистрибуција (нпр. математика и српски) оне разиликују. Обратите пажњу да бисмо на основу просека и медијане могли да претпоставимо да су ђаци остварили исти успех на хемији и биологији. Већ сам поглед на рафиконе и вредности модова указује нам да то није тачно. Међутим, постоји још кориснији показатељ који би нам сугерисао да се ове две дистрибуције разликују. Он се зове *стандардна девијација*."
   ]
  },
  {
   "cell_type": "code",
   "execution_count": 584,
   "metadata": {},
   "outputs": [
    {
     "name": "stdout",
     "output_type": "stream",
     "text": [
      "Стандардне девијације:\n",
      "Мат    1.040833\n",
      "Срп    0.986577\n",
      "Хем    1.040833\n",
      "Гео    0.869866\n",
      "Био    1.911066\n",
      "Физ    0.000000\n",
      "dtype: float64\n"
     ]
    }
   ],
   "source": [
    "print('Стандардне девијације:')\n",
    "print(djaci.std())"
   ]
  },
  {
   "cell_type": "markdown",
   "metadata": {},
   "source": [
    "<div class=\"alert alert-block alert-success\"><b>Стандардна девијација</b> је мера одступања скупа података од њихове аритметичке средине. Она нам показује колика је <i>варијабилност</i> појаве, тј. колико се ентитети међусобно разликују по својству које смо измерили.</div>"
   ]
  },
  {
   "cell_type": "markdown",
   "metadata": {},
   "source": [
    "Дистрибуције оцена из хемије и биологије имају исте аритемтичке средине, али је стандардна девијација за биологију дупло већа. То нам говори да су оцене више \"распршене\", тј. да су у просеку више удаљене од аритметичке средине која износи 3. Најмања могућа вредност стандардне девијације је нула у сиуацији када нема варијабилности. Такву ситзуацију имамо код дистрибуције оцена из физичког. "
   ]
  },
  {
   "cell_type": "markdown",
   "metadata": {},
   "source": [
    "Дистрибуције података можемо да прикажемо на различите начине. Неке од оцена ћемо сада приказати кутијастим дијаграмом (енгл. *box plot*). Ова врста графикона је веома погодна у ситуацијама када истовремено треба да упоредимо места груписања и интензитет варирања више варијабли или група података. Кутија представља распон средишњих 50% вредности (тзв. *интерквартилни распон*), \"брчићиma\" је приказан укупан распон података, наранџастом линијом медијана, а кружићима аутлајери. Повежите облике дистрибуција приказане кутијастим дијаграмом са онима који су приказани хистограмом."
   ]
  },
  {
   "cell_type": "markdown",
   "metadata": {},
   "source": [
    "<div class=\"alert alert-block alert-success\"><b>Квартили</b> су вредности које деле скуп података на четири једнака дела. Кључни квартили су први (Q<sub>1</sub>), други (медијана) и трећи (<sub>Q3</sub>). Испод, тј. са леве стране вредности првог вартила налази се 25% објеката, односно мерења, а испод трећег њих 75%.</div>"
   ]
  },
  {
   "cell_type": "code",
   "execution_count": 585,
   "metadata": {},
   "outputs": [
    {
     "data": {
      "image/png": "[encoded data removed]",
      "text/plain": [
       "<Figure size 432x288 with 1 Axes>"
      ]
     },
     "metadata": {
      "needs_background": "light"
     },
     "output_type": "display_data"
    }
   ],
   "source": [
    "kutijasti = plt.boxplot([djaci['Хем'], djaci['Мат'], djaci['Срп'], djaci['Био'].dropna()], vert=False, sym='o')\n",
    "# Називи 4 подека y-осе\n",
    "ylabele = plt.yticks(ticks=[1,2,3,4], labels=['Хемија', 'Математика', 'Српски', 'Биологија'])\n",
    "# Подеоци x-осе\n",
    "xlabele = plt.xticks(ticks=[1,2,3,4,5])"
   ]
  },
  {
   "cell_type": "markdown",
   "metadata": {},
   "source": [
    "## Уни-, би-, три-, мулти-"
   ]
  },
  {
   "cell_type": "markdown",
   "metadata": {},
   "source": [
    "Феномени који се истражују применом статистичких анализа ретко кад су једнодимензионални или *униваријатни*. Чешће је у питању тзв. *мултиваријатни* простор који формирају измерене варијабле. Успех ученика у школи је један такав мултидимензионални феномен. Истина је да успех можемо да сведемо на један просечан број, али тиме се губи много драгоцених информација о ученику као особи која нпр. има високе способности у једној области, а у другој наилази на проблем са разумевањем или мотивацијом. Пошто је већини нас тешко да замисле простор који има више од две или три димензије, задржаћемо се на оном биваријатном.  "
   ]
  },
  {
   "cell_type": "markdown",
   "metadata": {},
   "source": [
    "<div class=\"alert alert-block alert-success\"><b>Квалитативне варијабле</b> су својства која се не могу измерити у правом смислу речи већ је само могуће регистровати да особа или објекат има неку караткеристику. Типичне квалитативне варијабле су пол, националност, брачни статус, боја очију, марка мобилног телефона и сл.</div>"
   ]
  },
  {
   "cell_type": "markdown",
   "metadata": {},
   "source": [
    "<div class=\"alert alert-block alert-success\"><b>Квантитавине варијабле</b> су својства која могу да се изразе нумерички тако да број који је додељен објекту означава количину или израженост тог својства. Типичне квантитавине варијабле су висина, број бодова, брзина, висина крвног притиска и сл.</div>"
   ]
  },
  {
   "cell_type": "markdown",
   "metadata": {},
   "source": [
    "Приказана дистрибуција оцена из биологије има веома атипичан изглед. Вредности се очигледно групишу око два мода, односно две тачке на x-оси. Зато овакве дистрибуције називамо *бимодалним*. Разлоге за појаву овакве дистрибуције није увек лако открити, али обично је у питању дејство неке варијабле на којој се особе или објекти разликују. То може да буде пол, узраст, бављење спортом, конзумиранје алкохола, место живлјенја или било које потенцијално може да утиче на вредности варијабле коју смо мерили. У случају биологије то може да буде похађање приватних часова или термин када је нека група ђака радила тест. Ми ћемо, пак, замислити да је то пол. Нашем постојећем оквиру `djaci` додаћемо још једну колону са вредностима `A` и `B`. Намерно нећемо рећи које слово је који пол, прво да се неко не би увредио, а друго да бисмо скренули пажњу на то да вредност квалитативне варијабле може да буде било који знак. Полове смо могли да означимо са `М` и `Ж`, 1 и 2, 15 и 23, `x` и `y`. Избор ознака ни на који начин не би утицао на природу те варијабле и наше закључке о њој."
   ]
  },
  {
   "cell_type": "code",
   "execution_count": 586,
   "metadata": {},
   "outputs": [
    {
     "data": {
      "text/html": [
       "<div>\n",
       "<style scoped>\n",
       "    .dataframe tbody tr th:only-of-type {\n",
       "        vertical-align: middle;\n",
       "    }\n",
       "\n",
       "    .dataframe tbody tr th {\n",
       "        vertical-align: top;\n",
       "    }\n",
       "\n",
       "    .dataframe thead th {\n",
       "        text-align: right;\n",
       "    }\n",
       "</style>\n",
       "<table border=\"1\" class=\"dataframe\">\n",
       "  <thead>\n",
       "    <tr style=\"text-align: right;\">\n",
       "      <th></th>\n",
       "      <th>Мат</th>\n",
       "      <th>Срп</th>\n",
       "      <th>Хем</th>\n",
       "      <th>Гео</th>\n",
       "      <th>Био</th>\n",
       "      <th>Физ</th>\n",
       "      <th>Пол</th>\n",
       "    </tr>\n",
       "  </thead>\n",
       "  <tbody>\n",
       "    <tr>\n",
       "      <th>0</th>\n",
       "      <td>2</td>\n",
       "      <td>5</td>\n",
       "      <td>3</td>\n",
       "      <td>5</td>\n",
       "      <td>5</td>\n",
       "      <td>5</td>\n",
       "      <td>B</td>\n",
       "    </tr>\n",
       "    <tr>\n",
       "      <th>1</th>\n",
       "      <td>2</td>\n",
       "      <td>5</td>\n",
       "      <td>2</td>\n",
       "      <td>4</td>\n",
       "      <td>1</td>\n",
       "      <td>5</td>\n",
       "      <td>A</td>\n",
       "    </tr>\n",
       "    <tr>\n",
       "      <th>2</th>\n",
       "      <td>1</td>\n",
       "      <td>4</td>\n",
       "      <td>4</td>\n",
       "      <td>5</td>\n",
       "      <td>1</td>\n",
       "      <td>5</td>\n",
       "      <td>A</td>\n",
       "    </tr>\n",
       "    <tr>\n",
       "      <th>3</th>\n",
       "      <td>2</td>\n",
       "      <td>5</td>\n",
       "      <td>3</td>\n",
       "      <td>1</td>\n",
       "      <td>1</td>\n",
       "      <td>5</td>\n",
       "      <td>A</td>\n",
       "    </tr>\n",
       "    <tr>\n",
       "      <th>4</th>\n",
       "      <td>4</td>\n",
       "      <td>4</td>\n",
       "      <td>3</td>\n",
       "      <td>5</td>\n",
       "      <td>5</td>\n",
       "      <td>5</td>\n",
       "      <td>B</td>\n",
       "    </tr>\n",
       "  </tbody>\n",
       "</table>\n",
       "</div>"
      ],
      "text/plain": [
       "   Мат  Срп  Хем  Гео Био  Физ Пол\n",
       "0    2    5    3    5   5    5   B\n",
       "1    2    5    2    4   1    5   A\n",
       "2    1    4    4    5   1    5   A\n",
       "3    2    5    3    1   1    5   A\n",
       "4    4    4    3    5   5    5   B"
      ]
     },
     "execution_count": 586,
     "metadata": {},
     "output_type": "execute_result"
    }
   ],
   "source": [
    "# Листа вредности за варијаблу Пол\n",
    "pol = ['B', 'A', 'A', 'A', 'B', 'B', 'A', 'A', 'B', 'B', 'B', 'B', 'A', 'A', 'A', 'A', 'B', 'A', 'B', 'B', 'A', 'B', 'B', 'B', 'A']\n",
    "# Правимо нову колону Пол и додајемо јој вредности са листе pol\n",
    "djaci['Пол'] = pol\n",
    "# Приказујемо само првих пет редова табеле\n",
    "djaci.head(5)"
   ]
  },
  {
   "cell_type": "markdown",
   "metadata": {},
   "source": [
    "<div class=\"alert alert-block alert-success\"><b>Категоријалне варијабле</b> су својства, обично квалитативна, на основу којих можемо да разврстамо објекте у две или више група. Термин <i>групишуће</i> понекад се користи као синоним за категоријалне варијабле.</div>"
   ]
  },
  {
   "cell_type": "code",
   "execution_count": 587,
   "metadata": {},
   "outputs": [
    {
     "data": {
      "application/vnd.plotly.v1+json": {
       "config": {
        "plotlyServerURL": "https://plot.ly"
       },
       "data": [
        {
         "alignmentgroup": "True",
         "bingroup": "x",
         "hovertemplate": "Пол=B<br>Био=%{x}<br>count=%{y}<extra></extra>",
         "legendgroup": "B",
         "marker": {
          "color": "#636efa",
          "pattern": {
           "shape": ""
          }
         },
         "name": "B",
         "nbinsx": 5,
         "offsetgroup": "B",
         "orientation": "v",
         "showlegend": true,
         "type": "histogram",
         "x": [
          5,
          5,
          4,
          5,
          5,
          4,
          5,
          5,
          5,
          5,
          5,
          5
         ],
         "xaxis": "x",
         "yaxis": "y"
        },
        {
         "alignmentgroup": "True",
         "bingroup": "x",
         "hovertemplate": "Пол=A<br>Био=%{x}<br>count=%{y}<extra></extra>",
         "legendgroup": "A",
         "marker": {
          "color": "#EF553B",
          "pattern": {
           "shape": ""
          }
         },
         "name": "A",
         "nbinsx": 5,
         "offsetgroup": "A",
         "orientation": "v",
         "showlegend": true,
         "type": "histogram",
         "x": [
          1,
          1,
          1,
          1,
          1,
          2,
          2,
          1,
          1,
          1,
          1,
          1
         ],
         "xaxis": "x",
         "yaxis": "y"
        }
       ],
       "layout": {
        "barmode": "relative",
        "height": 500,
        "legend": {
         "title": {
          "text": "Пол"
         },
         "tracegroupgap": 0
        },
        "margin": {
         "t": 60
        },
        "template": {
         "data": {
          "bar": [
           {
            "error_x": {
             "color": "#2a3f5f"
            },
            "error_y": {
             "color": "#2a3f5f"
            },
            "marker": {
             "line": {
              "color": "white",
              "width": 0.5
             },
             "pattern": {
              "fillmode": "overlay",
              "size": 10,
              "solidity": 0.2
             }
            },
            "type": "bar"
           }
          ],
          "barpolar": [
           {
            "marker": {
             "line": {
              "color": "white",
              "width": 0.5
             },
             "pattern": {
              "fillmode": "overlay",
              "size": 10,
              "solidity": 0.2
             }
            },
            "type": "barpolar"
           }
          ],
          "carpet": [
           {
            "aaxis": {
             "endlinecolor": "#2a3f5f",
             "gridcolor": "#C8D4E3",
             "linecolor": "#C8D4E3",
             "minorgridcolor": "#C8D4E3",
             "startlinecolor": "#2a3f5f"
            },
            "baxis": {
             "endlinecolor": "#2a3f5f",
             "gridcolor": "#C8D4E3",
             "linecolor": "#C8D4E3",
             "minorgridcolor": "#C8D4E3",
             "startlinecolor": "#2a3f5f"
            },
            "type": "carpet"
           }
          ],
          "choropleth": [
           {
            "colorbar": {
             "outlinewidth": 0,
             "ticks": ""
            },
            "type": "choropleth"
           }
          ],
          "contour": [
           {
            "colorbar": {
             "outlinewidth": 0,
             "ticks": ""
            },
            "colorscale": [
             [
              0,
              "#0d0887"
             ],
             [
              0.1111111111111111,
              "#46039f"
             ],
             [
              0.2222222222222222,
              "#7201a8"
             ],
             [
              0.3333333333333333,
              "#9c179e"
             ],
             [
              0.4444444444444444,
              "#bd3786"
             ],
             [
              0.5555555555555556,
              "#d8576b"
             ],
             [
              0.6666666666666666,
              "#ed7953"
             ],
             [
              0.7777777777777778,
              "#fb9f3a"
             ],
             [
              0.8888888888888888,
              "#fdca26"
             ],
             [
              1,
              "#f0f921"
             ]
            ],
            "type": "contour"
           }
          ],
          "contourcarpet": [
           {
            "colorbar": {
             "outlinewidth": 0,
             "ticks": ""
            },
            "type": "contourcarpet"
           }
          ],
          "heatmap": [
           {
            "colorbar": {
             "outlinewidth": 0,
             "ticks": ""
            },
            "colorscale": [
             [
              0,
              "#0d0887"
             ],
             [
              0.1111111111111111,
              "#46039f"
             ],
             [
              0.2222222222222222,
              "#7201a8"
             ],
             [
              0.3333333333333333,
              "#9c179e"
             ],
             [
              0.4444444444444444,
              "#bd3786"
             ],
             [
              0.5555555555555556,
              "#d8576b"
             ],
             [
              0.6666666666666666,
              "#ed7953"
             ],
             [
              0.7777777777777778,
              "#fb9f3a"
             ],
             [
              0.8888888888888888,
              "#fdca26"
             ],
             [
              1,
              "#f0f921"
             ]
            ],
            "type": "heatmap"
           }
          ],
          "heatmapgl": [
           {
            "colorbar": {
             "outlinewidth": 0,
             "ticks": ""
            },
            "colorscale": [
             [
              0,
              "#0d0887"
             ],
             [
              0.1111111111111111,
              "#46039f"
             ],
             [
              0.2222222222222222,
              "#7201a8"
             ],
             [
              0.3333333333333333,
              "#9c179e"
             ],
             [
              0.4444444444444444,
              "#bd3786"
             ],
             [
              0.5555555555555556,
              "#d8576b"
             ],
             [
              0.6666666666666666,
              "#ed7953"
             ],
             [
              0.7777777777777778,
              "#fb9f3a"
             ],
             [
              0.8888888888888888,
              "#fdca26"
             ],
             [
              1,
              "#f0f921"
             ]
            ],
            "type": "heatmapgl"
           }
          ],
          "histogram": [
           {
            "marker": {
             "pattern": {
              "fillmode": "overlay",
              "size": 10,
              "solidity": 0.2
             }
            },
            "type": "histogram"
           }
          ],
          "histogram2d": [
           {
            "colorbar": {
             "outlinewidth": 0,
             "ticks": ""
            },
            "colorscale": [
             [
              0,
              "#0d0887"
             ],
             [
              0.1111111111111111,
              "#46039f"
             ],
             [
              0.2222222222222222,
              "#7201a8"
             ],
             [
              0.3333333333333333,
              "#9c179e"
             ],
             [
              0.4444444444444444,
              "#bd3786"
             ],
             [
              0.5555555555555556,
              "#d8576b"
             ],
             [
              0.6666666666666666,
              "#ed7953"
             ],
             [
              0.7777777777777778,
              "#fb9f3a"
             ],
             [
              0.8888888888888888,
              "#fdca26"
             ],
             [
              1,
              "#f0f921"
             ]
            ],
            "type": "histogram2d"
           }
          ],
          "histogram2dcontour": [
           {
            "colorbar": {
             "outlinewidth": 0,
             "ticks": ""
            },
            "colorscale": [
             [
              0,
              "#0d0887"
             ],
             [
              0.1111111111111111,
              "#46039f"
             ],
             [
              0.2222222222222222,
              "#7201a8"
             ],
             [
              0.3333333333333333,
              "#9c179e"
             ],
             [
              0.4444444444444444,
              "#bd3786"
             ],
             [
              0.5555555555555556,
              "#d8576b"
             ],
             [
              0.6666666666666666,
              "#ed7953"
             ],
             [
              0.7777777777777778,
              "#fb9f3a"
             ],
             [
              0.8888888888888888,
              "#fdca26"
             ],
             [
              1,
              "#f0f921"
             ]
            ],
            "type": "histogram2dcontour"
           }
          ],
          "mesh3d": [
           {
            "colorbar": {
             "outlinewidth": 0,
             "ticks": ""
            },
            "type": "mesh3d"
           }
          ],
          "parcoords": [
           {
            "line": {
             "colorbar": {
              "outlinewidth": 0,
              "ticks": ""
             }
            },
            "type": "parcoords"
           }
          ],
          "pie": [
           {
            "automargin": true,
            "type": "pie"
           }
          ],
          "scatter": [
           {
            "marker": {
             "colorbar": {
              "outlinewidth": 0,
              "ticks": ""
             }
            },
            "type": "scatter"
           }
          ],
          "scatter3d": [
           {
            "line": {
             "colorbar": {
              "outlinewidth": 0,
              "ticks": ""
             }
            },
            "marker": {
             "colorbar": {
              "outlinewidth": 0,
              "ticks": ""
             }
            },
            "type": "scatter3d"
           }
          ],
          "scattercarpet": [
           {
            "marker": {
             "colorbar": {
              "outlinewidth": 0,
              "ticks": ""
             }
            },
            "type": "scattercarpet"
           }
          ],
          "scattergeo": [
           {
            "marker": {
             "colorbar": {
              "outlinewidth": 0,
              "ticks": ""
             }
            },
            "type": "scattergeo"
           }
          ],
          "scattergl": [
           {
            "marker": {
             "colorbar": {
              "outlinewidth": 0,
              "ticks": ""
             }
            },
            "type": "scattergl"
           }
          ],
          "scattermapbox": [
           {
            "marker": {
             "colorbar": {
              "outlinewidth": 0,
              "ticks": ""
             }
            },
            "type": "scattermapbox"
           }
          ],
          "scatterpolar": [
           {
            "marker": {
             "colorbar": {
              "outlinewidth": 0,
              "ticks": ""
             }
            },
            "type": "scatterpolar"
           }
          ],
          "scatterpolargl": [
           {
            "marker": {
             "colorbar": {
              "outlinewidth": 0,
              "ticks": ""
             }
            },
            "type": "scatterpolargl"
           }
          ],
          "scatterternary": [
           {
            "marker": {
             "colorbar": {
              "outlinewidth": 0,
              "ticks": ""
             }
            },
            "type": "scatterternary"
           }
          ],
          "surface": [
           {
            "colorbar": {
             "outlinewidth": 0,
             "ticks": ""
            },
            "colorscale": [
             [
              0,
              "#0d0887"
             ],
             [
              0.1111111111111111,
              "#46039f"
             ],
             [
              0.2222222222222222,
              "#7201a8"
             ],
             [
              0.3333333333333333,
              "#9c179e"
             ],
             [
              0.4444444444444444,
              "#bd3786"
             ],
             [
              0.5555555555555556,
              "#d8576b"
             ],
             [
              0.6666666666666666,
              "#ed7953"
             ],
             [
              0.7777777777777778,
              "#fb9f3a"
             ],
             [
              0.8888888888888888,
              "#fdca26"
             ],
             [
              1,
              "#f0f921"
             ]
            ],
            "type": "surface"
           }
          ],
          "table": [
           {
            "cells": {
             "fill": {
              "color": "#EBF0F8"
             },
             "line": {
              "color": "white"
             }
            },
            "header": {
             "fill": {
              "color": "#C8D4E3"
             },
             "line": {
              "color": "white"
             }
            },
            "type": "table"
           }
          ]
         },
         "layout": {
          "annotationdefaults": {
           "arrowcolor": "#2a3f5f",
           "arrowhead": 0,
           "arrowwidth": 1
          },
          "autotypenumbers": "strict",
          "coloraxis": {
           "colorbar": {
            "outlinewidth": 0,
            "ticks": ""
           }
          },
          "colorscale": {
           "diverging": [
            [
             0,
             "#8e0152"
            ],
            [
             0.1,
             "#c51b7d"
            ],
            [
             0.2,
             "#de77ae"
            ],
            [
             0.3,
             "#f1b6da"
            ],
            [
             0.4,
             "#fde0ef"
            ],
            [
             0.5,
             "#f7f7f7"
            ],
            [
             0.6,
             "#e6f5d0"
            ],
            [
             0.7,
             "#b8e186"
            ],
            [
             0.8,
             "#7fbc41"
            ],
            [
             0.9,
             "#4d9221"
            ],
            [
             1,
             "#276419"
            ]
           ],
           "sequential": [
            [
             0,
             "#0d0887"
            ],
            [
             0.1111111111111111,
             "#46039f"
            ],
            [
             0.2222222222222222,
             "#7201a8"
            ],
            [
             0.3333333333333333,
             "#9c179e"
            ],
            [
             0.4444444444444444,
             "#bd3786"
            ],
            [
             0.5555555555555556,
             "#d8576b"
            ],
            [
             0.6666666666666666,
             "#ed7953"
            ],
            [
             0.7777777777777778,
             "#fb9f3a"
            ],
            [
             0.8888888888888888,
             "#fdca26"
            ],
            [
             1,
             "#f0f921"
            ]
           ],
           "sequentialminus": [
            [
             0,
             "#0d0887"
            ],
            [
             0.1111111111111111,
             "#46039f"
            ],
            [
             0.2222222222222222,
             "#7201a8"
            ],
            [
             0.3333333333333333,
             "#9c179e"
            ],
            [
             0.4444444444444444,
             "#bd3786"
            ],
            [
             0.5555555555555556,
             "#d8576b"
            ],
            [
             0.6666666666666666,
             "#ed7953"
            ],
            [
             0.7777777777777778,
             "#fb9f3a"
            ],
            [
             0.8888888888888888,
             "#fdca26"
            ],
            [
             1,
             "#f0f921"
            ]
           ]
          },
          "colorway": [
           "#636efa",
           "#EF553B",
           "#00cc96",
           "#ab63fa",
           "#FFA15A",
           "#19d3f3",
           "#FF6692",
           "#B6E880",
           "#FF97FF",
           "#FECB52"
          ],
          "font": {
           "color": "#2a3f5f"
          },
          "geo": {
           "bgcolor": "white",
           "lakecolor": "white",
           "landcolor": "white",
           "showlakes": true,
           "showland": true,
           "subunitcolor": "#C8D4E3"
          },
          "hoverlabel": {
           "align": "left"
          },
          "hovermode": "closest",
          "mapbox": {
           "style": "light"
          },
          "paper_bgcolor": "white",
          "plot_bgcolor": "white",
          "polar": {
           "angularaxis": {
            "gridcolor": "#EBF0F8",
            "linecolor": "#EBF0F8",
            "ticks": ""
           },
           "bgcolor": "white",
           "radialaxis": {
            "gridcolor": "#EBF0F8",
            "linecolor": "#EBF0F8",
            "ticks": ""
           }
          },
          "scene": {
           "xaxis": {
            "backgroundcolor": "white",
            "gridcolor": "#DFE8F3",
            "gridwidth": 2,
            "linecolor": "#EBF0F8",
            "showbackground": true,
            "ticks": "",
            "zerolinecolor": "#EBF0F8"
           },
           "yaxis": {
            "backgroundcolor": "white",
            "gridcolor": "#DFE8F3",
            "gridwidth": 2,
            "linecolor": "#EBF0F8",
            "showbackground": true,
            "ticks": "",
            "zerolinecolor": "#EBF0F8"
           },
           "zaxis": {
            "backgroundcolor": "white",
            "gridcolor": "#DFE8F3",
            "gridwidth": 2,
            "linecolor": "#EBF0F8",
            "showbackground": true,
            "ticks": "",
            "zerolinecolor": "#EBF0F8"
           }
          },
          "shapedefaults": {
           "line": {
            "color": "#2a3f5f"
           }
          },
          "ternary": {
           "aaxis": {
            "gridcolor": "#DFE8F3",
            "linecolor": "#A2B1C6",
            "ticks": ""
           },
           "baxis": {
            "gridcolor": "#DFE8F3",
            "linecolor": "#A2B1C6",
            "ticks": ""
           },
           "bgcolor": "white",
           "caxis": {
            "gridcolor": "#DFE8F3",
            "linecolor": "#A2B1C6",
            "ticks": ""
           }
          },
          "title": {
           "x": 0.05
          },
          "xaxis": {
           "automargin": true,
           "gridcolor": "#EBF0F8",
           "linecolor": "#EBF0F8",
           "ticks": "",
           "title": {
            "standoff": 15
           },
           "zerolinecolor": "#EBF0F8",
           "zerolinewidth": 2
          },
          "yaxis": {
           "automargin": true,
           "gridcolor": "#EBF0F8",
           "linecolor": "#EBF0F8",
           "ticks": "",
           "title": {
            "standoff": 15
           },
           "zerolinecolor": "#EBF0F8",
           "zerolinewidth": 2
          }
         }
        },
        "width": 700,
        "xaxis": {
         "anchor": "y",
         "domain": [
          0,
          1
         ],
         "title": {
          "text": "Био"
         }
        },
        "yaxis": {
         "anchor": "x",
         "domain": [
          0,
          1
         ],
         "title": {
          "text": "count"
         }
        }
       }
      }
     },
     "metadata": {},
     "output_type": "display_data"
    }
   ],
   "source": [
    "import plotly.express as px\n",
    "\n",
    "fig = px.histogram(djaci.dropna(), x='Био', color='Пол', nbins=5, width=700, height=500, template='plotly_white')\n",
    "fig.show()"
   ]
  },
  {
   "cell_type": "markdown",
   "metadata": {},
   "source": [
    "Горњи хистограм исцртали смо помоћу библиотеке `ploltly`. Параметар `color` функције `histogram` одређује на основу које варијабле ће резултати бити груписани и обојени другачијим бојама. Обратите пажњу да смо графиконом визуализовали биваријатни простор јер су за његово исцртавање употребљене две варијабле: пол и оцена из биологије."
   ]
  },
  {
   "cell_type": "markdown",
   "metadata": {},
   "source": [
    "Додаћемо још четири варијабле нашем скупу података: телесну масу ђака, дневни унос шећера у грамима, број сати физичког вежбања недељно и број послатих порука дневно. "
   ]
  },
  {
   "cell_type": "code",
   "execution_count": 588,
   "metadata": {},
   "outputs": [
    {
     "data": {
      "text/html": [
       "<div>\n",
       "<style scoped>\n",
       "    .dataframe tbody tr th:only-of-type {\n",
       "        vertical-align: middle;\n",
       "    }\n",
       "\n",
       "    .dataframe tbody tr th {\n",
       "        vertical-align: top;\n",
       "    }\n",
       "\n",
       "    .dataframe thead th {\n",
       "        text-align: right;\n",
       "    }\n",
       "</style>\n",
       "<table border=\"1\" class=\"dataframe\">\n",
       "  <thead>\n",
       "    <tr style=\"text-align: right;\">\n",
       "      <th></th>\n",
       "      <th>Мат</th>\n",
       "      <th>Срп</th>\n",
       "      <th>Хем</th>\n",
       "      <th>Гео</th>\n",
       "      <th>Био</th>\n",
       "      <th>Физ</th>\n",
       "      <th>Пол</th>\n",
       "      <th>Шећер</th>\n",
       "      <th>Маса</th>\n",
       "      <th>Вежба</th>\n",
       "      <th>Поруке</th>\n",
       "    </tr>\n",
       "  </thead>\n",
       "  <tbody>\n",
       "    <tr>\n",
       "      <th>0</th>\n",
       "      <td>2</td>\n",
       "      <td>5</td>\n",
       "      <td>3</td>\n",
       "      <td>5</td>\n",
       "      <td>5</td>\n",
       "      <td>5</td>\n",
       "      <td>B</td>\n",
       "      <td>35</td>\n",
       "      <td>69</td>\n",
       "      <td>1.0</td>\n",
       "      <td>29</td>\n",
       "    </tr>\n",
       "    <tr>\n",
       "      <th>1</th>\n",
       "      <td>2</td>\n",
       "      <td>5</td>\n",
       "      <td>2</td>\n",
       "      <td>4</td>\n",
       "      <td>1</td>\n",
       "      <td>5</td>\n",
       "      <td>A</td>\n",
       "      <td>78</td>\n",
       "      <td>70</td>\n",
       "      <td>1.0</td>\n",
       "      <td>0</td>\n",
       "    </tr>\n",
       "    <tr>\n",
       "      <th>2</th>\n",
       "      <td>1</td>\n",
       "      <td>4</td>\n",
       "      <td>4</td>\n",
       "      <td>5</td>\n",
       "      <td>1</td>\n",
       "      <td>5</td>\n",
       "      <td>A</td>\n",
       "      <td>16</td>\n",
       "      <td>53</td>\n",
       "      <td>7.5</td>\n",
       "      <td>45</td>\n",
       "    </tr>\n",
       "    <tr>\n",
       "      <th>3</th>\n",
       "      <td>2</td>\n",
       "      <td>5</td>\n",
       "      <td>3</td>\n",
       "      <td>1</td>\n",
       "      <td>1</td>\n",
       "      <td>5</td>\n",
       "      <td>A</td>\n",
       "      <td>24</td>\n",
       "      <td>59</td>\n",
       "      <td>6.0</td>\n",
       "      <td>27</td>\n",
       "    </tr>\n",
       "    <tr>\n",
       "      <th>4</th>\n",
       "      <td>4</td>\n",
       "      <td>4</td>\n",
       "      <td>3</td>\n",
       "      <td>5</td>\n",
       "      <td>5</td>\n",
       "      <td>5</td>\n",
       "      <td>B</td>\n",
       "      <td>16</td>\n",
       "      <td>58</td>\n",
       "      <td>4.0</td>\n",
       "      <td>43</td>\n",
       "    </tr>\n",
       "  </tbody>\n",
       "</table>\n",
       "</div>"
      ],
      "text/plain": [
       "   Мат  Срп  Хем  Гео Био  Физ Пол  Шећер  Маса  Вежба  Поруке\n",
       "0    2    5    3    5   5    5   B     35    69    1.0      29\n",
       "1    2    5    2    4   1    5   A     78    70    1.0       0\n",
       "2    1    4    4    5   1    5   A     16    53    7.5      45\n",
       "3    2    5    3    1   1    5   A     24    59    6.0      27\n",
       "4    4    4    3    5   5    5   B     16    58    4.0      43"
      ]
     },
     "execution_count": 588,
     "metadata": {},
     "output_type": "execute_result"
    }
   ],
   "source": [
    "masa =  [69, 70, 53, 59, 58, 67, 60, 64, 54, 68, 60, 55, 55, 63, 72, 68, 71, 65, 54, 55, 60, 62, 59, 51, 70]\n",
    "secer = [35, 78, 16, 24, 16, 45, 27, 78, 39, 56, 25, 34, 8, 29, 68, 33, 83, 52, 22, 30, 31, 18, 56, 5, 65]\n",
    "vezba = [1, 1, 7.5, 6, 4, 3, 2.5, 1, 5, 0.5, 4, 6.5, 5, 3, 0, 2, 0, 3, 6, 5, 4, 4, 4.5, 8, 0.5]\n",
    "poruke = [29, 0, 45, 27, 43, 33, 0, 27, 20, 54, 48, 5, 46, 27, 28, 11, 31, 21, 32, 13, 14, 15, 38, 28, 48]\n",
    "\n",
    "djaci['Маса'] = masa\n",
    "djaci['Шећер'] = secer\n",
    "djaci['Вежба'] = vezba\n",
    "djaci['Поруке'] = poruke\n",
    "\n",
    "djaci.head(5)"
   ]
  },
  {
   "cell_type": "markdown",
   "metadata": {},
   "source": [
    "<div class=\"alert alert-block alert-success\"><b>Скатер дијаграм</b> или <i>дијаграм распршења</i> је врста графичког приказа у коме су објекти приказани као тачке у простору две варијабле. Облик распршења може да укаже на одређене правилности и повезаност појава које анализирамо.</div>"
   ]
  },
  {
   "cell_type": "markdown",
   "metadata": {},
   "source": [
    "Односе телесне масе са сваком од преостале три варијабле приказаћемо скатер дијаграмима."
   ]
  },
  {
   "cell_type": "code",
   "execution_count": 589,
   "metadata": {},
   "outputs": [
    {
     "data": {
      "image/png": "[encoded data removed]",
      "text/plain": [
       "<Figure size 1152x360 with 3 Axes>"
      ]
     },
     "metadata": {
      "needs_background": "light"
     },
     "output_type": "display_data"
    }
   ],
   "source": [
    "fig, (ax1, ax2, ax3) = plt.subplots(1, 3, figsize=(16,5))\n",
    "\n",
    "ax1.scatter(x=djaci['Шећер'], y=djaci['Маса'])\n",
    "ax1.set_ylabel('Телесна маса')\n",
    "ax1.set_xlabel('Дневни унос шећера')\n",
    "ax2.scatter(x=djaci['Вежба'], y=djaci['Маса'])\n",
    "ax2.set_xlabel('Сати вежбе недељно')\n",
    "ax3.scatter(x=djaci['Поруке'], y=djaci['Маса'])\n",
    "ax3.set_xlabel('Број послатих порука дневно')\n",
    "\n",
    "fig.tight_layout()"
   ]
  },
  {
   "cell_type": "markdown",
   "metadata": {},
   "source": [
    "Обратите пажњу како распршенје на графиконима може да вам помогне да уочите на одређене правилности у односима парова варијабли. Високе вредности телесне масе повезане су са вишим уносом шећера (први графикон) и мањом физичком активношћу (други графикон). Трећи гарфикон показује да нема повезаности између телесне масе и броја послатих порука дневно. "
   ]
  },
  {
   "cell_type": "markdown",
   "metadata": {},
   "source": [
    "<div class=\"alert alert-block alert-success\"><b>Коефицијент корелације</b> је стандардна мера повезаности две варијабле. Његове вредности могу да се крећу у интервалу од -1 до 1. Више апсолутне вредности значе да се две појаве заједнички варирају и да повећање вредности једне варијабле прати повећанје или сманјенје вредности друге. Прва правилност је показатељ позитивне, а друга негативне корелације.</div>"
   ]
  },
  {
   "cell_type": "markdown",
   "metadata": {},
   "source": [
    "<div class=\"alert alert-block alert-success\"><b>Корелациона матрица</b> је табела у чијим ћелијама се налазе коефицијенти корелације парова варијабли формираних комбинацијом редова и колона. Матрицу називамо <i>квадратном</i> ако је настала међусобним укрштањем варијабли унутар једног скупа.</div>"
   ]
  },
  {
   "cell_type": "markdown",
   "metadata": {},
   "source": [
    "Степен повезаности варијабли приказаних на горњим графиконима сада ћемо изразити коефицијентима корелације смештеним у корелациону мартрицу димензија 4 x 4. Обратите пажњу да су у главној дијагонали матрице јединице зато што варијабла корелира максимално сама са собом."
   ]
  },
  {
   "cell_type": "code",
   "execution_count": 590,
   "metadata": {},
   "outputs": [
    {
     "data": {
      "text/html": [
       "<div>\n",
       "<style scoped>\n",
       "    .dataframe tbody tr th:only-of-type {\n",
       "        vertical-align: middle;\n",
       "    }\n",
       "\n",
       "    .dataframe tbody tr th {\n",
       "        vertical-align: top;\n",
       "    }\n",
       "\n",
       "    .dataframe thead th {\n",
       "        text-align: right;\n",
       "    }\n",
       "</style>\n",
       "<table border=\"1\" class=\"dataframe\">\n",
       "  <thead>\n",
       "    <tr style=\"text-align: right;\">\n",
       "      <th></th>\n",
       "      <th>Маса</th>\n",
       "      <th>Шећер</th>\n",
       "      <th>Вежба</th>\n",
       "      <th>Поруке</th>\n",
       "    </tr>\n",
       "  </thead>\n",
       "  <tbody>\n",
       "    <tr>\n",
       "      <th>Маса</th>\n",
       "      <td>1.00</td>\n",
       "      <td>0.74</td>\n",
       "      <td>-0.93</td>\n",
       "      <td>-0.00</td>\n",
       "    </tr>\n",
       "    <tr>\n",
       "      <th>Шећер</th>\n",
       "      <td>0.74</td>\n",
       "      <td>1.00</td>\n",
       "      <td>-0.77</td>\n",
       "      <td>-0.06</td>\n",
       "    </tr>\n",
       "    <tr>\n",
       "      <th>Вежба</th>\n",
       "      <td>-0.93</td>\n",
       "      <td>-0.77</td>\n",
       "      <td>1.00</td>\n",
       "      <td>-0.01</td>\n",
       "    </tr>\n",
       "    <tr>\n",
       "      <th>Поруке</th>\n",
       "      <td>-0.00</td>\n",
       "      <td>-0.06</td>\n",
       "      <td>-0.01</td>\n",
       "      <td>1.00</td>\n",
       "    </tr>\n",
       "  </tbody>\n",
       "</table>\n",
       "</div>"
      ],
      "text/plain": [
       "        Маса  Шећер  Вежба  Поруке\n",
       "Маса    1.00   0.74  -0.93   -0.00\n",
       "Шећер   0.74   1.00  -0.77   -0.06\n",
       "Вежба  -0.93  -0.77   1.00   -0.01\n",
       "Поруке -0.00  -0.06  -0.01    1.00"
      ]
     },
     "execution_count": 590,
     "metadata": {},
     "output_type": "execute_result"
    }
   ],
   "source": [
    "# Вредности коефицијената корелације у матрици заокружујемо на две децимале\n",
    "djaci[['Маса', 'Шећер', 'Вежба', 'Поруке']].corr().round(2)"
   ]
  }
 ],
 "metadata": {
  "interpreter": {
   "hash": "348691c3bd2f09422a1d002135f80172c0d963b544c282476421ef0a2ca5cf3b"
  },
  "kernelspec": {
   "display_name": "Python 3 (ipykernel)",
   "language": "python",
   "name": "python3"
  },
  "language_info": {
   "codemirror_mode": {
    "name": "ipython",
    "version": 3
   },
   "file_extension": ".py",
   "mimetype": "text/x-python",
   "name": "python",
   "nbconvert_exporter": "python",
   "pygments_lexer": "ipython3",
   "version": "3.9.6"
  }
 },
 "nbformat": 4,
 "nbformat_minor": 2
}
