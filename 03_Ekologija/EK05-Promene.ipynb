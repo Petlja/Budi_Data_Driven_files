{
 "cells": [
  {
   "cell_type": "markdown",
   "metadata": {},
   "source": [
    "# Како се мењао еколошки отисак у последњих пола века?\n",
    "У скупу података који користимо налази се и табела која приказује промене вредности глобалног еколошког отиска у времену. Учитаћемо табелу *NFA 1961-2017* и анализирати доступне податке. Одмах ћемо променити називе варијабли да не бисмо накнадно морали да мењамо ознаке оса и легенди."
   ]
  },
  {
   "cell_type": "code",
   "execution_count": 1,
   "metadata": {},
   "outputs": [
    {
     "name": "stdout",
     "output_type": "stream",
     "text": [
      "<class 'pandas.core.frame.DataFrame'>\n",
      "RangeIndex: 57 entries, 0 to 56\n",
      "Data columns (total 9 columns):\n",
      " #   Column           Non-Null Count  Dtype  \n",
      "---  ------           --------------  -----  \n",
      " 0   Година           57 non-null     int64  \n",
      " 1   Оранице          57 non-null     float64\n",
      " 2   Пашњаци          57 non-null     float64\n",
      " 3   Шуме             57 non-null     float64\n",
      " 4   CO2              57 non-null     float64\n",
      " 5   Риба             57 non-null     float64\n",
      " 6   Земљиште         57 non-null     float64\n",
      " 7   Еколошки отисак  57 non-null     float64\n",
      " 8   Биокапацитет     57 non-null     float64\n",
      "dtypes: float64(8), int64(1)\n",
      "memory usage: 4.1 KB\n"
     ]
    }
   ],
   "source": [
    "import pandas as pd\n",
    "\n",
    "otisakTrend = pd.read_csv('podaci/NFA 1961-2017.csv')\n",
    "\n",
    "# Оса (axis) 1 садржи називе колона које мењамо у самом скупу оператором inplace=True\n",
    "otisakTrend.set_axis(['Година', 'Оранице', 'Пашњаци', 'Шуме', 'CO2', 'Риба', 'Земљиште', 'Еколошки отисак', 'Биокапацитет'], axis=1, inplace=True)\n",
    "\n",
    "# Приказујемо основне информације о скупу\n",
    "otisakTrend.info()"
   ]
  },
  {
   "cell_type": "markdown",
   "metadata": {},
   "source": [
    "Погледаћемо најпре како се мењао однос вредности укупног еколошког отиска и расположивих биокапацитета у периоду од 1961. до 2017. године."
   ]
  },
  {
   "cell_type": "code",
   "execution_count": 2,
   "metadata": {},
   "outputs": [
    {
     "data": {
      "application/vnd.plotly.v1+json": {
       "config": {
        "plotlyServerURL": "https://plot.ly"
       },
       "data": [
        {
         "hovertemplate": "variable=Еколошки отисак<br>Година=%{x}<br>value=%{y}<extra></extra>",
         "legendgroup": "Еколошки отисак",
         "line": {
          "color": "#636efa",
          "dash": "solid"
         },
         "marker": {
          "symbol": "circle"
         },
         "mode": "lines+markers",
         "name": "Еколошки отисак",
         "orientation": "v",
         "showlegend": true,
         "type": "scatter",
         "x": [
          1961,
          1962,
          1963,
          1964,
          1965,
          1966,
          1967,
          1968,
          1969,
          1970,
          1971,
          1972,
          1973,
          1974,
          1975,
          1976,
          1977,
          1978,
          1979,
          1980,
          1981,
          1982,
          1983,
          1984,
          1985,
          1986,
          1987,
          1988,
          1989,
          1990,
          1991,
          1992,
          1993,
          1994,
          1995,
          1996,
          1997,
          1998,
          1999,
          2000,
          2001,
          2002,
          2003,
          2004,
          2005,
          2006,
          2007,
          2008,
          2009,
          2010,
          2011,
          2012,
          2013,
          2014,
          2015,
          2016,
          2017
         ],
         "xaxis": "x",
         "y": [
          2.27,
          2.3,
          2.35,
          2.39,
          2.43,
          2.49,
          2.5,
          2.55,
          2.6,
          2.7,
          2.74,
          2.75,
          2.85,
          2.77,
          2.7,
          2.77,
          2.78,
          2.8,
          2.82,
          2.72,
          2.64,
          2.58,
          2.53,
          2.59,
          2.58,
          2.58,
          2.61,
          2.62,
          2.64,
          2.63,
          2.58,
          2.56,
          2.52,
          2.52,
          2.53,
          2.55,
          2.55,
          2.52,
          2.5,
          2.53,
          2.52,
          2.52,
          2.59,
          2.68,
          2.71,
          2.75,
          2.8,
          2.79,
          2.71,
          2.82,
          2.84,
          2.79,
          2.81,
          2.79,
          2.75,
          2.71,
          2.77
         ],
         "yaxis": "y"
        },
        {
         "hovertemplate": "variable=Биокапацитет<br>Година=%{x}<br>value=%{y}<extra></extra>",
         "legendgroup": "Биокапацитет",
         "line": {
          "color": "#EF553B",
          "dash": "solid"
         },
         "marker": {
          "symbol": "circle"
         },
         "mode": "lines+markers",
         "name": "Биокапацитет",
         "orientation": "v",
         "showlegend": true,
         "type": "scatter",
         "x": [
          1961,
          1962,
          1963,
          1964,
          1965,
          1966,
          1967,
          1968,
          1969,
          1970,
          1971,
          1972,
          1973,
          1974,
          1975,
          1976,
          1977,
          1978,
          1979,
          1980,
          1981,
          1982,
          1983,
          1984,
          1985,
          1986,
          1987,
          1988,
          1989,
          1990,
          1991,
          1992,
          1993,
          1994,
          1995,
          1996,
          1997,
          1998,
          1999,
          2000,
          2001,
          2002,
          2003,
          2004,
          2005,
          2006,
          2007,
          2008,
          2009,
          2010,
          2011,
          2012,
          2013,
          2014,
          2015,
          2016,
          2017
         ],
         "xaxis": "x",
         "y": [
          3.11,
          3.07,
          3.01,
          2.96,
          2.91,
          2.88,
          2.83,
          2.79,
          2.73,
          2.69,
          2.65,
          2.59,
          2.57,
          2.51,
          2.47,
          2.43,
          2.39,
          2.38,
          2.33,
          2.29,
          2.27,
          2.25,
          2.21,
          2.2,
          2.17,
          2.14,
          2.11,
          2.06,
          2.05,
          2.04,
          2,
          1.99,
          1.96,
          1.94,
          1.91,
          1.91,
          1.89,
          1.87,
          1.85,
          1.83,
          1.82,
          1.8,
          1.77,
          1.77,
          1.75,
          1.74,
          1.72,
          1.72,
          1.69,
          1.68,
          1.66,
          1.63,
          1.64,
          1.63,
          1.61,
          1.6,
          1.6
         ],
         "yaxis": "y"
        }
       ],
       "layout": {
        "font": {
         "size": 11
        },
        "height": 400,
        "legend": {
         "bgcolor": "rgba(0,0,0,0)",
         "font": {
          "size": 12
         },
         "title": {
          "text": ""
         },
         "tracegroupgap": 0,
         "x": 0.01,
         "y": 0.01
        },
        "margin": {
         "b": 0,
         "l": 80,
         "r": 30,
         "t": 60
        },
        "template": {
         "data": {
          "bar": [
           {
            "error_x": {
             "color": "#2a3f5f"
            },
            "error_y": {
             "color": "#2a3f5f"
            },
            "marker": {
             "line": {
              "color": "white",
              "width": 0.5
             },
             "pattern": {
              "fillmode": "overlay",
              "size": 10,
              "solidity": 0.2
             }
            },
            "type": "bar"
           }
          ],
          "barpolar": [
           {
            "marker": {
             "line": {
              "color": "white",
              "width": 0.5
             },
             "pattern": {
              "fillmode": "overlay",
              "size": 10,
              "solidity": 0.2
             }
            },
            "type": "barpolar"
           }
          ],
          "carpet": [
           {
            "aaxis": {
             "endlinecolor": "#2a3f5f",
             "gridcolor": "#C8D4E3",
             "linecolor": "#C8D4E3",
             "minorgridcolor": "#C8D4E3",
             "startlinecolor": "#2a3f5f"
            },
            "baxis": {
             "endlinecolor": "#2a3f5f",
             "gridcolor": "#C8D4E3",
             "linecolor": "#C8D4E3",
             "minorgridcolor": "#C8D4E3",
             "startlinecolor": "#2a3f5f"
            },
            "type": "carpet"
           }
          ],
          "choropleth": [
           {
            "colorbar": {
             "outlinewidth": 0,
             "ticks": ""
            },
            "type": "choropleth"
           }
          ],
          "contour": [
           {
            "colorbar": {
             "outlinewidth": 0,
             "ticks": ""
            },
            "colorscale": [
             [
              0,
              "#0d0887"
             ],
             [
              0.1111111111111111,
              "#46039f"
             ],
             [
              0.2222222222222222,
              "#7201a8"
             ],
             [
              0.3333333333333333,
              "#9c179e"
             ],
             [
              0.4444444444444444,
              "#bd3786"
             ],
             [
              0.5555555555555556,
              "#d8576b"
             ],
             [
              0.6666666666666666,
              "#ed7953"
             ],
             [
              0.7777777777777778,
              "#fb9f3a"
             ],
             [
              0.8888888888888888,
              "#fdca26"
             ],
             [
              1,
              "#f0f921"
             ]
            ],
            "type": "contour"
           }
          ],
          "contourcarpet": [
           {
            "colorbar": {
             "outlinewidth": 0,
             "ticks": ""
            },
            "type": "contourcarpet"
           }
          ],
          "heatmap": [
           {
            "colorbar": {
             "outlinewidth": 0,
             "ticks": ""
            },
            "colorscale": [
             [
              0,
              "#0d0887"
             ],
             [
              0.1111111111111111,
              "#46039f"
             ],
             [
              0.2222222222222222,
              "#7201a8"
             ],
             [
              0.3333333333333333,
              "#9c179e"
             ],
             [
              0.4444444444444444,
              "#bd3786"
             ],
             [
              0.5555555555555556,
              "#d8576b"
             ],
             [
              0.6666666666666666,
              "#ed7953"
             ],
             [
              0.7777777777777778,
              "#fb9f3a"
             ],
             [
              0.8888888888888888,
              "#fdca26"
             ],
             [
              1,
              "#f0f921"
             ]
            ],
            "type": "heatmap"
           }
          ],
          "heatmapgl": [
           {
            "colorbar": {
             "outlinewidth": 0,
             "ticks": ""
            },
            "colorscale": [
             [
              0,
              "#0d0887"
             ],
             [
              0.1111111111111111,
              "#46039f"
             ],
             [
              0.2222222222222222,
              "#7201a8"
             ],
             [
              0.3333333333333333,
              "#9c179e"
             ],
             [
              0.4444444444444444,
              "#bd3786"
             ],
             [
              0.5555555555555556,
              "#d8576b"
             ],
             [
              0.6666666666666666,
              "#ed7953"
             ],
             [
              0.7777777777777778,
              "#fb9f3a"
             ],
             [
              0.8888888888888888,
              "#fdca26"
             ],
             [
              1,
              "#f0f921"
             ]
            ],
            "type": "heatmapgl"
           }
          ],
          "histogram": [
           {
            "marker": {
             "pattern": {
              "fillmode": "overlay",
              "size": 10,
              "solidity": 0.2
             }
            },
            "type": "histogram"
           }
          ],
          "histogram2d": [
           {
            "colorbar": {
             "outlinewidth": 0,
             "ticks": ""
            },
            "colorscale": [
             [
              0,
              "#0d0887"
             ],
             [
              0.1111111111111111,
              "#46039f"
             ],
             [
              0.2222222222222222,
              "#7201a8"
             ],
             [
              0.3333333333333333,
              "#9c179e"
             ],
             [
              0.4444444444444444,
              "#bd3786"
             ],
             [
              0.5555555555555556,
              "#d8576b"
             ],
             [
              0.6666666666666666,
              "#ed7953"
             ],
             [
              0.7777777777777778,
              "#fb9f3a"
             ],
             [
              0.8888888888888888,
              "#fdca26"
             ],
             [
              1,
              "#f0f921"
             ]
            ],
            "type": "histogram2d"
           }
          ],
          "histogram2dcontour": [
           {
            "colorbar": {
             "outlinewidth": 0,
             "ticks": ""
            },
            "colorscale": [
             [
              0,
              "#0d0887"
             ],
             [
              0.1111111111111111,
              "#46039f"
             ],
             [
              0.2222222222222222,
              "#7201a8"
             ],
             [
              0.3333333333333333,
              "#9c179e"
             ],
             [
              0.4444444444444444,
              "#bd3786"
             ],
             [
              0.5555555555555556,
              "#d8576b"
             ],
             [
              0.6666666666666666,
              "#ed7953"
             ],
             [
              0.7777777777777778,
              "#fb9f3a"
             ],
             [
              0.8888888888888888,
              "#fdca26"
             ],
             [
              1,
              "#f0f921"
             ]
            ],
            "type": "histogram2dcontour"
           }
          ],
          "mesh3d": [
           {
            "colorbar": {
             "outlinewidth": 0,
             "ticks": ""
            },
            "type": "mesh3d"
           }
          ],
          "parcoords": [
           {
            "line": {
             "colorbar": {
              "outlinewidth": 0,
              "ticks": ""
             }
            },
            "type": "parcoords"
           }
          ],
          "pie": [
           {
            "automargin": true,
            "type": "pie"
           }
          ],
          "scatter": [
           {
            "marker": {
             "colorbar": {
              "outlinewidth": 0,
              "ticks": ""
             }
            },
            "type": "scatter"
           }
          ],
          "scatter3d": [
           {
            "line": {
             "colorbar": {
              "outlinewidth": 0,
              "ticks": ""
             }
            },
            "marker": {
             "colorbar": {
              "outlinewidth": 0,
              "ticks": ""
             }
            },
            "type": "scatter3d"
           }
          ],
          "scattercarpet": [
           {
            "marker": {
             "colorbar": {
              "outlinewidth": 0,
              "ticks": ""
             }
            },
            "type": "scattercarpet"
           }
          ],
          "scattergeo": [
           {
            "marker": {
             "colorbar": {
              "outlinewidth": 0,
              "ticks": ""
             }
            },
            "type": "scattergeo"
           }
          ],
          "scattergl": [
           {
            "marker": {
             "colorbar": {
              "outlinewidth": 0,
              "ticks": ""
             }
            },
            "type": "scattergl"
           }
          ],
          "scattermapbox": [
           {
            "marker": {
             "colorbar": {
              "outlinewidth": 0,
              "ticks": ""
             }
            },
            "type": "scattermapbox"
           }
          ],
          "scatterpolar": [
           {
            "marker": {
             "colorbar": {
              "outlinewidth": 0,
              "ticks": ""
             }
            },
            "type": "scatterpolar"
           }
          ],
          "scatterpolargl": [
           {
            "marker": {
             "colorbar": {
              "outlinewidth": 0,
              "ticks": ""
             }
            },
            "type": "scatterpolargl"
           }
          ],
          "scatterternary": [
           {
            "marker": {
             "colorbar": {
              "outlinewidth": 0,
              "ticks": ""
             }
            },
            "type": "scatterternary"
           }
          ],
          "surface": [
           {
            "colorbar": {
             "outlinewidth": 0,
             "ticks": ""
            },
            "colorscale": [
             [
              0,
              "#0d0887"
             ],
             [
              0.1111111111111111,
              "#46039f"
             ],
             [
              0.2222222222222222,
              "#7201a8"
             ],
             [
              0.3333333333333333,
              "#9c179e"
             ],
             [
              0.4444444444444444,
              "#bd3786"
             ],
             [
              0.5555555555555556,
              "#d8576b"
             ],
             [
              0.6666666666666666,
              "#ed7953"
             ],
             [
              0.7777777777777778,
              "#fb9f3a"
             ],
             [
              0.8888888888888888,
              "#fdca26"
             ],
             [
              1,
              "#f0f921"
             ]
            ],
            "type": "surface"
           }
          ],
          "table": [
           {
            "cells": {
             "fill": {
              "color": "#EBF0F8"
             },
             "line": {
              "color": "white"
             }
            },
            "header": {
             "fill": {
              "color": "#C8D4E3"
             },
             "line": {
              "color": "white"
             }
            },
            "type": "table"
           }
          ]
         },
         "layout": {
          "annotationdefaults": {
           "arrowcolor": "#2a3f5f",
           "arrowhead": 0,
           "arrowwidth": 1
          },
          "autotypenumbers": "strict",
          "coloraxis": {
           "colorbar": {
            "outlinewidth": 0,
            "ticks": ""
           }
          },
          "colorscale": {
           "diverging": [
            [
             0,
             "#8e0152"
            ],
            [
             0.1,
             "#c51b7d"
            ],
            [
             0.2,
             "#de77ae"
            ],
            [
             0.3,
             "#f1b6da"
            ],
            [
             0.4,
             "#fde0ef"
            ],
            [
             0.5,
             "#f7f7f7"
            ],
            [
             0.6,
             "#e6f5d0"
            ],
            [
             0.7,
             "#b8e186"
            ],
            [
             0.8,
             "#7fbc41"
            ],
            [
             0.9,
             "#4d9221"
            ],
            [
             1,
             "#276419"
            ]
           ],
           "sequential": [
            [
             0,
             "#0d0887"
            ],
            [
             0.1111111111111111,
             "#46039f"
            ],
            [
             0.2222222222222222,
             "#7201a8"
            ],
            [
             0.3333333333333333,
             "#9c179e"
            ],
            [
             0.4444444444444444,
             "#bd3786"
            ],
            [
             0.5555555555555556,
             "#d8576b"
            ],
            [
             0.6666666666666666,
             "#ed7953"
            ],
            [
             0.7777777777777778,
             "#fb9f3a"
            ],
            [
             0.8888888888888888,
             "#fdca26"
            ],
            [
             1,
             "#f0f921"
            ]
           ],
           "sequentialminus": [
            [
             0,
             "#0d0887"
            ],
            [
             0.1111111111111111,
             "#46039f"
            ],
            [
             0.2222222222222222,
             "#7201a8"
            ],
            [
             0.3333333333333333,
             "#9c179e"
            ],
            [
             0.4444444444444444,
             "#bd3786"
            ],
            [
             0.5555555555555556,
             "#d8576b"
            ],
            [
             0.6666666666666666,
             "#ed7953"
            ],
            [
             0.7777777777777778,
             "#fb9f3a"
            ],
            [
             0.8888888888888888,
             "#fdca26"
            ],
            [
             1,
             "#f0f921"
            ]
           ]
          },
          "colorway": [
           "#636efa",
           "#EF553B",
           "#00cc96",
           "#ab63fa",
           "#FFA15A",
           "#19d3f3",
           "#FF6692",
           "#B6E880",
           "#FF97FF",
           "#FECB52"
          ],
          "font": {
           "color": "#2a3f5f"
          },
          "geo": {
           "bgcolor": "white",
           "lakecolor": "white",
           "landcolor": "white",
           "showlakes": true,
           "showland": true,
           "subunitcolor": "#C8D4E3"
          },
          "hoverlabel": {
           "align": "left"
          },
          "hovermode": "closest",
          "mapbox": {
           "style": "light"
          },
          "paper_bgcolor": "white",
          "plot_bgcolor": "white",
          "polar": {
           "angularaxis": {
            "gridcolor": "#EBF0F8",
            "linecolor": "#EBF0F8",
            "ticks": ""
           },
           "bgcolor": "white",
           "radialaxis": {
            "gridcolor": "#EBF0F8",
            "linecolor": "#EBF0F8",
            "ticks": ""
           }
          },
          "scene": {
           "xaxis": {
            "backgroundcolor": "white",
            "gridcolor": "#DFE8F3",
            "gridwidth": 2,
            "linecolor": "#EBF0F8",
            "showbackground": true,
            "ticks": "",
            "zerolinecolor": "#EBF0F8"
           },
           "yaxis": {
            "backgroundcolor": "white",
            "gridcolor": "#DFE8F3",
            "gridwidth": 2,
            "linecolor": "#EBF0F8",
            "showbackground": true,
            "ticks": "",
            "zerolinecolor": "#EBF0F8"
           },
           "zaxis": {
            "backgroundcolor": "white",
            "gridcolor": "#DFE8F3",
            "gridwidth": 2,
            "linecolor": "#EBF0F8",
            "showbackground": true,
            "ticks": "",
            "zerolinecolor": "#EBF0F8"
           }
          },
          "shapedefaults": {
           "line": {
            "color": "#2a3f5f"
           }
          },
          "ternary": {
           "aaxis": {
            "gridcolor": "#DFE8F3",
            "linecolor": "#A2B1C6",
            "ticks": ""
           },
           "baxis": {
            "gridcolor": "#DFE8F3",
            "linecolor": "#A2B1C6",
            "ticks": ""
           },
           "bgcolor": "white",
           "caxis": {
            "gridcolor": "#DFE8F3",
            "linecolor": "#A2B1C6",
            "ticks": ""
           }
          },
          "title": {
           "x": 0.05
          },
          "xaxis": {
           "automargin": true,
           "gridcolor": "#EBF0F8",
           "linecolor": "#EBF0F8",
           "ticks": "",
           "title": {
            "standoff": 15
           },
           "zerolinecolor": "#EBF0F8",
           "zerolinewidth": 2
          },
          "yaxis": {
           "automargin": true,
           "gridcolor": "#EBF0F8",
           "linecolor": "#EBF0F8",
           "ticks": "",
           "title": {
            "standoff": 15
           },
           "zerolinecolor": "#EBF0F8",
           "zerolinewidth": 2
          }
         }
        },
        "title": {
         "text": "Промене глобалног еколошког отиска и биокапацитета у периоду 1961-2017.",
         "x": 0.5,
         "xanchor": "center"
        },
        "width": 800,
        "xaxis": {
         "anchor": "y",
         "domain": [
          0,
          1
         ],
         "nticks": 13,
         "title": {
          "text": ""
         }
        },
        "yaxis": {
         "anchor": "x",
         "domain": [
          0,
          1
         ],
         "title": {
          "text": "Глобални хектари по становнику"
         }
        }
       }
      }
     },
     "metadata": {},
     "output_type": "display_data"
    }
   ],
   "source": [
    "import plotly.express as px\n",
    "\n",
    "# Параметар markers је доступан само у новијим верзијама библиотеке plotly,\n",
    "# па ће можда бити потребно да је освежите користећи команду pip install --upgrade plotly\n",
    "graf = px.line(otisakTrend, x='Година', y=['Еколошки отисак', 'Биокапацитет'], \n",
    "               markers=True, width=800, height=400, template='plotly_white')\n",
    "\n",
    "# Мало подешавамо изглед линија, тачкица, наслове...\n",
    "graf.update_layout(margin=dict(l=80, r=30, t=60, b=0), \n",
    "                   xaxis_title='', yaxis_title='Глобални хектари по становнику',\n",
    "                   legend=dict(title='', y=0.01, x=0.01, bgcolor='rgba(0,0,0,0)', font=dict(size=12)),\n",
    "                   title=dict(text='Промене глобалног еколошког отиска и биокапацитета у периоду 1961-2017.'), \n",
    "                              title_xanchor='center', font=dict(size=11), title_x=0.5\n",
    "                  )\n",
    "\n",
    "# Повећавамо број подеока на x-оси\n",
    "graf.update_xaxes(nticks=13) \n",
    "\n",
    "# Приказујемо графикон\n",
    "graf.show()"
   ]
  },
  {
   "cell_type": "markdown",
   "metadata": {},
   "source": [
    "Разлике у правцима линија показују да од 1970-тих година однос између укупног еколошког отиска и биокапацитета Земље добија негативан тренд. То се може приписати не толико порасту потреба за природним ресурсима, колико њиховом трошењу или уништавању. С обзиром на то да се биокапацитет планете Земље изражава у глобалним хектарима по становнику, на овај драстичан пад вероватно је утицао и глобални пораст популације. Уочите да су се одређени глобални феномени, као што су рецесије __[1973-1975.](https://en.wikipedia.org/wiki/1973%E2%80%931975_recession)__ и __[2007-2009](https://en.wikipedia.org/wiki/Great_Recession)__, одразили и на смањење еколошког отиска, првенствено због смањених економских активности, али и платежне моћи становника.\n",
    "<BR><BR>\n",
    "У наредном кораку ћемо погледати како су се мењале вредности различитих компонената еколошког отиска у периоду од 1961. до 2017. Овога пута смо скупу додали и варијаблу `Земљиште` (енгл. *build-up land*) која се односи на потребе за грађевинским земљиштем, индустријским земљиштем и површинама за рударске копове. Промене ћемо приказати помоћу *дијаграма попуњених површина* (енгл. *filled area*). Међутим, пре тога морамо да трансформишемо табелу у нешто другачији формат. Погледајмо најпре како изгледа оригинална табела."
   ]
  },
  {
   "cell_type": "code",
   "execution_count": 3,
   "metadata": {},
   "outputs": [
    {
     "data": {
      "text/html": [
       "<div>\n",
       "<style scoped>\n",
       "    .dataframe tbody tr th:only-of-type {\n",
       "        vertical-align: middle;\n",
       "    }\n",
       "\n",
       "    .dataframe tbody tr th {\n",
       "        vertical-align: top;\n",
       "    }\n",
       "\n",
       "    .dataframe thead th {\n",
       "        text-align: right;\n",
       "    }\n",
       "</style>\n",
       "<table border=\"1\" class=\"dataframe\">\n",
       "  <thead>\n",
       "    <tr style=\"text-align: right;\">\n",
       "      <th></th>\n",
       "      <th>Година</th>\n",
       "      <th>Оранице</th>\n",
       "      <th>Пашњаци</th>\n",
       "      <th>Шуме</th>\n",
       "      <th>CO2</th>\n",
       "      <th>Риба</th>\n",
       "      <th>Земљиште</th>\n",
       "      <th>Еколошки отисак</th>\n",
       "      <th>Биокапацитет</th>\n",
       "    </tr>\n",
       "  </thead>\n",
       "  <tbody>\n",
       "    <tr>\n",
       "      <th>0</th>\n",
       "      <td>1961</td>\n",
       "      <td>0.146385</td>\n",
       "      <td>0.085419</td>\n",
       "      <td>0.137855</td>\n",
       "      <td>0.321651</td>\n",
       "      <td>0.030571</td>\n",
       "      <td>0.008470</td>\n",
       "      <td>2.27</td>\n",
       "      <td>3.11</td>\n",
       "    </tr>\n",
       "    <tr>\n",
       "      <th>1</th>\n",
       "      <td>1962</td>\n",
       "      <td>0.150852</td>\n",
       "      <td>0.085740</td>\n",
       "      <td>0.138346</td>\n",
       "      <td>0.334041</td>\n",
       "      <td>0.031811</td>\n",
       "      <td>0.008872</td>\n",
       "      <td>2.30</td>\n",
       "      <td>3.07</td>\n",
       "    </tr>\n",
       "    <tr>\n",
       "      <th>2</th>\n",
       "      <td>1963</td>\n",
       "      <td>0.152748</td>\n",
       "      <td>0.087373</td>\n",
       "      <td>0.139699</td>\n",
       "      <td>0.357652</td>\n",
       "      <td>0.032797</td>\n",
       "      <td>0.009107</td>\n",
       "      <td>2.35</td>\n",
       "      <td>3.01</td>\n",
       "    </tr>\n",
       "    <tr>\n",
       "      <th>3</th>\n",
       "      <td>1964</td>\n",
       "      <td>0.156199</td>\n",
       "      <td>0.086305</td>\n",
       "      <td>0.144157</td>\n",
       "      <td>0.379609</td>\n",
       "      <td>0.032011</td>\n",
       "      <td>0.009480</td>\n",
       "      <td>2.39</td>\n",
       "      <td>2.96</td>\n",
       "    </tr>\n",
       "    <tr>\n",
       "      <th>4</th>\n",
       "      <td>1965</td>\n",
       "      <td>0.158445</td>\n",
       "      <td>0.088201</td>\n",
       "      <td>0.145523</td>\n",
       "      <td>0.399297</td>\n",
       "      <td>0.034353</td>\n",
       "      <td>0.009770</td>\n",
       "      <td>2.43</td>\n",
       "      <td>2.91</td>\n",
       "    </tr>\n",
       "  </tbody>\n",
       "</table>\n",
       "</div>"
      ],
      "text/plain": [
       "   Година   Оранице   Пашњаци      Шуме       CO2      Риба  Земљиште  \\\n",
       "0    1961  0.146385  0.085419  0.137855  0.321651  0.030571  0.008470   \n",
       "1    1962  0.150852  0.085740  0.138346  0.334041  0.031811  0.008872   \n",
       "2    1963  0.152748  0.087373  0.139699  0.357652  0.032797  0.009107   \n",
       "3    1964  0.156199  0.086305  0.144157  0.379609  0.032011  0.009480   \n",
       "4    1965  0.158445  0.088201  0.145523  0.399297  0.034353  0.009770   \n",
       "\n",
       "   Еколошки отисак  Биокапацитет  \n",
       "0             2.27          3.11  \n",
       "1             2.30          3.07  \n",
       "2             2.35          3.01  \n",
       "3             2.39          2.96  \n",
       "4             2.43          2.91  "
      ]
     },
     "execution_count": 3,
     "metadata": {},
     "output_type": "execute_result"
    }
   ],
   "source": [
    "otisakTrend.head(5)"
   ]
  },
  {
   "cell_type": "markdown",
   "metadata": {},
   "source": [
    "Видимо да табела има 9 колона, од којих нам је заправо потребно само првих седам које се односе на компоненте еколошког отиска и годину. При томе не рачунамо крајњу леву колону која служи као нека врста идентификације записа и назива се *индексом*. У наредном кораку ћемо издвојити поменутих седам колона, а варијабли *Година* доделити статус индекса."
   ]
  },
  {
   "cell_type": "code",
   "execution_count": 4,
   "metadata": {},
   "outputs": [
    {
     "data": {
      "text/html": [
       "<div>\n",
       "<style scoped>\n",
       "    .dataframe tbody tr th:only-of-type {\n",
       "        vertical-align: middle;\n",
       "    }\n",
       "\n",
       "    .dataframe tbody tr th {\n",
       "        vertical-align: top;\n",
       "    }\n",
       "\n",
       "    .dataframe thead th {\n",
       "        text-align: right;\n",
       "    }\n",
       "</style>\n",
       "<table border=\"1\" class=\"dataframe\">\n",
       "  <thead>\n",
       "    <tr style=\"text-align: right;\">\n",
       "      <th></th>\n",
       "      <th>Оранице</th>\n",
       "      <th>Пашњаци</th>\n",
       "      <th>Шуме</th>\n",
       "      <th>CO2</th>\n",
       "      <th>Риба</th>\n",
       "      <th>Земљиште</th>\n",
       "    </tr>\n",
       "    <tr>\n",
       "      <th>Година</th>\n",
       "      <th></th>\n",
       "      <th></th>\n",
       "      <th></th>\n",
       "      <th></th>\n",
       "      <th></th>\n",
       "      <th></th>\n",
       "    </tr>\n",
       "  </thead>\n",
       "  <tbody>\n",
       "    <tr>\n",
       "      <th>1961</th>\n",
       "      <td>0.146385</td>\n",
       "      <td>0.085419</td>\n",
       "      <td>0.137855</td>\n",
       "      <td>0.321651</td>\n",
       "      <td>0.030571</td>\n",
       "      <td>0.008470</td>\n",
       "    </tr>\n",
       "    <tr>\n",
       "      <th>1962</th>\n",
       "      <td>0.150852</td>\n",
       "      <td>0.085740</td>\n",
       "      <td>0.138346</td>\n",
       "      <td>0.334041</td>\n",
       "      <td>0.031811</td>\n",
       "      <td>0.008872</td>\n",
       "    </tr>\n",
       "    <tr>\n",
       "      <th>1963</th>\n",
       "      <td>0.152748</td>\n",
       "      <td>0.087373</td>\n",
       "      <td>0.139699</td>\n",
       "      <td>0.357652</td>\n",
       "      <td>0.032797</td>\n",
       "      <td>0.009107</td>\n",
       "    </tr>\n",
       "    <tr>\n",
       "      <th>1964</th>\n",
       "      <td>0.156199</td>\n",
       "      <td>0.086305</td>\n",
       "      <td>0.144157</td>\n",
       "      <td>0.379609</td>\n",
       "      <td>0.032011</td>\n",
       "      <td>0.009480</td>\n",
       "    </tr>\n",
       "    <tr>\n",
       "      <th>1965</th>\n",
       "      <td>0.158445</td>\n",
       "      <td>0.088201</td>\n",
       "      <td>0.145523</td>\n",
       "      <td>0.399297</td>\n",
       "      <td>0.034353</td>\n",
       "      <td>0.009770</td>\n",
       "    </tr>\n",
       "  </tbody>\n",
       "</table>\n",
       "</div>"
      ],
      "text/plain": [
       "         Оранице   Пашњаци      Шуме       CO2      Риба  Земљиште\n",
       "Година                                                            \n",
       "1961    0.146385  0.085419  0.137855  0.321651  0.030571  0.008470\n",
       "1962    0.150852  0.085740  0.138346  0.334041  0.031811  0.008872\n",
       "1963    0.152748  0.087373  0.139699  0.357652  0.032797  0.009107\n",
       "1964    0.156199  0.086305  0.144157  0.379609  0.032011  0.009480\n",
       "1965    0.158445  0.088201  0.145523  0.399297  0.034353  0.009770"
      ]
     },
     "execution_count": 4,
     "metadata": {},
     "output_type": "execute_result"
    }
   ],
   "source": [
    "otisakTrendIndeks = otisakTrend.iloc[:,0:7].set_index('Година') # У наставку се могу низати функције\n",
    "otisakTrendIndeks.head(5)"
   ]
  },
  {
   "cell_type": "markdown",
   "metadata": {},
   "source": [
    "Колоне смо одабрали командом __[`iloc`](https://pandas.pydata.org/pandas-docs/stable/reference/api/pandas.DataFrame.iloc.html)__ којом се на основу целобројних вредности (енгл. *integer-locaton*) издвајају жељене ћелије табеле са подацима. Први аргумент у угластим заградама односи се на редове, а други на колоне. У нашем примеру издвојили смо све редове пошто смо ознаку `:` унели без распона бројева. Обратите пажњу да се колоне нумеришу бројевима од *0*  до *број колона - 1*, као и да колона са редним бројем 7 није издвојена. То значи да смо командом `iloc[:,0:7]` издвојили све записе из првих седам колона. Поред тога, колону *Година* смо претворили у индекс, што можете да видите по томе што је назив колоне издвојен у засебан ред. На крају ћемо „препаковати“ податке користећи функцију __[`stack`](https://pandas.pydata.org/pandas-docs/stable/reference/api/pandas.DataFrame.stack.html)__ тако да се колоне са називима варијабли за сваку годину претворе у редове. На тај начин се добија табела са тзв. *хијерархијским индексима* два нивоа.  "
   ]
  },
  {
   "cell_type": "code",
   "execution_count": 5,
   "metadata": {},
   "outputs": [
    {
     "data": {
      "text/plain": [
       "Година          \n",
       "1961    Оранице     0.146385\n",
       "        Пашњаци     0.085419\n",
       "        Шуме        0.137855\n",
       "        CO2         0.321651\n",
       "        Риба        0.030571\n",
       "        Земљиште    0.008470\n",
       "1962    Оранице     0.150852\n",
       "        Пашњаци     0.085740\n",
       "        Шуме        0.138346\n",
       "        CO2         0.334041\n",
       "dtype: float64"
      ]
     },
     "execution_count": 5,
     "metadata": {},
     "output_type": "execute_result"
    }
   ],
   "source": [
    "otisakTrendStack = otisakTrendIndeks.stack()\n",
    "otisakTrendStack.head(10)"
   ]
  },
  {
   "cell_type": "markdown",
   "metadata": {},
   "source": [
    "На крају остаје само да ресетујемо индексе и претворимо их у класичне колоне табеле. Бивши индекси који нису имали називе биће претворени у колоне под називима *level_1*, *level_2* итд., док ће колонама бити додељени називи *0*, *1*, *2* итд. "
   ]
  },
  {
   "cell_type": "code",
   "execution_count": 6,
   "metadata": {},
   "outputs": [
    {
     "data": {
      "text/html": [
       "<div>\n",
       "<style scoped>\n",
       "    .dataframe tbody tr th:only-of-type {\n",
       "        vertical-align: middle;\n",
       "    }\n",
       "\n",
       "    .dataframe tbody tr th {\n",
       "        vertical-align: top;\n",
       "    }\n",
       "\n",
       "    .dataframe thead th {\n",
       "        text-align: right;\n",
       "    }\n",
       "</style>\n",
       "<table border=\"1\" class=\"dataframe\">\n",
       "  <thead>\n",
       "    <tr style=\"text-align: right;\">\n",
       "      <th></th>\n",
       "      <th>Година</th>\n",
       "      <th>level_1</th>\n",
       "      <th>0</th>\n",
       "    </tr>\n",
       "  </thead>\n",
       "  <tbody>\n",
       "    <tr>\n",
       "      <th>0</th>\n",
       "      <td>1961</td>\n",
       "      <td>Оранице</td>\n",
       "      <td>0.146385</td>\n",
       "    </tr>\n",
       "    <tr>\n",
       "      <th>1</th>\n",
       "      <td>1961</td>\n",
       "      <td>Пашњаци</td>\n",
       "      <td>0.085419</td>\n",
       "    </tr>\n",
       "    <tr>\n",
       "      <th>2</th>\n",
       "      <td>1961</td>\n",
       "      <td>Шуме</td>\n",
       "      <td>0.137855</td>\n",
       "    </tr>\n",
       "    <tr>\n",
       "      <th>3</th>\n",
       "      <td>1961</td>\n",
       "      <td>CO2</td>\n",
       "      <td>0.321651</td>\n",
       "    </tr>\n",
       "    <tr>\n",
       "      <th>4</th>\n",
       "      <td>1961</td>\n",
       "      <td>Риба</td>\n",
       "      <td>0.030571</td>\n",
       "    </tr>\n",
       "  </tbody>\n",
       "</table>\n",
       "</div>"
      ],
      "text/plain": [
       "   Година  level_1         0\n",
       "0    1961  Оранице  0.146385\n",
       "1    1961  Пашњаци  0.085419\n",
       "2    1961     Шуме  0.137855\n",
       "3    1961      CO2  0.321651\n",
       "4    1961     Риба  0.030571"
      ]
     },
     "execution_count": 6,
     "metadata": {},
     "output_type": "execute_result"
    }
   ],
   "source": [
    "otisakTrendPlot = otisakTrendStack.reset_index()\n",
    "otisakTrendPlot.head(5)"
   ]
  },
  {
   "cell_type": "markdown",
   "metadata": {},
   "source": [
    "Зато ћемо приликом ресетовања индекса одмах променити и називе колона.  "
   ]
  },
  {
   "cell_type": "code",
   "execution_count": 7,
   "metadata": {},
   "outputs": [
    {
     "data": {
      "text/html": [
       "<div>\n",
       "<style scoped>\n",
       "    .dataframe tbody tr th:only-of-type {\n",
       "        vertical-align: middle;\n",
       "    }\n",
       "\n",
       "    .dataframe tbody tr th {\n",
       "        vertical-align: top;\n",
       "    }\n",
       "\n",
       "    .dataframe thead th {\n",
       "        text-align: right;\n",
       "    }\n",
       "</style>\n",
       "<table border=\"1\" class=\"dataframe\">\n",
       "  <thead>\n",
       "    <tr style=\"text-align: right;\">\n",
       "      <th></th>\n",
       "      <th>Година</th>\n",
       "      <th>Тип</th>\n",
       "      <th>Вредност у gha</th>\n",
       "    </tr>\n",
       "  </thead>\n",
       "  <tbody>\n",
       "    <tr>\n",
       "      <th>0</th>\n",
       "      <td>1961</td>\n",
       "      <td>Оранице</td>\n",
       "      <td>0.146385</td>\n",
       "    </tr>\n",
       "    <tr>\n",
       "      <th>1</th>\n",
       "      <td>1961</td>\n",
       "      <td>Пашњаци</td>\n",
       "      <td>0.085419</td>\n",
       "    </tr>\n",
       "    <tr>\n",
       "      <th>2</th>\n",
       "      <td>1961</td>\n",
       "      <td>Шуме</td>\n",
       "      <td>0.137855</td>\n",
       "    </tr>\n",
       "    <tr>\n",
       "      <th>3</th>\n",
       "      <td>1961</td>\n",
       "      <td>CO2</td>\n",
       "      <td>0.321651</td>\n",
       "    </tr>\n",
       "    <tr>\n",
       "      <th>4</th>\n",
       "      <td>1961</td>\n",
       "      <td>Риба</td>\n",
       "      <td>0.030571</td>\n",
       "    </tr>\n",
       "  </tbody>\n",
       "</table>\n",
       "</div>"
      ],
      "text/plain": [
       "   Година      Тип  Вредност у gha\n",
       "0    1961  Оранице        0.146385\n",
       "1    1961  Пашњаци        0.085419\n",
       "2    1961     Шуме        0.137855\n",
       "3    1961      CO2        0.321651\n",
       "4    1961     Риба        0.030571"
      ]
     },
     "execution_count": 7,
     "metadata": {},
     "output_type": "execute_result"
    }
   ],
   "source": [
    "otisakTrendPlot = otisakTrendStack.reset_index().rename(columns = {'level_1': 'Тип', 0: 'Вредност у gha'})\n",
    "otisakTrendPlot.head(5)"
   ]
  },
  {
   "cell_type": "markdown",
   "metadata": {},
   "source": [
    "Табела је коначно спремна и можемо да исцртамо дијаграм попуњених површина. Имајте на уму да смо трансформације обавили у неколико корака због бољег разумевања и да сте све функције (`stack()`, `reset_index()` и `rename()`) могли да нанижете у почетном оквиру након `set_index('Година')`."
   ]
  },
  {
   "cell_type": "code",
   "execution_count": 8,
   "metadata": {},
   "outputs": [
    {
     "data": {
      "application/vnd.plotly.v1+json": {
       "config": {
        "plotlyServerURL": "https://plot.ly"
       },
       "data": [
        {
         "hovertemplate": "Тип=CO2<br>Година=%{x}<br>Вредност у gha=%{y}<extra></extra>",
         "legendgroup": "CO2",
         "line": {
          "color": "#636efa"
         },
         "marker": {
          "symbol": "circle"
         },
         "mode": "lines",
         "name": "CO2",
         "orientation": "v",
         "showlegend": true,
         "stackgroup": "1",
         "type": "scatter",
         "x": [
          2013,
          2011,
          2012,
          2017,
          2014,
          2010,
          2015,
          2016,
          2008,
          2007,
          2009,
          2006,
          2005,
          2004,
          2003,
          2002,
          2001,
          2000,
          1997,
          1998,
          1999,
          1996,
          1995,
          1994,
          1993,
          1991,
          1992,
          1989,
          1990,
          1988,
          1979,
          1980,
          1987,
          1978,
          1977,
          1986,
          1981,
          1976,
          1985,
          1984,
          1973,
          1982,
          1983,
          1974,
          1975,
          1972,
          1971,
          1970,
          1969,
          1968,
          1967,
          1966,
          1965,
          1964,
          1963,
          1962,
          1961
         ],
         "xaxis": "x",
         "y": [
          1.061131815,
          1.060798633,
          1.060453634,
          1.060212897,
          1.05031445,
          1.04528259,
          1.038844956,
          1.029118393,
          0.998300137,
          0.99729827,
          0.981145762,
          0.960629991,
          0.925593357,
          0.885191576,
          0.847125816,
          0.799114132,
          0.786449538,
          0.777578573,
          0.762347723,
          0.759765104,
          0.754058313,
          0.753185265,
          0.745615345,
          0.720614043,
          0.71829145,
          0.718165671,
          0.714405894,
          0.707482547,
          0.705122692,
          0.698745531,
          0.686124801,
          0.664635532,
          0.6640706,
          0.658351304,
          0.652605411,
          0.642747502,
          0.633255295,
          0.632156879,
          0.630530097,
          0.622562445,
          0.613919155,
          0.612068458,
          0.608746194,
          0.607642101,
          0.599461037,
          0.581138984,
          0.550654833,
          0.53080713,
          0.485531388,
          0.450936205,
          0.428218127,
          0.417316364,
          0.399296871,
          0.379608664,
          0.35765236,
          0.334040787,
          0.321651162
         ],
         "yaxis": "y"
        },
        {
         "hovertemplate": "Тип=Оранице<br>Година=%{x}<br>Вредност у gha=%{y}<extra></extra>",
         "legendgroup": "Оранице",
         "line": {
          "color": "#EF553B"
         },
         "marker": {
          "symbol": "circle"
         },
         "mode": "lines",
         "name": "Оранице",
         "orientation": "v",
         "showlegend": true,
         "stackgroup": "1",
         "type": "scatter",
         "x": [
          2017,
          2016,
          2015,
          2014,
          2013,
          2011,
          2012,
          2010,
          2008,
          2009,
          2007,
          2006,
          2005,
          2004,
          2003,
          2001,
          2002,
          2000,
          1999,
          1998,
          1997,
          1996,
          1990,
          1994,
          1995,
          1991,
          1992,
          1993,
          1989,
          1987,
          1986,
          1985,
          1988,
          1984,
          1982,
          1983,
          1981,
          1978,
          1979,
          1980,
          1977,
          1976,
          1973,
          1975,
          1974,
          1971,
          1972,
          1970,
          1969,
          1968,
          1967,
          1966,
          1965,
          1964,
          1963,
          1962,
          1961
         ],
         "xaxis": "x",
         "y": [
          0.322610859,
          0.317856015,
          0.315788018,
          0.311702769,
          0.308600791,
          0.30048045,
          0.299094229,
          0.294365995,
          0.290869001,
          0.289626905,
          0.283331667,
          0.280518167,
          0.278097653,
          0.277664575,
          0.266012568,
          0.264562684,
          0.26385049,
          0.26074364,
          0.26002412,
          0.25667528,
          0.254248547,
          0.250873907,
          0.245360246,
          0.244124832,
          0.242093338,
          0.241864389,
          0.240747273,
          0.239791114,
          0.238909666,
          0.236977449,
          0.234646534,
          0.23308603,
          0.231684837,
          0.228166259,
          0.217052171,
          0.215866361,
          0.208592821,
          0.204773525,
          0.203859915,
          0.201720485,
          0.19608683,
          0.194934907,
          0.189709892,
          0.187391551,
          0.185562954,
          0.184625274,
          0.180700954,
          0.180188305,
          0.176164926,
          0.173426113,
          0.168125649,
          0.165377298,
          0.158445499,
          0.156198517,
          0.152748474,
          0.150851883,
          0.146384931
         ],
         "yaxis": "y"
        },
        {
         "hovertemplate": "Тип=Шуме<br>Година=%{x}<br>Вредност у gha=%{y}<extra></extra>",
         "legendgroup": "Шуме",
         "line": {
          "color": "#00cc96"
         },
         "marker": {
          "symbol": "circle"
         },
         "mode": "lines",
         "name": "Шуме",
         "orientation": "v",
         "showlegend": true,
         "stackgroup": "1",
         "type": "scatter",
         "x": [
          1989,
          1988,
          1990,
          1987,
          2005,
          2007,
          2004,
          1986,
          2003,
          2016,
          2006,
          2000,
          1991,
          2017,
          2014,
          2012,
          2013,
          1984,
          2011,
          2015,
          2002,
          1985,
          1979,
          1995,
          1983,
          2010,
          1992,
          1980,
          1999,
          1997,
          2001,
          1993,
          1998,
          1978,
          1994,
          2008,
          1981,
          1996,
          1977,
          1976,
          1974,
          1982,
          1973,
          2009,
          1975,
          1972,
          1971,
          1970,
          1969,
          1968,
          1967,
          1966,
          1965,
          1964,
          1963,
          1962,
          1961
         ],
         "xaxis": "x",
         "y": [
          0.178645848,
          0.178379614,
          0.177360839,
          0.175120049,
          0.174528391,
          0.172509165,
          0.171862404,
          0.171793691,
          0.171376449,
          0.171251668,
          0.17119613,
          0.170830602,
          0.170637198,
          0.170576198,
          0.170221727,
          0.169765616,
          0.169560155,
          0.168492636,
          0.168456215,
          0.168427029,
          0.168155095,
          0.167653015,
          0.166593449,
          0.166028507,
          0.16602546,
          0.165768897,
          0.165547617,
          0.165480448,
          0.165304369,
          0.165119342,
          0.16430174,
          0.163536788,
          0.162836597,
          0.162636794,
          0.162356659,
          0.16228377,
          0.16225858,
          0.161891822,
          0.161219219,
          0.160658122,
          0.159865966,
          0.159799459,
          0.159029124,
          0.156005102,
          0.155791831,
          0.155435188,
          0.15472502,
          0.153664354,
          0.150879863,
          0.148992042,
          0.148241395,
          0.146456941,
          0.145522594,
          0.144156779,
          0.139699041,
          0.138345809,
          0.137855484
         ],
         "yaxis": "y"
        },
        {
         "hovertemplate": "Тип=Пашњаци<br>Година=%{x}<br>Вредност у gha=%{y}<extra></extra>",
         "legendgroup": "Пашњаци",
         "line": {
          "color": "#ab63fa"
         },
         "marker": {
          "symbol": "circle"
         },
         "mode": "lines",
         "name": "Пашњаци",
         "orientation": "v",
         "showlegend": true,
         "stackgroup": "1",
         "type": "scatter",
         "x": [
          1980,
          1981,
          1983,
          1979,
          1982,
          1975,
          1991,
          1984,
          1977,
          1994,
          1992,
          1995,
          1993,
          1976,
          1978,
          1990,
          1985,
          1988,
          1989,
          1996,
          1986,
          1987,
          1974,
          1997,
          1998,
          2000,
          1999,
          1972,
          2001,
          2002,
          2003,
          2004,
          2006,
          2005,
          2009,
          1973,
          2007,
          1967,
          1971,
          1965,
          1968,
          2012,
          2008,
          1969,
          1963,
          1966,
          2010,
          1970,
          2011,
          2013,
          1964,
          2014,
          2015,
          2016,
          1962,
          1961,
          2017
         ],
         "xaxis": "x",
         "y": [
          0.097979264,
          0.097734555,
          0.097384064,
          0.096614257,
          0.096537845,
          0.096159807,
          0.096054227,
          0.095628442,
          0.095502221,
          0.095461579,
          0.095363763,
          0.095287191,
          0.095044273,
          0.095000149,
          0.094188565,
          0.093989398,
          0.093909577,
          0.093827984,
          0.093533032,
          0.093219183,
          0.092792244,
          0.092768042,
          0.092288635,
          0.091792719,
          0.091785036,
          0.091660935,
          0.091506326,
          0.091283386,
          0.09095103,
          0.090934063,
          0.090873911,
          0.089680232,
          0.089520079,
          0.08939292,
          0.089388206,
          0.089367455,
          0.089193695,
          0.088390504,
          0.08831513,
          0.088200765,
          0.087942203,
          0.087909126,
          0.087689981,
          0.087483989,
          0.087373047,
          0.087000914,
          0.086884503,
          0.086869342,
          0.086531486,
          0.08636926,
          0.086304949,
          0.086247743,
          0.086230728,
          0.085894123,
          0.085739992,
          0.08541894,
          0.084762392
         ],
         "yaxis": "y"
        },
        {
         "hovertemplate": "Тип=Риба<br>Година=%{x}<br>Вредност у gha=%{y}<extra></extra>",
         "legendgroup": "Риба",
         "line": {
          "color": "#FFA15A"
         },
         "marker": {
          "symbol": "circle"
         },
         "mode": "lines",
         "name": "Риба",
         "orientation": "v",
         "showlegend": true,
         "stackgroup": "1",
         "type": "scatter",
         "x": [
          2014,
          2017,
          2015,
          2016,
          2013,
          2006,
          2004,
          2005,
          2007,
          2012,
          2003,
          2008,
          2009,
          2011,
          1997,
          1999,
          2010,
          1996,
          1998,
          2002,
          2001,
          1995,
          2000,
          1994,
          1988,
          1989,
          1993,
          1987,
          1990,
          1992,
          1991,
          1986,
          1974,
          1985,
          1973,
          1976,
          1984,
          1983,
          1981,
          1982,
          1972,
          1975,
          1980,
          1977,
          1979,
          1970,
          1978,
          1968,
          1969,
          1971,
          1967,
          1966,
          1965,
          1963,
          1964,
          1962,
          1961
         ],
         "xaxis": "x",
         "y": [
          0.056952262,
          0.056550053,
          0.056376282,
          0.05584103,
          0.054742127,
          0.054460808,
          0.054287633,
          0.054044629,
          0.053510406,
          0.053312599,
          0.053057849,
          0.052260063,
          0.052103956,
          0.052018211,
          0.051976411,
          0.051930766,
          0.051898129,
          0.051889494,
          0.051866782,
          0.051694885,
          0.051661383,
          0.051517752,
          0.051440416,
          0.049265961,
          0.048775622,
          0.04799934,
          0.047203527,
          0.04681929,
          0.046583901,
          0.046525782,
          0.046425292,
          0.044895684,
          0.044404735,
          0.043051738,
          0.042961236,
          0.042874897,
          0.042752854,
          0.042511951,
          0.04244456,
          0.042438619,
          0.042124527,
          0.042099006,
          0.041851505,
          0.041432145,
          0.041184482,
          0.041091092,
          0.040922386,
          0.040900816,
          0.040634052,
          0.040073954,
          0.038747362,
          0.036397479,
          0.03435323,
          0.032796743,
          0.032011356,
          0.031810746,
          0.030571359
         ],
         "yaxis": "y"
        },
        {
         "hovertemplate": "Тип=Земљиште<br>Година=%{x}<br>Вредност у gha=%{y}<extra></extra>",
         "legendgroup": "Земљиште",
         "line": {
          "color": "#19d3f3"
         },
         "marker": {
          "symbol": "circle"
         },
         "mode": "lines",
         "name": "Земљиште",
         "orientation": "v",
         "showlegend": true,
         "stackgroup": "1",
         "type": "scatter",
         "x": [
          2017,
          2016,
          2015,
          2014,
          2013,
          2012,
          2011,
          2010,
          2009,
          2008,
          2007,
          2006,
          2005,
          2004,
          2003,
          2002,
          2001,
          2000,
          1999,
          1998,
          1997,
          1996,
          1995,
          1994,
          1993,
          1992,
          1990,
          1991,
          1989,
          1987,
          1988,
          1986,
          1985,
          1984,
          1983,
          1982,
          1981,
          1980,
          1979,
          1978,
          1977,
          1976,
          1975,
          1973,
          1974,
          1971,
          1972,
          1970,
          1969,
          1968,
          1967,
          1966,
          1965,
          1964,
          1963,
          1962,
          1961
         ],
         "xaxis": "x",
         "y": [
          0.039469672,
          0.038597492,
          0.03804237,
          0.037523514,
          0.036745093,
          0.03525366,
          0.035224852,
          0.034410721,
          0.033520455,
          0.033306635,
          0.032081245,
          0.031423047,
          0.030634328,
          0.030321568,
          0.028820809,
          0.028319849,
          0.027971236,
          0.027164082,
          0.02668256,
          0.026062002,
          0.025493963,
          0.024908294,
          0.0237126,
          0.023577171,
          0.022806596,
          0.022563159,
          0.022269156,
          0.022261253,
          0.021342538,
          0.020423229,
          0.020341937,
          0.019893663,
          0.019500325,
          0.018954735,
          0.017846021,
          0.017700863,
          0.016850433,
          0.016010982,
          0.015958487,
          0.015772953,
          0.014913773,
          0.014550006,
          0.013861225,
          0.013487383,
          0.013464662,
          0.012683125,
          0.012661831,
          0.012097831,
          0.011554711,
          0.011267817,
          0.010792539,
          0.010428805,
          0.009769723,
          0.009480355,
          0.00910741,
          0.008872325,
          0.008470097
         ],
         "yaxis": "y"
        }
       ],
       "layout": {
        "legend": {
         "bgcolor": "rgba(0,0,0,0)",
         "title": {
          "text": "Компонента еколошког отиска"
         },
         "tracegroupgap": 0,
         "x": 0.01,
         "y": 1
        },
        "margin": {
         "b": 50,
         "l": 50,
         "r": 20,
         "t": 20
        },
        "template": {
         "data": {
          "bar": [
           {
            "error_x": {
             "color": "#2a3f5f"
            },
            "error_y": {
             "color": "#2a3f5f"
            },
            "marker": {
             "line": {
              "color": "white",
              "width": 0.5
             },
             "pattern": {
              "fillmode": "overlay",
              "size": 10,
              "solidity": 0.2
             }
            },
            "type": "bar"
           }
          ],
          "barpolar": [
           {
            "marker": {
             "line": {
              "color": "white",
              "width": 0.5
             },
             "pattern": {
              "fillmode": "overlay",
              "size": 10,
              "solidity": 0.2
             }
            },
            "type": "barpolar"
           }
          ],
          "carpet": [
           {
            "aaxis": {
             "endlinecolor": "#2a3f5f",
             "gridcolor": "#C8D4E3",
             "linecolor": "#C8D4E3",
             "minorgridcolor": "#C8D4E3",
             "startlinecolor": "#2a3f5f"
            },
            "baxis": {
             "endlinecolor": "#2a3f5f",
             "gridcolor": "#C8D4E3",
             "linecolor": "#C8D4E3",
             "minorgridcolor": "#C8D4E3",
             "startlinecolor": "#2a3f5f"
            },
            "type": "carpet"
           }
          ],
          "choropleth": [
           {
            "colorbar": {
             "outlinewidth": 0,
             "ticks": ""
            },
            "type": "choropleth"
           }
          ],
          "contour": [
           {
            "colorbar": {
             "outlinewidth": 0,
             "ticks": ""
            },
            "colorscale": [
             [
              0,
              "#0d0887"
             ],
             [
              0.1111111111111111,
              "#46039f"
             ],
             [
              0.2222222222222222,
              "#7201a8"
             ],
             [
              0.3333333333333333,
              "#9c179e"
             ],
             [
              0.4444444444444444,
              "#bd3786"
             ],
             [
              0.5555555555555556,
              "#d8576b"
             ],
             [
              0.6666666666666666,
              "#ed7953"
             ],
             [
              0.7777777777777778,
              "#fb9f3a"
             ],
             [
              0.8888888888888888,
              "#fdca26"
             ],
             [
              1,
              "#f0f921"
             ]
            ],
            "type": "contour"
           }
          ],
          "contourcarpet": [
           {
            "colorbar": {
             "outlinewidth": 0,
             "ticks": ""
            },
            "type": "contourcarpet"
           }
          ],
          "heatmap": [
           {
            "colorbar": {
             "outlinewidth": 0,
             "ticks": ""
            },
            "colorscale": [
             [
              0,
              "#0d0887"
             ],
             [
              0.1111111111111111,
              "#46039f"
             ],
             [
              0.2222222222222222,
              "#7201a8"
             ],
             [
              0.3333333333333333,
              "#9c179e"
             ],
             [
              0.4444444444444444,
              "#bd3786"
             ],
             [
              0.5555555555555556,
              "#d8576b"
             ],
             [
              0.6666666666666666,
              "#ed7953"
             ],
             [
              0.7777777777777778,
              "#fb9f3a"
             ],
             [
              0.8888888888888888,
              "#fdca26"
             ],
             [
              1,
              "#f0f921"
             ]
            ],
            "type": "heatmap"
           }
          ],
          "heatmapgl": [
           {
            "colorbar": {
             "outlinewidth": 0,
             "ticks": ""
            },
            "colorscale": [
             [
              0,
              "#0d0887"
             ],
             [
              0.1111111111111111,
              "#46039f"
             ],
             [
              0.2222222222222222,
              "#7201a8"
             ],
             [
              0.3333333333333333,
              "#9c179e"
             ],
             [
              0.4444444444444444,
              "#bd3786"
             ],
             [
              0.5555555555555556,
              "#d8576b"
             ],
             [
              0.6666666666666666,
              "#ed7953"
             ],
             [
              0.7777777777777778,
              "#fb9f3a"
             ],
             [
              0.8888888888888888,
              "#fdca26"
             ],
             [
              1,
              "#f0f921"
             ]
            ],
            "type": "heatmapgl"
           }
          ],
          "histogram": [
           {
            "marker": {
             "pattern": {
              "fillmode": "overlay",
              "size": 10,
              "solidity": 0.2
             }
            },
            "type": "histogram"
           }
          ],
          "histogram2d": [
           {
            "colorbar": {
             "outlinewidth": 0,
             "ticks": ""
            },
            "colorscale": [
             [
              0,
              "#0d0887"
             ],
             [
              0.1111111111111111,
              "#46039f"
             ],
             [
              0.2222222222222222,
              "#7201a8"
             ],
             [
              0.3333333333333333,
              "#9c179e"
             ],
             [
              0.4444444444444444,
              "#bd3786"
             ],
             [
              0.5555555555555556,
              "#d8576b"
             ],
             [
              0.6666666666666666,
              "#ed7953"
             ],
             [
              0.7777777777777778,
              "#fb9f3a"
             ],
             [
              0.8888888888888888,
              "#fdca26"
             ],
             [
              1,
              "#f0f921"
             ]
            ],
            "type": "histogram2d"
           }
          ],
          "histogram2dcontour": [
           {
            "colorbar": {
             "outlinewidth": 0,
             "ticks": ""
            },
            "colorscale": [
             [
              0,
              "#0d0887"
             ],
             [
              0.1111111111111111,
              "#46039f"
             ],
             [
              0.2222222222222222,
              "#7201a8"
             ],
             [
              0.3333333333333333,
              "#9c179e"
             ],
             [
              0.4444444444444444,
              "#bd3786"
             ],
             [
              0.5555555555555556,
              "#d8576b"
             ],
             [
              0.6666666666666666,
              "#ed7953"
             ],
             [
              0.7777777777777778,
              "#fb9f3a"
             ],
             [
              0.8888888888888888,
              "#fdca26"
             ],
             [
              1,
              "#f0f921"
             ]
            ],
            "type": "histogram2dcontour"
           }
          ],
          "mesh3d": [
           {
            "colorbar": {
             "outlinewidth": 0,
             "ticks": ""
            },
            "type": "mesh3d"
           }
          ],
          "parcoords": [
           {
            "line": {
             "colorbar": {
              "outlinewidth": 0,
              "ticks": ""
             }
            },
            "type": "parcoords"
           }
          ],
          "pie": [
           {
            "automargin": true,
            "type": "pie"
           }
          ],
          "scatter": [
           {
            "marker": {
             "colorbar": {
              "outlinewidth": 0,
              "ticks": ""
             }
            },
            "type": "scatter"
           }
          ],
          "scatter3d": [
           {
            "line": {
             "colorbar": {
              "outlinewidth": 0,
              "ticks": ""
             }
            },
            "marker": {
             "colorbar": {
              "outlinewidth": 0,
              "ticks": ""
             }
            },
            "type": "scatter3d"
           }
          ],
          "scattercarpet": [
           {
            "marker": {
             "colorbar": {
              "outlinewidth": 0,
              "ticks": ""
             }
            },
            "type": "scattercarpet"
           }
          ],
          "scattergeo": [
           {
            "marker": {
             "colorbar": {
              "outlinewidth": 0,
              "ticks": ""
             }
            },
            "type": "scattergeo"
           }
          ],
          "scattergl": [
           {
            "marker": {
             "colorbar": {
              "outlinewidth": 0,
              "ticks": ""
             }
            },
            "type": "scattergl"
           }
          ],
          "scattermapbox": [
           {
            "marker": {
             "colorbar": {
              "outlinewidth": 0,
              "ticks": ""
             }
            },
            "type": "scattermapbox"
           }
          ],
          "scatterpolar": [
           {
            "marker": {
             "colorbar": {
              "outlinewidth": 0,
              "ticks": ""
             }
            },
            "type": "scatterpolar"
           }
          ],
          "scatterpolargl": [
           {
            "marker": {
             "colorbar": {
              "outlinewidth": 0,
              "ticks": ""
             }
            },
            "type": "scatterpolargl"
           }
          ],
          "scatterternary": [
           {
            "marker": {
             "colorbar": {
              "outlinewidth": 0,
              "ticks": ""
             }
            },
            "type": "scatterternary"
           }
          ],
          "surface": [
           {
            "colorbar": {
             "outlinewidth": 0,
             "ticks": ""
            },
            "colorscale": [
             [
              0,
              "#0d0887"
             ],
             [
              0.1111111111111111,
              "#46039f"
             ],
             [
              0.2222222222222222,
              "#7201a8"
             ],
             [
              0.3333333333333333,
              "#9c179e"
             ],
             [
              0.4444444444444444,
              "#bd3786"
             ],
             [
              0.5555555555555556,
              "#d8576b"
             ],
             [
              0.6666666666666666,
              "#ed7953"
             ],
             [
              0.7777777777777778,
              "#fb9f3a"
             ],
             [
              0.8888888888888888,
              "#fdca26"
             ],
             [
              1,
              "#f0f921"
             ]
            ],
            "type": "surface"
           }
          ],
          "table": [
           {
            "cells": {
             "fill": {
              "color": "#EBF0F8"
             },
             "line": {
              "color": "white"
             }
            },
            "header": {
             "fill": {
              "color": "#C8D4E3"
             },
             "line": {
              "color": "white"
             }
            },
            "type": "table"
           }
          ]
         },
         "layout": {
          "annotationdefaults": {
           "arrowcolor": "#2a3f5f",
           "arrowhead": 0,
           "arrowwidth": 1
          },
          "autotypenumbers": "strict",
          "coloraxis": {
           "colorbar": {
            "outlinewidth": 0,
            "ticks": ""
           }
          },
          "colorscale": {
           "diverging": [
            [
             0,
             "#8e0152"
            ],
            [
             0.1,
             "#c51b7d"
            ],
            [
             0.2,
             "#de77ae"
            ],
            [
             0.3,
             "#f1b6da"
            ],
            [
             0.4,
             "#fde0ef"
            ],
            [
             0.5,
             "#f7f7f7"
            ],
            [
             0.6,
             "#e6f5d0"
            ],
            [
             0.7,
             "#b8e186"
            ],
            [
             0.8,
             "#7fbc41"
            ],
            [
             0.9,
             "#4d9221"
            ],
            [
             1,
             "#276419"
            ]
           ],
           "sequential": [
            [
             0,
             "#0d0887"
            ],
            [
             0.1111111111111111,
             "#46039f"
            ],
            [
             0.2222222222222222,
             "#7201a8"
            ],
            [
             0.3333333333333333,
             "#9c179e"
            ],
            [
             0.4444444444444444,
             "#bd3786"
            ],
            [
             0.5555555555555556,
             "#d8576b"
            ],
            [
             0.6666666666666666,
             "#ed7953"
            ],
            [
             0.7777777777777778,
             "#fb9f3a"
            ],
            [
             0.8888888888888888,
             "#fdca26"
            ],
            [
             1,
             "#f0f921"
            ]
           ],
           "sequentialminus": [
            [
             0,
             "#0d0887"
            ],
            [
             0.1111111111111111,
             "#46039f"
            ],
            [
             0.2222222222222222,
             "#7201a8"
            ],
            [
             0.3333333333333333,
             "#9c179e"
            ],
            [
             0.4444444444444444,
             "#bd3786"
            ],
            [
             0.5555555555555556,
             "#d8576b"
            ],
            [
             0.6666666666666666,
             "#ed7953"
            ],
            [
             0.7777777777777778,
             "#fb9f3a"
            ],
            [
             0.8888888888888888,
             "#fdca26"
            ],
            [
             1,
             "#f0f921"
            ]
           ]
          },
          "colorway": [
           "#636efa",
           "#EF553B",
           "#00cc96",
           "#ab63fa",
           "#FFA15A",
           "#19d3f3",
           "#FF6692",
           "#B6E880",
           "#FF97FF",
           "#FECB52"
          ],
          "font": {
           "color": "#2a3f5f"
          },
          "geo": {
           "bgcolor": "white",
           "lakecolor": "white",
           "landcolor": "white",
           "showlakes": true,
           "showland": true,
           "subunitcolor": "#C8D4E3"
          },
          "hoverlabel": {
           "align": "left"
          },
          "hovermode": "closest",
          "mapbox": {
           "style": "light"
          },
          "paper_bgcolor": "white",
          "plot_bgcolor": "white",
          "polar": {
           "angularaxis": {
            "gridcolor": "#EBF0F8",
            "linecolor": "#EBF0F8",
            "ticks": ""
           },
           "bgcolor": "white",
           "radialaxis": {
            "gridcolor": "#EBF0F8",
            "linecolor": "#EBF0F8",
            "ticks": ""
           }
          },
          "scene": {
           "xaxis": {
            "backgroundcolor": "white",
            "gridcolor": "#DFE8F3",
            "gridwidth": 2,
            "linecolor": "#EBF0F8",
            "showbackground": true,
            "ticks": "",
            "zerolinecolor": "#EBF0F8"
           },
           "yaxis": {
            "backgroundcolor": "white",
            "gridcolor": "#DFE8F3",
            "gridwidth": 2,
            "linecolor": "#EBF0F8",
            "showbackground": true,
            "ticks": "",
            "zerolinecolor": "#EBF0F8"
           },
           "zaxis": {
            "backgroundcolor": "white",
            "gridcolor": "#DFE8F3",
            "gridwidth": 2,
            "linecolor": "#EBF0F8",
            "showbackground": true,
            "ticks": "",
            "zerolinecolor": "#EBF0F8"
           }
          },
          "shapedefaults": {
           "line": {
            "color": "#2a3f5f"
           }
          },
          "ternary": {
           "aaxis": {
            "gridcolor": "#DFE8F3",
            "linecolor": "#A2B1C6",
            "ticks": ""
           },
           "baxis": {
            "gridcolor": "#DFE8F3",
            "linecolor": "#A2B1C6",
            "ticks": ""
           },
           "bgcolor": "white",
           "caxis": {
            "gridcolor": "#DFE8F3",
            "linecolor": "#A2B1C6",
            "ticks": ""
           }
          },
          "title": {
           "x": 0.05
          },
          "xaxis": {
           "automargin": true,
           "gridcolor": "#EBF0F8",
           "linecolor": "#EBF0F8",
           "ticks": "",
           "title": {
            "standoff": 15
           },
           "zerolinecolor": "#EBF0F8",
           "zerolinewidth": 2
          },
          "yaxis": {
           "automargin": true,
           "gridcolor": "#EBF0F8",
           "linecolor": "#EBF0F8",
           "ticks": "",
           "title": {
            "standoff": 15
           },
           "zerolinecolor": "#EBF0F8",
           "zerolinewidth": 2
          }
         }
        },
        "width": 800,
        "xaxis": {
         "anchor": "y",
         "domain": [
          0,
          1
         ],
         "nticks": 13,
         "title": {
          "text": "Година"
         }
        },
        "yaxis": {
         "anchor": "x",
         "domain": [
          0,
          1
         ],
         "title": {
          "text": "Вредност у gha"
         }
        }
       }
      }
     },
     "metadata": {},
     "output_type": "display_data"
    }
   ],
   "source": [
    "import plotly.express as px\n",
    "\n",
    "# Сортирали смо вредности по опадајућем редоследу да би CO2 био на дну (ascending=False)\n",
    "graf = px.area(otisakTrendPlot.sort_values('Вредност у gha', ascending=False), \n",
    "                                            x=\"Година\", y=\"Вредност у gha\", \n",
    "                                            color=\"Тип\", width=800,\n",
    "                                            template='plotly_white')\n",
    "\n",
    "graf.update_layout(margin=dict(l=50, r=20, t=20, b=50),\n",
    "                   legend=dict(title='Компонента еколошког отиска', y=1, x=0.01, bgcolor='rgba(0,0,0,0)')\n",
    "                  )\n",
    "\n",
    "graf.update_xaxes(nticks=13)\n",
    "\n",
    "graf.show()\n"
   ]
  },
  {
   "cell_type": "markdown",
   "metadata": {},
   "source": [
    "Као што се види на основу графикона, глобални еколошки отисак је у сталном порасту у протеклих 50 година. Највећи пораст тиче се емисије гасова стаклене баште, тачније површина потребних да се они апсорбују. Можете показивачем миша прећи преко линија да бисте видели колике су биле вредности у појединачним годинама. Ипак, на основу графикона је тешко закључивати о тачним вредностима промена, па ћемо за крај израчунати и тачну разлику између крајње и почетне године за сваку компоненту. Употребићемо табелу са подацима коју смо употребили и за цртање графикона."
   ]
  },
  {
   "cell_type": "code",
   "execution_count": 9,
   "metadata": {},
   "outputs": [
    {
     "data": {
      "text/html": [
       "<div>\n",
       "<style scoped>\n",
       "    .dataframe tbody tr th:only-of-type {\n",
       "        vertical-align: middle;\n",
       "    }\n",
       "\n",
       "    .dataframe tbody tr th {\n",
       "        vertical-align: top;\n",
       "    }\n",
       "\n",
       "    .dataframe thead th {\n",
       "        text-align: right;\n",
       "    }\n",
       "</style>\n",
       "<table border=\"1\" class=\"dataframe\">\n",
       "  <thead>\n",
       "    <tr style=\"text-align: right;\">\n",
       "      <th></th>\n",
       "      <th>Тип</th>\n",
       "      <th>Вредност у gha_x</th>\n",
       "      <th>Вредност у gha_y</th>\n",
       "    </tr>\n",
       "  </thead>\n",
       "  <tbody>\n",
       "    <tr>\n",
       "      <th>0</th>\n",
       "      <td>Оранице</td>\n",
       "      <td>0.146385</td>\n",
       "      <td>0.322611</td>\n",
       "    </tr>\n",
       "    <tr>\n",
       "      <th>1</th>\n",
       "      <td>Пашњаци</td>\n",
       "      <td>0.085419</td>\n",
       "      <td>0.084762</td>\n",
       "    </tr>\n",
       "    <tr>\n",
       "      <th>2</th>\n",
       "      <td>Шуме</td>\n",
       "      <td>0.137855</td>\n",
       "      <td>0.170576</td>\n",
       "    </tr>\n",
       "    <tr>\n",
       "      <th>3</th>\n",
       "      <td>CO2</td>\n",
       "      <td>0.321651</td>\n",
       "      <td>1.060213</td>\n",
       "    </tr>\n",
       "    <tr>\n",
       "      <th>4</th>\n",
       "      <td>Риба</td>\n",
       "      <td>0.030571</td>\n",
       "      <td>0.056550</td>\n",
       "    </tr>\n",
       "    <tr>\n",
       "      <th>5</th>\n",
       "      <td>Земљиште</td>\n",
       "      <td>0.008470</td>\n",
       "      <td>0.039470</td>\n",
       "    </tr>\n",
       "  </tbody>\n",
       "</table>\n",
       "</div>"
      ],
      "text/plain": [
       "        Тип  Вредност у gha_x  Вредност у gha_y\n",
       "0   Оранице          0.146385          0.322611\n",
       "1   Пашњаци          0.085419          0.084762\n",
       "2      Шуме          0.137855          0.170576\n",
       "3       CO2          0.321651          1.060213\n",
       "4      Риба          0.030571          0.056550\n",
       "5  Земљиште          0.008470          0.039470"
      ]
     },
     "execution_count": 9,
     "metadata": {},
     "output_type": "execute_result"
    }
   ],
   "source": [
    "otisak1961 = otisakTrendPlot[otisakTrendPlot['Година']==1961][['Тип', 'Вредност у gha']]\n",
    "otisak2017 = otisakTrendPlot[otisakTrendPlot['Година']==2017][['Тип', 'Вредност у gha']]\n",
    "otisakOdnos = otisak1961.merge(otisak2017, on='Тип')\n",
    "otisakOdnos"
   ]
  },
  {
   "cell_type": "markdown",
   "metadata": {},
   "source": [
    "Најпре смо направили нове табеле са колонама *Тип* и *Вредност у gha* за 1961. и 2017. годину, а потом смо те две табеле спојили командом `merge()` повезујући редове по колони *Тип*. Остаје само да израчунамо разлику издвојених вредности."
   ]
  },
  {
   "cell_type": "code",
   "execution_count": 10,
   "metadata": {},
   "outputs": [
    {
     "data": {
      "text/html": [
       "<div>\n",
       "<style scoped>\n",
       "    .dataframe tbody tr th:only-of-type {\n",
       "        vertical-align: middle;\n",
       "    }\n",
       "\n",
       "    .dataframe tbody tr th {\n",
       "        vertical-align: top;\n",
       "    }\n",
       "\n",
       "    .dataframe thead th {\n",
       "        text-align: right;\n",
       "    }\n",
       "</style>\n",
       "<table border=\"1\" class=\"dataframe\">\n",
       "  <thead>\n",
       "    <tr style=\"text-align: right;\">\n",
       "      <th></th>\n",
       "      <th>Тип</th>\n",
       "      <th>Промена (%)</th>\n",
       "    </tr>\n",
       "  </thead>\n",
       "  <tbody>\n",
       "    <tr>\n",
       "      <th>0</th>\n",
       "      <td>Оранице</td>\n",
       "      <td>2.20</td>\n",
       "    </tr>\n",
       "    <tr>\n",
       "      <th>1</th>\n",
       "      <td>Пашњаци</td>\n",
       "      <td>0.99</td>\n",
       "    </tr>\n",
       "    <tr>\n",
       "      <th>2</th>\n",
       "      <td>Шуме</td>\n",
       "      <td>1.24</td>\n",
       "    </tr>\n",
       "    <tr>\n",
       "      <th>3</th>\n",
       "      <td>CO2</td>\n",
       "      <td>3.30</td>\n",
       "    </tr>\n",
       "    <tr>\n",
       "      <th>4</th>\n",
       "      <td>Риба</td>\n",
       "      <td>1.85</td>\n",
       "    </tr>\n",
       "    <tr>\n",
       "      <th>5</th>\n",
       "      <td>Земљиште</td>\n",
       "      <td>4.66</td>\n",
       "    </tr>\n",
       "  </tbody>\n",
       "</table>\n",
       "</div>"
      ],
      "text/plain": [
       "        Тип  Промена (%)\n",
       "0   Оранице         2.20\n",
       "1   Пашњаци         0.99\n",
       "2      Шуме         1.24\n",
       "3       CO2         3.30\n",
       "4      Риба         1.85\n",
       "5  Земљиште         4.66"
      ]
     },
     "execution_count": 10,
     "metadata": {},
     "output_type": "execute_result"
    }
   ],
   "source": [
    "otisakOdnos['Промена (%)'] = (((otisakOdnos['Вредност у gha_y'] - otisakOdnos['Вредност у gha_x']) / otisakOdnos['Вредност у gha_x']) * 100).round(2)\n",
    "otisakOdnos[['Тип', 'Промена (%)']]"
   ]
  },
  {
   "cell_type": "markdown",
   "metadata": {},
   "source": [
    "Разлику између 2017. и 1961. године поделили смо вредношћу за 1961. како бисмо добили процентуални пораст. Неке разлике нису биле уочљиве на основу графикона, али сада су много јасније. На пример, потреба за површинама пашњака се у протеклих пола века чак и смањила, додуше незнатно. Исто тако, уочавамо да најзначајнији пораст није онај који се тиче емисије гасова већ онај који се односи на површине грађевинског земљишта. "
   ]
  },
  {
   "cell_type": "markdown",
   "metadata": {},
   "source": [
    "<div class=\"alert alert-block alert-info\"><img src=\"slike/zad.png\" align=\"left\"/>Промене између година изразили смо процентуално што можда није најинтуитивнији начин. Како бисте изразили промену као умножак, тј. одговор на питање колико пута је отисак повећан? Покушајте да коригујете горњи кôд како бисте добили табелу са таквим вредностима.</div> "
   ]
  },
  {
   "cell_type": "markdown",
   "metadata": {},
   "source": [
    "<details>\n",
    "<summary><img src=\"slike/click.png\" align=\"right\" width=\"70\"/>\n",
    "    <b>Прикажи одговор</b>\n",
    "</summary>\n",
    "Довољно је да поделите вредност за 2017. годину вредношћу за 1961. годину: <code>(otisakOdnos['Вредност у gha_y'] / otisakOdnos['Вредност у gha_x']).round(2)</code>."
   ]
  },
  {
   "cell_type": "markdown",
   "metadata": {},
   "source": [
    "**Како се мењао еколошки отисак у последњих пола века?**\n",
    "\n",
    "Еколошки отисак константно расте од седамдесетих година 20. века. Иако је за овај раст добрим делом „заслужан“ пораст емисије угљен-диоксида, чини се да је озбиљнији проблем растућа потребa за грађевинским и обрадивим земљиштем. Ово друго очигледно подразумева крчење шума и уништавање биокапацитета."
   ]
  }
 ],
 "metadata": {
  "interpreter": {
   "hash": "348691c3bd2f09422a1d002135f80172c0d963b544c282476421ef0a2ca5cf3b"
  },
  "kernelspec": {
   "display_name": "Python 3",
   "language": "python",
   "name": "python3"
  },
  "language_info": {
   "codemirror_mode": {
    "name": "ipython",
    "version": 3
   },
   "file_extension": ".py",
   "mimetype": "text/x-python",
   "name": "python",
   "nbconvert_exporter": "python",
   "pygments_lexer": "ipython3",
   "version": "3.9.1"
  }
 },
 "nbformat": 4,
 "nbformat_minor": 2
}
