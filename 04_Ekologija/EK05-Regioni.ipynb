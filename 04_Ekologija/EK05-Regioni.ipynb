{
 "cells": [
  {
   "cell_type": "markdown",
   "metadata": {},
   "source": [
    "# Колике су разлике еколошког отиска међу регионима?\n",
    "До сада смо анализирали укупни еколошки отисак, еколошки дефицит и еколошке резерве држава користећи просечан ниво прихода као критеријум за груписање. У нарених неколико примера бавићемо се поређењем држава са различитих континената. То значи да ћемо користити варијаблу *Region* као групишућу, односно категоријалну. \n",
    "<BR><BR>\n",
    "Као и до сада, учитавамо кориговане податке које смо припремили у првој лекцији."
   ]
  },
  {
   "cell_type": "code",
   "execution_count": 1,
   "metadata": {},
   "outputs": [],
   "source": [
    "import pandas as pd\n",
    "\n",
    "otisak = pd.read_csv('podaci/NFA 2021 v2.csv')"
   ]
  },
  {
   "cell_type": "markdown",
   "metadata": {},
   "source": [
    "Вредности варијабле *Total Ecological Footprint* груписаћемо по регионима и упоредићемо дистрибуције помоћу кутијастог дијаграма. Обратите пажњу на разлике између аритметичких средина које су приказане кружићима и и медијане дистрибуције приказазане линијама унутар кутије. Такође обратите пажњу на облике дистрибуција поредећи дужине левог и десног \"брка\" кутијастог дијаграма. На крају, звездицама су означени аберантни резултати или аутлајери. Постоје различити критеријуми за \"проглашавање\" неког резултата аутлајером, али обично се користе они које је предложио __[*Džon Tuki*](https://en.wikipedia.org/wiki/Outlier#Tukey's_fences)__, амерички статистичар који је осмислио и кутијасти дијаграм. "
   ]
  },
  {
   "cell_type": "code",
   "execution_count": 2,
   "metadata": {},
   "outputs": [
    {
     "data": {
      "image/png": "[encoded data removed]",
      "text/plain": [
       "<Figure size 1008x504 with 1 Axes>"
      ]
     },
     "metadata": {
      "needs_background": "light"
     },
     "output_type": "display_data"
    }
   ],
   "source": [
    "import matplotlib.pyplot as plt\n",
    "\n",
    "# Правимо копију скупа коју ћемо на крају обрисати\n",
    "otisakBox = otisak[['Region', 'Total Ecological Footprint']].copy() \n",
    "\n",
    "# Променићемо називе региона у самом скупу и објединити категорије 'EU-28' и 'Other Europe'\n",
    "otisakBox.replace({'EU-28': 'Европа', \n",
    "                     'Other Europe': 'Европа',\n",
    "                     'Africa': 'Африка',\n",
    "                     'Asia-Pacific': 'Азија-Пацифик',\n",
    "                     'North America': 'Северна Америка',\n",
    "                     'South America': 'Јужна Америка',\n",
    "                     'Middle East/Central Asia': 'Блиски исток и Централна Азија',\n",
    "                     'Central America/Caribbean': 'Централна Америка'\n",
    "                    }, inplace=True)\n",
    "\n",
    "# Овде дефинишемо изглед линија,\n",
    "forLin = dict(linestyle='-', linewidth=1.5, color='black')\n",
    "\n",
    "# овде изглед аутлајера,\n",
    "forMar = dict(marker='*', markerfacecolor='white', markeredgecolor='black', markersize=9, markeredgewidth=1)\n",
    "\n",
    "# а овде аритметичке средине\n",
    "forAS = dict(marker='o', markerfacecolor='white', markeredgecolor='black', markersize=6, markeredgewidth=1.5)\n",
    "\n",
    "# Припрема графикона\n",
    "boks = otisakBox.sort_values('Region').boxplot(figsize=[14,7], column='Total Ecological Footprint', by='Region',\n",
    "               vert=False, grid=False, flierprops=forMar, meanprops=forAS, \n",
    "               whiskerprops=forLin, capprops=forLin, boxprops=forLin, widths=0.6,\n",
    "               medianprops=forLin, showmeans=True, showfliers=True\n",
    "              ) \n",
    "plt.xlabel('Укупни еколошки отисак', fontsize=12)\n",
    "plt.suptitle('')\n",
    "plt.title('')\n",
    "\n",
    "# У наредних неколико редова ћемо уз називе региона на y-оси дописати број држава које их чине\n",
    "brDrz = otisakBox.sort_values('Region').groupby('Region').count().reset_index()\n",
    "regioni = boks.axes.get_yticklabels()\n",
    "for reg in regioni:\n",
    "    ime = reg.get_text()\n",
    "    reg.set_text(ime + ' (' + str(brDrz[brDrz['Region']==ime].iloc[0]['Total Ecological Footprint']) + ')')\n",
    "boks.axes.set_yticklabels(regioni)\n",
    "\n",
    "# На крају приказујемо графикон\n",
    "plt.show()\n",
    "\n",
    "del otisakBox"
   ]
  },
  {
   "cell_type": "markdown",
   "metadata": {},
   "source": [
    "Најпре уочавамо да је варијбилност еколошког отиска међу државама и међу континентима веома велика. Код већине дистрибуција дужина десног \"брка\" и положај медијане која је мања од аритметичке средине говори нам да су дистирбуције позитивно искошене, тј. да су одступања од типичних вредости већа у нјеном десном делу. Иако поређења региона нису потпуно оправдана због великих разлика међу државама унутар истог региона, може се уочити да највећи еколошки отисак имају државе Северне Америке, а најмањи афричке државе. Помало чудан облик кутијастог дијаграма у случају Северне Америке првенствено је последица тога што су у ову категорију сврстане само четири државе. Највећу варијабилност унутар једног региона показују државе Блиског истока и Централне Азије.     "
   ]
  },
  {
   "cell_type": "markdown",
   "metadata": {},
   "source": [
    "<div class=\"alert alert-block alert-info\"><img src=\"slike/zad.png\" align=\"left\"/>Промените вредност параметра <b>showfliers</b> у <b>True</b> и анализирајте како неприказивање аутлајера утиче на изглед и прегледност кутијастих дијаграма. Израчунајте варијабилност (стандардну девијацију) приказане варијабле по регионима.</div> "
   ]
  },
  {
   "cell_type": "markdown",
   "metadata": {},
   "source": [
    "У наредном примеруупотребићемо библиотеку __[Plotly Express](https://plotly.com/python-api-reference/plotly.express.html#px)__ да бисмо приказали профиле региона с обзиром на висину различитих компоненти еколошког отиска коришћењем тзв. *радар* или *паук дијаграма*. Сам назив графикона говори нам како изгледа. У питању је круг издељен на онолико сегмената колико има варијабли. Свака варијабла је представљена линијом која полази из центра круга, а вредности варијабле су изражене удаљеношћу тачки од центра. Спајањем тачака добија се својеврстан профил ентитета (нпр. региона) на више варијабли. "
   ]
  },
  {
   "cell_type": "code",
   "execution_count": 5,
   "metadata": {},
   "outputs": [
    {
     "data": {
      "application/vnd.plotly.v1+json": {
       "config": {
        "plotlyServerURL": "https://plot.ly"
       },
       "data": [
        {
         "fill": "toself",
         "hovertemplate": "Region=Јужна Америка<br>Vrednost=%{r}<br>Tip=%{theta}<extra></extra>",
         "legendgroup": "Јужна Америка",
         "line": {
          "color": "#636efa",
          "dash": "solid"
         },
         "marker": {
          "symbol": "circle"
         },
         "mode": "lines",
         "name": "Јужна Америка",
         "opacity": 0.5,
         "r": [
          0.509090909090909,
          0.5545454545454546,
          0.4454545454545454,
          1.1454545454545455,
          0.09090909090909091,
          0.08181818181818182,
          0.509090909090909
         ],
         "showlegend": true,
         "subplot": "polar",
         "theta": [
          "Оранице",
          "Пашњаци",
          "Шуме",
          "CO2",
          "Риба",
          "Земљиште",
          "Оранице"
         ],
         "type": "scatterpolar"
        },
        {
         "fill": "toself",
         "hovertemplate": "Region=Азија-Пацифик<br>Vrednost=%{r}<br>Tip=%{theta}<extra></extra>",
         "legendgroup": "Азија-Пацифик",
         "line": {
          "color": "#EF553B",
          "dash": "solid"
         },
         "marker": {
          "symbol": "circle"
         },
         "mode": "lines",
         "name": "Азија-Пацифик",
         "opacity": 0.5,
         "r": [
          0.4916666666666667,
          0.31666666666666665,
          0.3666666666666667,
          1.6041666666666667,
          0.1875,
          0.07916666666666668,
          0.4916666666666667
         ],
         "showlegend": true,
         "subplot": "polar",
         "theta": [
          "Оранице",
          "Пашњаци",
          "Шуме",
          "CO2",
          "Риба",
          "Земљиште",
          "Оранице"
         ],
         "type": "scatterpolar"
        },
        {
         "fill": "toself",
         "hovertemplate": "Region=Африка<br>Vrednost=%{r}<br>Tip=%{theta}<extra></extra>",
         "legendgroup": "Африка",
         "line": {
          "color": "#00cc96",
          "dash": "solid"
         },
         "marker": {
          "symbol": "circle"
         },
         "mode": "lines",
         "name": "Африка",
         "opacity": 0.5,
         "r": [
          0.3829787234042553,
          0.225531914893617,
          0.2851063829787234,
          0.43617021276595747,
          0.057446808510638304,
          0.03404255319148936,
          0.3829787234042553
         ],
         "showlegend": true,
         "subplot": "polar",
         "theta": [
          "Оранице",
          "Пашњаци",
          "Шуме",
          "CO2",
          "Риба",
          "Земљиште",
          "Оранице"
         ],
         "type": "scatterpolar"
        },
        {
         "fill": "toself",
         "hovertemplate": "Region=Блиски исток и Централна Азија<br>Vrednost=%{r}<br>Tip=%{theta}<extra></extra>",
         "legendgroup": "Блиски исток и Централна Азија",
         "line": {
          "color": "#ab63fa",
          "dash": "solid"
         },
         "marker": {
          "symbol": "circle"
         },
         "mode": "lines",
         "name": "Блиски исток и Централна Азија",
         "opacity": 0.5,
         "r": [
          0.5434782608695652,
          0.23478260869565218,
          0.1391304347826087,
          3.1565217391304343,
          0.07391304347826087,
          0.05217391304347827,
          0.5434782608695652
         ],
         "showlegend": true,
         "subplot": "polar",
         "theta": [
          "Оранице",
          "Пашњаци",
          "Шуме",
          "CO2",
          "Риба",
          "Земљиште",
          "Оранице"
         ],
         "type": "scatterpolar"
        },
        {
         "fill": "toself",
         "hovertemplate": "Region=Европа<br>Vrednost=%{r}<br>Tip=%{theta}<extra></extra>",
         "legendgroup": "Европа",
         "line": {
          "color": "#FFA15A",
          "dash": "solid"
         },
         "marker": {
          "symbol": "circle"
         },
         "mode": "lines",
         "name": "Европа",
         "opacity": 0.5,
         "r": [
          0.7486486486486487,
          0.23513513513513512,
          0.7513513513513513,
          2.824324324324324,
          0.15135135135135133,
          0.08648648648648649,
          0.7486486486486487
         ],
         "showlegend": true,
         "subplot": "polar",
         "theta": [
          "Оранице",
          "Пашњаци",
          "Шуме",
          "CO2",
          "Риба",
          "Земљиште",
          "Оранице"
         ],
         "type": "scatterpolar"
        },
        {
         "fill": "toself",
         "hovertemplate": "Region=Северна Америка<br>Vrednost=%{r}<br>Tip=%{theta}<extra></extra>",
         "legendgroup": "Северна Америка",
         "line": {
          "color": "#19d3f3",
          "dash": "solid"
         },
         "marker": {
          "symbol": "circle"
         },
         "mode": "lines",
         "name": "Северна Америка",
         "opacity": 0.5,
         "r": [
          0.7999999999999999,
          0.26666666666666666,
          0.8000000000000002,
          4.133333333333334,
          0.10000000000000002,
          0.06666666666666667,
          0.7999999999999999
         ],
         "showlegend": true,
         "subplot": "polar",
         "theta": [
          "Оранице",
          "Пашњаци",
          "Шуме",
          "CO2",
          "Риба",
          "Земљиште",
          "Оранице"
         ],
         "type": "scatterpolar"
        },
        {
         "fill": "toself",
         "hovertemplate": "Region=Централна Америка<br>Vrednost=%{r}<br>Tip=%{theta}<extra></extra>",
         "legendgroup": "Централна Америка",
         "line": {
          "color": "#FF6692",
          "dash": "solid"
         },
         "marker": {
          "symbol": "circle"
         },
         "mode": "lines",
         "name": "Централна Америка",
         "opacity": 0.5,
         "r": [
          0.4076923076923077,
          0.2,
          0.2692307692307692,
          1.623076923076923,
          0.11538461538461539,
          0.03076923076923077,
          0.4076923076923077
         ],
         "showlegend": true,
         "subplot": "polar",
         "theta": [
          "Оранице",
          "Пашњаци",
          "Шуме",
          "CO2",
          "Риба",
          "Земљиште",
          "Оранице"
         ],
         "type": "scatterpolar"
        }
       ],
       "layout": {
        "height": 400,
        "legend": {
         "bgcolor": "rgba(0,0,0,0)",
         "title": {
          "text": "Регион"
         },
         "tracegroupgap": 0,
         "x": -0.3,
         "y": 1.06
        },
        "margin": {
         "b": 20,
         "l": 0,
         "r": 0,
         "t": 0
        },
        "polar": {
         "angularaxis": {
          "direction": "clockwise",
          "rotation": 90
         },
         "domain": {
          "x": [
           0,
           1
          ],
          "y": [
           0,
           1
          ]
         }
        },
        "template": {
         "data": {
          "bar": [
           {
            "error_x": {
             "color": "#2a3f5f"
            },
            "error_y": {
             "color": "#2a3f5f"
            },
            "marker": {
             "line": {
              "color": "#E5ECF6",
              "width": 0.5
             },
             "pattern": {
              "fillmode": "overlay",
              "size": 10,
              "solidity": 0.2
             }
            },
            "type": "bar"
           }
          ],
          "barpolar": [
           {
            "marker": {
             "line": {
              "color": "#E5ECF6",
              "width": 0.5
             },
             "pattern": {
              "fillmode": "overlay",
              "size": 10,
              "solidity": 0.2
             }
            },
            "type": "barpolar"
           }
          ],
          "carpet": [
           {
            "aaxis": {
             "endlinecolor": "#2a3f5f",
             "gridcolor": "white",
             "linecolor": "white",
             "minorgridcolor": "white",
             "startlinecolor": "#2a3f5f"
            },
            "baxis": {
             "endlinecolor": "#2a3f5f",
             "gridcolor": "white",
             "linecolor": "white",
             "minorgridcolor": "white",
             "startlinecolor": "#2a3f5f"
            },
            "type": "carpet"
           }
          ],
          "choropleth": [
           {
            "colorbar": {
             "outlinewidth": 0,
             "ticks": ""
            },
            "type": "choropleth"
           }
          ],
          "contour": [
           {
            "colorbar": {
             "outlinewidth": 0,
             "ticks": ""
            },
            "colorscale": [
             [
              0,
              "#0d0887"
             ],
             [
              0.1111111111111111,
              "#46039f"
             ],
             [
              0.2222222222222222,
              "#7201a8"
             ],
             [
              0.3333333333333333,
              "#9c179e"
             ],
             [
              0.4444444444444444,
              "#bd3786"
             ],
             [
              0.5555555555555556,
              "#d8576b"
             ],
             [
              0.6666666666666666,
              "#ed7953"
             ],
             [
              0.7777777777777778,
              "#fb9f3a"
             ],
             [
              0.8888888888888888,
              "#fdca26"
             ],
             [
              1,
              "#f0f921"
             ]
            ],
            "type": "contour"
           }
          ],
          "contourcarpet": [
           {
            "colorbar": {
             "outlinewidth": 0,
             "ticks": ""
            },
            "type": "contourcarpet"
           }
          ],
          "heatmap": [
           {
            "colorbar": {
             "outlinewidth": 0,
             "ticks": ""
            },
            "colorscale": [
             [
              0,
              "#0d0887"
             ],
             [
              0.1111111111111111,
              "#46039f"
             ],
             [
              0.2222222222222222,
              "#7201a8"
             ],
             [
              0.3333333333333333,
              "#9c179e"
             ],
             [
              0.4444444444444444,
              "#bd3786"
             ],
             [
              0.5555555555555556,
              "#d8576b"
             ],
             [
              0.6666666666666666,
              "#ed7953"
             ],
             [
              0.7777777777777778,
              "#fb9f3a"
             ],
             [
              0.8888888888888888,
              "#fdca26"
             ],
             [
              1,
              "#f0f921"
             ]
            ],
            "type": "heatmap"
           }
          ],
          "heatmapgl": [
           {
            "colorbar": {
             "outlinewidth": 0,
             "ticks": ""
            },
            "colorscale": [
             [
              0,
              "#0d0887"
             ],
             [
              0.1111111111111111,
              "#46039f"
             ],
             [
              0.2222222222222222,
              "#7201a8"
             ],
             [
              0.3333333333333333,
              "#9c179e"
             ],
             [
              0.4444444444444444,
              "#bd3786"
             ],
             [
              0.5555555555555556,
              "#d8576b"
             ],
             [
              0.6666666666666666,
              "#ed7953"
             ],
             [
              0.7777777777777778,
              "#fb9f3a"
             ],
             [
              0.8888888888888888,
              "#fdca26"
             ],
             [
              1,
              "#f0f921"
             ]
            ],
            "type": "heatmapgl"
           }
          ],
          "histogram": [
           {
            "marker": {
             "pattern": {
              "fillmode": "overlay",
              "size": 10,
              "solidity": 0.2
             }
            },
            "type": "histogram"
           }
          ],
          "histogram2d": [
           {
            "colorbar": {
             "outlinewidth": 0,
             "ticks": ""
            },
            "colorscale": [
             [
              0,
              "#0d0887"
             ],
             [
              0.1111111111111111,
              "#46039f"
             ],
             [
              0.2222222222222222,
              "#7201a8"
             ],
             [
              0.3333333333333333,
              "#9c179e"
             ],
             [
              0.4444444444444444,
              "#bd3786"
             ],
             [
              0.5555555555555556,
              "#d8576b"
             ],
             [
              0.6666666666666666,
              "#ed7953"
             ],
             [
              0.7777777777777778,
              "#fb9f3a"
             ],
             [
              0.8888888888888888,
              "#fdca26"
             ],
             [
              1,
              "#f0f921"
             ]
            ],
            "type": "histogram2d"
           }
          ],
          "histogram2dcontour": [
           {
            "colorbar": {
             "outlinewidth": 0,
             "ticks": ""
            },
            "colorscale": [
             [
              0,
              "#0d0887"
             ],
             [
              0.1111111111111111,
              "#46039f"
             ],
             [
              0.2222222222222222,
              "#7201a8"
             ],
             [
              0.3333333333333333,
              "#9c179e"
             ],
             [
              0.4444444444444444,
              "#bd3786"
             ],
             [
              0.5555555555555556,
              "#d8576b"
             ],
             [
              0.6666666666666666,
              "#ed7953"
             ],
             [
              0.7777777777777778,
              "#fb9f3a"
             ],
             [
              0.8888888888888888,
              "#fdca26"
             ],
             [
              1,
              "#f0f921"
             ]
            ],
            "type": "histogram2dcontour"
           }
          ],
          "mesh3d": [
           {
            "colorbar": {
             "outlinewidth": 0,
             "ticks": ""
            },
            "type": "mesh3d"
           }
          ],
          "parcoords": [
           {
            "line": {
             "colorbar": {
              "outlinewidth": 0,
              "ticks": ""
             }
            },
            "type": "parcoords"
           }
          ],
          "pie": [
           {
            "automargin": true,
            "type": "pie"
           }
          ],
          "scatter": [
           {
            "marker": {
             "colorbar": {
              "outlinewidth": 0,
              "ticks": ""
             }
            },
            "type": "scatter"
           }
          ],
          "scatter3d": [
           {
            "line": {
             "colorbar": {
              "outlinewidth": 0,
              "ticks": ""
             }
            },
            "marker": {
             "colorbar": {
              "outlinewidth": 0,
              "ticks": ""
             }
            },
            "type": "scatter3d"
           }
          ],
          "scattercarpet": [
           {
            "marker": {
             "colorbar": {
              "outlinewidth": 0,
              "ticks": ""
             }
            },
            "type": "scattercarpet"
           }
          ],
          "scattergeo": [
           {
            "marker": {
             "colorbar": {
              "outlinewidth": 0,
              "ticks": ""
             }
            },
            "type": "scattergeo"
           }
          ],
          "scattergl": [
           {
            "marker": {
             "colorbar": {
              "outlinewidth": 0,
              "ticks": ""
             }
            },
            "type": "scattergl"
           }
          ],
          "scattermapbox": [
           {
            "marker": {
             "colorbar": {
              "outlinewidth": 0,
              "ticks": ""
             }
            },
            "type": "scattermapbox"
           }
          ],
          "scatterpolar": [
           {
            "marker": {
             "colorbar": {
              "outlinewidth": 0,
              "ticks": ""
             }
            },
            "type": "scatterpolar"
           }
          ],
          "scatterpolargl": [
           {
            "marker": {
             "colorbar": {
              "outlinewidth": 0,
              "ticks": ""
             }
            },
            "type": "scatterpolargl"
           }
          ],
          "scatterternary": [
           {
            "marker": {
             "colorbar": {
              "outlinewidth": 0,
              "ticks": ""
             }
            },
            "type": "scatterternary"
           }
          ],
          "surface": [
           {
            "colorbar": {
             "outlinewidth": 0,
             "ticks": ""
            },
            "colorscale": [
             [
              0,
              "#0d0887"
             ],
             [
              0.1111111111111111,
              "#46039f"
             ],
             [
              0.2222222222222222,
              "#7201a8"
             ],
             [
              0.3333333333333333,
              "#9c179e"
             ],
             [
              0.4444444444444444,
              "#bd3786"
             ],
             [
              0.5555555555555556,
              "#d8576b"
             ],
             [
              0.6666666666666666,
              "#ed7953"
             ],
             [
              0.7777777777777778,
              "#fb9f3a"
             ],
             [
              0.8888888888888888,
              "#fdca26"
             ],
             [
              1,
              "#f0f921"
             ]
            ],
            "type": "surface"
           }
          ],
          "table": [
           {
            "cells": {
             "fill": {
              "color": "#EBF0F8"
             },
             "line": {
              "color": "white"
             }
            },
            "header": {
             "fill": {
              "color": "#C8D4E3"
             },
             "line": {
              "color": "white"
             }
            },
            "type": "table"
           }
          ]
         },
         "layout": {
          "annotationdefaults": {
           "arrowcolor": "#2a3f5f",
           "arrowhead": 0,
           "arrowwidth": 1
          },
          "autotypenumbers": "strict",
          "coloraxis": {
           "colorbar": {
            "outlinewidth": 0,
            "ticks": ""
           }
          },
          "colorscale": {
           "diverging": [
            [
             0,
             "#8e0152"
            ],
            [
             0.1,
             "#c51b7d"
            ],
            [
             0.2,
             "#de77ae"
            ],
            [
             0.3,
             "#f1b6da"
            ],
            [
             0.4,
             "#fde0ef"
            ],
            [
             0.5,
             "#f7f7f7"
            ],
            [
             0.6,
             "#e6f5d0"
            ],
            [
             0.7,
             "#b8e186"
            ],
            [
             0.8,
             "#7fbc41"
            ],
            [
             0.9,
             "#4d9221"
            ],
            [
             1,
             "#276419"
            ]
           ],
           "sequential": [
            [
             0,
             "#0d0887"
            ],
            [
             0.1111111111111111,
             "#46039f"
            ],
            [
             0.2222222222222222,
             "#7201a8"
            ],
            [
             0.3333333333333333,
             "#9c179e"
            ],
            [
             0.4444444444444444,
             "#bd3786"
            ],
            [
             0.5555555555555556,
             "#d8576b"
            ],
            [
             0.6666666666666666,
             "#ed7953"
            ],
            [
             0.7777777777777778,
             "#fb9f3a"
            ],
            [
             0.8888888888888888,
             "#fdca26"
            ],
            [
             1,
             "#f0f921"
            ]
           ],
           "sequentialminus": [
            [
             0,
             "#0d0887"
            ],
            [
             0.1111111111111111,
             "#46039f"
            ],
            [
             0.2222222222222222,
             "#7201a8"
            ],
            [
             0.3333333333333333,
             "#9c179e"
            ],
            [
             0.4444444444444444,
             "#bd3786"
            ],
            [
             0.5555555555555556,
             "#d8576b"
            ],
            [
             0.6666666666666666,
             "#ed7953"
            ],
            [
             0.7777777777777778,
             "#fb9f3a"
            ],
            [
             0.8888888888888888,
             "#fdca26"
            ],
            [
             1,
             "#f0f921"
            ]
           ]
          },
          "colorway": [
           "#636efa",
           "#EF553B",
           "#00cc96",
           "#ab63fa",
           "#FFA15A",
           "#19d3f3",
           "#FF6692",
           "#B6E880",
           "#FF97FF",
           "#FECB52"
          ],
          "font": {
           "color": "#2a3f5f"
          },
          "geo": {
           "bgcolor": "white",
           "lakecolor": "white",
           "landcolor": "#E5ECF6",
           "showlakes": true,
           "showland": true,
           "subunitcolor": "white"
          },
          "hoverlabel": {
           "align": "left"
          },
          "hovermode": "closest",
          "mapbox": {
           "style": "light"
          },
          "paper_bgcolor": "white",
          "plot_bgcolor": "#E5ECF6",
          "polar": {
           "angularaxis": {
            "gridcolor": "white",
            "linecolor": "white",
            "ticks": ""
           },
           "bgcolor": "#E5ECF6",
           "radialaxis": {
            "gridcolor": "white",
            "linecolor": "white",
            "ticks": ""
           }
          },
          "scene": {
           "xaxis": {
            "backgroundcolor": "#E5ECF6",
            "gridcolor": "white",
            "gridwidth": 2,
            "linecolor": "white",
            "showbackground": true,
            "ticks": "",
            "zerolinecolor": "white"
           },
           "yaxis": {
            "backgroundcolor": "#E5ECF6",
            "gridcolor": "white",
            "gridwidth": 2,
            "linecolor": "white",
            "showbackground": true,
            "ticks": "",
            "zerolinecolor": "white"
           },
           "zaxis": {
            "backgroundcolor": "#E5ECF6",
            "gridcolor": "white",
            "gridwidth": 2,
            "linecolor": "white",
            "showbackground": true,
            "ticks": "",
            "zerolinecolor": "white"
           }
          },
          "shapedefaults": {
           "line": {
            "color": "#2a3f5f"
           }
          },
          "ternary": {
           "aaxis": {
            "gridcolor": "white",
            "linecolor": "white",
            "ticks": ""
           },
           "baxis": {
            "gridcolor": "white",
            "linecolor": "white",
            "ticks": ""
           },
           "bgcolor": "#E5ECF6",
           "caxis": {
            "gridcolor": "white",
            "linecolor": "white",
            "ticks": ""
           }
          },
          "title": {
           "x": 0.05
          },
          "xaxis": {
           "automargin": true,
           "gridcolor": "white",
           "linecolor": "white",
           "ticks": "",
           "title": {
            "standoff": 15
           },
           "zerolinecolor": "white",
           "zerolinewidth": 2
          },
          "yaxis": {
           "automargin": true,
           "gridcolor": "white",
           "linecolor": "white",
           "ticks": "",
           "title": {
            "standoff": 15
           },
           "zerolinecolor": "white",
           "zerolinewidth": 2
          }
         }
        },
        "width": 700
       }
      }
     },
     "metadata": {},
     "output_type": "display_data"
    }
   ],
   "source": [
    "import plotly.express as px\n",
    "\n",
    "stnd = False\n",
    "\n",
    "# Правимо копију података тако што издвајамо колоне 6 до 14 из почетног скупа и бришемо две сувишне\n",
    "otisakRadar = otisak.iloc[:,6:15].drop(columns=['Population (mil)', 'Income Group']).copy()\n",
    "otisakRadar.replace({'EU-28': 'Европа', \n",
    "                     'Other Europe': 'Европа',\n",
    "                     'Africa': 'Африка',\n",
    "                     'Asia-Pacific': 'Азија-Пацифик',\n",
    "                     'North America': 'Северна Америка',\n",
    "                     'South America': 'Јужна Америка',\n",
    "                     'Middle East/Central Asia': 'Блиски исток и Централна Азија',\n",
    "                     'Central America/Caribbean': 'Централна Америка'\n",
    "                    }, inplace=True)\n",
    "\n",
    "# Мењамо називе варијабли и рачунамо њихов просек за државе по регионима\n",
    "otisakRadar.set_axis(['Region', 'Оранице', 'Пашњаци', 'Шуме', 'CO2', 'Риба', 'Земљиште'], axis=1, inplace=True)\n",
    "otisakRadar = otisakRadar.groupby('Region').mean()\n",
    "\n",
    "# На овом месту стандардизујемо вредости да бисмо их лакше упоредили\n",
    "if stnd:\n",
    "    for kol in range(0, 6): \n",
    "        otisakRadar[otisakRadar.columns[kol]] = otisakRadar[otisakRadar.columns[kol]] /  otisakRadar[otisakRadar.columns[kol]].max()\n",
    "\n",
    "# Овде колоне табеле претварамо у редове тако да сваки регион добије онолико редова колико има варијабли\n",
    "# Више информација о функцији stack() можете да пронађете на адреси https://pandas.pydata.org/docs/user_guide/reshaping.html\n",
    "otisakRadar = otisakRadar.stack().reset_index()\n",
    "\n",
    "# Мењамо називе колона \n",
    "otisakRadar = otisakRadar.rename(columns={otisakRadar.columns[1]: 'Tip', otisakRadar.columns[2]: 'Vrednost'})\n",
    "graf = px.line_polar(otisakRadar, r=\"Vrednost\", theta=\"Tip\", color=\"Region\", line_close=True, width=700, height=400)\n",
    "graf.update_layout(margin=dict(l=0, r=0, t=0, b=20), legend=dict(title='Регион', y=1.06, x=-0.3, bgcolor='rgba(0,0,0,0)'))\n",
    "graf.update_traces(fill='toself', opacity=0.5)\n",
    "graf.show()\n",
    "\n",
    "del otisakRadar"
   ]
  },
  {
   "cell_type": "markdown",
   "metadata": {},
   "source": [
    "У претходним анализама установили смо да је карбонски отисак најзначајнијна компонента еколошког отиска. __[Карбонски отисак](https://www.overshootday.org/how-many-earths-or-countries-do-we-need/)__ представља укупну количину емитованих гасова стаклене баште и обично се изражава у килограмима или тонама еквивалентног CO<sub>2</sub> (CO<sub>2</sub>eq). У скупу отворених података који користимо, ове вредности су конвертоване у површину биолошки продуктивног земљишта потребну да се апсорбују емитовани гасови. Иако су јединице приказаних димензија еквивалентне (gha), велике разлике у распонима отежавају поређење. Стога ћемо вредности стандардизовати на веома једноставан начин - дељењем са максималном вредношћу у низу.\n",
    "<BR><BR>\n",
    "Промените вредност варијабле `stnd` у `True` и поново покрените горњи код.Сада се много лакше уочавају разлике међу регионима. Државе Азијско-пасифичког региона се највише ослањају на морски потенцијал, док су у случају Јужне Америке то пашњаци. Као што смо видели и у претходној анализи, државе Северне Америке имају највећи еколошки отисак, а и релативно посматрано највећу емисију гасова стаклене баште и највеће потребе за биокапацитетима типа ораница и шума."
   ]
  },
  {
   "cell_type": "markdown",
   "metadata": {},
   "source": [
    "На крају ове лекције поново ћемо се позабавити еколошким отиском у контексту богатства нација, тачније општег благостања становника. Овога пута ћемо анализирати повезаност еколошких резерви и индекса хуманог развоја (ИХР) државa. Употребићемо дијаграм распршења на коме су државе обојене у складу са регионом којем припадају."
   ]
  },
  {
   "cell_type": "code",
   "execution_count": 4,
   "metadata": {},
   "outputs": [
    {
     "data": {
      "application/vnd.plotly.v1+json": {
       "config": {
        "plotlyServerURL": "https://plot.ly"
       },
       "data": [
        {
         "customdata": [
          [
           "Afghanistan"
          ],
          [
           "Armenia"
          ],
          [
           "Azerbaijan"
          ],
          [
           "Bahrain"
          ],
          [
           "Israel"
          ],
          [
           "Jordan"
          ],
          [
           "Kazakhstan"
          ],
          [
           "Kuwait"
          ],
          [
           "Lebanon"
          ],
          [
           "Oman"
          ],
          [
           "Qatar"
          ],
          [
           "Saudi Arabia"
          ],
          [
           "Syrian Arab Republic"
          ],
          [
           "Turkey"
          ],
          [
           "Turkmenistan"
          ],
          [
           "United Arab Emirates"
          ],
          [
           "Uzbekistan"
          ],
          [
           "Yemen"
          ]
         ],
         "hovertemplate": "Region=Блиски исток и Централна Азија<br>HDI=%{x}<br>Ecological Deficit or Reserve=%{y}<br>Country=%{customdata[0]}<extra></extra>",
         "legendgroup": "Блиски исток и Централна Азија",
         "marker": {
          "color": "rgb(102,194,165)",
          "line": {
           "color": "darkgreen",
           "width": 1
          },
          "size": 8,
          "symbol": "circle"
         },
         "mode": "markers",
         "name": "Блиски исток и Централна Азија",
         "orientation": "v",
         "showlegend": true,
         "type": "scatter",
         "x": [
          0.49,
          0.76,
          0.75,
          0.84,
          0.9,
          0.72,
          0.81,
          0.81,
          0.73,
          0.83,
          0.85,
          0.86,
          0.54,
          0.81,
          0.71,
          0.86,
          0.71,
          0.46
         ],
         "xaxis": "x",
         "y": [
          -0.3,
          -1.2,
          -1.2,
          -8.2,
          -5.3,
          -1.8,
          -2.4,
          -7.6,
          -3.1,
          -5.8,
          -13.8,
          -5.4,
          -0.7,
          -2.1,
          -2.9,
          -8.4,
          -1.1,
          -0.2
         ],
         "yaxis": "y"
        },
        {
         "customdata": [
          [
           "Albania"
          ],
          [
           "Austria"
          ],
          [
           "Belarus"
          ],
          [
           "Belgium"
          ],
          [
           "Bosnia and Herzegovina"
          ],
          [
           "Croatia"
          ],
          [
           "Czech Republic"
          ],
          [
           "Denmark"
          ],
          [
           "Estonia"
          ],
          [
           "France"
          ],
          [
           "Germany"
          ],
          [
           "Greece"
          ],
          [
           "Italy"
          ],
          [
           "Latvia"
          ],
          [
           "Lithuania"
          ],
          [
           "Luxembourg"
          ],
          [
           "Montenegro"
          ],
          [
           "Netherlands"
          ],
          [
           "Norway"
          ],
          [
           "Poland"
          ],
          [
           "Portugal"
          ],
          [
           "Republic of Moldova"
          ],
          [
           "Republic of North Macedonia"
          ],
          [
           "Romania"
          ],
          [
           "Russian Federation"
          ],
          [
           "Serbia"
          ],
          [
           "Slovakia"
          ],
          [
           "Slovenia"
          ],
          [
           "Spain"
          ],
          [
           "Sweden"
          ],
          [
           "Switzerland"
          ],
          [
           "United Kingdom"
          ]
         ],
         "hovertemplate": "Region=Европа<br>HDI=%{x}<br>Ecological Deficit or Reserve=%{y}<br>Country=%{customdata[0]}<extra></extra>",
         "legendgroup": "Европа",
         "marker": {
          "color": "rgb(252,141,98)",
          "line": {
           "color": "darkgreen",
           "width": 1
          },
          "size": 8,
          "symbol": "circle"
         },
         "mode": "markers",
         "name": "Европа",
         "orientation": "v",
         "showlegend": true,
         "type": "scatter",
         "x": [
          0.79,
          0.91,
          0.82,
          0.92,
          0.77,
          0.84,
          0.89,
          0.93,
          0.88,
          0.89,
          0.94,
          0.87,
          0.88,
          0.85,
          0.87,
          0.91,
          0.81,
          0.93,
          0.95,
          0.87,
          0.85,
          0.71,
          0.76,
          0.81,
          0.82,
          0.79,
          0.85,
          0.9,
          0.89,
          0.94,
          0.94,
          0.92
         ],
         "xaxis": "x",
         "y": [
          -1.1,
          -3.3,
          -1.1,
          -5.8,
          -1.7,
          -0.7,
          -3.1,
          -2.7,
          2.6,
          -2.1,
          -3.2,
          -2.7,
          -3.5,
          2.4,
          -0.7,
          -11.6,
          -1.1,
          -4.2,
          1.4,
          -2.7,
          -3.1,
          -0.6,
          -1.6,
          -0.3,
          1.5,
          -1.4,
          -1.7,
          -2.7,
          -2.8,
          3.4,
          -3.5,
          -3.1
         ],
         "yaxis": "y"
        },
        {
         "customdata": [
          [
           "Angola"
          ],
          [
           "Benin"
          ],
          [
           "Botswana"
          ],
          [
           "Burkina Faso"
          ],
          [
           "Burundi"
          ],
          [
           "Cameroon"
          ],
          [
           "Central African Republic"
          ],
          [
           "Chad"
          ],
          [
           "Congo"
          ],
          [
           "Congo, Democratic Republic of"
          ],
          [
           "Côte d'Ivoire"
          ],
          [
           "Eritrea"
          ],
          [
           "Ethiopia"
          ],
          [
           "Gambia"
          ],
          [
           "Ghana"
          ],
          [
           "Guinea"
          ],
          [
           "Guinea-Bissau"
          ],
          [
           "Kenya"
          ],
          [
           "Lesotho"
          ],
          [
           "Libyan Arab Jamahiriya"
          ],
          [
           "Madagascar"
          ],
          [
           "Malawi"
          ],
          [
           "Mali"
          ],
          [
           "Mozambique"
          ],
          [
           "Niger"
          ],
          [
           "Nigeria"
          ],
          [
           "Rwanda"
          ],
          [
           "Sierra Leone"
          ],
          [
           "South Africa"
          ],
          [
           "Sudan"
          ],
          [
           "Tanzania, United Republic of"
          ],
          [
           "Togo"
          ],
          [
           "Tunisia"
          ],
          [
           "Uganda"
          ],
          [
           "Zambia"
          ],
          [
           "Zimbabwe"
          ]
         ],
         "hovertemplate": "Region=Африка<br>HDI=%{x}<br>Ecological Deficit or Reserve=%{y}<br>Country=%{customdata[0]}<extra></extra>",
         "legendgroup": "Африка",
         "marker": {
          "color": "rgb(141,160,203)",
          "line": {
           "color": "darkgreen",
           "width": 1
          },
          "size": 8,
          "symbol": "circle"
         },
         "mode": "markers",
         "name": "Африка",
         "orientation": "v",
         "showlegend": true,
         "type": "scatter",
         "x": [
          0.58,
          0.52,
          0.72,
          0.43,
          0.42,
          0.56,
          0.38,
          0.4,
          0.61,
          0.46,
          0.51,
          0.43,
          0.47,
          0.46,
          0.59,
          0.46,
          0.46,
          0.57,
          0.51,
          0.7,
          0.52,
          0.48,
          0.43,
          0.44,
          0.37,
          0.53,
          0.53,
          0.44,
          0.7,
          0.51,
          0.52,
          0.51,
          0.74,
          0.52,
          0.59,
          0.55
         ],
         "xaxis": "x",
         "y": [
          0.9,
          -0.5,
          0.3,
          -0.2,
          -0.3,
          0.3,
          6.3,
          0.1,
          7.9,
          1.8,
          0.6,
          1.1,
          -0.4,
          -0.2,
          -0.7,
          0.3,
          1.3,
          -0.5,
          -0.7,
          -2.8,
          1.4,
          -0.2,
          0,
          0.9,
          -0.3,
          -0.4,
          -0.3,
          -0.1,
          -2.1,
          -0.1,
          -0.2,
          -0.6,
          -1.5,
          -0.6,
          0.9,
          -0.5
         ],
         "yaxis": "y"
        },
        {
         "customdata": [
          [
           "Argentina"
          ],
          [
           "Bolivia"
          ],
          [
           "Brazil"
          ],
          [
           "Chile"
          ],
          [
           "Colombia"
          ],
          [
           "Paraguay"
          ],
          [
           "Peru"
          ],
          [
           "Venezuela, Bolivarian Republic of"
          ]
         ],
         "hovertemplate": "Region=Јужна Америка<br>HDI=%{x}<br>Ecological Deficit or Reserve=%{y}<br>Country=%{customdata[0]}<extra></extra>",
         "legendgroup": "Јужна Америка",
         "marker": {
          "color": "rgb(231,138,195)",
          "line": {
           "color": "darkgreen",
           "width": 1
          },
          "size": 8,
          "symbol": "circle"
         },
         "mode": "markers",
         "name": "Јужна Америка",
         "orientation": "v",
         "showlegend": true,
         "type": "scatter",
         "x": [
          0.83,
          0.7,
          0.76,
          0.85,
          0.76,
          0.72,
          0.76,
          0.74
         ],
         "xaxis": "x",
         "y": [
          3.3,
          12.4,
          5.8,
          -0.9,
          1.7,
          6.7,
          1.5,
          0.2
         ],
         "yaxis": "y"
        },
        {
         "customdata": [
          [
           "Australia"
          ],
          [
           "Bangladesh"
          ],
          [
           "Bhutan"
          ],
          [
           "Brunei Darussalam"
          ],
          [
           "China"
          ],
          [
           "Fiji"
          ],
          [
           "India"
          ],
          [
           "Indonesia"
          ],
          [
           "Japan"
          ],
          [
           "Korea, Republic of"
          ],
          [
           "Lao People's Democratic Republic"
          ],
          [
           "Malaysia"
          ],
          [
           "Mongolia"
          ],
          [
           "Myanmar"
          ],
          [
           "Nepal"
          ],
          [
           "Pakistan"
          ],
          [
           "Philippines"
          ],
          [
           "Singapore"
          ],
          [
           "Sri Lanka"
          ],
          [
           "Thailand"
          ],
          [
           "Viet Nam"
          ]
         ],
         "hovertemplate": "Region=Азија-Пацифик<br>HDI=%{x}<br>Ecological Deficit or Reserve=%{y}<br>Country=%{customdata[0]}<extra></extra>",
         "legendgroup": "Азија-Пацифик",
         "marker": {
          "color": "rgb(166,216,84)",
          "line": {
           "color": "darkgreen",
           "width": 1
          },
          "size": 8,
          "symbol": "circle"
         },
         "mode": "markers",
         "name": "Азија-Пацифик",
         "orientation": "v",
         "showlegend": true,
         "type": "scatter",
         "x": [
          0.94,
          0.61,
          0.62,
          0.84,
          0.75,
          0.72,
          0.64,
          0.7,
          0.91,
          0.9,
          0.6,
          0.8,
          0.73,
          0.58,
          0.57,
          0.56,
          0.71,
          0.93,
          0.78,
          0.76,
          0.69
         ],
         "xaxis": "x",
         "y": [
          5.4,
          -0.4,
          0.5,
          -3.2,
          -2.8,
          -0.6,
          -0.8,
          -0.4,
          -4.1,
          -5.5,
          -0.2,
          -1.6,
          5.7,
          0.1,
          -0.5,
          -0.5,
          -0.8,
          -5.8,
          -1.1,
          -1.4,
          -1.2
         ],
         "yaxis": "y"
        },
        {
         "customdata": [
          [
           "Bahamas"
          ],
          [
           "Barbados"
          ],
          [
           "Costa Rica"
          ],
          [
           "Cuba"
          ],
          [
           "Dominican Republic"
          ],
          [
           "El Salvador"
          ],
          [
           "Haiti"
          ],
          [
           "Jamaica"
          ],
          [
           "Nicaragua"
          ],
          [
           "Panama"
          ],
          [
           "Saint Lucia"
          ]
         ],
         "hovertemplate": "Region=Централна Америка и Кариби<br>HDI=%{x}<br>Ecological Deficit or Reserve=%{y}<br>Country=%{customdata[0]}<extra></extra>",
         "legendgroup": "Централна Америка и Кариби",
         "marker": {
          "color": "rgb(255,217,47)",
          "line": {
           "color": "darkgreen",
           "width": 1
          },
          "size": 8,
          "symbol": "circle"
         },
         "mode": "markers",
         "name": "Централна Америка и Кариби",
         "orientation": "v",
         "showlegend": true,
         "type": "scatter",
         "x": [
          0.8,
          0.81,
          0.79,
          0.78,
          0.74,
          0.67,
          0.5,
          0.73,
          0.65,
          0.79,
          0.74
         ],
         "xaxis": "x",
         "y": [
          5.4,
          -3.6,
          -1.1,
          -1,
          -1.2,
          -1.4,
          -0.4,
          -1.4,
          0.5,
          0.4,
          -2.2
         ],
         "yaxis": "y"
        },
        {
         "customdata": [
          [
           "Canada"
          ],
          [
           "Mexico"
          ],
          [
           "United States of America"
          ]
         ],
         "hovertemplate": "Region=Северна Америка<br>HDI=%{x}<br>Ecological Deficit or Reserve=%{y}<br>Country=%{customdata[0]}<extra></extra>",
         "legendgroup": "Северна Америка",
         "marker": {
          "color": "rgb(229,196,148)",
          "line": {
           "color": "darkgreen",
           "width": 1
          },
          "size": 8,
          "symbol": "circle"
         },
         "mode": "markers",
         "name": "Северна Америка",
         "orientation": "v",
         "showlegend": true,
         "type": "scatter",
         "x": [
          0.92,
          0.77,
          0.92
         ],
         "xaxis": "x",
         "y": [
          6.9,
          -1.5,
          -4.6
         ],
         "yaxis": "y"
        }
       ],
       "layout": {
        "height": 600,
        "legend": {
         "bgcolor": "rgba(0,0,0,0)",
         "title": {
          "text": "Регион"
         },
         "tracegroupgap": 0,
         "x": 1.02,
         "y": 1
        },
        "margin": {
         "b": 60,
         "l": 80,
         "r": 0,
         "t": 60
        },
        "shapes": [
         {
          "line": {
           "color": "darkgreen",
           "dash": "dot",
           "width": 1
          },
          "type": "line",
          "x0": 0,
          "x1": 1,
          "xref": "x domain",
          "y0": 0,
          "y1": 0,
          "yref": "y"
         },
         {
          "line": {
           "color": "darkgreen",
           "dash": "dot",
           "width": 1
          },
          "type": "line",
          "x0": 0.7,
          "x1": 0.7,
          "xref": "x",
          "y0": 0,
          "y1": 1,
          "yref": "y domain"
         }
        ],
        "template": {
         "data": {
          "bar": [
           {
            "error_x": {
             "color": "#2a3f5f"
            },
            "error_y": {
             "color": "#2a3f5f"
            },
            "marker": {
             "line": {
              "color": "white",
              "width": 0.5
             },
             "pattern": {
              "fillmode": "overlay",
              "size": 10,
              "solidity": 0.2
             }
            },
            "type": "bar"
           }
          ],
          "barpolar": [
           {
            "marker": {
             "line": {
              "color": "white",
              "width": 0.5
             },
             "pattern": {
              "fillmode": "overlay",
              "size": 10,
              "solidity": 0.2
             }
            },
            "type": "barpolar"
           }
          ],
          "carpet": [
           {
            "aaxis": {
             "endlinecolor": "#2a3f5f",
             "gridcolor": "#C8D4E3",
             "linecolor": "#C8D4E3",
             "minorgridcolor": "#C8D4E3",
             "startlinecolor": "#2a3f5f"
            },
            "baxis": {
             "endlinecolor": "#2a3f5f",
             "gridcolor": "#C8D4E3",
             "linecolor": "#C8D4E3",
             "minorgridcolor": "#C8D4E3",
             "startlinecolor": "#2a3f5f"
            },
            "type": "carpet"
           }
          ],
          "choropleth": [
           {
            "colorbar": {
             "outlinewidth": 0,
             "ticks": ""
            },
            "type": "choropleth"
           }
          ],
          "contour": [
           {
            "colorbar": {
             "outlinewidth": 0,
             "ticks": ""
            },
            "colorscale": [
             [
              0,
              "#0d0887"
             ],
             [
              0.1111111111111111,
              "#46039f"
             ],
             [
              0.2222222222222222,
              "#7201a8"
             ],
             [
              0.3333333333333333,
              "#9c179e"
             ],
             [
              0.4444444444444444,
              "#bd3786"
             ],
             [
              0.5555555555555556,
              "#d8576b"
             ],
             [
              0.6666666666666666,
              "#ed7953"
             ],
             [
              0.7777777777777778,
              "#fb9f3a"
             ],
             [
              0.8888888888888888,
              "#fdca26"
             ],
             [
              1,
              "#f0f921"
             ]
            ],
            "type": "contour"
           }
          ],
          "contourcarpet": [
           {
            "colorbar": {
             "outlinewidth": 0,
             "ticks": ""
            },
            "type": "contourcarpet"
           }
          ],
          "heatmap": [
           {
            "colorbar": {
             "outlinewidth": 0,
             "ticks": ""
            },
            "colorscale": [
             [
              0,
              "#0d0887"
             ],
             [
              0.1111111111111111,
              "#46039f"
             ],
             [
              0.2222222222222222,
              "#7201a8"
             ],
             [
              0.3333333333333333,
              "#9c179e"
             ],
             [
              0.4444444444444444,
              "#bd3786"
             ],
             [
              0.5555555555555556,
              "#d8576b"
             ],
             [
              0.6666666666666666,
              "#ed7953"
             ],
             [
              0.7777777777777778,
              "#fb9f3a"
             ],
             [
              0.8888888888888888,
              "#fdca26"
             ],
             [
              1,
              "#f0f921"
             ]
            ],
            "type": "heatmap"
           }
          ],
          "heatmapgl": [
           {
            "colorbar": {
             "outlinewidth": 0,
             "ticks": ""
            },
            "colorscale": [
             [
              0,
              "#0d0887"
             ],
             [
              0.1111111111111111,
              "#46039f"
             ],
             [
              0.2222222222222222,
              "#7201a8"
             ],
             [
              0.3333333333333333,
              "#9c179e"
             ],
             [
              0.4444444444444444,
              "#bd3786"
             ],
             [
              0.5555555555555556,
              "#d8576b"
             ],
             [
              0.6666666666666666,
              "#ed7953"
             ],
             [
              0.7777777777777778,
              "#fb9f3a"
             ],
             [
              0.8888888888888888,
              "#fdca26"
             ],
             [
              1,
              "#f0f921"
             ]
            ],
            "type": "heatmapgl"
           }
          ],
          "histogram": [
           {
            "marker": {
             "pattern": {
              "fillmode": "overlay",
              "size": 10,
              "solidity": 0.2
             }
            },
            "type": "histogram"
           }
          ],
          "histogram2d": [
           {
            "colorbar": {
             "outlinewidth": 0,
             "ticks": ""
            },
            "colorscale": [
             [
              0,
              "#0d0887"
             ],
             [
              0.1111111111111111,
              "#46039f"
             ],
             [
              0.2222222222222222,
              "#7201a8"
             ],
             [
              0.3333333333333333,
              "#9c179e"
             ],
             [
              0.4444444444444444,
              "#bd3786"
             ],
             [
              0.5555555555555556,
              "#d8576b"
             ],
             [
              0.6666666666666666,
              "#ed7953"
             ],
             [
              0.7777777777777778,
              "#fb9f3a"
             ],
             [
              0.8888888888888888,
              "#fdca26"
             ],
             [
              1,
              "#f0f921"
             ]
            ],
            "type": "histogram2d"
           }
          ],
          "histogram2dcontour": [
           {
            "colorbar": {
             "outlinewidth": 0,
             "ticks": ""
            },
            "colorscale": [
             [
              0,
              "#0d0887"
             ],
             [
              0.1111111111111111,
              "#46039f"
             ],
             [
              0.2222222222222222,
              "#7201a8"
             ],
             [
              0.3333333333333333,
              "#9c179e"
             ],
             [
              0.4444444444444444,
              "#bd3786"
             ],
             [
              0.5555555555555556,
              "#d8576b"
             ],
             [
              0.6666666666666666,
              "#ed7953"
             ],
             [
              0.7777777777777778,
              "#fb9f3a"
             ],
             [
              0.8888888888888888,
              "#fdca26"
             ],
             [
              1,
              "#f0f921"
             ]
            ],
            "type": "histogram2dcontour"
           }
          ],
          "mesh3d": [
           {
            "colorbar": {
             "outlinewidth": 0,
             "ticks": ""
            },
            "type": "mesh3d"
           }
          ],
          "parcoords": [
           {
            "line": {
             "colorbar": {
              "outlinewidth": 0,
              "ticks": ""
             }
            },
            "type": "parcoords"
           }
          ],
          "pie": [
           {
            "automargin": true,
            "type": "pie"
           }
          ],
          "scatter": [
           {
            "marker": {
             "colorbar": {
              "outlinewidth": 0,
              "ticks": ""
             }
            },
            "type": "scatter"
           }
          ],
          "scatter3d": [
           {
            "line": {
             "colorbar": {
              "outlinewidth": 0,
              "ticks": ""
             }
            },
            "marker": {
             "colorbar": {
              "outlinewidth": 0,
              "ticks": ""
             }
            },
            "type": "scatter3d"
           }
          ],
          "scattercarpet": [
           {
            "marker": {
             "colorbar": {
              "outlinewidth": 0,
              "ticks": ""
             }
            },
            "type": "scattercarpet"
           }
          ],
          "scattergeo": [
           {
            "marker": {
             "colorbar": {
              "outlinewidth": 0,
              "ticks": ""
             }
            },
            "type": "scattergeo"
           }
          ],
          "scattergl": [
           {
            "marker": {
             "colorbar": {
              "outlinewidth": 0,
              "ticks": ""
             }
            },
            "type": "scattergl"
           }
          ],
          "scattermapbox": [
           {
            "marker": {
             "colorbar": {
              "outlinewidth": 0,
              "ticks": ""
             }
            },
            "type": "scattermapbox"
           }
          ],
          "scatterpolar": [
           {
            "marker": {
             "colorbar": {
              "outlinewidth": 0,
              "ticks": ""
             }
            },
            "type": "scatterpolar"
           }
          ],
          "scatterpolargl": [
           {
            "marker": {
             "colorbar": {
              "outlinewidth": 0,
              "ticks": ""
             }
            },
            "type": "scatterpolargl"
           }
          ],
          "scatterternary": [
           {
            "marker": {
             "colorbar": {
              "outlinewidth": 0,
              "ticks": ""
             }
            },
            "type": "scatterternary"
           }
          ],
          "surface": [
           {
            "colorbar": {
             "outlinewidth": 0,
             "ticks": ""
            },
            "colorscale": [
             [
              0,
              "#0d0887"
             ],
             [
              0.1111111111111111,
              "#46039f"
             ],
             [
              0.2222222222222222,
              "#7201a8"
             ],
             [
              0.3333333333333333,
              "#9c179e"
             ],
             [
              0.4444444444444444,
              "#bd3786"
             ],
             [
              0.5555555555555556,
              "#d8576b"
             ],
             [
              0.6666666666666666,
              "#ed7953"
             ],
             [
              0.7777777777777778,
              "#fb9f3a"
             ],
             [
              0.8888888888888888,
              "#fdca26"
             ],
             [
              1,
              "#f0f921"
             ]
            ],
            "type": "surface"
           }
          ],
          "table": [
           {
            "cells": {
             "fill": {
              "color": "#EBF0F8"
             },
             "line": {
              "color": "white"
             }
            },
            "header": {
             "fill": {
              "color": "#C8D4E3"
             },
             "line": {
              "color": "white"
             }
            },
            "type": "table"
           }
          ]
         },
         "layout": {
          "annotationdefaults": {
           "arrowcolor": "#2a3f5f",
           "arrowhead": 0,
           "arrowwidth": 1
          },
          "autotypenumbers": "strict",
          "coloraxis": {
           "colorbar": {
            "outlinewidth": 0,
            "ticks": ""
           }
          },
          "colorscale": {
           "diverging": [
            [
             0,
             "#8e0152"
            ],
            [
             0.1,
             "#c51b7d"
            ],
            [
             0.2,
             "#de77ae"
            ],
            [
             0.3,
             "#f1b6da"
            ],
            [
             0.4,
             "#fde0ef"
            ],
            [
             0.5,
             "#f7f7f7"
            ],
            [
             0.6,
             "#e6f5d0"
            ],
            [
             0.7,
             "#b8e186"
            ],
            [
             0.8,
             "#7fbc41"
            ],
            [
             0.9,
             "#4d9221"
            ],
            [
             1,
             "#276419"
            ]
           ],
           "sequential": [
            [
             0,
             "#0d0887"
            ],
            [
             0.1111111111111111,
             "#46039f"
            ],
            [
             0.2222222222222222,
             "#7201a8"
            ],
            [
             0.3333333333333333,
             "#9c179e"
            ],
            [
             0.4444444444444444,
             "#bd3786"
            ],
            [
             0.5555555555555556,
             "#d8576b"
            ],
            [
             0.6666666666666666,
             "#ed7953"
            ],
            [
             0.7777777777777778,
             "#fb9f3a"
            ],
            [
             0.8888888888888888,
             "#fdca26"
            ],
            [
             1,
             "#f0f921"
            ]
           ],
           "sequentialminus": [
            [
             0,
             "#0d0887"
            ],
            [
             0.1111111111111111,
             "#46039f"
            ],
            [
             0.2222222222222222,
             "#7201a8"
            ],
            [
             0.3333333333333333,
             "#9c179e"
            ],
            [
             0.4444444444444444,
             "#bd3786"
            ],
            [
             0.5555555555555556,
             "#d8576b"
            ],
            [
             0.6666666666666666,
             "#ed7953"
            ],
            [
             0.7777777777777778,
             "#fb9f3a"
            ],
            [
             0.8888888888888888,
             "#fdca26"
            ],
            [
             1,
             "#f0f921"
            ]
           ]
          },
          "colorway": [
           "#636efa",
           "#EF553B",
           "#00cc96",
           "#ab63fa",
           "#FFA15A",
           "#19d3f3",
           "#FF6692",
           "#B6E880",
           "#FF97FF",
           "#FECB52"
          ],
          "font": {
           "color": "#2a3f5f"
          },
          "geo": {
           "bgcolor": "white",
           "lakecolor": "white",
           "landcolor": "white",
           "showlakes": true,
           "showland": true,
           "subunitcolor": "#C8D4E3"
          },
          "hoverlabel": {
           "align": "left"
          },
          "hovermode": "closest",
          "mapbox": {
           "style": "light"
          },
          "paper_bgcolor": "white",
          "plot_bgcolor": "white",
          "polar": {
           "angularaxis": {
            "gridcolor": "#EBF0F8",
            "linecolor": "#EBF0F8",
            "ticks": ""
           },
           "bgcolor": "white",
           "radialaxis": {
            "gridcolor": "#EBF0F8",
            "linecolor": "#EBF0F8",
            "ticks": ""
           }
          },
          "scene": {
           "xaxis": {
            "backgroundcolor": "white",
            "gridcolor": "#DFE8F3",
            "gridwidth": 2,
            "linecolor": "#EBF0F8",
            "showbackground": true,
            "ticks": "",
            "zerolinecolor": "#EBF0F8"
           },
           "yaxis": {
            "backgroundcolor": "white",
            "gridcolor": "#DFE8F3",
            "gridwidth": 2,
            "linecolor": "#EBF0F8",
            "showbackground": true,
            "ticks": "",
            "zerolinecolor": "#EBF0F8"
           },
           "zaxis": {
            "backgroundcolor": "white",
            "gridcolor": "#DFE8F3",
            "gridwidth": 2,
            "linecolor": "#EBF0F8",
            "showbackground": true,
            "ticks": "",
            "zerolinecolor": "#EBF0F8"
           }
          },
          "shapedefaults": {
           "line": {
            "color": "#2a3f5f"
           }
          },
          "ternary": {
           "aaxis": {
            "gridcolor": "#DFE8F3",
            "linecolor": "#A2B1C6",
            "ticks": ""
           },
           "baxis": {
            "gridcolor": "#DFE8F3",
            "linecolor": "#A2B1C6",
            "ticks": ""
           },
           "bgcolor": "white",
           "caxis": {
            "gridcolor": "#DFE8F3",
            "linecolor": "#A2B1C6",
            "ticks": ""
           }
          },
          "title": {
           "x": 0.05
          },
          "xaxis": {
           "automargin": true,
           "gridcolor": "#EBF0F8",
           "linecolor": "#EBF0F8",
           "ticks": "",
           "title": {
            "standoff": 15
           },
           "zerolinecolor": "#EBF0F8",
           "zerolinewidth": 2
          },
          "yaxis": {
           "automargin": true,
           "gridcolor": "#EBF0F8",
           "linecolor": "#EBF0F8",
           "ticks": "",
           "title": {
            "standoff": 15
           },
           "zerolinecolor": "#EBF0F8",
           "zerolinewidth": 2
          }
         }
        },
        "title": {
         "text": "Повезаност ИХР и еколошких резерви по регионима (r = -0.52)",
         "x": 0.5,
         "xanchor": "center"
        },
        "width": 900,
        "xaxis": {
         "anchor": "y",
         "domain": [
          0,
          1
         ],
         "title": {
          "text": "Индекс хуманог развоја"
         }
        },
        "yaxis": {
         "anchor": "x",
         "domain": [
          0,
          1
         ],
         "title": {
          "text": "Еколошки дефицит или резерва"
         }
        }
       }
      }
     },
     "metadata": {},
     "output_type": "display_data"
    }
   ],
   "source": [
    "import plotly.express as px\n",
    "\n",
    "# Прво нацртајте графикон са овим поставкама, а потпом направите измене:\n",
    "otisakSkater = otisak[(otisak['Ecological Deficit or Reserve'].between(-100, 40)) & # поставите други параметар на 40\n",
    "                      (otisak['Data Quality']=='3A') &                                # промените услов у =='3A'\n",
    "                      (otisak['HDI']>0)].copy()                                     # промените услов у >0\n",
    "otisakSkater.replace({'EU-28': 'Европа', \n",
    "                      'Other Europe': 'Европа',\n",
    "                      'Africa': 'Африка',\n",
    "                      'Asia-Pacific': 'Азија-Пацифик',\n",
    "                      'North America': 'Северна Америка',\n",
    "                      'South America': 'Јужна Америка',\n",
    "                      'Middle East/Central Asia': 'Блиски исток и Централна Азија',\n",
    "                      'Central America/Caribbean': 'Централна Америка и Кариби'\n",
    "                     }, inplace=True)\n",
    "kor = otisakSkater[['HDI', 'Ecological Deficit or Reserve']].corr(method='spearman').iloc[0,1].round(2)\n",
    "\n",
    "graf = px.scatter(otisakSkater, x='HDI', y='Ecological Deficit or Reserve', template='plotly_white',\n",
    "                  width=900, height=600, hover_data=['Country'], color='Region', color_discrete_sequence=px.colors.qualitative.Set2\n",
    "                 )\n",
    "graf.update_traces(marker=dict(size=8, line=dict(width=1, color='darkgreen')), selector=dict(mode='markers'))\n",
    "graf.update_layout(margin=dict(l=80, r=0, t=60, b=60), \n",
    "                   xaxis_title='Индекс хуманог развоја', yaxis_title='Еколошки дефицит или резерва',\n",
    "                   legend=dict(title='Регион', y=1, x=1.02, bgcolor='rgba(0,0,0,0)'),\n",
    "                   title=dict(text='Повезаност ИХР и еколошких резерви по регионима (r = ' + str(kor) + ')'), title_xanchor='center', title_x=0.5\n",
    "                  )\n",
    "graf.add_hline(y=0, line_width=1, line_dash='dot', line_color='darkgreen')\n",
    "graf.add_vline(x=0.7, line_width=1, line_dash='dot', line_color='darkgreen')\n",
    "graf.show()\n",
    "\n",
    "del otisakSkater"
   ]
  },
  {
   "cell_type": "markdown",
   "metadata": {},
   "source": [
    "Прва ствар коју уочавамо на графикону су атипичини и аберантни резултати који умногоме нарушавају изглед графикона. Три државе из групе тзв. Гвајана, које карактерише релативно велика површина и мали број становника, издвајају се по екстремно високим вредностима еколошких резерви. Са друге стране, неколико држава има нулте вредности ИХР, што може да се припише лошем квалитету података. И поред тога, корелација две варијабле је умерена и негативна што показује да државе у којима влада веће благостање генерално имају манје еколошке резерве, односно већи еколошки дефицит.   \n",
    "<BR><BR>\n",
    "Načinite promene u uslovima na početku koda u skladu sa datim komentarima i ponovo iscrtajte grafikon.\n",
    "<BR><BR>\n",
    "Као што видите, корелација је сада још већа (по апсолутној вредности), а графикон је прегледнији. Ипак, и даље треба имати на уму да се варијабилност еколошког дефицита драстично разликује између држава високог и ниског ИХР. Према препорукама Уједињених нација (__[UNDP](https://en.wikipedia.org/wiki/Human_Development_Index)__) та граница је повучена изнад вредности 0,7. Хоризонтална линија означава равнотежу између расположивих биокапацитета и потреба државе за њима. И овом анализом смо потврдили претходне резултате који говоре у прилог повезаности богатства државе, тачније благостања њених становника, и потреба за биолошким ресурсима. Негативна корелација указује на то да државе са већим ИХР имају мање еколошке резерве, односно већи еколошки дефицит. Тај дефицит је посебно висок код неких европских држава и држава Блиског истока. Са друге стране, већину афричких држава карактерише низак БДП и низак еколошки дефицит."
   ]
  },
  {
   "cell_type": "markdown",
   "metadata": {},
   "source": [
    "<div class=\"alert alert-block alert-info\"><img src=\"slike/zad.png\" align=\"left\"/>Које државе са високим индексом хуманог развоја бисте навели као позитивне примере односа према природној средини и биоптенцијалима, а које као негативне и лоше. Какав је тај однос с обзиром на регионе?</div> "
   ]
  }
 ],
 "metadata": {
  "interpreter": {
   "hash": "348691c3bd2f09422a1d002135f80172c0d963b544c282476421ef0a2ca5cf3b"
  },
  "kernelspec": {
   "display_name": "Python 3.9.6 64-bit",
   "name": "python3"
  },
  "language_info": {
   "codemirror_mode": {
    "name": "ipython",
    "version": 3
   },
   "file_extension": ".py",
   "mimetype": "text/x-python",
   "name": "python",
   "nbconvert_exporter": "python",
   "pygments_lexer": "ipython3",
   "version": "3.9.6"
  }
 },
 "nbformat": 4,
 "nbformat_minor": 2
}
